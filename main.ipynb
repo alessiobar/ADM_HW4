{
 "cells": [
  {
   "cell_type": "markdown",
   "metadata": {},
   "source": [
    "# ADM - Homework 4\n",
    "\n",
    "Group 24: Riccardo Agabiti, Adilet Karim, Aru Kakibay, Alessio Barboni "
   ]
  },
  {
   "cell_type": "markdown",
   "metadata": {},
   "source": [
    "### Import Libraries"
   ]
  },
  {
   "cell_type": "code",
   "execution_count": 7,
   "metadata": {},
   "outputs": [],
   "source": [
    "import numpy as np, pandas as pd, matplotlib.pyplot as plt, random\n",
    "import subprocess, re, itertools       \n",
    "import scipy.io.wavfile  \n",
    "import librosa, librosa.display\n",
    "import IPython.display as ipd\n",
    "from pathlib import Path, PurePath   \n",
    "from tqdm.notebook import tqdm"
   ]
  },
  {
   "cell_type": "markdown",
   "metadata": {},
   "source": [
    "### Define Functions Provided"
   ]
  },
  {
   "cell_type": "code",
   "execution_count": 8,
   "metadata": {},
   "outputs": [],
   "source": [
    "def convert_mp3_to_wav(audio:str) -> str:  \n",
    "    \"\"\"Convert an input MP3 audio track into a WAV file.\n",
    "\n",
    "    Args:\n",
    "        audio (str): An input audio track.\n",
    "\n",
    "    Returns:\n",
    "        [str]: WAV filename.\n",
    "    \"\"\"\n",
    "    if audio[-3:] == \"mp3\":\n",
    "        wav_audio = audio[:-3] + \"wav\"\n",
    "        if not Path(wav_audio).exists():\n",
    "                subprocess.check_output(f\"ffmpeg -i {audio} {wav_audio}\", shell=True)\n",
    "        return wav_audio\n",
    "    \n",
    "    return audio\n",
    "\n",
    "def plot_spectrogram_and_picks(track:np.ndarray, sr:int, peaks:np.ndarray, onset_env:np.ndarray) -> None:\n",
    "    \"\"\"[summary]\n",
    "\n",
    "    Args:\n",
    "        track (np.ndarray): A track.\n",
    "        sr (int): Sampling rate.\n",
    "        peaks (np.ndarray): Indices of peaks in the track.\n",
    "        onset_env (np.ndarray): Vector containing the onset strength envelope.\n",
    "    \"\"\"\n",
    "    times = librosa.frames_to_time(np.arange(len(onset_env)),\n",
    "                            sr=sr, hop_length=HOP_SIZE)\n",
    "\n",
    "    plt.figure(figsize=(20,20))\n",
    "    ax = plt.subplot(2, 1, 2)\n",
    "    D = librosa.stft(track)\n",
    "    librosa.display.specshow(librosa.amplitude_to_db(np.abs(D), ref=np.max),\n",
    "                            y_axis='log', x_axis='time')\n",
    "    plt.subplot(2, 1, 1, sharex=ax)\n",
    "    plt.plot(times, onset_env, alpha=0.8, label='Onset strength')\n",
    "    plt.vlines(times[peaks], 0,\n",
    "            onset_env.max(), color='r', alpha=0.8,\n",
    "            label='Selected peaks')\n",
    "    plt.legend(frameon=True, framealpha=0.8)\n",
    "    plt.axis('tight')\n",
    "    plt.tight_layout()\n",
    "    plt.show()\n",
    "\n",
    "def load_audio_picks(audio, duration, hop_size):\n",
    "    \"\"\"[summary]\n",
    "\n",
    "    Args:\n",
    "        audio (string, int, pathlib.Path or file-like object): [description]\n",
    "        duration (int): [description]\n",
    "        hop_size (int): \n",
    "\n",
    "    Returns:\n",
    "        tuple: Returns the audio time series (track) and sampling rate (sr), a vector containing the onset strength envelope\n",
    "        (onset_env), and the indices of peaks in track (peaks).\n",
    "    \"\"\"\n",
    "    try:\n",
    "        track, sr = librosa.load(audio, duration=duration)\n",
    "        onset_env = librosa.onset.onset_strength(track, sr=sr, hop_length=hop_size)\n",
    "        peaks = librosa.util.peak_pick(onset_env, 10, 10, 10, 10, 0.5, 0.5)\n",
    "    except Error as e:\n",
    "        print('An error occurred processing ', str(audio))\n",
    "        print(e)\n",
    "\n",
    "    return track, sr, onset_env, peaks\n",
    "    \n",
    "    "
   ]
  },
  {
   "cell_type": "markdown",
   "metadata": {},
   "source": [
    "## 1.1 Data Preparation"
   ]
  },
  {
   "cell_type": "code",
   "execution_count": 9,
   "metadata": {},
   "outputs": [],
   "source": [
    "N_TRACKS = 1413 #Total number of tracks downloaded from Kaggle\n",
    "HOP_SIZE = 512 #The number of samples in between successive frames, needed for applying the FFT\n",
    "\n",
    "DURATION = 60 #Select the first n seconds of a track\n",
    "THRESHOLD = 5 #Hyperparameter controlling the band width"
   ]
  },
  {
   "cell_type": "code",
   "execution_count": 10,
   "metadata": {},
   "outputs": [],
   "source": [
    "data_folder = Path(r\"C:\\Users\\alessio\\Downloads\\adm-hw4\\mp3s-32k\")\n",
    "mp3_tracks = data_folder.glob(\"*\\*\\*.mp3\")\n",
    "\n",
    "#Converting mp3 format files into wav\n",
    "#for track in tqdm(mp3_tracks, total=N_TRACKS):\n",
    "#    convert_mp3_to_wav(str(track))\n",
    "\n",
    "tracks = data_folder.glob(\"*\\*\\*.wav\") #generator with all the tracks"
   ]
  },
  {
   "cell_type": "markdown",
   "metadata": {},
   "source": [
    "First of all, let's extract the Author, Album and Title fields from the paths contained in variable \"tracks\" "
   ]
  },
  {
   "cell_type": "code",
   "execution_count": 11,
   "metadata": {},
   "outputs": [
    {
     "data": {
      "text/plain": [
       "WindowsPath('C:/Users/alessio/Downloads/adm-hw4/mp3s-32k/aerosmith/Aerosmith/01-Make_It.wav')"
      ]
     },
     "execution_count": 11,
     "metadata": {},
     "output_type": "execute_result"
    }
   ],
   "source": [
    "#First element of tracks\n",
    "next(tracks)"
   ]
  },
  {
   "cell_type": "code",
   "execution_count": 12,
   "metadata": {},
   "outputs": [],
   "source": [
    "#data_folder = Path(r\"C:\\Users\\alessio\\Downloads\\adm-hw4\\mp3s-32k\")\n",
    "tracks = data_folder.glob(\"*\\*\\*.wav\") #Reset the generator since one element has been removed"
   ]
  },
  {
   "cell_type": "code",
   "execution_count": 13,
   "metadata": {},
   "outputs": [],
   "source": [
    "trackName=[] #Variable containing Author, Album and Title for each track \n",
    "for s in tracks:\n",
    "    s=str(s)\n",
    "    s=s[s.find(\"mp3s-32k\")+len(\"mp3s-32k\")+1:-4]\n",
    "    s=re.sub(\"[\\\\\\]\",\" \",s)\n",
    "    s=s.split()\n",
    "    s[-1] = s[-1][3:]\n",
    "    trackName.append(\"Author: '{}', Album: '{}', Title: '{}'\".format(re.sub(\"_\",\" \",s[0]),re.sub(\"_\",\" \",s[1]),re.sub(\"_\",\" \",s[2])))"
   ]
  },
  {
   "cell_type": "code",
   "execution_count": 14,
   "metadata": {
    "scrolled": true
   },
   "outputs": [
    {
     "data": {
      "text/plain": [
       "\"Author: 'aerosmith', Album: 'Aerosmith', Title: 'Make It'\""
      ]
     },
     "execution_count": 14,
     "metadata": {},
     "output_type": "execute_result"
    }
   ],
   "source": [
    "#Extracted Fields from the first element\n",
    "trackName[0]"
   ]
  },
  {
   "cell_type": "code",
   "execution_count": 15,
   "metadata": {},
   "outputs": [],
   "source": [
    "tracks = data_folder.glob(\"*\\*\\*.wav\") #Reset the generator since all the elements have been removed"
   ]
  },
  {
   "cell_type": "markdown",
   "metadata": {},
   "source": [
    "## 1.2 Fingerprint hashing"
   ]
  },
  {
   "cell_type": "markdown",
   "metadata": {},
   "source": [
    "The idea now is to implement *Locality-Sensitive Hashing* (LSH) algorithm to find the title of the query tracks.\n",
    "\n",
    "In this framework, we want to find unique features that are able to characterize a track, and differentiate it with respect to the others, possibibly noise-resistant since query tracks might be intended as in the case of Shazam as short recordings made with users smartphones (and thus full of background noise). We chose track's peaks, that are local maxima of the amplitude of a track. There are many different implementation, from using Librosa and finding the time at which a peak is detected on a 1D vector or defing a peak in 2D as a frequency-time pair and find them using e.g. image processing techniques. We chose the former implementation.\n",
    "\n",
    "We will follow the implementation of https://www.learndatasci.com/tutorials/building-recommendation-engine-locality-sensitive-hashing-lsh-python/, building a MinHash Signature matrix, through permutation of our shingles that in this case are just the possible position in time of the peaks."
   ]
  },
  {
   "cell_type": "markdown",
   "metadata": {},
   "source": [
    "### Open Tracks in Python"
   ]
  },
  {
   "cell_type": "markdown",
   "metadata": {},
   "source": [
    "Now we open all the tracks in Python using the *Librosa* library, each track will have 22050 data points per second (i.e. the sampling rate), but we do not need to store all these data points per track, since we are interested only in track's peaks. Hence for each track we can store a tuple of index of the track and list of peaks found."
   ]
  },
  {
   "cell_type": "code",
   "execution_count": 11,
   "metadata": {},
   "outputs": [
    {
     "data": {
      "application/vnd.jupyter.widget-view+json": {
       "model_id": "0b9f0f4921dd4d56989b6fda19df4108",
       "version_major": 2,
       "version_minor": 0
      },
      "text/plain": [
       "HBox(children=(HTML(value=''), FloatProgress(value=0.0, max=1413.0), HTML(value='')))"
      ]
     },
     "metadata": {},
     "output_type": "display_data"
    },
    {
     "name": "stdout",
     "output_type": "stream",
     "text": [
      "\n"
     ]
    }
   ],
   "source": [
    "ls=[] #list of index-listOfPeaks tuples\n",
    "for idx, audio in tqdm(enumerate(tracks), total=N_TRACKS):\n",
    "    track, sr, onset_env, peaks = load_audio_picks(audio, DURATION, HOP_SIZE)\n",
    "    ls.append((idx, peaks)) "
   ]
  },
  {
   "cell_type": "code",
   "execution_count": 15,
   "metadata": {},
   "outputs": [
    {
     "data": {
      "text/plain": [
       "array([[0, 0, 0, ..., 0, 0, 0],\n",
       "       [0, 0, 0, ..., 0, 0, 0],\n",
       "       [0, 0, 0, ..., 0, 0, 0],\n",
       "       ...,\n",
       "       [0, 0, 0, ..., 0, 0, 0],\n",
       "       [0, 0, 0, ..., 0, 0, 0],\n",
       "       [0, 0, 0, ..., 0, 0, 0]])"
      ]
     },
     "execution_count": 15,
     "metadata": {},
     "output_type": "execute_result"
    }
   ],
   "source": [
    "#Initialize Shingles Matrix\n",
    "#e.g. DURATION=1sec -> m: 43x1413 matrix, where 43 are the possible peak indexes in 1sec and 1413 the downloaded tracks  \n",
    "peakListLen = DURATION*22050//HOP_SIZE #coinciding also with the number of overlapping windows of length 2048\n",
    "m=np.zeros((peakListLen, N_TRACKS), dtype=int)\n",
    "m"
   ]
  },
  {
   "cell_type": "code",
   "execution_count": 16,
   "metadata": {},
   "outputs": [],
   "source": [
    "#Fill in the matrix iteratively with either 1 (if the shingle is present in the track) or 0 otherwise\n",
    "for i in range(peakListLen):\n",
    "        j=0\n",
    "        while j<N_TRACKS:\n",
    "            if i in ls[j][1]:\n",
    "                m[i][j]=1\n",
    "            j+=1"
   ]
  },
  {
   "cell_type": "markdown",
   "metadata": {},
   "source": [
    "An important step for building the signature matrix's is to permutate the shingles and compute the MinHash step. We know that the number of permutations of n is equal to n factorial. With a duration of 1 second, there are 43 possible bins for the peaks. 43! is about 6.0415263e+52 that is already a very large number, let alone if we take a duration many more seconds, even minutes.\n",
    "\n",
    "In this case it is not a computation or memory problem, since we could use generators, that are characterized by \"lazy execution\". Rather, given that number of permutation would be so huge (and considering that we want relatively a small portion of them for building the signature matrix) there would be minor changes from one permutation to the next, and given that the generator would provide one item at a time iteratively, without the possibility of shuffling the items that the generator is yielding, the risk of ending up with identical rows in the signature matrix becomes consistent. \n",
    "\n",
    "This problem is very specific to MinHashing, in which we select the index of the first 1 found in the Shingle Matrix, not considering at all the elements (1s or 0s) under the first 1 of the column. As shown below, using the itertools implementation of permutations, the elements at the end of the array would start changing order, but for the above cited reasons we are more interested on what happens at the start of the array, and yet, if only two rows out of the huge number of permutations change from one step two the other, the probability of having different in a significant way would be low."
   ]
  },
  {
   "cell_type": "code",
   "execution_count": 17,
   "metadata": {},
   "outputs": [
    {
     "data": {
      "text/plain": [
       "[(1, 2, 3, 4, 5, 6),\n",
       " (1, 2, 3, 4, 6, 5),\n",
       " (1, 2, 3, 5, 4, 6),\n",
       " (1, 2, 3, 5, 6, 4),\n",
       " (1, 2, 3, 6, 4, 5),\n",
       " (1, 2, 3, 6, 5, 4)]"
      ]
     },
     "execution_count": 17,
     "metadata": {},
     "output_type": "execute_result"
    }
   ],
   "source": [
    "import itertools\n",
    "perm_iterator = itertools.permutations([1,2,3,4,5,6])\n",
    "[x for x in perm_iterator][:6]"
   ]
  },
  {
   "cell_type": "code",
   "execution_count": 36,
   "metadata": {},
   "outputs": [],
   "source": [
    "# Permutation Generator Implementation\n",
    "perm_iterator = itertools.permutations(m)\n",
    "num_perm=5\n",
    "signatureMatrix = []\n",
    "for idx, item in enumerate(perm_iterator):   \n",
    "    if idx==num_perm:\n",
    "        break\n",
    "    mm = np.transpose(np.array(item))\n",
    "    sigLs = []\n",
    "    for i in range(N_TRACKS):\n",
    "        j=0\n",
    "        while mm[i][j]!=1:\n",
    "            if j==peakListLen-1:\n",
    "                break\n",
    "            j+=1\n",
    "        sigLs.append(j)\n",
    "    signatureMatrix.append(sigLs)"
   ]
  },
  {
   "cell_type": "code",
   "execution_count": 37,
   "metadata": {},
   "outputs": [
    {
     "data": {
      "text/plain": [
       "array([[ 23,  17,  15, ...,  14, 135,  55],\n",
       "       [ 23,  17,  15, ...,  14, 135,  55],\n",
       "       [ 23,  17,  15, ...,  14, 135,  55],\n",
       "       [ 23,  17,  15, ...,  14, 135,  55],\n",
       "       [ 23,  17,  15, ...,  14, 135,  55]])"
      ]
     },
     "execution_count": 37,
     "metadata": {},
     "output_type": "execute_result"
    }
   ],
   "source": [
    "np.array(signatureMatrix).reshape(num_perm,N_TRACKS)"
   ]
  },
  {
   "cell_type": "markdown",
   "metadata": {},
   "source": [
    "As we can see above, the matrix has all the rows equal, since the permutated rows in the shingles matrix were the last ones, that most of the times do not have an effect on the position of the first 1 found in the column since after we have found the first 1 we stop iterating over that same column.\n",
    "\n",
    "For this reason we would just random shuffle the list of shingles at each iteration, as an approximation, since repetitions would be rare in this scenario."
   ]
  },
  {
   "cell_type": "code",
   "execution_count": 38,
   "metadata": {},
   "outputs": [],
   "source": [
    "#Set a seed for reproducibility\n",
    "import random\n",
    "random.seed(42)"
   ]
  },
  {
   "cell_type": "code",
   "execution_count": 39,
   "metadata": {},
   "outputs": [
    {
     "data": {
      "application/vnd.jupyter.widget-view+json": {
       "model_id": "118a28cd6adc405fbfdebae99c4adfc3",
       "version_major": 2,
       "version_minor": 0
      },
      "text/plain": [
       "HBox(children=(HTML(value=''), FloatProgress(value=0.0, max=10000.0), HTML(value='')))"
      ]
     },
     "metadata": {},
     "output_type": "display_data"
    },
    {
     "name": "stdout",
     "output_type": "stream",
     "text": [
      "\n"
     ]
    }
   ],
   "source": [
    "# Random Shuffling Implementation (Approximation)\n",
    "shingles = list(range(peakListLen)) #since they coincide with the number of bins created by applying FFT\n",
    "signatureMatrix = []\n",
    "num_perm = 10000\n",
    "for _ in tqdm(range(num_perm), total=num_perm):\n",
    "    temp=[]\n",
    "    random.shuffle(shingles) #the approximation of a permutation with very high n\n",
    "    for i in range(ls[-1][0]+1): #i.e., range(N_TRACKS)\n",
    "        j=0\n",
    "        while shingles[j] not in ls[i][1]: #ls[i][1]=> list of peaks for i-th track\n",
    "            if j==peakListLen-1: #we need ONLY the first non-zero entry of the column, we can break after finding it\n",
    "                break\n",
    "            j+=1\n",
    "        temp.append(j) #elements that compose the rows of the signature matrix\n",
    "    signatureMatrix.append(temp)"
   ]
  },
  {
   "cell_type": "code",
   "execution_count": 40,
   "metadata": {},
   "outputs": [
    {
     "data": {
      "text/plain": [
       "array([[19, 56,  5, ..., 21,  8, 23],\n",
       "       [ 1, 83, 14, ..., 16, 24,  0],\n",
       "       [43,  0,  3, ..., 16, 11,  7],\n",
       "       ...,\n",
       "       [ 9, 14, 21, ..., 23, 38, 29],\n",
       "       [40, 77, 12, ..., 11, 11,  8],\n",
       "       [15, 11, 56, ..., 14,  7,  3]])"
      ]
     },
     "execution_count": 40,
     "metadata": {},
     "output_type": "execute_result"
    }
   ],
   "source": [
    "signatureMatrix=np.array(signatureMatrix) #cast the list of lists to array\n",
    "signatureMatrix"
   ]
  },
  {
   "cell_type": "markdown",
   "metadata": {},
   "source": [
    "We can take the transpose of the signature matrix since for computing *bands* we want to operate by column, after that we can flatten it to make the band slicing easier."
   ]
  },
  {
   "cell_type": "code",
   "execution_count": 41,
   "metadata": {},
   "outputs": [
    {
     "name": "stdout",
     "output_type": "stream",
     "text": [
      "[[19  1 43 ...  9 40 15]\n",
      " [56 83  0 ... 14 77 11]\n",
      " [ 5 14  3 ... 21 12 56]\n",
      " ...\n",
      " [21 16 16 ... 23 11 14]\n",
      " [ 8 24 11 ... 38 11  7]\n",
      " [23  0  7 ... 29  8  3]]\n",
      "\n",
      " [19  1 43 ... 29  8  3]\n"
     ]
    }
   ],
   "source": [
    "perms_transp = np.transpose(np.array(signatureMatrix)) \n",
    "print(perms_transp)\n",
    "perms_flat = perms_transp.flatten() #the flatten transposed signature matrix\n",
    "print(\"\\n\",perms_flat)"
   ]
  },
  {
   "cell_type": "code",
   "execution_count": 42,
   "metadata": {},
   "outputs": [
    {
     "data": {
      "text/plain": [
       "(1413, 10000)"
      ]
     },
     "execution_count": 42,
     "metadata": {},
     "output_type": "execute_result"
    }
   ],
   "source": [
    "perms_transp.shape"
   ]
  },
  {
   "cell_type": "code",
   "execution_count": 43,
   "metadata": {},
   "outputs": [
    {
     "data": {
      "application/vnd.jupyter.widget-view+json": {
       "model_id": "ef74df8223014ee6a5aee7ac484e4eb6",
       "version_major": 2,
       "version_minor": 0
      },
      "text/plain": [
       "HBox(children=(HTML(value=''), FloatProgress(value=0.0, max=2826000.0), HTML(value='')))"
      ]
     },
     "metadata": {},
     "output_type": "display_data"
    },
    {
     "name": "stdout",
     "output_type": "stream",
     "text": [
      "\n"
     ]
    }
   ],
   "source": [
    "#Local Sensitive Hashing\n",
    "num_bands = THRESHOLD\n",
    "bands = []\n",
    "c=0\n",
    "for i in tqdm(range(0, len(perms_flat), num_bands), total=len(perms_flat)/num_bands):\n",
    "    if i in list(range(num_perm,num_perm*1413+1,num_perm)):\n",
    "        c+=1\n",
    "    try:\n",
    "        bands.append(([perms_flat[j] for j in range(i,num_bands+i)], c))\n",
    "    except:\n",
    "        pass #if something goes wrong with the indexes of the last elements we skip, since num_perm>>last few rows\n",
    "             #whose number is not large enough to form a band"
   ]
  },
  {
   "cell_type": "code",
   "execution_count": 45,
   "metadata": {},
   "outputs": [
    {
     "data": {
      "text/plain": [
       "[([19, 1, 43, 4, 2], 0),\n",
       " ([26, 12, 4, 28, 3], 0),\n",
       " ([39, 7, 17, 6, 17], 0),\n",
       " ([2, 6, 48, 7, 5], 0),\n",
       " ([17, 2, 36, 11, 31], 0)]"
      ]
     },
     "execution_count": 45,
     "metadata": {},
     "output_type": "execute_result"
    }
   ],
   "source": [
    "bands[:5]"
   ]
  },
  {
   "cell_type": "code",
   "execution_count": 46,
   "metadata": {},
   "outputs": [],
   "source": [
    "buckets = {}\n",
    "for x in bands:\n",
    "    x[0].sort()\n",
    "    if str(x) not in buckets.keys():\n",
    "        buckets[str(x[0])] = [] \n",
    "    buckets[str(x[0])].append(trackName[x[1]])"
   ]
  },
  {
   "cell_type": "code",
   "execution_count": 68,
   "metadata": {},
   "outputs": [
    {
     "data": {
      "text/plain": [
       "{'[1, 2, 4, 19, 43]': [\"Author: 'queen', Album: 'News Of The World', Title: 'We Will Rock You'\"],\n",
       " '[3, 4, 12, 26, 28]': [\"Author: 'fleetwood mac', Album: 'Tusk', Title: 'I Know I m Not Wrong'\"],\n",
       " '[6, 7, 17, 17, 39]': [\"Author: 'aerosmith', Album: 'Aerosmith', Title: 'Make It'\"],\n",
       " '[2, 5, 6, 7, 48]': [\"Author: 'tori amos', Album: 'Scarlet s Walk', Title: 'Strange'\"],\n",
       " '[2, 11, 17, 31, 36]': [\"Author: 'aerosmith', Album: 'Aerosmith', Title: 'Make It'\"],\n",
       " '[4, 6, 7, 20, 33]': [\"Author: 'suzanne vega', Album: 'Songs in Red and Gray', Title: 'Songs in Red and Gray'\"],\n",
       " '[13, 17, 24, 24, 28]': [\"Author: 'aerosmith', Album: 'Aerosmith', Title: 'Make It'\"],\n",
       " '[5, 7, 7, 14, 38]': [\"Author: 'queen', Album: 'The Game', Title: 'Sail Away Sweet Sister'\"],\n",
       " '[1, 9, 12, 58, 71]': [\"Author: 'aerosmith', Album: 'Aerosmith', Title: 'Make It'\"],\n",
       " '[1, 4, 6, 30, 41]': [\"Author: 'green day', Album: 'Nimrod', Title: 'Redundant'\"],\n",
       " '[1, 13, 26, 29, 43]': [\"Author: 'aerosmith', Album: 'Aerosmith', Title: 'Make It'\"],\n",
       " '[8, 21, 24, 27, 67]': [\"Author: 'aerosmith', Album: 'Aerosmith', Title: 'Make It'\"],\n",
       " '[11, 32, 34, 51, 82]': [\"Author: 'aerosmith', Album: 'Aerosmith', Title: 'Make It'\"],\n",
       " '[6, 12, 15, 15, 31]': [\"Author: 'dave matthews band', Album: 'Stand Up', Title: 'Hello Again'\"],\n",
       " '[1, 6, 10, 33, 35]': [\"Author: 'aerosmith', Album: 'Aerosmith', Title: 'Make It'\"],\n",
       " '[1, 3, 7, 16, 60]': [\"Author: 'aerosmith', Album: 'Aerosmith', Title: 'Make It'\"],\n",
       " '[7, 13, 17, 19, 40]': [\"Author: 'aerosmith', Album: 'Aerosmith', Title: 'Make It'\"],\n",
       " '[0, 10, 13, 17, 22]': [\"Author: 'u2', Album: 'Achtung Baby', Title: 'Love Is Blindness'\"],\n",
       " '[4, 5, 5, 7, 11]': [\"Author: 'suzanne vega', Album: 'Days of Open Hand', Title: 'Tired Of Sleeping'\"],\n",
       " '[2, 2, 13, 41, 47]': [\"Author: 'aerosmith', Album: 'Aerosmith', Title: 'Make It'\"],\n",
       " '[5, 13, 20, 22, 27]': [\"Author: 'aerosmith', Album: 'Aerosmith', Title: 'Make It'\"],\n",
       " '[0, 4, 5, 22, 36]': [\"Author: 'radiohead', Album: 'Hail to the Theif', Title: 'There There'\"],\n",
       " '[1, 3, 5, 9, 13]': [\"Author: 'u2', Album: 'War', Title: 'Sunday Bloody Sunday'\"],\n",
       " '[0, 2, 24, 31, 50]': [\"Author: 'aerosmith', Album: 'Aerosmith', Title: 'Make It'\"],\n",
       " '[5, 6, 8, 21, 39]': [\"Author: 'aerosmith', Album: 'Aerosmith', Title: 'Make It'\"],\n",
       " '[10, 10, 12, 15, 19]': [\"Author: 'radiohead', Album: 'Amnesiac', Title: 'Knives Out'\"],\n",
       " '[0, 10, 21, 51, 59]': [\"Author: 'aerosmith', Album: 'Aerosmith', Title: 'Make It'\"],\n",
       " '[0, 15, 21, 28, 51]': [\"Author: 'aerosmith', Album: 'Aerosmith', Title: 'Make It'\"],\n",
       " '[8, 9, 9, 15, 15]': [\"Author: 'madonna', Album: 'Ray of Light', Title: 'The Power of Good-bye'\"],\n",
       " '[2, 12, 19, 26, 47]': [\"Author: 'aerosmith', Album: 'Aerosmith', Title: 'Make It'\"],\n",
       " '[4, 6, 19, 19, 30]': [\"Author: 'aerosmith', Album: 'Aerosmith', Title: 'Make It'\"],\n",
       " '[4, 4, 10, 30, 66]': [\"Author: 'aerosmith', Album: 'Aerosmith', Title: 'Make It'\"],\n",
       " '[1, 2, 35, 50, 112]': [\"Author: 'aerosmith', Album: 'Aerosmith', Title: 'Make It'\"],\n",
       " '[1, 2, 5, 27, 42]': [\"Author: 'metallica', Album: 'Metallica', Title: 'The Struggle Within'\"],\n",
       " '[4, 10, 11, 16, 48]': [\"Author: 'aerosmith', Album: 'Aerosmith', Title: 'Make It'\"],\n",
       " '[2, 3, 14, 23, 30]': [\"Author: 'roxette', Album: 'Have a Nice Day', Title: 'Staring At The Ground'\"],\n",
       " '[1, 1, 9, 15, 20]': [\"Author: 'roxette', Album: 'Crash Boom Bang ', Title: 'Do You Wanna Go The Whole Way '\"],\n",
       " '[0, 7, 9, 25, 28]': [\"Author: 'steely dan', Album: 'Katy Lied', Title: 'Black Friday'\"],\n",
       " '[13, 15, 17, 19, 26]': [\"Author: 'roxette', Album: 'Have a Nice Day', Title: 'I Was So Lucky'\"],\n",
       " '[4, 15, 17, 20, 28]': [\"Author: 'u2', Album: 'Achtung Baby', Title: 'The Fly'\"],\n",
       " '[3, 4, 11, 15, 25]': [\"Author: 'roxette', Album: 'Room Service', Title: 'Milk And Tost And Honey'\"],\n",
       " '[0, 4, 7, 21, 41]': [\"Author: 'roxette', Album: 'Joyride', Title: 'church of your heart'\"],\n",
       " '[10, 13, 20, 20, 20]': [\"Author: 'aerosmith', Album: 'Aerosmith', Title: 'Make It'\"],\n",
       " '[1, 1, 17, 21, 63]': [\"Author: 'aerosmith', Album: 'Aerosmith', Title: 'Make It'\"],\n",
       " '[6, 18, 18, 24, 29]': [\"Author: 'fleetwood mac', Album: 'Tango In The Night', Title: 'You and I Part II'\"],\n",
       " '[1, 1, 13, 17, 50]': [\"Author: 'green day', Album: 'Kerplunk', Title: 'Dominated Love Slave'\"],\n",
       " '[10, 11, 11, 12, 26]': [\"Author: 'aerosmith', Album: 'Aerosmith', Title: 'Make It'\"],\n",
       " '[1, 3, 16, 28, 28]': [\"Author: 'suzanne vega', Album: 'Suzanne Vega', Title: 'Knight Moves'\"],\n",
       " '[2, 12, 28, 29, 38]': [\"Author: 'depeche mode', Album: 'Black Celebration', Title: 'Fly on the windscreen'\"],\n",
       " '[1, 8, 15, 16, 50]': [\"Author: 'aerosmith', Album: 'Aerosmith', Title: 'Make It'\"],\n",
       " '[7, 7, 7, 31, 61]': [\"Author: 'aerosmith', Album: 'Aerosmith', Title: 'Make It'\"],\n",
       " '[2, 5, 10, 23, 37]': [\"Author: 'aerosmith', Album: 'Aerosmith', Title: 'Make It'\"],\n",
       " '[1, 13, 18, 35, 45]': [\"Author: 'green day', Album: 'Nimrod', Title: 'Platypus I Hate You '\"],\n",
       " '[0, 6, 7, 11, 13]': [\"Author: 'u2', Album: 'Achtung Baby', Title: 'Mysterious Ways'\"],\n",
       " '[11, 14, 18, 32, 36]': [\"Author: 'u2', Album: 'The Unforgettable Fire', Title: 'Bad'\"],\n",
       " '[2, 6, 9, 21, 26]': [\"Author: 'suzanne vega', Album: '99 9 F ', Title: '99 9 F '\"],\n",
       " '[1, 25, 28, 42, 60]': [\"Author: 'cure', Album: 'Wish', Title: 'Cut'\"],\n",
       " '[7, 26, 26, 26, 35]': [\"Author: 'aerosmith', Album: 'Aerosmith', Title: 'Make It'\"],\n",
       " '[4, 11, 30, 56, 105]': [\"Author: 'aerosmith', Album: 'Aerosmith', Title: 'Make It'\"],\n",
       " '[2, 2, 6, 6, 37]': [\"Author: 'radiohead', Album: 'Kid A', Title: 'Morning Bell'\"],\n",
       " '[0, 1, 2, 5, 10]': [\"Author: 'u2', Album: 'The Unforgettable Fire', Title: 'Pride In The Name of Love '\"],\n",
       " '[9, 11, 12, 23, 52]': [\"Author: 'aerosmith', Album: 'Aerosmith', Title: 'Make It'\"],\n",
       " '[4, 4, 7, 22, 30]': [\"Author: 'dave matthews band', Album: 'Under The Table And Dreaming', Title: 'Dancing Nancies'\"],\n",
       " '[8, 9, 10, 20, 41]': [\"Author: 'aerosmith', Album: 'Aerosmith', Title: 'Make It'\"],\n",
       " '[0, 1, 2, 7, 13]': [\"Author: 'u2', Album: 'The Unforgettable Fire', Title: 'Bad'\"],\n",
       " '[4, 12, 14, 17, 131]': [\"Author: 'aerosmith', Album: 'Aerosmith', Title: 'Make It'\"],\n",
       " '[4, 5, 10, 39, 62]': [\"Author: 'aerosmith', Album: 'Aerosmith', Title: 'Make It'\"],\n",
       " '[0, 10, 17, 41, 50]': [\"Author: 'aerosmith', Album: 'Aerosmith', Title: 'Make It'\"],\n",
       " '[1, 13, 13, 28, 93]': [\"Author: 'aerosmith', Album: 'Aerosmith', Title: 'Make It'\"],\n",
       " '[0, 2, 2, 13, 14]': [\"Author: 'u2', Album: 'October', Title: 'I Threw a Brick Through a Window'\"],\n",
       " '[2, 4, 17, 18, 27]': [\"Author: 'u2', Album: 'War', Title: 'The Refugee'\"],\n",
       " '[1, 16, 22, 23, 55]': [\"Author: 'aerosmith', Album: 'Aerosmith', Title: 'Make It'\"],\n",
       " '[2, 3, 9, 10, 30]': [\"Author: 'suzanne vega', Album: '99 9 F ', Title: 'When Heroes Go Down'\"],\n",
       " '[0, 0, 7, 29, 32]': [\"Author: 'madonna', Album: 'I m Breathless', Title: 'Vogue'\"],\n",
       " '[6, 12, 14, 30, 48]': [\"Author: 'aerosmith', Album: 'Aerosmith', Title: 'Make It'\"],\n",
       " '[0, 2, 14, 17, 24]': [\"Author: 'tori amos', Album: 'Little Earthquakes', Title: 'Girl'\"],\n",
       " '[1, 3, 16, 26, 31]': [\"Author: 'fleetwood mac', Album: 'Tango In The Night', Title: 'Tango In The Night'\"],\n",
       " '[0, 14, 23, 30, 36]': [\"Author: 'aerosmith', Album: 'Aerosmith', Title: 'Make It'\"],\n",
       " '[8, 13, 28, 30, 31]': [\"Author: 'aerosmith', Album: 'Aerosmith', Title: 'Make It'\"],\n",
       " '[3, 7, 16, 17, 42]': [\"Author: 'madonna', Album: 'Like A Prayer', Title: 'Keep It Together'\"],\n",
       " '[1, 5, 5, 8, 33]': [\"Author: 'dave matthews band', Album: 'Crash', Title: 'Say Goodbye'\"],\n",
       " '[4, 4, 14, 30, 69]': [\"Author: 'aerosmith', Album: 'Aerosmith', Title: 'Make It'\"],\n",
       " '[2, 7, 12, 26, 126]': [\"Author: 'aerosmith', Album: 'Aerosmith', Title: 'Make It'\"],\n",
       " '[8, 13, 16, 20, 23]': [\"Author: 'u2', Album: 'The Joshua Tree', Title: 'With or Without You'\"],\n",
       " '[5, 6, 10, 12, 39]': [\"Author: 'green day', Album: 'Insomniac', Title: 'Bab s Uvula Who '\"],\n",
       " '[3, 5, 6, 15, 54]': [\"Author: 'led zeppelin', Album: 'Led Zeppelin III', Title: 'Bron-Y-Aur Stomp'\"],\n",
       " '[4, 10, 19, 43, 64]': [\"Author: 'aerosmith', Album: 'Aerosmith', Title: 'Make It'\"],\n",
       " '[2, 3, 5, 40, 52]': [\"Author: 'cure', Album: 'Wild Mood Swings', Title: 'Jupiter Crash'\"],\n",
       " '[1, 9, 10, 13, 26]': [\"Author: 'queen', Album: 'The Game', Title: 'Coming Soon'\"],\n",
       " '[0, 7, 8, 11, 49]': [\"Author: 'tori amos', Album: 'Little Earthquakes', Title: 'Leather'\"],\n",
       " '[5, 10, 13, 16, 55]': [\"Author: 'creedence clearwater revival', Album: 'Green River', Title: 'Bad Moon Rising'\"],\n",
       " '[7, 9, 13, 25, 31]': [\"Author: 'u2', Album: 'The Unforgettable Fire', Title: 'Elvis Presley and America'\"],\n",
       " '[0, 6, 19, 24, 50]': [\"Author: 'steely dan', Album: 'Pretzel Logic', Title: 'Parker s Band'\"],\n",
       " '[13, 25, 28, 28, 52]': [\"Author: 'aerosmith', Album: 'Aerosmith', Title: 'Make It'\"],\n",
       " '[4, 5, 11, 13, 21]': [\"Author: 'suzanne vega', Album: '99 9 F ', Title: 'Blood Sings'\"],\n",
       " '[0, 4, 8, 10, 14]': [\"Author: 'tori amos', Album: 'The Beekeeper', Title: 'Goodbye Pisces'\"],\n",
       " '[7, 14, 38, 65, 100]': [\"Author: 'aerosmith', Album: 'Aerosmith', Title: 'Make It'\"],\n",
       " '[0, 1, 5, 11, 14]': [\"Author: 'u2', Album: 'The Unforgettable Fire', Title: 'Pride In The Name of Love '\"],\n",
       " '[4, 7, 20, 24, 39]': [\"Author: 'beatles', Album: 'Abbey Road', Title: 'Octopus s Garden'\"],\n",
       " '[1, 9, 9, 15, 59]': [\"Author: 'madonna', Album: 'Bedtime Stories', Title: 'Take A Bow'\"],\n",
       " '[2, 3, 20, 25, 28]': [\"Author: 'u2', Album: 'Zooropa', Title: 'The Wanderer'\"],\n",
       " '[2, 3, 7, 7, 37]': [\"Author: 'fleetwood mac', Album: 'Tusk', Title: 'Never Make Me Cry'\"],\n",
       " '[4, 6, 13, 21, 35]': [\"Author: 'tori amos', Album: 'Scarlet s Walk', Title: 'Sweet Sangria'\"],\n",
       " '[7, 10, 14, 33, 77]': [\"Author: 'aerosmith', Album: 'Aerosmith', Title: 'Make It'\"],\n",
       " '[5, 19, 26, 38, 70]': [\"Author: 'aerosmith', Album: 'Aerosmith', Title: 'Make It'\"],\n",
       " '[4, 6, 19, 21, 29]': [\"Author: 'aerosmith', Album: 'Aerosmith', Title: 'Make It'\"],\n",
       " '[3, 10, 11, 23, 33]': [\"Author: 'madonna', Album: 'I m Breathless', Title: 'What Can You Lose'\"],\n",
       " '[4, 24, 28, 79, 101]': [\"Author: 'aerosmith', Album: 'Aerosmith', Title: 'Make It'\"],\n",
       " '[5, 6, 29, 38, 46]': [\"Author: 'aerosmith', Album: 'Aerosmith', Title: 'Make It'\"],\n",
       " '[4, 15, 39, 52, 65]': [\"Author: 'aerosmith', Album: 'Aerosmith', Title: 'Make It'\"],\n",
       " '[1, 3, 5, 10, 39]': [\"Author: 'u2', Album: 'October', Title: 'Fire'\"],\n",
       " '[2, 9, 14, 16, 25]': [\"Author: 'garth brooks', Album: 'The Chase', Title: 'Mr Right'\"],\n",
       " '[1, 7, 8, 20, 37]': [\"Author: 'madonna', Album: 'Ray of Light', Title: 'Ray Of Light'\"],\n",
       " '[3, 5, 10, 10, 30]': [\"Author: 'led zeppelin', Album: 'Led Zeppelin I', Title: 'Black Mountain Side'\"],\n",
       " '[24, 25, 31, 43, 68]': [\"Author: 'aerosmith', Album: 'Aerosmith', Title: 'Make It'\"],\n",
       " '[2, 8, 8, 18, 21]': [\"Author: 'queen', Album: 'The Game', Title: 'Dragon Attack 1991 Bonus Remix '\"],\n",
       " '[3, 19, 25, 25, 75]': [\"Author: 'aerosmith', Album: 'Aerosmith', Title: 'Make It'\"],\n",
       " '[12, 22, 35, 44, 59]': [\"Author: 'aerosmith', Album: 'Aerosmith', Title: 'Make It'\"],\n",
       " '[7, 8, 13, 16, 25]': [\"Author: 'tori amos', Album: 'Under the Pink', Title: 'God'\"],\n",
       " '[7, 12, 13, 26, 69]': [\"Author: 'cure', Album: 'Disintegration', Title: 'Disintegration'\"],\n",
       " '[3, 7, 12, 12, 22]': [\"Author: 'steely dan', Album: 'Countdown To Ecstasy', Title: 'The Boston Rag'\"],\n",
       " '[4, 5, 6, 7, 28]': [\"Author: 'u2', Album: 'Zooropa', Title: 'Babyface'\"],\n",
       " '[2, 13, 17, 18, 31]': [\"Author: 'aerosmith', Album: 'Aerosmith', Title: 'Make It'\"],\n",
       " '[4, 5, 8, 10, 25]': [\"Author: 'suzanne vega', Album: 'Nine Objects Of Desire', Title: 'Caramel'\"],\n",
       " '[1, 8, 10, 16, 48]': [\"Author: 'green day', Album: 'Kerplunk', Title: 'Sweet Children'\"],\n",
       " '[10, 10, 14, 16, 17]': [\"Author: 'radiohead', Album: 'Hail to the Theif', Title: 'We Suck Young Blood'\"],\n",
       " '[2, 11, 19, 36, 56]': [\"Author: 'metallica', Album: 'Reload', Title: 'Low Man s Lyric'\"],\n",
       " '[14, 15, 29, 38, 58]': [\"Author: 'aerosmith', Album: 'Aerosmith', Title: 'Make It'\"],\n",
       " '[6, 21, 22, 23, 131]': [\"Author: 'aerosmith', Album: 'Aerosmith', Title: 'Make It'\"],\n",
       " '[6, 8, 21, 32, 93]': [\"Author: 'aerosmith', Album: 'Aerosmith', Title: 'Make It'\"],\n",
       " '[2, 5, 8, 15, 23]': [\"Author: 'tori amos', Album: 'Scarlet s Walk', Title: 'Mrs Jesus'\"],\n",
       " '[2, 10, 16, 28, 61]': [\"Author: 'aerosmith', Album: 'Aerosmith', Title: 'Make It'\"],\n",
       " '[0, 8, 11, 12, 15]': [\"Author: 'u2', Album: 'The Unforgettable Fire', Title: 'Promenade'\"],\n",
       " '[1, 3, 12, 28, 30]': [\"Author: 'tori amos', Album: 'Scarlet s Walk', Title: 'Strange'\"],\n",
       " '[0, 8, 23, 32, 69]': [\"Author: 'aerosmith', Album: 'Aerosmith', Title: 'Make It'\"],\n",
       " '[5, 17, 29, 44, 65]': [\"Author: 'aerosmith', Album: 'Aerosmith', Title: 'Make It'\"],\n",
       " '[9, 14, 19, 19, 36]': [\"Author: 'aerosmith', Album: 'Aerosmith', Title: 'Make It'\"],\n",
       " '[3, 5, 14, 49, 66]': [\"Author: 'aerosmith', Album: 'Aerosmith', Title: 'Make It'\"],\n",
       " '[7, 16, 16, 37, 70]': [\"Author: 'aerosmith', Album: 'Aerosmith', Title: 'Make It'\"],\n",
       " '[0, 2, 4, 13, 22]': [\"Author: 'u2', Album: 'Zooropa', Title: 'Babyface'\"],\n",
       " '[7, 15, 17, 18, 21]': [\"Author: 'led zeppelin', Album: 'Physical Graffiti Disc 2 ', Title: 'Down By the Seaside'\"],\n",
       " '[8, 26, 28, 30, 36]': [\"Author: 'aerosmith', Album: 'Aerosmith', Title: 'Make It'\"],\n",
       " '[11, 25, 27, 55, 108]': [\"Author: 'aerosmith', Album: 'Aerosmith', Title: 'Make It'\"],\n",
       " '[3, 7, 18, 42, 48]': [\"Author: 'aerosmith', Album: 'Aerosmith', Title: 'Make It'\"],\n",
       " '[6, 7, 27, 35, 67]': [\"Author: 'aerosmith', Album: 'Aerosmith', Title: 'Make It'\"],\n",
       " '[5, 7, 24, 29, 59]': [\"Author: 'aerosmith', Album: 'Aerosmith', Title: 'Make It'\"],\n",
       " '[5, 8, 17, 25, 44]': [\"Author: 'aerosmith', Album: 'Aerosmith', Title: 'Make It'\"],\n",
       " '[2, 5, 12, 22, 40]': [\"Author: 'tori amos', Album: 'Little Earthquakes', Title: 'Precious Things'\"],\n",
       " '[0, 1, 2, 9, 19]': [\"Author: 'u2', Album: 'The Joshua Tree', Title: 'Mothers of the Disappeared'\"],\n",
       " '[0, 4, 14, 23, 31]': [\"Author: 'aerosmith', Album: 'Aerosmith', Title: 'Make It'\"],\n",
       " '[1, 2, 8, 8, 24]': [\"Author: 'roxette', Album: 'Room Service', Title: 'The Centre Of The Heart'\"],\n",
       " '[9, 11, 12, 30, 30]': [\"Author: 'madonna', Album: 'Like A Prayer', Title: 'Like A Prayer'\"],\n",
       " '[3, 9, 12, 36, 60]': [\"Author: 'aerosmith', Album: 'Aerosmith', Title: 'Make It'\"],\n",
       " '[2, 4, 6, 32, 80]': [\"Author: 'aerosmith', Album: 'Aerosmith', Title: 'Make It'\"],\n",
       " '[3, 6, 9, 32, 38]': [\"Author: 'aerosmith', Album: 'Aerosmith', Title: 'Dream On'\"],\n",
       " '[12, 13, 20, 59, 71]': [\"Author: 'aerosmith', Album: 'Aerosmith', Title: 'Make It'\"],\n",
       " '[1, 2, 7, 14, 18]': [\"Author: 'u2', Album: 'The Joshua Tree', Title: 'Running to Stand Still'\"],\n",
       " '[4, 9, 33, 39, 85]': [\"Author: 'aerosmith', Album: 'Aerosmith', Title: 'Make It'\"],\n",
       " '[1, 7, 12, 24, 51]': [\"Author: 'metallica', Album: 'Master of Puppets', Title: 'Welcome Home Sanitarium '\"],\n",
       " '[6, 6, 19, 19, 30]': [\"Author: 'aerosmith', Album: 'Aerosmith', Title: 'Make It'\"],\n",
       " '[0, 0, 1, 3, 11]': [\"Author: 'u2', Album: 'Zooropa', Title: 'The Wanderer'\"],\n",
       " '[0, 5, 7, 7, 52]': [\"Author: 'dave matthews band', Album: 'Before These Crowded Streets', Title: 'Pantala Naga Pampa'\"],\n",
       " '[0, 14, 16, 33, 38]': [\"Author: 'tori amos', Album: 'From the Choirgirl Hotel', Title: 'Cruel'\"],\n",
       " '[3, 6, 8, 25, 68]': [\"Author: 'aerosmith', Album: 'Aerosmith', Title: 'Make It'\"],\n",
       " '[2, 15, 16, 28, 84]': [\"Author: 'aerosmith', Album: 'Aerosmith', Title: 'Make It'\"],\n",
       " '[0, 2, 5, 9, 29]': [\"Author: 'suzanne vega', Album: 'Nine Objects Of Desire', Title: 'Tombstone'\"],\n",
       " '[2, 3, 21, 54, 67]': [\"Author: 'aerosmith', Album: 'Aerosmith', Title: 'Make It'\"],\n",
       " '[0, 1, 55, 59, 69]': [\"Author: 'aerosmith', Album: 'Aerosmith', Title: 'Make It'\"],\n",
       " '[1, 11, 19, 21, 42]': [\"Author: 'aerosmith', Album: 'Aerosmith', Title: 'Make It'\"],\n",
       " '[2, 2, 3, 6, 29]': [\"Author: 'u2', Album: 'The Unforgettable Fire', Title: 'Pride In The Name of Love '\"],\n",
       " '[1, 5, 9, 22, 40]': [\"Author: 'radiohead', Album: 'Hail to the Theif', Title: 'Scatterbrain'\"],\n",
       " '[4, 5, 5, 17, 38]': [\"Author: 'queen', Album: 'A Night At the Opera', Title: 'Lazing On a Sunday Afternoon'\"],\n",
       " '[3, 4, 20, 28, 40]': [\"Author: 'green day', Album: 'American Idiot', Title: 'Holiday'\"],\n",
       " '[2, 3, 6, 15, 37]': [\"Author: 'suzanne vega', Album: 'Suzanne Vega', Title: 'Cracking'\"],\n",
       " '[8, 17, 25, 25, 42]': [\"Author: 'aerosmith', Album: 'Aerosmith', Title: 'Make It'\"],\n",
       " '[5, 9, 10, 11, 43]': [\"Author: 'prince', Album: 'Purple Rain', Title: 'I would die 4 u'\"],\n",
       " '[1, 2, 8, 18, 19]': [\"Author: 'u2', Album: 'Achtung Baby', Title: 'Mysterious Ways'\"],\n",
       " '[4, 16, 20, 46, 54]': [\"Author: 'fleetwood mac', Album: 'Behind the Mask', Title: 'In the Back of My Mind'\"],\n",
       " '[5, 6, 8, 8, 16]': [\"Author: 'roxette', Album: 'Pearls of Passion 1997 Remaster ', Title: 'Joy Of A Toy'\"],\n",
       " '[6, 7, 10, 10, 12]': [\"Author: 'u2', Album: 'October', Title: 'Rejoice'\"],\n",
       " '[6, 12, 18, 31, 43]': [\"Author: 'aerosmith', Album: 'Aerosmith', Title: 'Make It'\"],\n",
       " '[4, 7, 22, 29, 64]': [\"Author: 'aerosmith', Album: 'Aerosmith', Title: 'Make It'\"],\n",
       " '[3, 5, 11, 12, 16]': [\"Author: 'suzanne vega', Album: 'Songs in Red and Gray', Title: 'Widow s Walk'\"],\n",
       " '[3, 5, 13, 14, 33]': [\"Author: 'tori amos', Album: 'Scarlet s Walk', Title: 'Virginia'\"],\n",
       " '[4, 8, 12, 20, 26]': [\"Author: 'steely dan', Album: 'The Royal Scam', Title: 'Everything You Did'\"],\n",
       " '[9, 10, 11, 36, 37]': [\"Author: 'roxette', Album: 'Pearls of Passion 1997 Remaster ', Title: 'Pearls Of Passion'\"],\n",
       " '[2, 6, 9, 21, 33]': [\"Author: 'steely dan', Album: 'Gaucho', Title: 'Babylon Sisters'\"],\n",
       " '[0, 2, 3, 34, 40]': [\"Author: 'madonna', Album: 'Erotica', Title: 'Secret Garden'\"],\n",
       " '[0, 1, 9, 9, 10]': [\"Author: 'tori amos', Album: 'To Venus and Back-Orbiting', Title: 'Riot Poof'\"],\n",
       " '[16, 23, 26, 39, 49]': [\"Author: 'aerosmith', Album: 'Aerosmith', Title: 'Make It'\"],\n",
       " '[13, 15, 16, 29, 33]': [\"Author: 'aerosmith', Album: 'Aerosmith', Title: 'Make It'\"],\n",
       " '[4, 8, 13, 31, 40]': [\"Author: 'aerosmith', Album: 'Aerosmith', Title: 'Make It'\"],\n",
       " '[2, 2, 9, 12, 14]': [\"Author: 'suzanne vega', Album: 'Nine Objects Of Desire', Title: 'Honeymoon Suite'\"],\n",
       " '[0, 10, 16, 21, 25]': [\"Author: 'led zeppelin', Album: 'Led Zeppelin IV Zoso', Title: 'Rock And Roll'\"],\n",
       " '[0, 14, 16, 21, 30]': [\"Author: 'green day', Album: 'Kerplunk', Title: 'Who Wrote Holden Caulfield '\"],\n",
       " '[6, 10, 12, 15, 17]': [\"Author: 'queen', Album: 'Sheer Heart Attack', Title: 'Tenement Funster'\"],\n",
       " '[5, 6, 8, 11, 15]': [\"Author: 'u2', Album: 'Achtung Baby', Title: 'Tryin To Throw Your Arms Around The World'\"],\n",
       " '[0, 5, 9, 13, 20]': [\"Author: 'tori amos', Album: 'Under the Pink', Title: 'Cloud On My Tongue'\"],\n",
       " '[1, 5, 7, 20, 26]': [\"Author: 'led zeppelin', Album: 'Houses of the Holy', Title: 'The Crunge'\"],\n",
       " '[7, 13, 21, 39, 74]': [\"Author: 'aerosmith', Album: 'Aerosmith', Title: 'Make It'\"],\n",
       " '[0, 12, 13, 25, 26]': [\"Author: 'tori amos', Album: 'Scarlet s Walk', Title: 'Carbon'\"],\n",
       " '[2, 5, 5, 49, 49]': [\"Author: 'aerosmith', Album: 'Aerosmith', Title: 'Make It'\"],\n",
       " '[3, 5, 5, 20, 42]': [\"Author: 'queen', Album: 'Sheer Heart Attack', Title: 'She Makes Me Stormtrooper In Stilettos '\"],\n",
       " '[7, 8, 12, 17, 24]': [\"Author: 'u2', Album: 'October', Title: 'Rejoice'\"],\n",
       " '[4, 5, 11, 21, 21]': [\"Author: 'steely dan', Album: 'Aja', Title: 'Black Cow'\"],\n",
       " '[0, 12, 20, 33, 40]': [\"Author: 'aerosmith', Album: 'Aerosmith', Title: 'Make It'\"],\n",
       " '[4, 4, 10, 14, 18]': [\"Author: 'u2', Album: 'The Joshua Tree', Title: 'I Still Haven t Found What I m Looking For'\"],\n",
       " '[4, 10, 13, 19, 37]': [\"Author: 'aerosmith', Album: 'Aerosmith', Title: 'Make It'\"],\n",
       " '[6, 11, 19, 25, 41]': [\"Author: 'radiohead', Album: 'Amnesiac', Title: 'Like Spinning Plates'\"],\n",
       " '[5, 13, 22, 50, 98]': [\"Author: 'aerosmith', Album: 'Aerosmith', Title: 'Make It'\"],\n",
       " '[4, 9, 17, 32, 39]': [\"Author: 'aerosmith', Album: 'Aerosmith', Title: 'Make It'\"],\n",
       " '[5, 11, 26, 44, 53]': [\"Author: 'aerosmith', Album: 'Aerosmith', Title: 'Make It'\"],\n",
       " '[0, 6, 8, 21, 41]': [\"Author: 'radiohead', Album: 'The Bends', Title: 'Sulk'\"],\n",
       " '[1, 1, 15, 40, 42]': [\"Author: 'aerosmith', Album: 'Aerosmith', Title: 'Make It'\"],\n",
       " '[3, 26, 44, 50, 54]': [\"Author: 'aerosmith', Album: 'Aerosmith', Title: 'Make It'\"],\n",
       " '[6, 23, 35, 46, 64]': [\"Author: 'aerosmith', Album: 'Aerosmith', Title: 'Make It'\"],\n",
       " '[7, 21, 24, 31, 37]': [\"Author: 'aerosmith', Album: 'Aerosmith', Title: 'Make It'\"],\n",
       " '[3, 30, 31, 66, 81]': [\"Author: 'aerosmith', Album: 'Aerosmith', Title: 'Make It'\"],\n",
       " '[12, 17, 24, 85, 94]': [\"Author: 'aerosmith', Album: 'Aerosmith', Title: 'Make It'\"],\n",
       " '[5, 7, 9, 21, 57]': [\"Author: 'dave matthews band', Album: 'Under The Table And Dreaming', Title: 'Pay For What You Get'\"],\n",
       " '[1, 4, 5, 26, 39]': [\"Author: 'garth brooks', Album: 'Ropin The Wind The Limited Series ', Title: 'What She s Doing Now'\"],\n",
       " '[0, 1, 8, 30, 60]': [\"Author: 'aerosmith', Album: 'Aerosmith', Title: 'Make It'\"],\n",
       " '[1, 12, 13, 17, 26]': [\"Author: 'u2', Album: 'Zooropa', Title: 'The First Time'\"],\n",
       " '[1, 12, 12, 31, 37]': [\"Author: 'dave matthews band', Album: 'Stand Up', Title: 'You Might Die Trying'\"],\n",
       " '[2, 4, 6, 13, 19]': [\"Author: 'tori amos', Album: 'To Venus and Back-Orbiting', Title: 'Suede'\"],\n",
       " '[1, 6, 19, 22, 73]': [\"Author: 'aerosmith', Album: 'Aerosmith', Title: 'Make It'\"],\n",
       " '[15, 22, 23, 26, 30]': [\"Author: 'aerosmith', Album: 'Aerosmith', Title: 'Make It'\"],\n",
       " '[4, 6, 13, 23, 50]': [\"Author: 'cure', Album: 'Wish', Title: 'A Letter to Elise'\"],\n",
       " '[11, 16, 25, 30, 81]': [\"Author: 'aerosmith', Album: 'Aerosmith', Title: 'Make It'\"],\n",
       " '[6, 10, 12, 37, 51]': [\"Author: 'aerosmith', Album: 'Aerosmith', Title: 'Make It'\"],\n",
       " '[2, 3, 3, 6, 15]': [\"Author: 'steely dan', Album: 'Katy Lied', Title: 'Any World'\"],\n",
       " '[8, 22, 29, 32, 41]': [\"Author: 'aerosmith', Album: 'Aerosmith', Title: 'Make It'\"],\n",
       " '[2, 3, 9, 16, 17]': [\"Author: 'tori amos', Album: 'Little Earthquakes', Title: 'Crucify'\"],\n",
       " '[4, 4, 5, 29, 34]': [\"Author: 'roxette', Album: 'Look Sharp ', Title: 'Listen To Your Heart'\"],\n",
       " '[18, 19, 26, 27, 41]': [\"Author: 'aerosmith', Album: 'Aerosmith', Title: 'Make It'\"],\n",
       " '[2, 4, 5, 25, 29]': [\"Author: 'queen', Album: 'A Night At the Opera', Title: 'Sweet Lady'\"],\n",
       " '[7, 10, 10, 18, 34]': [\"Author: 'beatles', Album: 'The White Album Disc 1', Title: 'Happiness Is A Warm Gun'\"],\n",
       " '[16, 23, 24, 27, 28]': [\"Author: 'led zeppelin', Album: 'Led Zeppelin II', Title: 'Living Loving Maid She s Just'\"],\n",
       " '[0, 2, 15, 59, 67]': [\"Author: 'aerosmith', Album: 'Aerosmith', Title: 'Make It'\"],\n",
       " '[6, 15, 29, 31, 40]': [\"Author: 'aerosmith', Album: 'Aerosmith', Title: 'Make It'\"],\n",
       " '[10, 16, 23, 25, 40]': [\"Author: 'aerosmith', Album: 'Aerosmith', Title: 'Make It'\"],\n",
       " '[3, 9, 12, 38, 57]': [\"Author: 'aerosmith', Album: 'Aerosmith', Title: 'Make It'\"],\n",
       " '[0, 2, 6, 12, 19]': [\"Author: 'queen', Album: 'The Works', Title: 'Machines Back To Humans '\"],\n",
       " '[3, 13, 19, 22, 25]': [\"Author: 'tori amos', Album: 'To Venus and Back-Orbiting', Title: 'Datura'\"],\n",
       " '[1, 4, 5, 8, 46]': [\"Author: 'roxette', Album: 'Pearls of Passion 1997 Remaster ', Title: 'Pearls Of Passion'\"],\n",
       " '[17, 21, 21, 33, 60]': [\"Author: 'aerosmith', Album: 'Aerosmith', Title: 'Make It'\"],\n",
       " '[8, 13, 14, 15, 20]': [\"Author: 'roxette', Album: 'Pearls of Passion 1997 Remaster ', Title: 'Secrets That She Keeps'\"],\n",
       " '[1, 2, 17, 32, 51]': [\"Author: 'tori amos', Album: 'From the Choirgirl Hotel', Title: 'Jackie s Strength'\"],\n",
       " '[3, 15, 20, 35, 56]': [\"Author: 'aerosmith', Album: 'Aerosmith', Title: 'Make It'\"],\n",
       " '[2, 28, 30, 48, 55]': [\"Author: 'aerosmith', Album: 'Aerosmith', Title: 'Make It'\"],\n",
       " '[11, 13, 14, 16, 35]': [\"Author: 'tori amos', Album: 'Little Earthquakes', Title: 'China'\"],\n",
       " '[0, 2, 11, 22, 65]': [\"Author: 'roxette', Album: 'Room Service', Title: 'Bringing Me Down To My Knees'\"],\n",
       " '[1, 6, 17, 26, 50]': [\"Author: 'aerosmith', Album: 'Aerosmith', Title: 'Make It'\"],\n",
       " '[0, 2, 32, 52, 102]': [\"Author: 'aerosmith', Album: 'Aerosmith', Title: 'Make It'\"],\n",
       " '[8, 9, 15, 49, 64]': [\"Author: 'aerosmith', Album: 'Aerosmith', Title: 'Make It'\"],\n",
       " '[1, 2, 17, 30, 53]': [\"Author: 'aerosmith', Album: 'Aerosmith', Title: 'Make It'\"],\n",
       " '[1, 3, 5, 39, 125]': [\"Author: 'aerosmith', Album: 'Aerosmith', Title: 'Make It'\"],\n",
       " '[0, 1, 7, 13, 25]': [\"Author: 'u2', Album: 'Achtung Baby', Title: 'Mysterious Ways'\"],\n",
       " '[11, 17, 25, 26, 38]': [\"Author: 'aerosmith', Album: 'Aerosmith', Title: 'Make It'\"],\n",
       " '[3, 5, 10, 17, 61]': [\"Author: 'beatles', Album: 'Beatles For Sale', Title: 'Every Little Thing'\"],\n",
       " '[8, 9, 18, 33, 165]': [\"Author: 'aerosmith', Album: 'Aerosmith', Title: 'Make It'\"],\n",
       " '[1, 8, 15, 21, 26]': [\"Author: 'prince', Album: 'Parade', Title: 'New Position'\"],\n",
       " '[2, 5, 6, 7, 43]': [\"Author: 'u2', Album: 'The Unforgettable Fire', Title: 'The Unforgettable Fire'\"],\n",
       " '[4, 16, 21, 39, 66]': [\"Author: 'aerosmith', Album: 'Aerosmith', Title: 'Make It'\"],\n",
       " '[6, 8, 9, 39, 62]': [\"Author: 'aerosmith', Album: 'Aerosmith', Title: 'Make It'\"],\n",
       " '[2, 9, 15, 16, 35]': [\"Author: 'prince', Album: 'The Love Symbol Album', Title: '7'\"],\n",
       " '[4, 7, 22, 25, 25]': [\"Author: 'cure', Album: 'Kiss Me Kiss Me Kiss Me', Title: 'How Beautiful You Are'\"],\n",
       " '[6, 9, 13, 15, 16]': [\"Author: 'u2', Album: 'Zooropa', Title: 'Babyface'\"],\n",
       " '[1, 8, 12, 16, 39]': [\"Author: 'aerosmith', Album: 'Aerosmith', Title: 'Make It'\"],\n",
       " '[4, 4, 4, 5, 30]': [\"Author: 'queen', Album: 'Jazz', Title: 'If You Can t Beat Them'\"],\n",
       " '[3, 10, 16, 38, 41]': [\"Author: 'aerosmith', Album: 'Aerosmith', Title: 'Make It'\"],\n",
       " '[0, 4, 8, 28, 66]': [\"Author: 'aerosmith', Album: 'Aerosmith', Title: 'Make It'\"],\n",
       " '[0, 5, 35, 47, 64]': [\"Author: 'aerosmith', Album: 'Aerosmith', Title: 'Make It'\"],\n",
       " '[3, 4, 6, 11, 27]': [\"Author: 'u2', Album: 'War', Title: 'Surrender'\"],\n",
       " '[1, 9, 14, 35, 51]': [\"Author: 'prince', Album: 'Parade', Title: 'Mountains'\"],\n",
       " '[2, 2, 21, 31, 37]': [\"Author: 'aerosmith', Album: 'Aerosmith', Title: 'Make It'\"],\n",
       " '[1, 4, 7, 15, 16]': [\"Author: 'suzanne vega', Album: 'Solitude Standing', Title: 'Tom s Diner Reprise'\"],\n",
       " '[7, 7, 8, 14, 37]': [\"Author: 'aerosmith', Album: 'Aerosmith', Title: 'Make It'\"],\n",
       " '[3, 8, 9, 18, 24]': [\"Author: 'u2', Album: 'October', Title: 'Rejoice'\"],\n",
       " '[0, 19, 27, 29, 91]': [\"Author: 'aerosmith', Album: 'Aerosmith', Title: 'Make It'\"],\n",
       " '[1, 15, 22, 25, 37]': [\"Author: 'aerosmith', Album: 'Aerosmith', Title: 'Make It'\"],\n",
       " '[2, 3, 10, 19, 22]': [\"Author: 'u2', Album: 'The Joshua Tree', Title: 'Mothers of the Disappeared'\"],\n",
       " '[6, 16, 26, 44, 70]': [\"Author: 'aerosmith', Album: 'Aerosmith', Title: 'Make It'\"],\n",
       " '[0, 1, 14, 19, 54]': [\"Author: 'aerosmith', Album: 'Aerosmith', Title: 'Make It'\"],\n",
       " '[0, 6, 8, 53, 75]': [\"Author: 'aerosmith', Album: 'Aerosmith', Title: 'Make It'\"],\n",
       " '[0, 4, 13, 18, 31]': [\"Author: 'garth brooks', Album: 'Fresh Horses 2000', Title: 'That Ol Wind'\"],\n",
       " '[1, 4, 16, 34, 63]': [\"Author: 'aerosmith', Album: 'Aerosmith', Title: 'Make It'\"],\n",
       " '[0, 1, 2, 5, 25]': [\"Author: 'u2', Album: 'Zooropa', Title: 'The Wanderer'\"],\n",
       " '[4, 7, 39, 68, 87]': [\"Author: 'aerosmith', Album: 'Aerosmith', Title: 'Make It'\"],\n",
       " '[5, 14, 33, 46, 50]': [\"Author: 'aerosmith', Album: 'Aerosmith', Title: 'Make It'\"],\n",
       " '[1, 2, 13, 15, 93]': [\"Author: 'aerosmith', Album: 'Aerosmith', Title: 'Make It'\"],\n",
       " '[0, 14, 34, 61, 88]': [\"Author: 'aerosmith', Album: 'Aerosmith', Title: 'Make It'\"],\n",
       " '[2, 19, 23, 24, 30]': [\"Author: 'beatles', Album: 'A Hard Day s Night', Title: 'When I Get Home'\"],\n",
       " '[1, 3, 7, 14, 25]': [\"Author: 'fleetwood mac', Album: 'Rumours', Title: 'Second Hand News'\"],\n",
       " '[6, 16, 18, 19, 95]': [\"Author: 'aerosmith', Album: 'Aerosmith', Title: 'Make It'\"],\n",
       " '[12, 27, 28, 36, 85]': [\"Author: 'aerosmith', Album: 'Aerosmith', Title: 'Make It'\"],\n",
       " '[1, 14, 36, 37, 56]': [\"Author: 'aerosmith', Album: 'Aerosmith', Title: 'Make It'\"],\n",
       " '[6, 13, 17, 34, 89]': [\"Author: 'aerosmith', Album: 'Aerosmith', Title: 'Make It'\"],\n",
       " '[2, 15, 26, 29, 32]': [\"Author: 'aerosmith', Album: 'Aerosmith', Title: 'Make It'\"],\n",
       " '[0, 17, 24, 59, 74]': [\"Author: 'aerosmith', Album: 'Aerosmith', Title: 'Make It'\"],\n",
       " '[9, 12, 38, 102, 109]': [\"Author: 'aerosmith', Album: 'Aerosmith', Title: 'Make It'\"],\n",
       " '[0, 9, 23, 27, 65]': [\"Author: 'aerosmith', Album: 'Aerosmith', Title: 'Make It'\"],\n",
       " '[15, 23, 26, 35, 70]': [\"Author: 'aerosmith', Album: 'Aerosmith', Title: 'Make It'\"],\n",
       " '[2, 3, 4, 11, 20]': [\"Author: 'tori amos', Album: 'The Beekeeper', Title: 'Goodbye Pisces'\"],\n",
       " '[2, 2, 3, 30, 33]': [\"Author: 'green day', Album: 'Dookie', Title: 'Longview'\"],\n",
       " '[8, 17, 23, 38, 40]': [\"Author: 'led zeppelin', Album: 'Led Zeppelin IV Zoso', Title: 'When The Levee Breaks'\"],\n",
       " '[1, 10, 17, 17, 19]': [\"Author: 'aerosmith', Album: 'Aerosmith', Title: 'Make It'\"],\n",
       " '[0, 16, 20, 25, 103]': [\"Author: 'aerosmith', Album: 'Aerosmith', Title: 'Make It'\"],\n",
       " '[2, 21, 23, 32, 60]': [\"Author: 'aerosmith', Album: 'Aerosmith', Title: 'Make It'\"],\n",
       " '[1, 26, 26, 45, 71]': [\"Author: 'aerosmith', Album: 'Aerosmith', Title: 'Make It'\"],\n",
       " '[1, 9, 11, 17, 20]': [\"Author: 'roxette', Album: 'Pearls of Passion 1997 Remaster ', Title: 'Pearls Of Passion'\"],\n",
       " '[1, 3, 8, 15, 27]': [\"Author: 'suzanne vega', Album: '99 9 F ', Title: 'Bad Wisdom'\"],\n",
       " '[6, 14, 17, 18, 18]': [\"Author: 'steely dan', Album: 'Countdown To Ecstasy', Title: 'The Boston Rag'\"],\n",
       " '[6, 19, 19, 29, 41]': [\"Author: 'aerosmith', Album: 'Aerosmith', Title: 'Make It'\"],\n",
       " '[0, 4, 7, 27, 56]': [\"Author: 'aerosmith', Album: 'Aerosmith', Title: 'Make It'\"],\n",
       " '[2, 5, 14, 24, 32]': [\"Author: 'queen', Album: 'News Of The World', Title: 'We Will Rock You 1991 Bonus Remix ruined by Rick Rubin '\"],\n",
       " '[11, 11, 15, 19, 27]': [\"Author: 'metallica', Album: 'Ride The Lightning', Title: 'Creeping Death'\"],\n",
       " '[0, 12, 55, 71, 91]': [\"Author: 'aerosmith', Album: 'Aerosmith', Title: 'Make It'\"],\n",
       " '[1, 7, 10, 21, 32]': [\"Author: 'radiohead', Album: 'Pablo Honey', Title: 'I Can t'\"],\n",
       " '[0, 7, 13, 14, 93]': [\"Author: 'aerosmith', Album: 'Aerosmith', Title: 'Make It'\"],\n",
       " '[1, 3, 11, 16, 33]': [\"Author: 'radiohead', Album: 'Hail to the Theif', Title: 'Scatterbrain'\"],\n",
       " '[1, 5, 10, 11, 12]': [\"Author: 'tori amos', Album: 'To Venus and Back-Orbiting', Title: 'Datura'\"],\n",
       " '[0, 2, 5, 17, 29]': [\"Author: 'tori amos', Album: 'The Beekeeper', Title: 'Cars and Guitars'\"],\n",
       " '[24, 29, 29, 50, 63]': [\"Author: 'aerosmith', Album: 'Aerosmith', Title: 'Make It'\"],\n",
       " '[1, 3, 3, 11, 38]': [\"Author: 'green day', Album: 'Nimrod', Title: 'Hitchin A Ride'\"],\n",
       " '[7, 8, 14, 19, 28]': [\"Author: 'u2', Album: 'October', Title: 'I Fall Down'\"],\n",
       " '[0, 9, 11, 116, 117]': [\"Author: 'aerosmith', Album: 'Aerosmith', Title: 'Make It'\"],\n",
       " '[7, 10, 12, 22, 35]': [\"Author: 'aerosmith', Album: 'Aerosmith', Title: 'Make It'\"],\n",
       " '[0, 1, 3, 8, 12]': [\"Author: 'u2', Album: 'The Joshua Tree', Title: 'Running to Stand Still'\"],\n",
       " '[7, 9, 9, 18, 38]': [\"Author: 'aerosmith', Album: 'Aerosmith', Title: 'Make It'\"],\n",
       " '[5, 27, 32, 40, 52]': [\"Author: 'aerosmith', Album: 'Aerosmith', Title: 'Make It'\"],\n",
       " '[0, 1, 2, 18, 29]': [\"Author: 'roxette', Album: 'Joyride', Title: 'watercolours in the rain'\"],\n",
       " '[6, 8, 9, 9, 10]': [\"Author: 'steely dan', Album: 'The Royal Scam', Title: 'The Royal Scam'\"],\n",
       " '[6, 7, 8, 9, 24]': [\"Author: 'queen', Album: 'The Works', Title: 'Keep Passing The Open Windows'\"],\n",
       " '[0, 4, 5, 20, 64]': [\"Author: 'u2', Album: 'October', Title: 'Is That All '\"],\n",
       " '[9, 10, 19, 21, 36]': [\"Author: 'roxette', Album: 'Pearls of Passion 1997 Remaster ', Title: 'Goodbye To You'\"],\n",
       " '[0, 3, 4, 10, 29]': [\"Author: 'u2', Album: 'October', Title: 'Rejoice'\"],\n",
       " '[0, 0, 5, 11, 28]': [\"Author: 'prince', Album: 'Parade', Title: 'New Position'\"],\n",
       " '[0, 6, 7, 12, 31]': [\"Author: 'tori amos', Album: 'Scarlet s Walk', Title: 'Your Cloud'\"],\n",
       " '[2, 6, 7, 16, 26]': [\"Author: 'tori amos', Album: 'From the Choirgirl Hotel', Title: 'Playboy Mommy'\"],\n",
       " '[7, 7, 11, 12, 42]': [\"Author: 'cure', Album: 'Wild Mood Swings', Title: 'Mint Car'\"],\n",
       " '[2, 18, 19, 20, 24]': [\"Author: 'aerosmith', Album: 'Aerosmith', Title: 'Make It'\"],\n",
       " '[3, 8, 31, 51, 58]': [\"Author: 'aerosmith', Album: 'Aerosmith', Title: 'Make It'\"],\n",
       " '[7, 20, 21, 24, 69]': [\"Author: 'roxette', Album: 'Joyride', Title: 'things will never be the same'\"],\n",
       " '[7, 9, 25, 40, 49]': [\"Author: 'aerosmith', Album: 'Aerosmith', Title: 'Make It'\"],\n",
       " '[18, 22, 37, 68, 89]': [\"Author: 'aerosmith', Album: 'Aerosmith', Title: 'Make It'\"],\n",
       " '[3, 4, 4, 10, 29]': [\"Author: 'u2', Album: 'Zooropa', Title: 'Lemon'\"],\n",
       " '[1, 12, 20, 22, 29]': [\"Author: 'queen', Album: 'The Game', Title: 'Play The Game'\"],\n",
       " '[1, 5, 15, 19, 32]': [\"Author: 'prince', Album: 'The Love Symbol Album', Title: 'Sweet Baby'\"],\n",
       " '[8, 12, 13, 14, 51]': [\"Author: 'aerosmith', Album: 'Aerosmith', Title: 'Make It'\"],\n",
       " '[0, 11, 16, 25, 27]': [\"Author: 'metallica', Album: 'Load', Title: 'The Outlaw Torn'\"],\n",
       " '[20, 20, 29, 29, 76]': [\"Author: 'aerosmith', Album: 'Aerosmith', Title: 'Make It'\"],\n",
       " '[0, 7, 14, 32, 71]': [\"Author: 'aerosmith', Album: 'Aerosmith', Title: 'Make It'\"],\n",
       " '[3, 3, 9, 18, 92]': [\"Author: 'aerosmith', Album: 'Aerosmith', Title: 'Make It'\"],\n",
       " '[1, 3, 7, 15, 48]': [\"Author: 'madonna', Album: 'Like A Prayer', Title: 'Love Song'\"],\n",
       " '[2, 2, 4, 9, 11]': [\"Author: 'suzanne vega', Album: 'Days of Open Hand', Title: 'Book Of Dreams'\"],\n",
       " '[0, 6, 7, 7, 46]': [\"Author: 'aerosmith', Album: 'Aerosmith', Title: 'Make It'\"],\n",
       " '[0, 21, 25, 26, 38]': [\"Author: 'aerosmith', Album: 'Aerosmith', Title: 'Make It'\"],\n",
       " '[2, 8, 9, 14, 45]': [\"Author: 'tori amos', Album: 'From the Choirgirl Hotel', Title: 'Liquid Diamonds'\"],\n",
       " '[1, 7, 17, 19, 56]': [\"Author: 'aerosmith', Album: 'Aerosmith', Title: 'Make It'\"],\n",
       " '[5, 6, 7, 19, 82]': [\"Author: 'aerosmith', Album: 'Aerosmith', Title: 'Make It'\"],\n",
       " '[0, 4, 9, 68, 99]': [\"Author: 'aerosmith', Album: 'Aerosmith', Title: 'Make It'\"],\n",
       " '[5, 15, 18, 25, 31]': [\"Author: 'depeche mode', Album: 'Construction Time Again', Title: 'Everything Counts'\"],\n",
       " '[3, 4, 21, 63, 123]': [\"Author: 'aerosmith', Album: 'Aerosmith', Title: 'Make It'\"],\n",
       " '[0, 23, 24, 36, 41]': [\"Author: 'aerosmith', Album: 'Aerosmith', Title: 'Make It'\"],\n",
       " '[1, 11, 11, 43, 45]': [\"Author: 'aerosmith', Album: 'Aerosmith', Title: 'Make It'\"],\n",
       " '[10, 17, 19, 22, 37]': [\"Author: 'aerosmith', Album: 'Aerosmith', Title: 'Make It'\"],\n",
       " '[5, 9, 10, 12, 74]': [\"Author: 'aerosmith', Album: 'Aerosmith', Title: 'Make It'\"],\n",
       " '[5, 7, 7, 29, 32]': [\"Author: 'aerosmith', Album: 'Aerosmith', Title: 'Make It'\"],\n",
       " '[0, 4, 9, 23, 63]': [\"Author: 'radiohead', Album: 'OK Computer', Title: 'Let Down'\"],\n",
       " '[2, 18, 36, 42, 46]': [\"Author: 'aerosmith', Album: 'Aerosmith', Title: 'Make It'\"],\n",
       " '[6, 11, 15, 23, 37]': [\"Author: 'dave matthews band', Album: 'Crash', Title: 'Tripping Billies'\"],\n",
       " '[0, 7, 20, 59, 83]': [\"Author: 'aerosmith', Album: 'Aerosmith', Title: 'Make It'\"],\n",
       " '[0, 12, 14, 17, 29]': [\"Author: 'tori amos', Album: 'Under the Pink', Title: 'Bells For Her'\"],\n",
       " '[1, 2, 3, 4, 40]': [\"Author: 'suzanne vega', Album: 'Days of Open Hand', Title: 'Men in a War'\"],\n",
       " '[13, 23, 30, 45, 79]': [\"Author: 'aerosmith', Album: 'Aerosmith', Title: 'Make It'\"],\n",
       " '[23, 26, 31, 32, 45]': [\"Author: 'aerosmith', Album: 'Aerosmith', Title: 'Make It'\"],\n",
       " '[5, 13, 25, 37, 47]': [\"Author: 'aerosmith', Album: 'Aerosmith', Title: 'Make It'\"],\n",
       " '[0, 1, 2, 14, 17]': [\"Author: 'u2', Album: 'Zooropa', Title: 'The First Time'\"],\n",
       " '[0, 1, 10, 15, 19]': [\"Author: 'u2', Album: 'The Joshua Tree', Title: 'Trip Through Your Wires'\"],\n",
       " '[0, 1, 6, 8, 54]': [\"Author: 'u2', Album: 'The Unforgettable Fire', Title: 'Bad'\"],\n",
       " '[1, 5, 18, 22, 22]': [\"Author: 'metallica', Album: 'Metallica', Title: 'Through the Never'\"],\n",
       " '[7, 12, 21, 23, 51]': [\"Author: 'aerosmith', Album: 'Aerosmith', Title: 'Make It'\"],\n",
       " '[0, 8, 19, 21, 30]': [\"Author: 'steely dan', Album: 'Pretzel Logic', Title: 'Rikki Don t Lose That Number'\"],\n",
       " '[3, 4, 4, 10, 23]': [\"Author: 'suzanne vega', Album: '99 9 F ', Title: 'As A Child'\"],\n",
       " '[9, 13, 16, 18, 30]': [\"Author: 'aerosmith', Album: 'Get Your Wings', Title: 'Train Kept A Rollin '\"],\n",
       " '[1, 13, 19, 20, 26]': [\"Author: 'roxette', Album: 'Pearls of Passion 1997 Remaster ', Title: 'Soul Deep'\"],\n",
       " '[3, 20, 30, 35, 44]': [\"Author: 'aerosmith', Album: 'Aerosmith', Title: 'Make It'\"],\n",
       " '[2, 7, 13, 16, 22]': [\"Author: 'steely dan', Album: 'Katy Lied', Title: 'Your Gold Teeth II'\"],\n",
       " '[4, 4, 21, 24, 44]': [\"Author: 'garth brooks', Album: 'The Chase', Title: 'Every Now And Then'\"],\n",
       " '[7, 11, 17, 24, 44]': [\"Author: 'aerosmith', Album: 'Aerosmith', Title: 'Make It'\"],\n",
       " '[1, 1, 2, 5, 27]': [\"Author: 'prince', Album: 'Purple Rain', Title: 'Take me with u'\"],\n",
       " '[2, 8, 12, 36, 45]': [\"Author: 'cure', Album: 'The Head on the Door', Title: 'Screw'\"],\n",
       " '[4, 6, 14, 39, 46]': [\"Author: 'aerosmith', Album: 'Aerosmith', Title: 'Make It'\"],\n",
       " '[7, 10, 12, 20, 21]': [\"Author: 'roxette', Album: 'Joyride', Title: 'soul deep'\"],\n",
       " '[7, 11, 17, 18, 32]': [\"Author: 'aerosmith', Album: 'Aerosmith', Title: 'Make It'\"],\n",
       " '[3, 18, 31, 37, 58]': [\"Author: 'fleetwood mac', Album: 'Tusk', Title: 'Never Make Me Cry'\"],\n",
       " '[4, 8, 26, 57, 96]': [\"Author: 'aerosmith', Album: 'Aerosmith', Title: 'Make It'\"],\n",
       " '[0, 5, 5, 20, 25]': [\"Author: 'suzanne vega', Album: 'Nine Objects Of Desire', Title: 'World Before Columbus'\"],\n",
       " '[3, 5, 6, 15, 50]': [\"Author: 'garth brooks', Album: 'The Chase', Title: 'Dixie Chicken'\"],\n",
       " '[2, 5, 8, 13, 113]': [\"Author: 'aerosmith', Album: 'Aerosmith', Title: 'Make It'\"],\n",
       " '[1, 6, 11, 17, 48]': [\"Author: 'aerosmith', Album: 'Aerosmith', Title: 'Make It'\"],\n",
       " '[2, 12, 13, 14, 16]': [\"Author: 'u2', Album: 'October', Title: 'With a Shout'\"],\n",
       " '[4, 5, 9, 19, 47]': [\"Author: 'queen', Album: 'Jazz', Title: 'Don t Stop Me Now'\"],\n",
       " '[2, 21, 22, 36, 59]': [\"Author: 'aerosmith', Album: 'Aerosmith', Title: 'Make It'\"],\n",
       " '[11, 12, 25, 45, 50]': [\"Author: 'aerosmith', Album: 'Aerosmith', Title: 'Make It'\"],\n",
       " '[5, 20, 31, 60, 120]': [\"Author: 'aerosmith', Album: 'Aerosmith', Title: 'Make It'\"],\n",
       " '[5, 20, 26, 35, 87]': [\"Author: 'aerosmith', Album: 'Aerosmith', Title: 'Make It'\"],\n",
       " '[0, 1, 3, 6, 18]': [\"Author: 'u2', Album: 'The Unforgettable Fire', Title: 'A Sort of Homecoming'\"],\n",
       " '[1, 2, 5, 14, 21]': [\"Author: 'tori amos', Album: 'The Beekeeper', Title: 'The Power of Orange Knickers'\"],\n",
       " '[3, 3, 4, 16, 31]': [\"Author: 'depeche mode', Album: 'A Broken Frame', Title: 'The Sun The Rainfall'\"],\n",
       " '[2, 9, 11, 33, 43]': [\"Author: 'aerosmith', Album: 'Aerosmith', Title: 'Make It'\"],\n",
       " '[5, 8, 22, 35, 63]': [\"Author: 'aerosmith', Album: 'Aerosmith', Title: 'Make It'\"],\n",
       " '[3, 10, 15, 18, 66]': [\"Author: 'suzanne vega', Album: 'Nine Objects Of Desire', Title: 'Birth-day Love Made Real '\"],\n",
       " '[9, 23, 32, 51, 59]': [\"Author: 'aerosmith', Album: 'Aerosmith', Title: 'Make It'\"],\n",
       " '[6, 8, 9, 28, 57]': [\"Author: 'led zeppelin', Album: 'Led Zeppelin II', Title: 'The Lemon Song'\"],\n",
       " '[0, 1, 2, 2, 13]': [\"Author: 'u2', Album: 'Zooropa', Title: 'The First Time'\"],\n",
       " '[0, 2, 7, 11, 16]': [\"Author: 'u2', Album: 'Zooropa', Title: 'Babyface'\"],\n",
       " '[0, 1, 19, 40, 55]': [\"Author: 'aerosmith', Album: 'Aerosmith', Title: 'Make It'\"],\n",
       " '[0, 10, 27, 32, 48]': [\"Author: 'aerosmith', Album: 'Aerosmith', Title: 'Make It'\"],\n",
       " '[3, 13, 14, 22, 68]': [\"Author: 'aerosmith', Album: 'Aerosmith', Title: 'Make It'\"],\n",
       " '[2, 3, 5, 14, 14]': [\"Author: 'roxette', Album: 'Have a Nice Day', Title: 'Pay The Price'\"],\n",
       " '[1, 7, 16, 16, 40]': [\"Author: 'prince', Album: 'Purple Rain', Title: 'Darling Nikki'\"],\n",
       " '[5, 14, 19, 27, 69]': [\"Author: 'aerosmith', Album: 'Aerosmith', Title: 'Make It'\"],\n",
       " '[1, 5, 9, 15, 52]': [\"Author: 'green day', Album: 'Insomniac', Title: 'Walking Contradiction'\"],\n",
       " '[2, 5, 5, 16, 70]': [\"Author: 'aerosmith', Album: 'Aerosmith', Title: 'Make It'\"],\n",
       " '[1, 7, 28, 45, 81]': [\"Author: 'aerosmith', Album: 'Aerosmith', Title: 'Make It'\"],\n",
       " '[0, 0, 7, 38, 50]': [\"Author: 'creedence clearwater revival', Album: 'Green River', Title: 'Wrote A Song For Everyone'\"],\n",
       " '[7, 12, 23, 37, 46]': [\"Author: 'aerosmith', Album: 'Aerosmith', Title: 'Make It'\"],\n",
       " '[0, 9, 11, 27, 56]': [\"Author: 'aerosmith', Album: 'Aerosmith', Title: 'Make It'\"],\n",
       " '[0, 2, 3, 7, 13]': [\"Author: 'u2', Album: 'Zooropa', Title: 'Some Days Are Better Than Others'\"],\n",
       " '[0, 1, 3, 10, 20]': [\"Author: 'u2', Album: 'October', Title: 'Scarlet'\"],\n",
       " '[0, 9, 11, 17, 87]': [\"Author: 'aerosmith', Album: 'Aerosmith', Title: 'Make It'\"],\n",
       " '[0, 5, 6, 9, 32]': [\"Author: 'steely dan', Album: 'The Royal Scam', Title: 'The Royal Scam'\"],\n",
       " '[1, 2, 7, 25, 57]': [\"Author: 'aerosmith', Album: 'Aerosmith', Title: 'Make It'\"],\n",
       " '[8, 14, 19, 23, 27]': [\"Author: 'aerosmith', Album: 'Aerosmith', Title: 'Make It'\"],\n",
       " '[3, 4, 16, 17, 76]': [\"Author: 'aerosmith', Album: 'Aerosmith', Title: 'Make It'\"],\n",
       " '[0, 11, 17, 40, 66]': [\"Author: 'radiohead', Album: 'OK Computer', Title: 'Paranoid Android'\"],\n",
       " '[11, 14, 15, 21, 30]': [\"Author: 'aerosmith', Album: 'Aerosmith', Title: 'Make It'\"],\n",
       " '[1, 6, 14, 21, 64]': [\"Author: 'aerosmith', Album: 'Aerosmith', Title: 'Make It'\"],\n",
       " '[7, 8, 12, 14, 39]': [\"Author: 'fleetwood mac', Album: 'Behind the Mask', Title: 'Hard Feelings'\"],\n",
       " '[2, 2, 4, 38, 54]': [\"Author: 'suzanne vega', Album: 'Nine Objects Of Desire', Title: 'Head Shots'\"],\n",
       " '[1, 6, 22, 43, 63]': [\"Author: 'aerosmith', Album: 'Aerosmith', Title: 'Make It'\"],\n",
       " '[4, 12, 32, 46, 113]': [\"Author: 'aerosmith', Album: 'Aerosmith', Title: 'Make It'\"],\n",
       " '[4, 12, 21, 41, 55]': [\"Author: 'aerosmith', Album: 'Aerosmith', Title: 'Make It'\"],\n",
       " '[1, 5, 6, 8, 17]': [\"Author: 'u2', Album: 'Zooropa', Title: 'Stay Faraway So Close '\"],\n",
       " '[0, 11, 28, 30, 33]': [\"Author: 'cure', Album: 'Wild Mood Swings', Title: 'Strange Attraction'\"],\n",
       " '[0, 1, 3, 7, 35]': [\"Author: 'tori amos', Album: 'To Venus and Back-Orbiting', Title: 'Suede'\"],\n",
       " '[2, 10, 22, 31, 40]': [\"Author: 'aerosmith', Album: 'Aerosmith', Title: 'Make It'\"],\n",
       " '[3, 4, 6, 9, 42]': [\"Author: 'radiohead', Album: 'Pablo Honey', Title: 'How Do You '\"],\n",
       " '[13, 15, 18, 28, 28]': [\"Author: 'fleetwood mac', Album: 'Behind the Mask', Title: 'In the Back of My Mind'\"],\n",
       " '[7, 21, 23, 81, 89]': [\"Author: 'aerosmith', Album: 'Aerosmith', Title: 'Make It'\"],\n",
       " '[3, 8, 8, 8, 59]': [\"Author: 'aerosmith', Album: 'Aerosmith', Title: 'Make It'\"],\n",
       " '[5, 12, 22, 36, 91]': [\"Author: 'aerosmith', Album: 'Aerosmith', Title: 'Make It'\"],\n",
       " '[1, 2, 3, 21, 40]': [\"Author: 'suzanne vega', Album: 'Solitude Standing', Title: 'Luka'\"],\n",
       " '[1, 3, 7, 9, 20]': [\"Author: 'u2', Album: 'Zooropa', Title: 'Babyface'\"],\n",
       " '[2, 5, 5, 12, 18]': [\"Author: 'steely dan', Album: 'Gaucho', Title: 'Glamour Profession'\"],\n",
       " '[15, 20, 35, 52, 111]': [\"Author: 'aerosmith', Album: 'Aerosmith', Title: 'Make It'\"],\n",
       " '[1, 9, 10, 17, 20]': [\"Author: 'u2', Album: 'The Unforgettable Fire', Title: 'A Sort of Homecoming'\"],\n",
       " '[8, 10, 11, 13, 13]': [\"Author: 'steely dan', Album: 'The Royal Scam', Title: 'Everything You Did'\"],\n",
       " '[2, 2, 4, 18, 39]': [\"Author: 'roxette', Album: 'Crash Boom Bang ', Title: 'What s She Like '\"],\n",
       " '[8, 13, 15, 15, 29]': [\"Author: 'queen', Album: 'The Game', Title: 'Need Your Loving Tonight'\"],\n",
       " '[1, 4, 16, 64, 65]': [\"Author: 'aerosmith', Album: 'Aerosmith', Title: 'Make It'\"],\n",
       " '[0, 2, 7, 16, 35]': [\"Author: 'suzanne vega', Album: 'Days of Open Hand', Title: 'Predictions'\"],\n",
       " '[5, 7, 13, 19, 57]': [\"Author: 'aerosmith', Album: 'Aerosmith', Title: 'Make It'\"],\n",
       " '[1, 1, 2, 28, 82]': [\"Author: 'aerosmith', Album: 'Aerosmith', Title: 'Make It'\"],\n",
       " '[5, 15, 17, 23, 75]': [\"Author: 'aerosmith', Album: 'Aerosmith', Title: 'Make It'\"],\n",
       " '[4, 4, 8, 13, 21]': [\"Author: 'queen', Album: 'The Game', Title: 'Another One Bites The Dust'\"],\n",
       " '[20, 26, 33, 35, 76]': [\"Author: 'aerosmith', Album: 'Aerosmith', Title: 'Make It'\"],\n",
       " '[0, 5, 13, 33, 55]': [\"Author: 'metallica', Album: 'Metallica', Title: 'Wherever I May Roam'\"],\n",
       " '[3, 12, 17, 22, 52]': [\"Author: 'aerosmith', Album: 'Aerosmith', Title: 'Make It'\"],\n",
       " '[2, 13, 15, 22, 22]': [\"Author: 'green day', Album: 'American Idiot', Title: 'Jesus of Suburbia'\"],\n",
       " '[1, 6, 17, 34, 46]': [\"Author: 'aerosmith', Album: 'Aerosmith', Title: 'Make It'\"],\n",
       " '[4, 4, 7, 42, 56]': [\"Author: 'aerosmith', Album: 'Aerosmith', Title: 'Make It'\"],\n",
       " '[4, 6, 6, 48, 66]': [\"Author: 'aerosmith', Album: 'Aerosmith', Title: 'Make It'\"],\n",
       " '[6, 7, 9, 15, 24]': [\"Author: 'u2', Album: 'The Joshua Tree', Title: 'Trip Through Your Wires'\"],\n",
       " '[2, 9, 17, 17, 38]': [\"Author: 'metallica', Album: 'Metallica', Title: 'Wherever I May Roam'\"],\n",
       " '[1, 33, 34, 42, 104]': [\"Author: 'aerosmith', Album: 'Aerosmith', Title: 'Make It'\"],\n",
       " '[1, 13, 33, 47, 55]': [\"Author: 'aerosmith', Album: 'Aerosmith', Title: 'Make It'\"],\n",
       " '[2, 4, 16, 34, 49]': [\"Author: 'aerosmith', Album: 'Aerosmith', Title: 'Make It'\"],\n",
       " '[0, 5, 5, 10, 13]': [\"Author: 'tori amos', Album: 'Under the Pink', Title: 'Bells For Her'\"],\n",
       " '[1, 8, 8, 34, 45]': [\"Author: 'aerosmith', Album: 'Aerosmith', Title: 'Make It'\"],\n",
       " '[2, 3, 11, 14, 26]': [\"Author: 'tori amos', Album: 'To Venus and Back-Orbiting', Title: 'Josephine'\"],\n",
       " '[7, 10, 10, 13, 18]': [\"Author: 'green day', Album: 'Kerplunk', Title: 'No One Knows'\"],\n",
       " '[11, 24, 39, 62, 76]': [\"Author: 'aerosmith', Album: 'Aerosmith', Title: 'Make It'\"],\n",
       " '[3, 6, 22, 25, 30]': [\"Author: 'madonna', Album: 'Bedtime Stories', Title: 'Survival'\"],\n",
       " '[0, 2, 9, 30, 48]': [\"Author: 'garth brooks', Album: 'No Fences The Limited Series ', Title: 'Mr Blue'\"],\n",
       " '[7, 8, 11, 12, 33]': [\"Author: 'suzanne vega', Album: 'Solitude Standing', Title: 'Night Vision'\"],\n",
       " '[11, 16, 24, 24, 46]': [\"Author: 'aerosmith', Album: 'Aerosmith', Title: 'Make It'\"],\n",
       " '[5, 7, 7, 22, 36]': [\"Author: 'green day', Album: 'Nimrod', Title: 'All The Time'\"],\n",
       " '[7, 9, 9, 11, 80]': [\"Author: 'aerosmith', Album: 'Aerosmith', Title: 'Make It'\"],\n",
       " '[0, 2, 5, 13, 19]': [\"Author: 'u2', Album: 'The Joshua Tree', Title: 'I Still Haven t Found What I m Looking For'\"],\n",
       " '[3, 11, 26, 32, 51]': [\"Author: 'aerosmith', Album: 'Aerosmith', Title: 'Make It'\"],\n",
       " '[0, 2, 13, 20, 46]': [\"Author: 'fleetwood mac', Album: 'Mirage', Title: 'Eyes of the World'\"],\n",
       " '[2, 15, 18, 32, 48]': [\"Author: 'aerosmith', Album: 'Aerosmith', Title: 'Make It'\"],\n",
       " '[2, 8, 22, 24, 34]': [\"Author: 'led zeppelin', Album: 'Houses of the Holy', Title: 'Dancing Days'\"],\n",
       " '[3, 8, 17, 19, 92]': [\"Author: 'aerosmith', Album: 'Aerosmith', Title: 'Make It'\"],\n",
       " '[1, 3, 4, 16, 25]': [\"Author: 'tori amos', Album: 'From the Choirgirl Hotel', Title: 'Playboy Mommy'\"],\n",
       " '[1, 3, 4, 20, 31]': [\"Author: 'queen', Album: 'News Of The World', Title: 'Sheer Heart Attack'\"],\n",
       " '[5, 5, 41, 70, 72]': [\"Author: 'aerosmith', Album: 'Aerosmith', Title: 'Make It'\"],\n",
       " '[0, 4, 4, 10, 28]': [\"Author: 'tori amos', Album: 'Little Earthquakes', Title: 'Girl'\"],\n",
       " '[1, 1, 3, 14, 38]': [\"Author: 'green day', Album: 'Warning', Title: 'Deadbeat Holiday'\"],\n",
       " '[3, 5, 6, 14, 34]': [\"Author: 'u2', Album: 'Zooropa', Title: 'Stay Faraway So Close '\"],\n",
       " '[0, 13, 17, 21, 40]': [\"Author: 'roxette', Album: 'Pearls of Passion 1997 Remaster ', Title: 'Secrets That She Keeps Tits Ass Demo 1986 '\"],\n",
       " '[1, 1, 21, 52, 73]': [\"Author: 'aerosmith', Album: 'Aerosmith', Title: 'Make It'\"],\n",
       " '[4, 4, 7, 25, 51]': [\"Author: 'aerosmith', Album: 'Aerosmith', Title: 'Make It'\"],\n",
       " '[5, 8, 28, 43, 96]': [\"Author: 'aerosmith', Album: 'Aerosmith', Title: 'Make It'\"],\n",
       " '[8, 11, 12, 18, 27]': [\"Author: 'prince', Album: 'Sign O The Times Disc 1 ', Title: 'Housequake'\"],\n",
       " '[6, 6, 11, 35, 47]': [\"Author: 'aerosmith', Album: 'Aerosmith', Title: 'Make It'\"],\n",
       " '[0, 1, 1, 5, 63]': [\"Author: 'steely dan', Album: 'Katy Lied', Title: 'Your Gold Teeth II'\"],\n",
       " '[0, 2, 22, 39, 47]': [\"Author: 'depeche mode', Album: 'Music for the Masses', Title: 'Little 15'\"],\n",
       " '[8, 25, 40, 44, 49]': [\"Author: 'aerosmith', Album: 'Aerosmith', Title: 'Make It'\"],\n",
       " '[5, 10, 13, 24, 37]': [\"Author: 'beatles', Album: 'A Hard Day s Night', Title: 'A Hard Day s Night'\"],\n",
       " '[1, 3, 3, 47, 51]': [\"Author: 'aerosmith', Album: 'Aerosmith', Title: 'Make It'\"],\n",
       " '[4, 5, 21, 27, 32]': [\"Author: 'beatles', Album: 'A Hard Day s Night', Title: 'I m Happy Just To Dance With You'\"],\n",
       " '[0, 7, 12, 16, 45]': [\"Author: 'led zeppelin', Album: 'Houses of the Holy', Title: 'Dancing Days'\"],\n",
       " '[5, 6, 18, 27, 35]': [\"Author: 'aerosmith', Album: 'Rocks', Title: 'Rats In The Cellar'\"],\n",
       " '[11, 25, 25, 27, 50]': [\"Author: 'aerosmith', Album: 'Aerosmith', Title: 'Make It'\"],\n",
       " '[4, 6, 15, 23, 32]': [\"Author: 'beatles', Album: 'A Hard Day s Night', Title: 'A Hard Day s Night'\"],\n",
       " '[1, 5, 24, 43, 46]': [\"Author: 'aerosmith', Album: 'Aerosmith', Title: 'Make It'\"],\n",
       " '[3, 5, 10, 13, 13]': [\"Author: 'steely dan', Album: 'Countdown To Ecstasy', Title: 'Show Biz Kids'\"],\n",
       " '[3, 5, 11, 19, 30]': [\"Author: 'suzanne vega', Album: '99 9 F ', Title: 'As Girls Go'\"],\n",
       " '[7, 8, 22, 25, 33]': [\"Author: 'aerosmith', Album: 'Aerosmith', Title: 'Make It'\"],\n",
       " '[2, 15, 16, 17, 23]': [\"Author: 'beatles', Album: 'Abbey Road', Title: 'Maxwell s Silver Hammer'\"],\n",
       " '[15, 23, 23, 24, 45]': [\"Author: 'aerosmith', Album: 'Aerosmith', Title: 'Make It'\"],\n",
       " '[2, 21, 24, 36, 145]': [\"Author: 'aerosmith', Album: 'Aerosmith', Title: 'Make It'\"],\n",
       " '[15, 17, 17, 21, 35]': [\"Author: 'aerosmith', Album: 'Aerosmith', Title: 'Make It'\"],\n",
       " '[5, 6, 13, 29, 103]': [\"Author: 'aerosmith', Album: 'Aerosmith', Title: 'Make It'\"],\n",
       " '[2, 3, 3, 6, 11]': [\"Author: 'u2', Album: 'Zooropa', Title: 'Babyface'\"],\n",
       " '[15, 19, 25, 30, 45]': [\"Author: 'aerosmith', Album: 'Aerosmith', Title: 'Make It'\"],\n",
       " '[0, 12, 14, 24, 24]': [\"Author: 'aerosmith', Album: 'Aerosmith', Title: 'Make It'\"],\n",
       " '[10, 15, 16, 17, 20]': [\"Author: 'roxette', Album: 'Joyride', Title: 'phsycial fascination'\"],\n",
       " '[13, 27, 30, 31, 66]': [\"Author: 'aerosmith', Album: 'Aerosmith', Title: 'Make It'\"],\n",
       " '[1, 14, 15, 16, 48]': [\"Author: 'cure', Album: 'Disintegration', Title: 'Pictures Of You'\"],\n",
       " '[4, 10, 12, 37, 82]': [\"Author: 'aerosmith', Album: 'Aerosmith', Title: 'Make It'\"],\n",
       " '[1, 9, 12, 32, 45]': [\"Author: 'queen', Album: 'A Night At the Opera', Title: 'Death On Two Legs Dedicated To '\"],\n",
       " '[3, 6, 11, 16, 27]': [\"Author: 'tori amos', Album: 'Scarlet s Walk', Title: 'Amber Waves'\"],\n",
       " '[5, 9, 9, 22, 22]': [\"Author: 'aerosmith', Album: 'Aerosmith', Title: 'Make It'\"],\n",
       " '[7, 10, 15, 16, 16]': [\"Author: 'radiohead', Album: 'Amnesiac', Title: 'Dollars and Cents'\"],\n",
       " '[19, 22, 22, 26, 30]': [\"Author: 'aerosmith', Album: 'Aerosmith', Title: 'Make It'\"],\n",
       " '[8, 10, 13, 39, 53]': [\"Author: 'aerosmith', Album: 'Aerosmith', Title: 'Make It'\"],\n",
       " '[5, 12, 17, 21, 37]': [\"Author: 'aerosmith', Album: 'Aerosmith', Title: 'Make It'\"],\n",
       " '[1, 2, 6, 59, 62]': [\"Author: 'aerosmith', Album: 'Aerosmith', Title: 'Make It'\"],\n",
       " '[0, 0, 22, 83, 115]': [\"Author: 'aerosmith', Album: 'Aerosmith', Title: 'Make It'\"],\n",
       " '[1, 21, 25, 33, 61]': [\"Author: 'aerosmith', Album: 'Aerosmith', Title: 'Make It'\"],\n",
       " '[6, 25, 27, 27, 27]': [\"Author: 'aerosmith', Album: 'Aerosmith', Title: 'Make It'\"],\n",
       " '[3, 8, 9, 20, 29]': [\"Author: 'steely dan', Album: 'Pretzel Logic', Title: 'Any Major Dude Will Tell You'\"],\n",
       " '[5, 5, 6, 10, 18]': [\"Author: 'u2', Album: 'The Unforgettable Fire', Title: 'Pride In The Name of Love '\"],\n",
       " '[6, 8, 9, 9, 31]': [\"Author: 'creedence clearwater revival', Album: 'Willy and the Poor Boys', Title: 'Cotton fields'\"],\n",
       " '[1, 3, 12, 32, 44]': [\"Author: 'aerosmith', Album: 'Aerosmith', Title: 'Make It'\"],\n",
       " '[5, 8, 10, 46, 47]': [\"Author: 'queen', Album: 'A Night At the Opera', Title: 'You re My Best Friend'\"],\n",
       " '[3, 6, 10, 21, 70]': [\"Author: 'garth brooks', Album: 'The Chase', Title: 'Night Rider s Lament'\"],\n",
       " '[4, 9, 28, 72, 89]': [\"Author: 'aerosmith', Album: 'Aerosmith', Title: 'Make It'\"],\n",
       " '[6, 7, 18, 18, 36]': [\"Author: 'metallica', Album: 'Kill Em All', Title: 'Whiplash'\"],\n",
       " '[5, 11, 21, 22, 82]': [\"Author: 'aerosmith', Album: 'Aerosmith', Title: 'Make It'\"],\n",
       " '[0, 6, 7, 11, 15]': [\"Author: 'tori amos', Album: 'To Venus and Back-Orbiting', Title: 'Riot Poof'\"],\n",
       " '[5, 5, 6, 11, 21]': [\"Author: 'tori amos', Album: 'The Beekeeper', Title: 'Sleeps With Butterflies'\"],\n",
       " '[4, 5, 6, 34, 71]': [\"Author: 'aerosmith', Album: 'Aerosmith', Title: 'Make It'\"],\n",
       " '[2, 5, 7, 14, 17]': [\"Author: 'suzanne vega', Album: 'Days of Open Hand', Title: 'Institution Green'\"],\n",
       " '[2, 12, 16, 38, 38]': [\"Author: 'aerosmith', Album: 'Aerosmith', Title: 'Make It'\"],\n",
       " '[9, 17, 18, 21, 43]': [\"Author: 'aerosmith', Album: 'Aerosmith', Title: 'Make It'\"],\n",
       " '[0, 1, 26, 40, 49]': [\"Author: 'aerosmith', Album: 'Aerosmith', Title: 'Make It'\"],\n",
       " '[5, 9, 10, 11, 42]': [\"Author: 'fleetwood mac', Album: 'Rumours', Title: 'Go Your Own Way'\"],\n",
       " '[6, 11, 13, 32, 58]': [\"Author: 'aerosmith', Album: 'Aerosmith', Title: 'Make It'\"],\n",
       " '[4, 5, 12, 17, 28]': [\"Author: 'tori amos', Album: 'Scarlet s Walk', Title: 'Carbon'\"],\n",
       " '[2, 8, 8, 12, 12]': [\"Author: 'metallica', Album: 'Load', Title: 'Hero Of The Day'\"],\n",
       " '[2, 7, 12, 16, 36]': [\"Author: 'fleetwood mac', Album: 'Rumours', Title: 'Don t Stop'\"],\n",
       " '[10, 16, 21, 22, 42]': [\"Author: 'aerosmith', Album: 'Aerosmith', Title: 'Make It'\"],\n",
       " '[5, 7, 11, 29, 33]': [\"Author: 'aerosmith', Album: 'Aerosmith', Title: 'Make It'\"],\n",
       " '[0, 0, 3, 23, 55]': [\"Author: 'tori amos', Album: 'To Venus and Back-Orbiting', Title: 'Spring Haze'\"],\n",
       " '[0, 1, 6, 6, 15]': [\"Author: 'u2', Album: 'War', Title: 'Surrender'\"],\n",
       " '[3, 7, 8, 28, 34]': [\"Author: 'queen', Album: 'The Works', Title: 'Radio Ga Ga'\"],\n",
       " '[4, 4, 10, 12, 33]': [\"Author: 'suzanne vega', Album: '99 9 F ', Title: 'Blood Sings'\"],\n",
       " '[3, 6, 8, 28, 38]': [\"Author: 'tori amos', Album: 'Scarlet s Walk', Title: 'Scarlet s Walk'\"],\n",
       " '[11, 14, 21, 25, 71]': [\"Author: 'aerosmith', Album: 'Aerosmith', Title: 'Make It'\"],\n",
       " '[0, 12, 19, 36, 46]': [\"Author: 'steely dan', Album: 'Aja', Title: 'Josie'\"],\n",
       " '[0, 0, 5, 20, 58]': [\"Author: 'metallica', Album: 'Ride The Lightning', Title: 'The Call Of Ktulu'\"],\n",
       " '[2, 6, 23, 25, 41]': [\"Author: 'u2', Album: 'War', Title: 'Surrender'\"],\n",
       " '[3, 5, 6, 23, 39]': [\"Author: 'aerosmith', Album: 'Aerosmith', Title: 'Make It'\"],\n",
       " '[0, 1, 5, 52, 58]': [\"Author: 'aerosmith', Album: 'Aerosmith', Title: 'Make It'\"],\n",
       " '[3, 15, 16, 18, 26]': [\"Author: 'green day', Album: 'Insomniac', Title: '86'\"],\n",
       " '[2, 6, 6, 29, 37]': [\"Author: 'dave matthews band', Album: 'Stand Up', Title: 'Stolen Away On 55th 3rd'\"],\n",
       " '[9, 10, 11, 46, 49]': [\"Author: 'aerosmith', Album: 'Aerosmith', Title: 'Make It'\"],\n",
       " '[1, 8, 14, 22, 41]': [\"Author: 'queen', Album: 'Sheer Heart Attack', Title: 'Tenement Funster'\"],\n",
       " '[5, 21, 29, 32, 39]': [\"Author: 'aerosmith', Album: 'Aerosmith', Title: 'Make It'\"],\n",
       " '[0, 4, 12, 15, 53]': [\"Author: 'aerosmith', Album: 'Aerosmith', Title: 'Make It'\"],\n",
       " '[6, 8, 24, 27, 37]': [\"Author: 'aerosmith', Album: 'Aerosmith', Title: 'Make It'\"],\n",
       " '[3, 4, 8, 33, 46]': [\"Author: 'depeche mode', Album: 'Music for the Masses', Title: 'To have and to hold'\"],\n",
       " '[1, 7, 17, 42, 64]': [\"Author: 'aerosmith', Album: 'Aerosmith', Title: 'Make It'\"],\n",
       " '[2, 2, 6, 7, 10]': [\"Author: 'suzanne vega', Album: 'Nine Objects Of Desire', Title: 'Head Shots'\"],\n",
       " '[3, 8, 14, 33, 35]': [\"Author: 'aerosmith', Album: 'Aerosmith', Title: 'Make It'\"],\n",
       " '[1, 1, 2, 19, 22]': [\"Author: 'steely dan', Album: 'Countdown To Ecstasy', Title: 'Bodhisattva'\"],\n",
       " '[0, 4, 9, 9, 31]': [\"Author: 'u2', Album: 'Zooropa', Title: 'Stay Faraway So Close '\"],\n",
       " '[5, 14, 22, 26, 28]': [\"Author: 'suzanne vega', Album: 'Suzanne Vega', Title: 'Straight Lines'\"],\n",
       " '[17, 18, 23, 24, 29]': [\"Author: 'aerosmith', Album: 'Aerosmith', Title: 'Make It'\"],\n",
       " '[0, 0, 2, 5, 32]': [\"Author: 'tori amos', Album: 'Scarlet s Walk', Title: 'Wednesday'\"],\n",
       " '[12, 16, 20, 23, 43]': [\"Author: 'aerosmith', Album: 'Aerosmith', Title: 'Make It'\"],\n",
       " '[9, 27, 34, 61, 63]': [\"Author: 'aerosmith', Album: 'Aerosmith', Title: 'Make It'\"],\n",
       " '[2, 4, 4, 5, 48]': [\"Author: 'prince', Album: 'Sign O The Times Disc 1 ', Title: 'Forever In My Life'\"],\n",
       " '[4, 9, 27, 34, 62]': [\"Author: 'aerosmith', Album: 'Aerosmith', Title: 'Make It'\"],\n",
       " '[9, 11, 13, 14, 17]': [\"Author: 'prince', Album: 'Purple Rain', Title: 'Darling Nikki'\"],\n",
       " '[1, 10, 13, 20, 22]': [\"Author: 'prince', Album: '1999', Title: 'Automatic'\"],\n",
       " '[1, 1, 17, 28, 39]': [\"Author: 'aerosmith', Album: 'Aerosmith', Title: 'Make It'\"],\n",
       " '[7, 9, 11, 23, 44]': [\"Author: 'creedence clearwater revival', Album: 'Willy and the Poor Boys', Title: 'Cotton fields'\"],\n",
       " '[0, 0, 1, 11, 36]': [\"Author: 'madonna', Album: 'Erotica', Title: 'Deeper and Deeper'\"],\n",
       " '[11, 11, 12, 20, 46]': [\"Author: 'aerosmith', Album: 'Aerosmith', Title: 'Make It'\"],\n",
       " '[6, 25, 31, 34, 83]': [\"Author: 'aerosmith', Album: 'Aerosmith', Title: 'Make It'\"],\n",
       " '[7, 9, 14, 15, 21]': [\"Author: 'tori amos', Album: 'Scarlet s Walk', Title: 'Mrs Jesus'\"],\n",
       " '[11, 14, 18, 25, 36]': [\"Author: 'aerosmith', Album: 'Aerosmith', Title: 'Make It'\"],\n",
       " '[3, 12, 15, 20, 43]': [\"Author: 'led zeppelin', Album: 'Physical Graffiti Disc 2 ', Title: 'The Wanton Song'\"],\n",
       " '[1, 2, 5, 31, 53]': [\"Author: 'aerosmith', Album: 'Aerosmith', Title: 'Make It'\"],\n",
       " '[8, 12, 13, 14, 55]': [\"Author: 'steely dan', Album: 'Aja', Title: 'Peg'\"],\n",
       " '[9, 9, 12, 32, 72]': [\"Author: 'aerosmith', Album: 'Aerosmith', Title: 'Make It'\"],\n",
       " '[0, 1, 3, 7, 19]': [\"Author: 'u2', Album: 'Zooropa', Title: 'The Wanderer'\"],\n",
       " '[0, 8, 21, 34, 42]': [\"Author: 'aerosmith', Album: 'Aerosmith', Title: 'Make It'\"],\n",
       " '[3, 4, 10, 14, 32]': [\"Author: 'steely dan', Album: 'Aja', Title: 'Josie'\"],\n",
       " '[5, 6, 7, 14, 20]': [\"Author: 'roxette', Album: 'Pearls of Passion 1997 Remaster ', Title: 'Surrender'\"],\n",
       " '[1, 1, 5, 9, 34]': [\"Author: 'u2', Album: 'Achtung Baby', Title: 'One'\"],\n",
       " '[1, 2, 4, 16, 20]': [\"Author: 'u2', Album: 'Achtung Baby', Title: 'So Cruel'\"],\n",
       " '[13, 25, 33, 45, 50]': [\"Author: 'aerosmith', Album: 'Aerosmith', Title: 'Make It'\"],\n",
       " '[1, 3, 3, 18, 26]': [\"Author: 'radiohead', Album: 'Pablo Honey', Title: 'Lurgee'\"],\n",
       " '[6, 8, 11, 18, 59]': [\"Author: 'fleetwood mac', Album: 'Mirage', Title: 'Oh Diane'\"],\n",
       " '[0, 0, 15, 16, 23]': [\"Author: 'prince', Album: 'The Love Symbol Album', Title: 'The Sacrifice Of Victor'\"],\n",
       " '[5, 10, 12, 18, 55]': [\"Author: 'aerosmith', Album: 'Aerosmith', Title: 'Make It'\"],\n",
       " '[3, 6, 7, 11, 23]': [\"Author: 'tori amos', Album: 'The Beekeeper', Title: 'Barons of Suburbia'\"],\n",
       " '[1, 4, 7, 9, 18]': [\"Author: 'suzanne vega', Album: 'Suzanne Vega', Title: 'Freeze Tag'\"],\n",
       " '[2, 2, 3, 6, 7]': [\"Author: 'u2', Album: 'War', Title: 'Red Light'\"],\n",
       " '[4, 5, 12, 14, 40]': [\"Author: 'prince', Album: 'Parade', Title: 'Christopher Tracy s Parade'\"],\n",
       " '[3, 7, 14, 19, 21]': [\"Author: 'suzanne vega', Album: 'Songs in Red and Gray', Title: ' I ll Never Be Your Maggie May'\"],\n",
       " '[5, 11, 13, 27, 39]': [\"Author: 'aerosmith', Album: 'Aerosmith', Title: 'Make It'\"],\n",
       " '[8, 15, 21, 34, 109]': [\"Author: 'aerosmith', Album: 'Aerosmith', Title: 'Make It'\"],\n",
       " '[1, 5, 9, 10, 12]': [\"Author: 'tori amos', Album: 'The Beekeeper', Title: 'Sweet the Sting'\"],\n",
       " '[17, 20, 22, 26, 28]': [\"Author: 'roxette', Album: 'Have a Nice Day', Title: 'Beautiful Things'\"],\n",
       " '[7, 8, 11, 16, 30]': [\"Author: 'queen', Album: 'The Works', Title: 'Tear It Up'\"],\n",
       " '[4, 31, 31, 35, 36]': [\"Author: 'aerosmith', Album: 'Aerosmith', Title: 'Make It'\"],\n",
       " '[3, 5, 26, 35, 40]': [\"Author: 'creedence clearwater revival', Album: 'Green River', Title: 'Lodi'\"],\n",
       " '[2, 8, 9, 16, 32]': [\"Author: 'tori amos', Album: 'Scarlet s Walk', Title: 'Wednesday'\"],\n",
       " '[4, 5, 8, 12, 24]': [\"Author: 'u2', Album: 'Achtung Baby', Title: 'Zoo Station'\"],\n",
       " '[0, 1, 29, 63, 70]': [\"Author: 'aerosmith', Album: 'Aerosmith', Title: 'Make It'\"],\n",
       " '[15, 22, 42, 50, 69]': [\"Author: 'aerosmith', Album: 'Aerosmith', Title: 'Make It'\"],\n",
       " '[4, 8, 20, 28, 54]': [\"Author: 'aerosmith', Album: 'Get Your Wings', Title: 'Train Kept A Rollin '\"],\n",
       " '[0, 11, 26, 26, 35]': [\"Author: 'aerosmith', Album: 'Aerosmith', Title: 'Make It'\"],\n",
       " '[4, 4, 7, 15, 35]': [\"Author: 'madonna', Album: 'Ray of Light', Title: 'To Have and Not to Hold'\"],\n",
       " '[4, 8, 11, 13, 31]': [\"Author: 'suzanne vega', Album: 'Songs in Red and Gray', Title: 'Priscilla'\"],\n",
       " '[1, 8, 11, 24, 34]': [\"Author: 'creedence clearwater revival', Album: 'Green River', Title: 'Sinister Purpose'\"],\n",
       " '[1, 10, 11, 17, 27]': [\"Author: 'depeche mode', Album: 'Some Great Reward', Title: 'Master And Servant'\"],\n",
       " '[10, 17, 29, 51, 66]': [\"Author: 'aerosmith', Album: 'Aerosmith', Title: 'Make It'\"],\n",
       " '[7, 12, 20, 30, 57]': [\"Author: 'aerosmith', Album: 'Aerosmith', Title: 'Make It'\"],\n",
       " '[0, 14, 41, 43, 43]': [\"Author: 'aerosmith', Album: 'Aerosmith', Title: 'Make It'\"],\n",
       " '[1, 10, 24, 44, 69]': [\"Author: 'aerosmith', Album: 'Aerosmith', Title: 'Make It'\"],\n",
       " '[4, 9, 11, 39, 55]': [\"Author: 'aerosmith', Album: 'Aerosmith', Title: 'Make It'\"],\n",
       " '[1, 12, 17, 41, 55]': [\"Author: 'aerosmith', Album: 'Aerosmith', Title: 'Make It'\"],\n",
       " '[0, 5, 21, 21, 24]': [\"Author: 'aerosmith', Album: 'Aerosmith', Title: 'Make It'\"],\n",
       " '[0, 0, 15, 20, 25]': [\"Author: 'prince', Album: 'Lovesexy', Title: 'I Wish U Heaven'\"],\n",
       " '[3, 11, 12, 13, 42]': [\"Author: 'queen', Album: 'The Works', Title: 'Hammer To Fall'\"],\n",
       " '[14, 22, 23, 25, 41]': [\"Author: 'aerosmith', Album: 'Aerosmith', Title: 'Make It'\"],\n",
       " '[1, 4, 14, 15, 23]': [\"Author: 'u2', Album: 'October', Title: 'Rejoice'\"],\n",
       " '[0, 5, 12, 15, 35]': [\"Author: 'tori amos', Album: 'Scarlet s Walk', Title: 'Sweet Sangria'\"],\n",
       " '[4, 7, 7, 13, 32]': [\"Author: 'u2', Album: 'Zooropa', Title: 'Stay Faraway So Close '\"],\n",
       " '[2, 13, 18, 27, 67]': [\"Author: 'aerosmith', Album: 'Aerosmith', Title: 'Make It'\"],\n",
       " '[1, 11, 26, 78, 112]': [\"Author: 'aerosmith', Album: 'Aerosmith', Title: 'Make It'\"],\n",
       " '[3, 6, 11, 19, 39]': [\"Author: 'u2', Album: 'Zooropa', Title: 'Babyface'\"],\n",
       " '[1, 2, 9, 10, 12]': [\"Author: 'u2', Album: 'The Unforgettable Fire', Title: 'Promenade'\"],\n",
       " '[1, 10, 16, 19, 20]': [\"Author: 'led zeppelin', Album: 'Led Zeppelin II', Title: 'What Is And What Should Never'\"],\n",
       " '[10, 16, 17, 19, 30]': [\"Author: 'aerosmith', Album: 'Aerosmith', Title: 'Make It'\"],\n",
       " '[0, 1, 8, 18, 63]': [\"Author: 'fleetwood mac', Album: 'Behind the Mask', Title: 'In the Back of My Mind'\"],\n",
       " '[2, 3, 11, 29, 36]': [\"Author: 'tori amos', Album: 'Little Earthquakes', Title: 'Happy Phantom'\"],\n",
       " '[15, 29, 30, 35, 37]': [\"Author: 'aerosmith', Album: 'Aerosmith', Title: 'Make It'\"],\n",
       " '[3, 6, 6, 10, 44]': [\"Author: 'aerosmith', Album: 'Aerosmith', Title: 'Make It'\"],\n",
       " '[0, 16, 26, 39, 66]': [\"Author: 'aerosmith', Album: 'Aerosmith', Title: 'Make It'\"],\n",
       " '[0, 3, 6, 28, 82]': [\"Author: 'radiohead', Album: 'OK Computer', Title: 'The Tourist'\"],\n",
       " '[2, 11, 15, 42, 87]': [\"Author: 'aerosmith', Album: 'Aerosmith', Title: 'Make It'\"],\n",
       " '[5, 8, 12, 14, 55]': [\"Author: 'tori amos', Album: 'To Venus and Back-Orbiting', Title: 'Glory Of The 80 s'\"],\n",
       " '[1, 5, 8, 10, 47]': [\"Author: 'roxette', Album: 'Look Sharp ', Title: 'Sleeping Single'\"],\n",
       " '[2, 4, 5, 33, 42]': [\"Author: 'fleetwood mac', Album: 'Tusk', Title: 'I Know I m Not Wrong'\"],\n",
       " '[0, 4, 16, 16, 24]': [\"Author: 'tori amos', Album: 'To Venus and Back-Orbiting', Title: 'Lust'\"],\n",
       " '[4, 11, 36, 38, 54]': [\"Author: 'aerosmith', Album: 'Aerosmith', Title: 'Make It'\"],\n",
       " '[13, 17, 17, 43, 45]': [\"Author: 'aerosmith', Album: 'Aerosmith', Title: 'Make It'\"],\n",
       " '[0, 1, 7, 56, 71]': [\"Author: 'aerosmith', Album: 'Aerosmith', Title: 'Make It'\"],\n",
       " '[3, 9, 11, 17, 21]': [\"Author: 'prince', Album: 'The Love Symbol Album', Title: 'The Flow'\"],\n",
       " '[0, 10, 21, 29, 50]': [\"Author: 'aerosmith', Album: 'Aerosmith', Title: 'Make It'\"],\n",
       " '[1, 2, 6, 16, 33]': [\"Author: 'roxette', Album: 'Crash Boom Bang ', Title: 'Run To You'\"],\n",
       " '[2, 5, 5, 54, 68]': [\"Author: 'aerosmith', Album: 'Aerosmith', Title: 'Make It'\"],\n",
       " '[0, 1, 18, 23, 23]': [\"Author: 'u2', Album: 'Achtung Baby', Title: 'So Cruel'\"],\n",
       " '[8, 10, 12, 29, 50]': [\"Author: 'aerosmith', Album: 'Aerosmith', Title: 'Make It'\"],\n",
       " '[0, 2, 8, 14, 80]': [\"Author: 'aerosmith', Album: 'Aerosmith', Title: 'Make It'\"],\n",
       " '[4, 19, 21, 26, 37]': [\"Author: 'aerosmith', Album: 'Aerosmith', Title: 'Make It'\"],\n",
       " '[4, 14, 15, 25, 39]': [\"Author: 'aerosmith', Album: 'Aerosmith', Title: 'Make It'\"],\n",
       " '[4, 5, 9, 29, 39]': [\"Author: 'aerosmith', Album: 'Aerosmith', Title: 'Make It'\"],\n",
       " '[3, 8, 11, 33, 49]': [\"Author: 'aerosmith', Album: 'Aerosmith', Title: 'Make It'\"],\n",
       " '[5, 21, 29, 33, 41]': [\"Author: 'cure', Album: 'Kiss Me Kiss Me Kiss Me', Title: 'All I Want'\"],\n",
       " '[13, 18, 30, 43, 61]': [\"Author: 'aerosmith', Album: 'Aerosmith', Title: 'Make It'\"],\n",
       " '[1, 2, 4, 6, 15]': [\"Author: 'u2', Album: 'Zooropa', Title: 'Stay Faraway So Close '\"],\n",
       " '[1, 12, 14, 18, 102]': [\"Author: 'aerosmith', Album: 'Aerosmith', Title: 'Make It'\"],\n",
       " '[2, 3, 5, 29, 54]': [\"Author: 'steely dan', Album: 'The Royal Scam', Title: 'Sign in Stranger'\"],\n",
       " '[2, 4, 9, 25, 30]': [\"Author: 'metallica', Album: 'Metallica', Title: 'Nothing Else Matters'\"],\n",
       " '[3, 8, 37, 46, 46]': [\"Author: 'aerosmith', Album: 'Aerosmith', Title: 'Make It'\"],\n",
       " '[7, 8, 10, 18, 40]': [\"Author: 'u2', Album: 'October', Title: 'Fire'\"],\n",
       " '[6, 7, 13, 16, 48]': [\"Author: 'fleetwood mac', Album: 'Fleetwood Mac', Title: 'Over My Head'\"],\n",
       " '[1, 5, 14, 28, 69]': [\"Author: 'aerosmith', Album: 'Aerosmith', Title: 'Make It'\"],\n",
       " '[10, 16, 30, 35, 36]': [\"Author: 'aerosmith', Album: 'Aerosmith', Title: 'Make It'\"],\n",
       " '[0, 8, 16, 17, 42]': [\"Author: 'aerosmith', Album: 'Aerosmith', Title: 'Make It'\"],\n",
       " '[0, 8, 18, 28, 87]': [\"Author: 'aerosmith', Album: 'Aerosmith', Title: 'Make It'\"],\n",
       " '[3, 4, 11, 18, 49]': [\"Author: 'u2', Album: 'The Joshua Tree', Title: 'Exit'\"],\n",
       " '[9, 11, 19, 31, 36]': [\"Author: 'dave matthews band', Album: 'Under The Table And Dreaming', Title: 'Dancing Nancies'\"],\n",
       " '[5, 6, 8, 9, 15]': [\"Author: 'u2', Album: 'Achtung Baby', Title: 'One'\"],\n",
       " '[2, 4, 10, 17, 20]': [\"Author: 'u2', Album: 'October', Title: 'Stranger in a Strange Land'\"],\n",
       " '[1, 3, 8, 13, 25]': [\"Author: 'roxette', Album: 'Joyride', Title: 'knockin on every door'\"],\n",
       " '[3, 4, 6, 12, 23]': [\"Author: 'u2', Album: 'The Unforgettable Fire', Title: 'The Unforgettable Fire'\"],\n",
       " '[0, 1, 4, 7, 53]': [\"Author: 'radiohead', Album: 'Pablo Honey', Title: 'Prove Yourself'\"],\n",
       " '[7, 10, 12, 18, 32]': [\"Author: 'queen', Album: 'The Game', Title: 'Another One Bites The Dust'\"],\n",
       " '[0, 8, 14, 18, 25]': [\"Author: 'u2', Album: 'Zooropa', Title: 'Some Days Are Better Than Others'\"],\n",
       " '[2, 11, 13, 18, 60]': [\"Author: 'beatles', Album: 'Revolver', Title: 'Got To Get You Into My Life'\"],\n",
       " '[2, 5, 27, 32, 103]': [\"Author: 'aerosmith', Album: 'Aerosmith', Title: 'Make It'\"],\n",
       " '[2, 3, 11, 18, 30]': [\"Author: 'steely dan', Album: 'The Royal Scam', Title: 'Everything You Did'\"],\n",
       " '[2, 3, 6, 14, 19]': [\"Author: 'tori amos', Album: 'The Beekeeper', Title: 'Cars and Guitars'\"],\n",
       " '[2, 8, 19, 32, 34]': [\"Author: 'aerosmith', Album: 'Aerosmith', Title: 'Make It'\"],\n",
       " '[0, 8, 11, 29, 50]': [\"Author: 'aerosmith', Album: 'Aerosmith', Title: 'Make It'\"],\n",
       " '[4, 5, 11, 18, 34]': [\"Author: 'steely dan', Album: 'Pretzel Logic', Title: 'Any Major Dude Will Tell You'\"],\n",
       " '[2, 4, 8, 16, 49]': [\"Author: 'aerosmith', Album: 'Aerosmith', Title: 'Make It'\"],\n",
       " '[0, 5, 6, 19, 57]': [\"Author: 'metallica', Album: 'Master of Puppets', Title: 'Welcome Home Sanitarium '\"],\n",
       " '[3, 5, 13, 18, 42]': [\"Author: 'aerosmith', Album: 'Pump', Title: 'Going Down-Love In An Elevator'\"],\n",
       " '[1, 13, 16, 18, 29]': [\"Author: 'metallica', Album: 'Load', Title: 'onnie'\"],\n",
       " '[4, 5, 5, 21, 83]': [\"Author: 'aerosmith', Album: 'Aerosmith', Title: 'Make It'\"],\n",
       " '[7, 13, 15, 30, 44]': [\"Author: 'tori amos', Album: 'From the Choirgirl Hotel', Title: 'Pandora s Aquarium'\"],\n",
       " '[3, 14, 18, 20, 23]': [\"Author: 'suzanne vega', Album: 'Songs in Red and Gray', Title: 'St Clare'\"],\n",
       " '[1, 12, 17, 28, 41]': [\"Author: 'suzanne vega', Album: 'Nine Objects Of Desire', Title: 'Honeymoon Suite'\"],\n",
       " '[4, 5, 10, 10, 15]': [\"Author: 'steely dan', Album: 'Countdown To Ecstasy', Title: 'Your Gold Teeth'\"],\n",
       " '[1, 6, 9, 13, 14]': [\"Author: 'suzanne vega', Album: 'Solitude Standing', Title: 'Luka'\"],\n",
       " '[7, 11, 24, 70, 76]': [\"Author: 'aerosmith', Album: 'Aerosmith', Title: 'Make It'\"],\n",
       " '[3, 10, 16, 17, 32]': [\"Author: 'suzanne vega', Album: 'Solitude Standing', Title: 'Tom s Diner'\"],\n",
       " '[10, 20, 29, 121, 157]': [\"Author: 'aerosmith', Album: 'Aerosmith', Title: 'Make It'\"],\n",
       " '[3, 4, 14, 18, 35]': [\"Author: 'aerosmith', Album: 'Aerosmith', Title: 'Make It'\"],\n",
       " '[6, 9, 10, 15, 18]': [\"Author: 'madonna', Album: 'Bedtime Stories', Title: 'Secret'\"],\n",
       " '[0, 0, 13, 14, 80]': [\"Author: 'aerosmith', Album: 'Aerosmith', Title: 'Make It'\"],\n",
       " '[4, 14, 15, 16, 56]': [\"Author: 'beatles', Album: 'A Hard Day s Night', Title: 'Any Time At All'\"],\n",
       " '[5, 12, 18, 19, 52]': [\"Author: 'tori amos', Album: 'To Venus and Back-Orbiting', Title: 'Datura'\"],\n",
       " '[3, 10, 17, 54, 71]': [\"Author: 'aerosmith', Album: 'Aerosmith', Title: 'Make It'\"],\n",
       " '[10, 11, 12, 17, 37]': [\"Author: 'suzanne vega', Album: '99 9 F ', Title: 'As A Child'\"],\n",
       " '[2, 5, 36, 42, 62]': [\"Author: 'aerosmith', Album: 'Aerosmith', Title: 'Make It'\"],\n",
       " '[0, 14, 22, 45, 49]': [\"Author: 'aerosmith', Album: 'Aerosmith', Title: 'Make It'\"],\n",
       " '[2, 3, 9, 17, 22]': [\"Author: 'u2', Album: 'October', Title: 'Scarlet'\"],\n",
       " '[7, 8, 9, 14, 26]': [\"Author: 'tori amos', Album: 'From the Choirgirl Hotel', Title: 'Cruel'\"],\n",
       " '[13, 15, 16, 18, 42]': [\"Author: 'aerosmith', Album: 'Aerosmith', Title: 'Make It'\"],\n",
       " '[10, 11, 16, 22, 39]': [\"Author: 'madonna', Album: 'Music', Title: 'Amazing'\"],\n",
       " '[2, 6, 17, 17, 41]': [\"Author: 'radiohead', Album: 'Pablo Honey', Title: 'Stop Whispering'\"],\n",
       " '[1, 3, 5, 11, 14]': [\"Author: 'suzanne vega', Album: 'Songs in Red and Gray', Title: 'If I Were a Weapon'\"],\n",
       " '[2, 14, 16, 19, 71]': [\"Author: 'aerosmith', Album: 'Aerosmith', Title: 'Make It'\"],\n",
       " '[8, 14, 15, 35, 37]': [\"Author: 'aerosmith', Album: 'Aerosmith', Title: 'Make It'\"],\n",
       " '[0, 3, 7, 13, 18]': [\"Author: 'suzanne vega', Album: 'Songs in Red and Gray', Title: 'It Makes Me Wonder'\"],\n",
       " '[0, 4, 17, 22, 36]': [\"Author: 'radiohead', Album: 'OK Computer', Title: 'Paranoid Android'\"],\n",
       " '[0, 17, 17, 19, 53]': [\"Author: 'aerosmith', Album: 'Aerosmith', Title: 'Make It'\"],\n",
       " '[1, 6, 6, 11, 28]': [\"Author: 'green day', Album: 'Kerplunk', Title: '2000 Light Years Away'\"],\n",
       " '[0, 12, 26, 27, 33]': [\"Author: 'aerosmith', Album: 'Aerosmith', Title: 'Make It'\"],\n",
       " '[1, 5, 8, 15, 18]': [\"Author: 'u2', Album: 'October', Title: 'I Threw a Brick Through a Window'\"],\n",
       " '[0, 15, 15, 17, 48]': [\"Author: 'aerosmith', Album: 'Aerosmith', Title: 'Make It'\"],\n",
       " '[4, 13, 30, 38, 64]': [\"Author: 'aerosmith', Album: 'Aerosmith', Title: 'Make It'\"],\n",
       " '[6, 17, 24, 42, 86]': [\"Author: 'aerosmith', Album: 'Aerosmith', Title: 'Make It'\"],\n",
       " '[14, 17, 20, 25, 46]': [\"Author: 'u2', Album: 'October', Title: 'Rejoice'\"],\n",
       " '[1, 3, 5, 11, 24]': [\"Author: 'suzanne vega', Album: 'Suzanne Vega', Title: 'The Queen And The Soldier'\"],\n",
       " '[0, 0, 5, 8, 16]': [\"Author: 'u2', Album: 'Achtung Baby', Title: 'The Fly'\"],\n",
       " '[6, 14, 34, 44, 45]': [\"Author: 'aerosmith', Album: 'Aerosmith', Title: 'Make It'\"],\n",
       " '[0, 2, 22, 24, 61]': [\"Author: 'tori amos', Album: 'From the Choirgirl Hotel', Title: 'Playboy Mommy'\"],\n",
       " '[2, 3, 7, 18, 22]': [\"Author: 'u2', Album: 'War', Title: 'Seconds'\"],\n",
       " '[1, 1, 8, 13, 41]': [\"Author: 'cure', Album: 'Disintegration', Title: 'Lullaby'\"],\n",
       " '[2, 6, 13, 14, 24]': [\"Author: 'u2', Album: 'The Unforgettable Fire', Title: 'Elvis Presley and America'\"],\n",
       " '[14, 17, 21, 38, 96]': [\"Author: 'aerosmith', Album: 'Aerosmith', Title: 'Make It'\"],\n",
       " '[1, 5, 13, 27, 65]': [\"Author: 'tori amos', Album: 'Scarlet s Walk', Title: 'Wampum Prayer'\"],\n",
       " '[0, 4, 5, 23, 47]': [\"Author: 'queen', Album: 'The Works', Title: 'Tear It Up'\"],\n",
       " '[1, 3, 4, 15, 17]': [\"Author: 'tori amos', Album: 'Scarlet s Walk', Title: 'Amber Waves'\"],\n",
       " '[5, 9, 13, 17, 101]': [\"Author: 'aerosmith', Album: 'Aerosmith', Title: 'Make It'\"],\n",
       " '[3, 9, 9, 12, 78]': [\"Author: 'aerosmith', Album: 'Aerosmith', Title: 'Make It'\"],\n",
       " '[5, 12, 19, 43, 52]': [\"Author: 'aerosmith', Album: 'Aerosmith', Title: 'Make It'\"],\n",
       " '[3, 11, 48, 52, 66]': [\"Author: 'aerosmith', Album: 'Aerosmith', Title: 'Make It'\"],\n",
       " '[1, 4, 6, 7, 29]': [\"Author: 'queen', Album: 'Jazz', Title: 'In Only Seven Days'\"],\n",
       " '[5, 15, 19, 24, 30]': [\"Author: 'madonna', Album: 'Erotica', Title: 'Waiting'\"],\n",
       " '[0, 5, 11, 15, 43]': [\"Author: 'prince', Album: 'Purple Rain', Title: 'Baby I m a star'\"],\n",
       " '[0, 0, 27, 37, 65]': [\"Author: 'aerosmith', Album: 'Aerosmith', Title: 'Make It'\"],\n",
       " '[1, 1, 6, 14, 36]': [\"Author: 'suzanne vega', Album: '99 9 F ', Title: 'As A Child'\"],\n",
       " '[2, 8, 15, 18, 32]': [\"Author: 'roxette', Album: 'Pearls of Passion 1997 Remaster ', Title: 'Voices'\"],\n",
       " '[4, 6, 17, 33, 115]': [\"Author: 'aerosmith', Album: 'Aerosmith', Title: 'Make It'\"],\n",
       " '[0, 6, 7, 33, 39]': [\"Author: 'u2', Album: 'October', Title: 'I Threw a Brick Through a Window'\"],\n",
       " '[0, 1, 8, 29, 49]': [\"Author: 'suzanne vega', Album: '99 9 F ', Title: 'Blood Sings'\"],\n",
       " '[2, 9, 17, 28, 51]': [\"Author: 'aerosmith', Album: 'Aerosmith', Title: 'Make It'\"],\n",
       " '[1, 5, 16, 18, 41]': [\"Author: 'steely dan', Album: 'Countdown To Ecstasy', Title: 'Bodhisattva'\"],\n",
       " '[1, 1, 1, 24, 31]': [\"Author: 'cure', Album: 'The Head on the Door', Title: 'Screw'\"],\n",
       " '[0, 1, 4, 7, 137]': [\"Author: 'aerosmith', Album: 'Aerosmith', Title: 'Make It'\"],\n",
       " '[4, 11, 19, 31, 33]': [\"Author: 'aerosmith', Album: 'Aerosmith', Title: 'Make It'\"],\n",
       " '[14, 19, 24, 25, 31]': [\"Author: 'radiohead', Album: 'Pablo Honey', Title: 'Ripcord'\"],\n",
       " '[3, 4, 4, 5, 7]': [\"Author: 'tori amos', Album: 'Under the Pink', Title: 'God'\"],\n",
       " '[7, 11, 11, 12, 26]': [\"Author: 'aerosmith', Album: 'Aerosmith', Title: 'Make It'\"],\n",
       " '[0, 1, 3, 8, 26]': [\"Author: 'u2', Album: 'The Joshua Tree', Title: 'I Still Haven t Found What I m Looking For'\"],\n",
       " '[6, 15, 19, 22, 40]': [\"Author: 'creedence clearwater revival', Album: 'Cosmo s Factory', Title: 'Lookin Out My Back Door'\"],\n",
       " '[0, 7, 18, 26, 27]': [\"Author: 'radiohead', Album: 'Pablo Honey', Title: 'Creep Radio Edit '\"],\n",
       " '[12, 15, 17, 21, 64]': [\"Author: 'aerosmith', Album: 'Aerosmith', Title: 'Make It'\"],\n",
       " '[2, 6, 12, 19, 31]': [\"Author: 'suzanne vega', Album: 'Suzanne Vega', Title: 'Straight Lines'\"],\n",
       " '[1, 7, 24, 30, 41]': [\"Author: 'aerosmith', Album: 'Aerosmith', Title: 'Make It'\"],\n",
       " '[6, 8, 16, 18, 39]': [\"Author: 'aerosmith', Album: 'Aerosmith', Title: 'Make It'\"],\n",
       " '[0, 0, 2, 15, 25]': [\"Author: 'queen', Album: 'The Game', Title: 'Another One Bites The Dust'\"],\n",
       " '[4, 5, 6, 9, 42]': [\"Author: 'roxette', Album: 'Look Sharp ', Title: 'Listen To Your Heart'\"],\n",
       " '[4, 5, 8, 15, 19]': [\"Author: 'suzanne vega', Album: 'Suzanne Vega', Title: 'Some Journey'\"],\n",
       " '[16, 17, 24, 30, 51]': [\"Author: 'aerosmith', Album: 'Aerosmith', Title: 'Make It'\"],\n",
       " '[1, 2, 5, 5, 30]': [\"Author: 'suzanne vega', Album: 'Songs in Red and Gray', Title: 'If I Were a Weapon'\"],\n",
       " '[7, 15, 19, 21, 66]': [\"Author: 'aerosmith', Album: 'Aerosmith', Title: 'Make It'\"],\n",
       " '[5, 5, 10, 24, 27]': [\"Author: 'dave matthews band', Album: 'Stand Up', Title: 'Stand Up For It '\"],\n",
       " '[0, 17, 20, 24, 33]': [\"Author: 'prince', Album: '1999', Title: 'International Lover'\"],\n",
       " '[6, 9, 21, 23, 26]': [\"Author: 'cure', Album: 'The Head on the Door', Title: 'Screw'\"],\n",
       " '[3, 12, 12, 20, 24]': [\"Author: 'radiohead', Album: 'Hail to the Theif', Title: 'Go to Sleep'\"],\n",
       " '[2, 6, 22, 23, 32]': [\"Author: 'roxette', Album: 'Joyride', Title: ' do you get excited'\"],\n",
       " '[4, 7, 15, 22, 39]': [\"Author: 'u2', Album: 'The Joshua Tree', Title: 'I Still Haven t Found What I m Looking For'\"],\n",
       " '[0, 4, 9, 60, 75]': [\"Author: 'aerosmith', Album: 'Aerosmith', Title: 'Make It'\"],\n",
       " '[0, 4, 6, 6, 9]': [\"Author: 'u2', Album: 'Zooropa', Title: 'Lemon'\"],\n",
       " '[1, 8, 11, 21, 78]': [\"Author: 'aerosmith', Album: 'Aerosmith', Title: 'Make It'\"],\n",
       " '[5, 8, 16, 21, 22]': [\"Author: 'garth brooks', Album: 'In Pieces', Title: 'Callin Baton Rouge'\"],\n",
       " '[0, 0, 14, 16, 50]': [\"Author: 'suzanne vega', Album: 'Songs in Red and Gray', Title: 'Soap and Water'\"],\n",
       " '[0, 2, 6, 15, 24]': [\"Author: 'u2', Album: 'October', Title: 'Gloria'\"],\n",
       " '[16, 21, 28, 28, 32]': [\"Author: 'aerosmith', Album: 'Aerosmith', Title: 'Make It'\"],\n",
       " '[2, 3, 14, 41, 55]': [\"Author: 'aerosmith', Album: 'Aerosmith', Title: 'Make It'\"],\n",
       " '[2, 3, 15, 16, 37]': [\"Author: 'roxette', Album: 'Crash Boom Bang ', Title: 'Run To You'\"],\n",
       " '[7, 15, 17, 24, 26]': [\"Author: 'aerosmith', Album: 'Aerosmith', Title: 'Make It'\"],\n",
       " '[3, 4, 5, 12, 30]': [\"Author: 'u2', Album: 'Zooropa', Title: 'The Wanderer'\"],\n",
       " '[0, 1, 1, 2, 43]': [\"Author: 'u2', Album: 'War', Title: 'Two Hearts Beat As One'\"],\n",
       " '[3, 7, 14, 23, 31]': [\"Author: 'suzanne vega', Album: '99 9 F ', Title: 'Fat Man Dancing Girl'\"],\n",
       " '[0, 2, 13, 34, 54]': [\"Author: 'aerosmith', Album: 'Aerosmith', Title: 'Make It'\"],\n",
       " '[1, 14, 22, 28, 39]': [\"Author: 'aerosmith', Album: 'Aerosmith', Title: 'Make It'\"],\n",
       " '[2, 14, 15, 40, 74]': [\"Author: 'aerosmith', Album: 'Aerosmith', Title: 'Make It'\"],\n",
       " '[8, 8, 18, 20, 48]': [\"Author: 'queen', Album: 'News Of The World', Title: 'Who Needs You'\"],\n",
       " '[1, 2, 3, 4, 22]': [\"Author: 'tori amos', Album: 'Little Earthquakes', Title: 'China'\"],\n",
       " '[6, 8, 9, 18, 53]': [\"Author: 'steely dan', Album: 'Pretzel Logic', Title: 'Parker s Band'\"],\n",
       " '[5, 10, 34, 38, 56]': [\"Author: 'aerosmith', Album: 'Aerosmith', Title: 'Make It'\"],\n",
       " '[5, 11, 11, 17, 30]': [\"Author: 'garth brooks', Album: 'Ropin The Wind The Limited Series ', Title: 'Against The Grain'\"],\n",
       " '[3, 4, 20, 37, 50]': [\"Author: 'roxette', Album: 'Joyride', Title: 'hotblooded'\"],\n",
       " '[6, 8, 11, 31, 47]': [\"Author: 'aerosmith', Album: 'Aerosmith', Title: 'Make It'\"],\n",
       " '[8, 14, 24, 31, 48]': [\"Author: 'aerosmith', Album: 'Aerosmith', Title: 'Make It'\"],\n",
       " '[2, 6, 10, 13, 62]': [\"Author: 'dave matthews band', Album: 'Everyday', Title: 'When The World Ends'\"],\n",
       " '[1, 3, 4, 28, 28]': [\"Author: 'suzanne vega', Album: 'Solitude Standing', Title: 'Night Vision'\"],\n",
       " '[7, 11, 12, 23, 44]': [\"Author: 'madonna', Album: 'Erotica', Title: 'Rain'\"],\n",
       " '[4, 9, 12, 13, 36]': [\"Author: 'depeche mode', Album: 'Some Great Reward', Title: 'Stories Of Old'\"],\n",
       " '[0, 2, 16, 35, 61]': [\"Author: 'aerosmith', Album: 'Aerosmith', Title: 'Make It'\"],\n",
       " '[7, 9, 13, 13, 19]': [\"Author: 'roxette', Album: 'Pearls of Passion 1997 Remaster ', Title: 'Turn To Me'\"],\n",
       " '[0, 0, 3, 13, 25]': [\"Author: 'u2', Album: 'Zooropa', Title: 'The Wanderer'\"],\n",
       " '[1, 23, 27, 28, 50]': [\"Author: 'aerosmith', Album: 'Aerosmith', Title: 'Make It'\"],\n",
       " '[3, 13, 31, 57, 59]': [\"Author: 'aerosmith', Album: 'Aerosmith', Title: 'Make It'\"],\n",
       " '[11, 19, 26, 28, 28]': [\"Author: 'aerosmith', Album: 'Aerosmith', Title: 'Make It'\"],\n",
       " '[2, 10, 20, 31, 85]': [\"Author: 'aerosmith', Album: 'Aerosmith', Title: 'Make It'\"],\n",
       " '[0, 0, 7, 11, 33]': [\"Author: 'u2', Album: 'Achtung Baby', Title: 'Zoo Station'\"],\n",
       " '[0, 4, 7, 11, 16]': [\"Author: 'tori amos', Album: 'Scarlet s Walk', Title: 'Virginia'\"],\n",
       " '[1, 1, 15, 18, 50]': [\"Author: 'aerosmith', Album: 'Aerosmith', Title: 'Make It'\"],\n",
       " '[7, 9, 12, 17, 54]': [\"Author: 'aerosmith', Album: 'Aerosmith', Title: 'Make It'\"],\n",
       " '[0, 14, 15, 27, 31]': [\"Author: 'madonna', Album: 'Erotica', Title: 'Waiting'\"],\n",
       " '[2, 7, 18, 34, 49]': [\"Author: 'depeche mode', Album: 'Speak and Spell', Title: 'New Life'\"],\n",
       " '[0, 5, 10, 18, 25]': [\"Author: 'u2', Album: 'Zooropa', Title: 'Babyface'\"],\n",
       " '[1, 6, 15, 21, 28]': [\"Author: 'metallica', Album: 'Load', Title: 'Poor Twisted Me'\"],\n",
       " '[5, 5, 10, 16, 29]': [\"Author: 'tori amos', Album: 'To Venus and Back-Orbiting', Title: 'Suede'\"],\n",
       " '[4, 11, 11, 12, 19]': [\"Author: 'prince', Album: '1999', Title: 'D M S R '\"],\n",
       " '[3, 8, 40, 46, 60]': [\"Author: 'aerosmith', Album: 'Aerosmith', Title: 'Make It'\"],\n",
       " '[2, 5, 14, 30, 39]': [\"Author: 'aerosmith', Album: 'Aerosmith', Title: 'Make It'\"],\n",
       " '[8, 10, 10, 12, 47]': [\"Author: 'aerosmith', Album: 'Aerosmith', Title: 'Make It'\"],\n",
       " '[2, 3, 5, 7, 14]': [\"Author: 'u2', Album: 'Zooropa', Title: 'Lemon'\"],\n",
       " '[9, 11, 11, 13, 25]': [\"Author: 'aerosmith', Album: 'Aerosmith', Title: 'Make It'\"],\n",
       " '[2, 6, 8, 16, 19]': [\"Author: 'steely dan', Album: 'Aja', Title: 'Josie'\"],\n",
       " '[2, 4, 12, 39, 83]': [\"Author: 'aerosmith', Album: 'Aerosmith', Title: 'Make It'\"],\n",
       " '[1, 6, 13, 22, 93]': [\"Author: 'aerosmith', Album: 'Aerosmith', Title: 'Make It'\"],\n",
       " '[1, 1, 3, 6, 21]': [\"Author: 'u2', Album: 'Achtung Baby', Title: 'One'\"],\n",
       " '[0, 3, 20, 32, 43]': [\"Author: 'aerosmith', Album: 'Aerosmith', Title: 'Make It'\"],\n",
       " '[5, 10, 13, 14, 21]': [\"Author: 'roxette', Album: 'Room Service', Title: 'Little Girl'\"],\n",
       " '[4, 4, 10, 17, 22]': [\"Author: 'garth brooks', Album: 'In Pieces', Title: 'Standing Outside The Fire'\"],\n",
       " '[0, 9, 17, 37, 40]': [\"Author: 'aerosmith', Album: 'Aerosmith', Title: 'Make It'\"],\n",
       " '[0, 5, 8, 10, 13]': [\"Author: 'u2', Album: 'The Unforgettable Fire', Title: 'The Unforgettable Fire'\"],\n",
       " '[2, 15, 20, 20, 42]': [\"Author: 'aerosmith', Album: 'Aerosmith', Title: 'Make It'\"],\n",
       " '[2, 4, 8, 18, 39]': [\"Author: 'aerosmith', Album: 'Aerosmith', Title: 'Make It'\"],\n",
       " '[1, 5, 16, 25, 51]': [\"Author: 'aerosmith', Album: 'Aerosmith', Title: 'Make It'\"],\n",
       " '[7, 10, 20, 21, 23]': [\"Author: 'steely dan', Album: 'Aja', Title: 'Peg'\"],\n",
       " '[5, 10, 18, 47, 58]': [\"Author: 'aerosmith', Album: 'Aerosmith', Title: 'Make It'\"],\n",
       " '[0, 2, 4, 18, 33]': [\"Author: 'u2', Album: 'The Unforgettable Fire', Title: 'A Sort of Homecoming'\"],\n",
       " '[6, 6, 9, 12, 23]': [\"Author: 'led zeppelin', Album: 'Led Zeppelin I', Title: 'Your Time Is Gonna Come'\"],\n",
       " '[1, 3, 13, 26, 27]': [\"Author: 'u2', Album: 'War', Title: 'Sunday Bloody Sunday'\"],\n",
       " '[1, 1, 7, 28, 33]': [\"Author: 'aerosmith', Album: 'Aerosmith', Title: 'Make It'\"],\n",
       " '[8, 11, 15, 42, 48]': [\"Author: 'aerosmith', Album: 'Aerosmith', Title: 'Make It'\"],\n",
       " '[2, 6, 20, 29, 35]': [\"Author: 'creedence clearwater revival', Album: 'Cosmo s Factory', Title: 'Ramble Tamble'\"],\n",
       " '[6, 12, 18, 24, 37]': [\"Author: 'aerosmith', Album: 'Aerosmith', Title: 'Make It'\"],\n",
       " '[5, 5, 14, 65, 69]': [\"Author: 'aerosmith', Album: 'Aerosmith', Title: 'Make It'\"],\n",
       " '[5, 6, 10, 15, 50]': [\"Author: 'u2', Album: 'Achtung Baby', Title: 'Acrobat'\"],\n",
       " '[6, 6, 6, 19, 97]': [\"Author: 'aerosmith', Album: 'Aerosmith', Title: 'Make It'\"],\n",
       " '[2, 3, 13, 18, 29]': [\"Author: 'u2', Album: 'Achtung Baby', Title: 'Love Is Blindness'\"],\n",
       " '[1, 12, 19, 27, 76]': [\"Author: 'aerosmith', Album: 'Aerosmith', Title: 'Make It'\"],\n",
       " '[2, 3, 13, 14, 20]': [\"Author: 'u2', Album: 'Achtung Baby', Title: 'Acrobat'\"],\n",
       " '[0, 1, 3, 8, 14]': [\"Author: 'u2', Album: 'The Joshua Tree', Title: 'Trip Through Your Wires'\"],\n",
       " '[9, 14, 15, 29, 58]': [\"Author: 'u2', Album: 'The Joshua Tree', Title: 'Red Hill Mining Town'\"],\n",
       " '[0, 2, 5, 6, 19]': [\"Author: 'u2', Album: 'The Joshua Tree', Title: 'Trip Through Your Wires'\"],\n",
       " '[5, 9, 12, 25, 35]': [\"Author: 'aerosmith', Album: 'Aerosmith', Title: 'Make It'\"],\n",
       " '[0, 1, 1, 2, 21]': [\"Author: 'tori amos', Album: 'The Beekeeper', Title: 'General Joy'\"],\n",
       " '[0, 0, 2, 7, 22]': [\"Author: 'u2', Album: 'Achtung Baby', Title: 'Tryin To Throw Your Arms Around The World'\"],\n",
       " '[3, 8, 13, 19, 47]': [\"Author: 'green day', Album: 'Kerplunk', Title: 'Who Wrote Holden Caulfield '\"],\n",
       " '[1, 3, 13, 15, 26]': [\"Author: 'u2', Album: 'War', Title: 'Surrender'\"],\n",
       " '[2, 16, 16, 26, 33]': [\"Author: 'garth brooks', Album: 'In Pieces', Title: 'One Night A Day'\"],\n",
       " '[10, 24, 24, 26, 38]': [\"Author: 'aerosmith', Album: 'Aerosmith', Title: 'Make It'\"],\n",
       " '[3, 3, 8, 11, 17]': [\"Author: 'u2', Album: 'October', Title: 'I Fall Down'\"],\n",
       " '[7, 12, 18, 21, 55]': [\"Author: 'aerosmith', Album: 'Aerosmith', Title: 'Make It'\"],\n",
       " '[16, 22, 30, 45, 84]': [\"Author: 'aerosmith', Album: 'Aerosmith', Title: 'Make It'\"],\n",
       " '[4, 6, 12, 23, 50]': [\"Author: 'garth brooks', Album: 'Garth Brooks The Limited Series ', Title: 'Cowboy Bill'\"],\n",
       " '[0, 8, 13, 22, 24]': [\"Author: 'suzanne vega', Album: 'Days of Open Hand', Title: 'Pilgrimage'\"],\n",
       " '[1, 11, 15, 23, 57]': [\"Author: 'aerosmith', Album: 'Aerosmith', Title: 'Make It'\"],\n",
       " '[0, 4, 6, 14, 16]': [\"Author: 'roxette', Album: 'Have a Nice Day', Title: 'You Can t Put Your Arms Around What s Already Gone'\"],\n",
       " '[0, 5, 16, 20, 22]': [\"Author: 'tori amos', Album: 'The Beekeeper', Title: 'Ireland'\"],\n",
       " '[1, 4, 7, 7, 23]': [\"Author: 'radiohead', Album: 'The Bends', Title: 'Just'\"],\n",
       " '[1, 4, 37, 40, 62]': [\"Author: 'aerosmith', Album: 'Aerosmith', Title: 'Make It'\"],\n",
       " '[0, 4, 14, 27, 31]': [\"Author: 'prince', Album: 'Purple Rain', Title: 'Take me with u'\"],\n",
       " '[0, 0, 10, 16, 25]': [\"Author: 'cure', Album: 'Kiss Me Kiss Me Kiss Me', Title: 'One More Time'\"],\n",
       " '[4, 4, 6, 7, 14]': [\"Author: 'u2', Album: 'The Joshua Tree', Title: 'With or Without You'\"],\n",
       " '[22, 29, 34, 42, 49]': [\"Author: 'aerosmith', Album: 'Aerosmith', Title: 'Make It'\"],\n",
       " '[0, 4, 15, 16, 57]': [\"Author: 'beatles', Album: 'Abbey Road', Title: 'Oh Darling'\"],\n",
       " '[4, 7, 11, 17, 70]': [\"Author: 'prince', Album: 'The Love Symbol Album', Title: 'And God Created Woman'\"],\n",
       " '[1, 7, 13, 15, 18]': [\"Author: 'depeche mode', Album: 'Black Celebration', Title: 'Dressed in black'\"],\n",
       " '[9, 20, 21, 28, 36]': [\"Author: 'aerosmith', Album: 'Aerosmith', Title: 'Make It'\"],\n",
       " '[2, 18, 23, 23, 59]': [\"Author: 'aerosmith', Album: 'Aerosmith', Title: 'Make It'\"],\n",
       " '[0, 1, 11, 43, 53]': [\"Author: 'prince', Album: 'The Love Symbol Album', Title: 'The Flow'\"],\n",
       " '[0, 5, 9, 26, 45]': [\"Author: 'aerosmith', Album: 'Aerosmith', Title: 'Make It'\"],\n",
       " '[5, 6, 9, 11, 38]': [\"Author: 'u2', Album: 'Achtung Baby', Title: 'The Fly'\"],\n",
       " '[1, 1, 2, 11, 14]': [\"Author: 'u2', Album: 'The Joshua Tree', Title: 'Mothers of the Disappeared'\"],\n",
       " '[2, 5, 7, 20, 60]': [\"Author: 'aerosmith', Album: 'Aerosmith', Title: 'Make It'\"],\n",
       " '[3, 4, 22, 44, 79]': [\"Author: 'aerosmith', Album: 'Aerosmith', Title: 'Make It'\"],\n",
       " '[6, 8, 10, 38, 65]': [\"Author: 'aerosmith', Album: 'Aerosmith', Title: 'Make It'\"],\n",
       " '[8, 9, 22, 35, 49]': [\"Author: 'madonna', Album: 'Ray of Light', Title: 'Nothing Really Matters'\"],\n",
       " '[2, 12, 12, 12, 57]': [\"Author: 'aerosmith', Album: 'Aerosmith', Title: 'Make It'\"],\n",
       " '[1, 9, 15, 15, 19]': [\"Author: 'queen', Album: 'News Of The World', Title: 'All Dead All Dead'\"],\n",
       " '[1, 2, 2, 5, 7]': [\"Author: 'u2', Album: 'The Joshua Tree', Title: 'Trip Through Your Wires'\"],\n",
       " '[2, 10, 13, 14, 15]': [\"Author: 'u2', Album: 'War', Title: 'Surrender'\"],\n",
       " '[2, 5, 7, 24, 135]': [\"Author: 'aerosmith', Album: 'Aerosmith', Title: 'Make It'\"],\n",
       " '[0, 4, 5, 7, 42]': [\"Author: 'tori amos', Album: 'Under the Pink', Title: 'Cloud On My Tongue'\"],\n",
       " '[1, 13, 16, 16, 18]': [\"Author: 'tori amos', Album: 'From the Choirgirl Hotel', Title: 'Liquid Diamonds'\"],\n",
       " '[5, 5, 28, 52, 71]': [\"Author: 'aerosmith', Album: 'Aerosmith', Title: 'Make It'\"],\n",
       " '[6, 7, 9, 9, 26]': [\"Author: 'suzanne vega', Album: 'Nine Objects Of Desire', Title: 'Stockings'\"],\n",
       " '[2, 5, 8, 13, 43]': [\"Author: 'green day', Album: 'Warning', Title: 'Macy s Day Parade'\"],\n",
       " '[1, 2, 11, 16, 39]': [\"Author: 'suzanne vega', Album: 'Days of Open Hand', Title: 'Fifty-Fifty Chance'\"],\n",
       " '[6, 9, 20, 20, 53]': [\"Author: 'aerosmith', Album: 'Aerosmith', Title: 'Make It'\"],\n",
       " '[0, 3, 9, 14, 83]': [\"Author: 'queen', Album: 'A Night At the Opera', Title: ' 39'\"],\n",
       " '[30, 32, 35, 43, 111]': [\"Author: 'aerosmith', Album: 'Aerosmith', Title: 'Make It'\"],\n",
       " '[3, 4, 20, 25, 33]': [\"Author: 'tori amos', Album: 'Scarlet s Walk', Title: 'Mrs Jesus'\"],\n",
       " '[1, 2, 11, 22, 87]': [\"Author: 'aerosmith', Album: 'Aerosmith', Title: 'Make It'\"],\n",
       " '[0, 0, 3, 14, 76]': [\"Author: 'prince', Album: 'The Love Symbol Album', Title: 'Sexy M F '\"],\n",
       " '[0, 0, 10, 11, 11]': [\"Author: 'led zeppelin', Album: 'Houses of the Holy', Title: 'Over The Hills And Far Away'\"],\n",
       " '[1, 6, 8, 9, 11]': [\"Author: 'u2', Album: 'Zooropa', Title: 'Stay Faraway So Close '\"],\n",
       " '[4, 16, 21, 23, 26]': [\"Author: 'aerosmith', Album: 'Aerosmith', Title: 'Make It'\"],\n",
       " '[0, 7, 8, 34, 60]': [\"Author: 'aerosmith', Album: 'Aerosmith', Title: 'Make It'\"],\n",
       " '[3, 20, 33, 36, 67]': [\"Author: 'aerosmith', Album: 'Aerosmith', Title: 'Make It'\"],\n",
       " '[0, 4, 10, 12, 51]': [\"Author: 'madonna', Album: 'Like A Prayer', Title: 'Cherish'\"],\n",
       " '[4, 5, 13, 14, 43]': [\"Author: 'beatles', Album: 'Abbey Road', Title: 'Here Comes The Sun'\"],\n",
       " '[8, 16, 16, 20, 36]': [\"Author: 'aerosmith', Album: 'Aerosmith', Title: 'Make It'\"],\n",
       " '[4, 7, 11, 12, 36]': [\"Author: 'queen', Album: 'News Of The World', Title: 'We Will Rock You 1991 Bonus Remix ruined by Rick Rubin '\"],\n",
       " '[2, 3, 7, 19, 94]': [\"Author: 'aerosmith', Album: 'Aerosmith', Title: 'Make It'\"],\n",
       " '[2, 4, 10, 31, 67]': [\"Author: 'aerosmith', Album: 'Aerosmith', Title: 'Make It'\"],\n",
       " '[2, 3, 11, 14, 22]': [\"Author: 'roxette', Album: 'Look Sharp ', Title: 'Shadow Of A Doubt'\"],\n",
       " '[4, 13, 15, 32, 41]': [\"Author: 'aerosmith', Album: 'Aerosmith', Title: 'Make It'\"],\n",
       " '[0, 16, 21, 37, 59]': [\"Author: 'aerosmith', Album: 'Aerosmith', Title: 'Make It'\"],\n",
       " '[5, 8, 12, 37, 70]': [\"Author: 'aerosmith', Album: 'Aerosmith', Title: 'Make It'\"],\n",
       " '[2, 6, 8, 20, 27]': [\"Author: 'u2', Album: 'The Joshua Tree', Title: 'Bullet the Blue Sky'\"],\n",
       " '[18, 18, 30, 39, 81]': [\"Author: 'aerosmith', Album: 'Aerosmith', Title: 'Make It'\"],\n",
       " '[5, 5, 6, 12, 25]': [\"Author: 'steely dan', Album: 'The Royal Scam', Title: 'Kid Charlemagne'\"],\n",
       " '[0, 3, 8, 32, 33]': [\"Author: 'green day', Album: 'Insomniac', Title: 'Stuck With Me'\"],\n",
       " '[0, 13, 19, 41, 41]': [\"Author: 'aerosmith', Album: 'Aerosmith', Title: 'Make It'\"],\n",
       " '[0, 3, 14, 22, 75]': [\"Author: 'aerosmith', Album: 'Aerosmith', Title: 'Make It'\"],\n",
       " '[3, 11, 12, 17, 27]': [\"Author: 'tori amos', Album: 'The Beekeeper', Title: 'The Power of Orange Knickers'\"],\n",
       " '[1, 1, 4, 10, 22]': [\"Author: 'tori amos', Album: 'To Venus and Back-Orbiting', Title: 'Juarez'\"],\n",
       " '[2, 11, 15, 25, 27]': [\"Author: 'fleetwood mac', Album: 'Tusk', Title: 'Storms'\"],\n",
       " '[2, 4, 9, 11, 13]': [\"Author: 'suzanne vega', Album: 'Songs in Red and Gray', Title: 'If I Were a Weapon'\"],\n",
       " '[10, 12, 18, 18, 44]': [\"Author: 'aerosmith', Album: 'Aerosmith', Title: 'Make It'\"],\n",
       " '[15, 15, 30, 34, 35]': [\"Author: 'aerosmith', Album: 'Aerosmith', Title: 'Make It'\"],\n",
       " '[6, 17, 22, 25, 26]': [\"Author: 'prince', Album: 'Sign O The Times Disc 1 ', Title: 'It'\"],\n",
       " '[11, 13, 14, 15, 22]': [\"Author: 'suzanne vega', Album: 'Nine Objects Of Desire', Title: 'Lolita'\"],\n",
       " '[1, 2, 7, 26, 44]': [\"Author: 'dave matthews band', Album: 'Everyday', Title: 'Mother Father'\"],\n",
       " '[8, 17, 18, 33, 135]': [\"Author: 'aerosmith', Album: 'Aerosmith', Title: 'Make It'\"],\n",
       " '[0, 2, 11, 17, 21]': [\"Author: 'tori amos', Album: 'From the Choirgirl Hotel', Title: 'She s Your Cocaine'\"],\n",
       " '[2, 2, 3, 8, 10]': [\"Author: 'tori amos', Album: 'Under the Pink', Title: 'Cornflake Girl'\"],\n",
       " '[7, 11, 16, 16, 37]': [\"Author: 'aerosmith', Album: 'Aerosmith', Title: 'Make It'\"],\n",
       " '[5, 12, 13, 17, 25]': [\"Author: 'tori amos', Album: 'The Beekeeper', Title: 'Witness'\"],\n",
       " '[2, 3, 20, 37, 43]': [\"Author: 'aerosmith', Album: 'Aerosmith', Title: 'Make It'\"],\n",
       " '[1, 3, 10, 11, 26]': [\"Author: 'u2', Album: 'War', Title: 'Seconds'\"],\n",
       " '[3, 27, 36, 46, 98]': [\"Author: 'aerosmith', Album: 'Aerosmith', Title: 'Make It'\"],\n",
       " '[16, 22, 30, 32, 32]': [\"Author: 'aerosmith', Album: 'Aerosmith', Title: 'Make It'\"],\n",
       " '[13, 23, 41, 42, 72]': [\"Author: 'aerosmith', Album: 'Aerosmith', Title: 'Make It'\"],\n",
       " '[0, 4, 10, 22, 36]': [\"Author: 'madonna', Album: 'Erotica', Title: 'Rain'\"],\n",
       " '[2, 9, 17, 27, 73]': [\"Author: 'aerosmith', Album: 'Aerosmith', Title: 'Make It'\"],\n",
       " '[2, 7, 19, 20, 30]': [\"Author: 'tori amos', Album: 'To Venus and Back-Orbiting', Title: 'Josephine'\"],\n",
       " '[5, 7, 16, 33, 63]': [\"Author: 'u2', Album: 'Achtung Baby', Title: 'Zoo Station'\"],\n",
       " '[1, 3, 9, 33, 106]': [\"Author: 'aerosmith', Album: 'Aerosmith', Title: 'Make It'\"],\n",
       " '[4, 7, 18, 26, 39]': [\"Author: 'aerosmith', Album: 'Aerosmith', Title: 'Make It'\"],\n",
       " '[0, 12, 29, 35, 58]': [\"Author: 'aerosmith', Album: 'Aerosmith', Title: 'Make It'\"],\n",
       " '[4, 4, 32, 48, 75]': [\"Author: 'aerosmith', Album: 'Aerosmith', Title: 'Make It'\"],\n",
       " '[9, 11, 16, 69, 82]': [\"Author: 'aerosmith', Album: 'Aerosmith', Title: 'Make It'\"],\n",
       " '[2, 6, 8, 8, 10]': [\"Author: 'u2', Album: 'Zooropa', Title: 'Stay Faraway So Close '\"],\n",
       " '[2, 6, 19, 30, 49]': [\"Author: 'garth brooks', Album: 'The Chase', Title: 'Somewhere Other Than The Night'\"],\n",
       " '[4, 5, 5, 13, 82]': [\"Author: 'aerosmith', Album: 'Aerosmith', Title: 'Make It'\"],\n",
       " '[0, 11, 21, 22, 38]': [\"Author: 'aerosmith', Album: 'Aerosmith', Title: 'Make It'\"],\n",
       " '[0, 20, 41, 44, 97]': [\"Author: 'aerosmith', Album: 'Aerosmith', Title: 'Make It'\"],\n",
       " '[4, 6, 15, 40, 62]': [\"Author: 'dave matthews band', Album: 'Crash', Title: 'Proudest Monkey'\"],\n",
       " '[2, 13, 23, 43, 87]': [\"Author: 'aerosmith', Album: 'Aerosmith', Title: 'Make It'\"],\n",
       " '[2, 7, 10, 16, 23]': [\"Author: 'steely dan', Album: 'Aja', Title: 'Home At Last'\"],\n",
       " '[2, 6, 7, 31, 54]': [\"Author: 'suzanne vega', Album: 'Songs in Red and Gray', Title: 'Songs in Red and Gray'\"],\n",
       " '[3, 9, 15, 26, 48]': [\"Author: 'aerosmith', Album: 'Aerosmith', Title: 'Make It'\"],\n",
       " ...}"
      ]
     },
     "execution_count": 68,
     "metadata": {},
     "output_type": "execute_result"
    }
   ],
   "source": [
    "buckets"
   ]
  },
  {
   "cell_type": "markdown",
   "metadata": {},
   "source": [
    "### QUERY"
   ]
  },
  {
   "cell_type": "code",
   "execution_count": 69,
   "metadata": {},
   "outputs": [],
   "source": [
    "data_folder = Path(r\"C:\\Users\\alessio\\Downloads\\adm-hw4\\query\")\n",
    "tracksQ = data_folder.glob(\"*.wav\")"
   ]
  },
  {
   "cell_type": "code",
   "execution_count": 70,
   "metadata": {},
   "outputs": [
    {
     "data": {
      "application/vnd.jupyter.widget-view+json": {
       "model_id": "e7eb6a242ba648ac864b0a7631475fd3",
       "version_major": 2,
       "version_minor": 0
      },
      "text/plain": [
       "HBox(children=(HTML(value=''), FloatProgress(value=0.0, max=10.0), HTML(value='')))"
      ]
     },
     "metadata": {},
     "output_type": "display_data"
    },
    {
     "name": "stdout",
     "output_type": "stream",
     "text": [
      "\n"
     ]
    }
   ],
   "source": [
    "lsQ=[]\n",
    "for idx, audio in tqdm(enumerate(tracksQ), total=10):\n",
    "    track, sr, onset_env, peaks = load_audio_picks(audio, DURATION, HOP_SIZE)\n",
    "    lsQ.append((idx, peaks))"
   ]
  },
  {
   "cell_type": "code",
   "execution_count": 71,
   "metadata": {},
   "outputs": [
    {
     "data": {
      "text/plain": [
       "(0,\n",
       " array([  15,   34,   50,   67,   84,  100,  116,  132,  150,  167,  183,\n",
       "         199,  215,  233,  249,  265,  281,  298,  315,  331,  347,  364,\n",
       "         380,  396,  412,  430,  445,  462,  478,  546,  563,  579,  596,\n",
       "         612,  629,  646,  663,  679,  696,  712,  729,  745,  762,  777,\n",
       "         794,  809,  827,  843,  860,  876,  893,  909,  926,  942,  959,\n",
       "         974,  991, 1007, 1024, 1041, 1056, 1072, 1090, 1106, 1123, 1139,\n",
       "        1155, 1172, 1189, 1205, 1223, 1239, 1254, 1271, 1288, 1304, 1320,\n",
       "        1336, 1369, 1385, 1401, 1426, 1451, 1467, 1483, 1500, 1516, 1533,\n",
       "        1554, 1576, 1599, 1618, 1634, 1663, 1703, 1719, 1736, 1770, 1803,\n",
       "        1837, 1854, 1870, 1888, 1904, 1922, 1938, 1971, 1989, 2005, 2039,\n",
       "        2073, 2107, 2123, 2141, 2159, 2175, 2193, 2209, 2234, 2261, 2277,\n",
       "        2295, 2311, 2328, 2345, 2379, 2395, 2412, 2447, 2480, 2496, 2513,\n",
       "        2530, 2547, 2565, 2580], dtype=int64))"
      ]
     },
     "execution_count": 71,
     "metadata": {},
     "output_type": "execute_result"
    }
   ],
   "source": [
    "lsQ[0]"
   ]
  },
  {
   "cell_type": "code",
   "execution_count": 72,
   "metadata": {},
   "outputs": [],
   "source": [
    "mQ=np.zeros((peakListLen, 10), dtype=int)"
   ]
  },
  {
   "cell_type": "code",
   "execution_count": 73,
   "metadata": {},
   "outputs": [],
   "source": [
    "#Fill in the matrix\n",
    "for i in range(peakListLen):\n",
    "        j=0\n",
    "        while j<10:\n",
    "            if i in ls[j][1]:\n",
    "                mQ[i][j]=1\n",
    "            j+=1"
   ]
  },
  {
   "cell_type": "code",
   "execution_count": 75,
   "metadata": {},
   "outputs": [
    {
     "data": {
      "application/vnd.jupyter.widget-view+json": {
       "model_id": "6125f2cbbd074cd09d7e25816f524b64",
       "version_major": 2,
       "version_minor": 0
      },
      "text/plain": [
       "HBox(children=(HTML(value=''), FloatProgress(value=0.0, max=1000.0), HTML(value='')))"
      ]
     },
     "metadata": {},
     "output_type": "display_data"
    },
    {
     "name": "stdout",
     "output_type": "stream",
     "text": [
      "\n"
     ]
    }
   ],
   "source": [
    "# Random Shuffling Implementation (Approximation)\n",
    "shinglesQ = list(range(peakListLen))\n",
    "signatureMatrixQ = [] \n",
    "num_perm = 1000\n",
    "for _ in tqdm(range(num_perm), total=num_perm):\n",
    "    temp=[]\n",
    "    random.shuffle(shinglesQ)\n",
    "    for i in range(lsQ[-1][0]+1):\n",
    "        j=0\n",
    "        while shinglesQ[j] not in lsQ[i][1]:\n",
    "            if j==peakListLen:\n",
    "                break\n",
    "            j+=1\n",
    "        temp.append(j)\n",
    "    signatureMatrixQ.append(temp)"
   ]
  },
  {
   "cell_type": "code",
   "execution_count": 76,
   "metadata": {},
   "outputs": [
    {
     "data": {
      "text/plain": [
       "[[11, 0, 8, 44, 4, 12, 29, 13, 37, 11],\n",
       " [39, 21, 19, 52, 6, 0, 0, 3, 6, 31],\n",
       " [9, 17, 19, 20, 24, 10, 24, 13, 1, 17],\n",
       " [4, 33, 2, 50, 1, 24, 78, 10, 16, 75],\n",
       " [5, 9, 3, 16, 1, 55, 22, 3, 11, 34]]"
      ]
     },
     "execution_count": 76,
     "metadata": {},
     "output_type": "execute_result"
    }
   ],
   "source": [
    "signatureMatrixQ[:5]"
   ]
  },
  {
   "cell_type": "code",
   "execution_count": 77,
   "metadata": {},
   "outputs": [
    {
     "name": "stdout",
     "output_type": "stream",
     "text": [
      "[[11 39  9 ... 40 99 17]\n",
      " [ 0 21 17 ...  4 21  9]\n",
      " [ 8 19 19 ... 17  8  9]\n",
      " ...\n",
      " [13  3 13 ... 14 19  4]\n",
      " [37  6  1 ... 12 25 10]\n",
      " [11 31 17 ...  0 26 50]]\n",
      "\n",
      " [11 39  9 ...  0 26 50]\n"
     ]
    }
   ],
   "source": [
    "perms_transpQ = np.transpose(np.array(signatureMatrixQ))\n",
    "print(perms_transpQ)\n",
    "perms_flatQ = perms_transpQ.flatten()\n",
    "print(\"\\n\",perms_flatQ)"
   ]
  },
  {
   "cell_type": "markdown",
   "metadata": {},
   "source": [
    "Now that we have built the signature matrix for the query, and created bands, we map them in the previously created buckets in order to find matches and ultimately the song title of the query tracks. "
   ]
  },
  {
   "cell_type": "code",
   "execution_count": 78,
   "metadata": {},
   "outputs": [],
   "source": [
    "output=[]\n",
    "for i in range(10):\n",
    "    j=0\n",
    "    temp=[]\n",
    "    while j<=10000:\n",
    "        x=list(perms_transpQ[i,j:j+5])\n",
    "        x.sort()\n",
    "        if str(x) in buckets.keys():\n",
    "            temp.append(buckets[str(x)][0])\n",
    "        j+=5\n",
    "    output.append((i,set(temp)))"
   ]
  },
  {
   "cell_type": "code",
   "execution_count": 79,
   "metadata": {
    "scrolled": true
   },
   "outputs": [
    {
     "data": {
      "text/plain": [
       "[(0,\n",
       "  {\"Author: 'aerosmith', Album: 'Draw the Line', Title: 'Critical Mass'\",\n",
       "   \"Author: 'beatles', Album: 'A Hard Day s Night', Title: 'A Hard Day s Night'\",\n",
       "   \"Author: 'beatles', Album: 'Abbey Road', Title: 'Mean Mr Mustard'\",\n",
       "   \"Author: 'creedence clearwater revival', Album: 'Pendulum', Title: 'Pagan Baby'\",\n",
       "   \"Author: 'creedence clearwater revival', Album: 'Willy and the Poor Boys', Title: 'Fortunate son'\",\n",
       "   \"Author: 'cure', Album: 'Kiss Me Kiss Me Kiss Me', Title: 'Like Cockatoos'\",\n",
       "   \"Author: 'cure', Album: 'Wish', Title: 'Friday I m In Love'\",\n",
       "   \"Author: 'dave matthews band', Album: 'Before These Crowded Streets', Title: 'Stay Wasting Time '\",\n",
       "   \"Author: 'dave matthews band', Album: 'Busted Stuff', Title: 'You Never Know'\",\n",
       "   \"Author: 'dave matthews band', Album: 'Everyday', Title: 'Sleep To Dream Her'\",\n",
       "   \"Author: 'depeche mode', Album: 'A Broken Frame', Title: 'Monument'\",\n",
       "   \"Author: 'depeche mode', Album: 'Music for the Masses', Title: 'Behind the wheel'\",\n",
       "   \"Author: 'depeche mode', Album: 'Speak and Spell', Title: 'Ice Machine'\",\n",
       "   \"Author: 'fleetwood mac', Album: 'Rumours', Title: 'Songbird'\",\n",
       "   \"Author: 'garth brooks', Album: 'No Fences The Limited Series ', Title: 'The Thunder Rolls'\",\n",
       "   \"Author: 'garth brooks', Album: 'No Fences The Limited Series ', Title: 'Wolves'\",\n",
       "   \"Author: 'garth brooks', Album: 'Ropin The Wind The Limited Series ', Title: 'Against The Grain'\",\n",
       "   \"Author: 'green day', Album: 'Insomniac', Title: 'Brat'\",\n",
       "   \"Author: 'green day', Album: 'Kerplunk', Title: 'Dominated Love Slave'\",\n",
       "   \"Author: 'green day', Album: 'Nimrod', Title: 'Scattered'\",\n",
       "   \"Author: 'led zeppelin', Album: 'Houses of the Holy', Title: 'The Song Remains The Same'\",\n",
       "   \"Author: 'led zeppelin', Album: 'Led Zeppelin III', Title: 'Friends'\",\n",
       "   \"Author: 'madonna', Album: 'Ray of Light', Title: 'Ray Of Light'\",\n",
       "   \"Author: 'metallica', Album: 'Load', Title: 'Hero Of The Day'\",\n",
       "   \"Author: 'metallica', Album: 'Load', Title: 'Thorn Within'\",\n",
       "   \"Author: 'metallica', Album: 'Metallica', Title: 'Sad but True'\",\n",
       "   \"Author: 'metallica', Album: 'Ride The Lightning', Title: 'Fade To Black'\",\n",
       "   \"Author: 'prince', Album: '1999', Title: '1999'\",\n",
       "   \"Author: 'prince', Album: '1999', Title: 'Little Red Corvette'\",\n",
       "   \"Author: 'prince', Album: 'Lovesexy', Title: 'When 2 R In Love'\",\n",
       "   \"Author: 'prince', Album: 'Parade', Title: 'Sometimes it Snows in April'\",\n",
       "   \"Author: 'prince', Album: 'Purple Rain', Title: 'When doves cry'\",\n",
       "   \"Author: 'queen', Album: 'Jazz', Title: 'Fun It'\",\n",
       "   \"Author: 'queen', Album: 'The Works', Title: 'I Want To Break Free Extended Mix '\",\n",
       "   \"Author: 'queen', Album: 'The Works', Title: 'Radio Ga Ga Extended Version '\",\n",
       "   \"Author: 'radiohead', Album: 'Amnesiac', Title: 'Pyramid Song'\",\n",
       "   \"Author: 'radiohead', Album: 'Amnesiac', Title: 'You and Whose Army'\",\n",
       "   \"Author: 'radiohead', Album: 'Hail to the Theif', Title: 'A Punchup at a Wedding'\",\n",
       "   \"Author: 'radiohead', Album: 'Kid A', Title: 'Kid A'\",\n",
       "   \"Author: 'radiohead', Album: 'Pablo Honey', Title: 'Creep'\",\n",
       "   \"Author: 'radiohead', Album: 'Pablo Honey', Title: 'Lurgee'\",\n",
       "   \"Author: 'radiohead', Album: 'Pablo Honey', Title: 'Ripcord'\",\n",
       "   \"Author: 'roxette', Album: 'Crash Boom Bang ', Title: 'Fireworks'\",\n",
       "   \"Author: 'roxette', Album: 'Crash Boom Bang ', Title: 'I Love The Sound Of Crashing Guitars'\",\n",
       "   \"Author: 'roxette', Album: 'Crash Boom Bang ', Title: 'Place Your Love'\",\n",
       "   \"Author: 'roxette', Album: 'Crash Boom Bang ', Title: 'The First Girl On The Moon'\",\n",
       "   \"Author: 'roxette', Album: 'Have a Nice Day', Title: '7 Twenty 7'\",\n",
       "   \"Author: 'roxette', Album: 'Have a Nice Day', Title: 'Wish I Could Fly'\",\n",
       "   \"Author: 'roxette', Album: 'Joyride', Title: ' do you get excited'\",\n",
       "   \"Author: 'roxette', Album: 'Look Sharp ', Title: 'Listen To Your Heart'\",\n",
       "   \"Author: 'roxette', Album: 'Pearls of Passion 1997 Remaster ', Title: 'Neverending Love'\",\n",
       "   \"Author: 'roxette', Album: 'Pearls of Passion 1997 Remaster ', Title: 'Surrender'\",\n",
       "   \"Author: 'roxette', Album: 'Room Service', Title: 'Looking For Jane'\",\n",
       "   \"Author: 'steely dan', Album: 'Countdown To Ecstasy', Title: 'Bodhisattva'\",\n",
       "   \"Author: 'steely dan', Album: 'Countdown To Ecstasy', Title: 'My Old School'\",\n",
       "   \"Author: 'steely dan', Album: 'Gaucho', Title: 'Third World Man'\",\n",
       "   \"Author: 'steely dan', Album: 'Gaucho', Title: 'Time Out of Mind'\",\n",
       "   \"Author: 'steely dan', Album: 'Katy Lied', Title: 'Everyone s Gone To The Movies'\",\n",
       "   \"Author: 'steely dan', Album: 'Katy Lied', Title: 'Your Gold Teeth II'\",\n",
       "   \"Author: 'steely dan', Album: 'The Royal Scam', Title: 'Everything You Did'\",\n",
       "   \"Author: 'suzanne vega', Album: '99 9 F ', Title: 'Bad Wisdom'\",\n",
       "   \"Author: 'suzanne vega', Album: '99 9 F ', Title: 'In Liverpool'\",\n",
       "   \"Author: 'suzanne vega', Album: '99 9 F ', Title: 'Rock In This Pocket Song Of David '\",\n",
       "   \"Author: 'suzanne vega', Album: '99 9 F ', Title: 'When Heroes Go Down'\",\n",
       "   \"Author: 'suzanne vega', Album: 'Days of Open Hand', Title: 'Predictions'\",\n",
       "   \"Author: 'suzanne vega', Album: 'Days of Open Hand', Title: 'Room Off The Street'\",\n",
       "   \"Author: 'suzanne vega', Album: 'Nine Objects Of Desire', Title: 'No Cheap Thrill'\",\n",
       "   \"Author: 'suzanne vega', Album: 'Nine Objects Of Desire', Title: 'Thin Man'\",\n",
       "   \"Author: 'suzanne vega', Album: 'Solitude Standing', Title: 'Tom s Diner'\",\n",
       "   \"Author: 'suzanne vega', Album: 'Songs in Red and Gray', Title: ' I ll Never Be Your Maggie May'\",\n",
       "   \"Author: 'suzanne vega', Album: 'Songs in Red and Gray', Title: 'Last Years Troubles'\",\n",
       "   \"Author: 'suzanne vega', Album: 'Songs in Red and Gray', Title: 'Machine Ballerina'\",\n",
       "   \"Author: 'suzanne vega', Album: 'Suzanne Vega', Title: 'Knight Moves'\",\n",
       "   \"Author: 'suzanne vega', Album: 'Suzanne Vega', Title: 'Small Blue Thing'\",\n",
       "   \"Author: 'suzanne vega', Album: 'Suzanne Vega', Title: 'Some Journey'\",\n",
       "   \"Author: 'tori amos', Album: 'Little Earthquakes', Title: 'Little Earthquakes'\",\n",
       "   \"Author: 'tori amos', Album: 'Little Earthquakes', Title: 'Silent All These Years'\",\n",
       "   \"Author: 'tori amos', Album: 'Little Earthquakes', Title: 'Winter'\",\n",
       "   \"Author: 'tori amos', Album: 'Scarlet s Walk', Title: 'Don t Make Me Come To Vegas'\",\n",
       "   \"Author: 'tori amos', Album: 'Scarlet s Walk', Title: 'I Can t See New York'\",\n",
       "   \"Author: 'tori amos', Album: 'Scarlet s Walk', Title: 'Mrs Jesus'\",\n",
       "   \"Author: 'tori amos', Album: 'The Beekeeper', Title: 'General Joy'\",\n",
       "   \"Author: 'tori amos', Album: 'The Beekeeper', Title: 'Hoochie Woman'\",\n",
       "   \"Author: 'tori amos', Album: 'The Beekeeper', Title: 'Ireland'\",\n",
       "   \"Author: 'tori amos', Album: 'The Beekeeper', Title: 'Martha s Foolish Ginger'\",\n",
       "   \"Author: 'tori amos', Album: 'The Beekeeper', Title: 'Sweet the Sting'\",\n",
       "   \"Author: 'tori amos', Album: 'To Venus and Back-Orbiting', Title: '1000 Oceans'\",\n",
       "   \"Author: 'tori amos', Album: 'To Venus and Back-Orbiting', Title: 'Datura'\",\n",
       "   \"Author: 'tori amos', Album: 'To Venus and Back-Orbiting', Title: 'Josephine'\",\n",
       "   \"Author: 'tori amos', Album: 'To Venus and Back-Orbiting', Title: 'Juarez'\",\n",
       "   \"Author: 'tori amos', Album: 'To Venus and Back-Orbiting', Title: 'Riot Poof'\",\n",
       "   \"Author: 'tori amos', Album: 'Under the Pink', Title: 'Past The Mission'\",\n",
       "   \"Author: 'tori amos', Album: 'Under the Pink', Title: 'The Wrong Band'\",\n",
       "   \"Author: 'u2', Album: 'Achtung Baby', Title: 'Love Is Blindness'\",\n",
       "   \"Author: 'u2', Album: 'Achtung Baby', Title: 'Mysterious Ways'\",\n",
       "   \"Author: 'u2', Album: 'Achtung Baby', Title: 'So Cruel'\",\n",
       "   \"Author: 'u2', Album: 'Achtung Baby', Title: 'The Fly'\",\n",
       "   \"Author: 'u2', Album: 'Achtung Baby', Title: 'Until The End Of The World'\",\n",
       "   \"Author: 'u2', Album: 'October', Title: 'Scarlet'\",\n",
       "   \"Author: 'u2', Album: 'October', Title: 'Stranger in a Strange Land'\",\n",
       "   \"Author: 'u2', Album: 'October', Title: 'With a Shout'\",\n",
       "   \"Author: 'u2', Album: 'The Joshua Tree', Title: 'I Still Haven t Found What I m Looking For'\",\n",
       "   \"Author: 'u2', Album: 'The Joshua Tree', Title: 'In God s Country'\",\n",
       "   \"Author: 'u2', Album: 'The Joshua Tree', Title: 'Red Hill Mining Town'\",\n",
       "   \"Author: 'u2', Album: 'The Unforgettable Fire', Title: '4th of July'\",\n",
       "   \"Author: 'u2', Album: 'The Unforgettable Fire', Title: 'Bad'\",\n",
       "   \"Author: 'u2', Album: 'The Unforgettable Fire', Title: 'MLK'\",\n",
       "   \"Author: 'u2', Album: 'War', Title: 'Surrender'\",\n",
       "   \"Author: 'u2', Album: 'Zooropa', Title: 'Babyface'\",\n",
       "   \"Author: 'u2', Album: 'Zooropa', Title: 'Daddy s Gonna Pay For Your Crashed Car'\",\n",
       "   \"Author: 'u2', Album: 'Zooropa', Title: 'Dirty Day'\",\n",
       "   \"Author: 'u2', Album: 'Zooropa', Title: 'Lemon'\",\n",
       "   \"Author: 'u2', Album: 'Zooropa', Title: 'Some Days Are Better Than Others'\",\n",
       "   \"Author: 'u2', Album: 'Zooropa', Title: 'The Wanderer'\"}),\n",
       " (1,\n",
       "  {\"Author: 'aerosmith', Album: 'Draw the Line', Title: 'Kings and Queens'\",\n",
       "   \"Author: 'beatles', Album: 'Magical Mystery Tour', Title: 'Hello Goodbye'\",\n",
       "   \"Author: 'beatles', Album: 'Revolver', Title: 'I Want To Tell You'\",\n",
       "   \"Author: 'beatles', Album: 'The White Album Disc 1', Title: 'The Continuing Story Of Bungalow Bill'\",\n",
       "   \"Author: 'creedence clearwater revival', Album: 'Green River', Title: 'Lodi'\",\n",
       "   \"Author: 'cure', Album: 'Disintegration', Title: 'Lullaby'\",\n",
       "   \"Author: 'cure', Album: 'Wild Mood Swings', Title: 'Return'\",\n",
       "   \"Author: 'cure', Album: 'Wild Mood Swings', Title: 'Want'\",\n",
       "   \"Author: 'cure', Album: 'Wish', Title: 'Cut'\",\n",
       "   \"Author: 'dave matthews band', Album: 'Before These Crowded Streets', Title: 'Halloween'\",\n",
       "   \"Author: 'dave matthews band', Album: 'Busted Stuff', Title: 'Kit Kat Jam'\",\n",
       "   \"Author: 'depeche mode', Album: 'A Broken Frame', Title: 'Monument'\",\n",
       "   \"Author: 'fleetwood mac', Album: 'Mirage', Title: 'Oh Diane'\",\n",
       "   \"Author: 'fleetwood mac', Album: 'Tango In The Night', Title: 'Little Lies'\",\n",
       "   \"Author: 'garth brooks', Album: 'In Pieces', Title: 'Anonymous'\",\n",
       "   \"Author: 'garth brooks', Album: 'No Fences The Limited Series ', Title: 'Friends In Low Places'\",\n",
       "   \"Author: 'green day', Album: 'Nimrod', Title: 'The Grouch'\",\n",
       "   \"Author: 'green day', Album: 'Nimrod', Title: 'Worry Rock'\",\n",
       "   \"Author: 'green day', Album: 'Warning', Title: 'Church On Sunday'\",\n",
       "   \"Author: 'led zeppelin', Album: 'Houses of the Holy', Title: 'Over The Hills And Far Away'\",\n",
       "   \"Author: 'led zeppelin', Album: 'Led Zeppelin I', Title: 'You Shook Me'\",\n",
       "   \"Author: 'led zeppelin', Album: 'Led Zeppelin II', Title: 'The Lemon Song'\",\n",
       "   \"Author: 'madonna', Album: 'Bedtime Stories', Title: 'Don t Stop'\",\n",
       "   \"Author: 'madonna', Album: 'Erotica', Title: 'Thief of Hearts'\",\n",
       "   \"Author: 'madonna', Album: 'Like A Prayer', Title: 'Oh Father'\",\n",
       "   \"Author: 'metallica', Album: 'Load', Title: 'The Outlaw Torn'\",\n",
       "   \"Author: 'metallica', Album: 'Load', Title: 'Until It Sleeps'\",\n",
       "   \"Author: 'metallica', Album: 'Master of Puppets', Title: 'Leper Messiah'\",\n",
       "   \"Author: 'metallica', Album: 'Master of Puppets', Title: 'Thing That Should Not Be The'\",\n",
       "   \"Author: 'metallica', Album: 'Metallica', Title: 'The Struggle Within'\",\n",
       "   \"Author: 'metallica', Album: 'Reload', Title: 'Slither'\",\n",
       "   \"Author: 'metallica', Album: 'Ride The Lightning', Title: 'Fight Fire With Fire'\",\n",
       "   \"Author: 'prince', Album: 'Lovesexy', Title: 'I Wish U Heaven'\",\n",
       "   \"Author: 'prince', Album: 'Lovesexy', Title: 'When 2 R In Love'\",\n",
       "   \"Author: 'prince', Album: 'Parade', Title: 'Kiss'\",\n",
       "   \"Author: 'prince', Album: 'Parade', Title: 'Sometimes it Snows in April'\",\n",
       "   \"Author: 'prince', Album: 'Sign O The Times Disc 1 ', Title: 'Forever In My Life'\",\n",
       "   \"Author: 'prince', Album: 'Sign O The Times Disc 1 ', Title: 'It'\",\n",
       "   \"Author: 'prince', Album: 'The Love Symbol Album', Title: 'Sexy M F '\",\n",
       "   \"Author: 'queen', Album: 'A Night At the Opera', Title: 'Good Company'\",\n",
       "   \"Author: 'queen', Album: 'Sheer Heart Attack', Title: 'She Makes Me Stormtrooper In Stilettos '\",\n",
       "   \"Author: 'queen', Album: 'The Game', Title: 'Don t Try Suicide'\",\n",
       "   \"Author: 'queen', Album: 'The Works', Title: 'Radio Ga Ga'\",\n",
       "   \"Author: 'radiohead', Album: 'Amnesiac', Title: 'Pyramid Song'\",\n",
       "   \"Author: 'radiohead', Album: 'OK Computer', Title: 'The Tourist'\",\n",
       "   \"Author: 'roxette', Album: 'Crash Boom Bang ', Title: 'I Love The Sound Of Crashing Guitars'\",\n",
       "   \"Author: 'roxette', Album: 'Crash Boom Bang ', Title: 'Lies'\",\n",
       "   \"Author: 'roxette', Album: 'Have a Nice Day', Title: 'Crush On You'\",\n",
       "   \"Author: 'roxette', Album: 'Look Sharp ', Title: 'Dance Away'\",\n",
       "   \"Author: 'roxette', Album: 'Pearls of Passion 1997 Remaster ', Title: 'Call Of The Wild'\",\n",
       "   \"Author: 'roxette', Album: 'Pearls of Passion 1997 Remaster ', Title: 'So Far Away'\",\n",
       "   \"Author: 'roxette', Album: 'Room Service', Title: 'The Centre Of The Heart'\",\n",
       "   \"Author: 'roxette', Album: 'Room Service', Title: 'Try Just A Little Bit Harder '\",\n",
       "   \"Author: 'steely dan', Album: 'Gaucho', Title: 'Third World Man'\",\n",
       "   \"Author: 'steely dan', Album: 'Pretzel Logic', Title: 'Monkey in Your Soul'\",\n",
       "   \"Author: 'steely dan', Album: 'The Royal Scam', Title: 'The Royal Scam'\",\n",
       "   \"Author: 'suzanne vega', Album: '99 9 F ', Title: 'As Girls Go'\",\n",
       "   \"Author: 'suzanne vega', Album: '99 9 F ', Title: 'When Heroes Go Down'\",\n",
       "   \"Author: 'suzanne vega', Album: 'Days of Open Hand', Title: 'Book Of Dreams'\",\n",
       "   \"Author: 'suzanne vega', Album: 'Nine Objects Of Desire', Title: 'Caramel'\",\n",
       "   \"Author: 'suzanne vega', Album: 'Nine Objects Of Desire', Title: 'Head Shots'\",\n",
       "   \"Author: 'suzanne vega', Album: 'Nine Objects Of Desire', Title: 'Tombstone'\",\n",
       "   \"Author: 'suzanne vega', Album: 'Solitude Standing', Title: 'Gypsy'\",\n",
       "   \"Author: 'suzanne vega', Album: 'Solitude Standing', Title: 'Tom s Diner Reprise'\",\n",
       "   \"Author: 'suzanne vega', Album: 'Songs in Red and Gray', Title: 'Last Years Troubles'\",\n",
       "   \"Author: 'tori amos', Album: 'From the Choirgirl Hotel', Title: 'Hotel'\",\n",
       "   \"Author: 'tori amos', Album: 'From the Choirgirl Hotel', Title: 'Jackie s Strength'\",\n",
       "   \"Author: 'tori amos', Album: 'Little Earthquakes', Title: 'Little Earthquakes'\",\n",
       "   \"Author: 'tori amos', Album: 'Scarlet s Walk', Title: 'Another Girl s Paradise'\",\n",
       "   \"Author: 'tori amos', Album: 'Scarlet s Walk', Title: 'Scarlet s Walk'\",\n",
       "   \"Author: 'tori amos', Album: 'Scarlet s Walk', Title: 'Strange'\",\n",
       "   \"Author: 'tori amos', Album: 'Scarlet s Walk', Title: 'Taxi Ride'\",\n",
       "   \"Author: 'tori amos', Album: 'Scarlet s Walk', Title: 'Wednesday'\",\n",
       "   \"Author: 'tori amos', Album: 'Scarlet s Walk', Title: 'Your Cloud'\",\n",
       "   \"Author: 'tori amos', Album: 'The Beekeeper', Title: 'Original Sinsuality'\",\n",
       "   \"Author: 'tori amos', Album: 'The Beekeeper', Title: 'The Power of Orange Knickers'\",\n",
       "   \"Author: 'tori amos', Album: 'To Venus and Back-Orbiting', Title: 'Concertina'\",\n",
       "   \"Author: 'tori amos', Album: 'To Venus and Back-Orbiting', Title: 'Datura'\",\n",
       "   \"Author: 'tori amos', Album: 'Under the Pink', Title: 'Cloud On My Tongue'\",\n",
       "   \"Author: 'tori amos', Album: 'Under the Pink', Title: 'Space Dog'\",\n",
       "   \"Author: 'u2', Album: 'Achtung Baby', Title: 'Even Better Than The Real Thing'\",\n",
       "   \"Author: 'u2', Album: 'Achtung Baby', Title: 'One'\",\n",
       "   \"Author: 'u2', Album: 'Achtung Baby', Title: 'Tryin To Throw Your Arms Around The World'\",\n",
       "   \"Author: 'u2', Album: 'October', Title: 'I Threw a Brick Through a Window'\",\n",
       "   \"Author: 'u2', Album: 'October', Title: 'Is That All '\",\n",
       "   \"Author: 'u2', Album: 'October', Title: 'October'\",\n",
       "   \"Author: 'u2', Album: 'October', Title: 'With a Shout'\",\n",
       "   \"Author: 'u2', Album: 'The Joshua Tree', Title: 'Exit'\",\n",
       "   \"Author: 'u2', Album: 'The Joshua Tree', Title: 'Trip Through Your Wires'\",\n",
       "   \"Author: 'u2', Album: 'The Unforgettable Fire', Title: 'Elvis Presley and America'\",\n",
       "   \"Author: 'u2', Album: 'War', Title: ' 40 '\",\n",
       "   \"Author: 'u2', Album: 'War', Title: 'Like A Song '\",\n",
       "   \"Author: 'u2', Album: 'War', Title: 'Red Light'\",\n",
       "   \"Author: 'u2', Album: 'War', Title: 'Surrender'\",\n",
       "   \"Author: 'u2', Album: 'Zooropa', Title: 'Some Days Are Better Than Others'\",\n",
       "   \"Author: 'u2', Album: 'Zooropa', Title: 'The First Time'\",\n",
       "   \"Author: 'u2', Album: 'Zooropa', Title: 'Zooropa'\"}),\n",
       " (2,\n",
       "  {\"Author: 'aerosmith', Album: 'Aerosmith', Title: 'Write Me a Letter'\",\n",
       "   \"Author: 'aerosmith', Album: 'Get Your Wings', Title: 'Woman Of The World'\",\n",
       "   \"Author: 'beatles', Album: 'Beatles For Sale', Title: 'No Reply'\",\n",
       "   \"Author: 'cure', Album: 'Disintegration', Title: 'The Same Deep Water As You'\",\n",
       "   \"Author: 'cure', Album: 'Kiss Me Kiss Me Kiss Me', Title: 'Icing Sugar'\",\n",
       "   \"Author: 'dave matthews band', Album: 'Before These Crowded Streets', Title: 'Crush'\",\n",
       "   \"Author: 'dave matthews band', Album: 'Busted Stuff', Title: 'Digging a Ditch'\",\n",
       "   \"Author: 'depeche mode', Album: 'Black Celebration', Title: 'Fly on the windscreen'\",\n",
       "   \"Author: 'depeche mode', Album: 'Speak and Spell', Title: 'Any Second Now'\",\n",
       "   \"Author: 'fleetwood mac', Album: 'Mirage', Title: 'Book of Love'\",\n",
       "   \"Author: 'fleetwood mac', Album: 'Tusk', Title: 'That s All for Everyone'\",\n",
       "   \"Author: 'garth brooks', Album: 'Garth Brooks The Limited Series ', Title: 'I ve Got A Good Thing Going'\",\n",
       "   \"Author: 'garth brooks', Album: 'No Fences The Limited Series ', Title: 'Wild Horses'\",\n",
       "   \"Author: 'garth brooks', Album: 'Ropin The Wind The Limited Series ', Title: 'Rodeo'\",\n",
       "   \"Author: 'garth brooks', Album: 'Ropin The Wind The Limited Series ', Title: 'We Bury The Hatchet'\",\n",
       "   \"Author: 'green day', Album: 'Insomniac', Title: 'Tight Wad Hill'\",\n",
       "   \"Author: 'green day', Album: 'Kerplunk', Title: 'Dominated Love Slave'\",\n",
       "   \"Author: 'green day', Album: 'Nimrod', Title: 'Haushinka'\",\n",
       "   \"Author: 'green day', Album: 'Nimrod', Title: 'Take Back'\",\n",
       "   \"Author: 'led zeppelin', Album: 'Houses of the Holy', Title: 'Over The Hills And Far Away'\",\n",
       "   \"Author: 'led zeppelin', Album: 'Led Zeppelin I', Title: 'Dazed And Confused'\",\n",
       "   \"Author: 'led zeppelin', Album: 'Led Zeppelin I', Title: 'I Can t Quit You Baby'\",\n",
       "   \"Author: 'led zeppelin', Album: 'Led Zeppelin II', Title: 'Thank You'\",\n",
       "   \"Author: 'led zeppelin', Album: 'Led Zeppelin III', Title: 'Bron-Y-Aur Stomp'\",\n",
       "   \"Author: 'madonna', Album: 'I m Breathless', Title: 'Sooner or Later'\",\n",
       "   \"Author: 'madonna', Album: 'Ray of Light', Title: 'Drowned World'\",\n",
       "   \"Author: 'metallica', Album: 'Kill Em All', Title: 'Metal Militia'\",\n",
       "   \"Author: 'metallica', Album: 'Load', Title: 'King Nothing'\",\n",
       "   \"Author: 'metallica', Album: 'Metallica', Title: 'Enter Sandman'\",\n",
       "   \"Author: 'metallica', Album: 'Metallica', Title: 'The Unforgiven'\",\n",
       "   \"Author: 'prince', Album: 'Parade', Title: 'Christopher Tracy s Parade'\",\n",
       "   \"Author: 'prince', Album: 'Purple Rain', Title: 'Darling Nikki'\",\n",
       "   \"Author: 'prince', Album: 'Sign O The Times Disc 1 ', Title: 'It'\",\n",
       "   \"Author: 'queen', Album: 'Sheer Heart Attack', Title: 'Now I m Here'\",\n",
       "   \"Author: 'radiohead', Album: 'Hail to the Theif', Title: '2 2 5 The Lukewarm '\",\n",
       "   \"Author: 'radiohead', Album: 'Hail to the Theif', Title: 'Where I End and You Begin'\",\n",
       "   \"Author: 'radiohead', Album: 'Kid A', Title: 'How To Disappear Completely'\",\n",
       "   \"Author: 'radiohead', Album: 'Pablo Honey', Title: 'Prove Yourself'\",\n",
       "   \"Author: 'roxette', Album: 'Crash Boom Bang ', Title: 'Run To You'\",\n",
       "   \"Author: 'roxette', Album: 'Have a Nice Day', Title: 'Cooper'\",\n",
       "   \"Author: 'roxette', Album: 'Have a Nice Day', Title: 'Staring At The Ground'\",\n",
       "   \"Author: 'roxette', Album: 'Have a Nice Day', Title: 'Stars'\",\n",
       "   \"Author: 'roxette', Album: 'Have a Nice Day', Title: 'Wish I Could Fly'\",\n",
       "   \"Author: 'roxette', Album: 'Joyride', Title: 'phsycial fascination'\",\n",
       "   \"Author: 'roxette', Album: 'Joyride', Title: 'things will never be the same'\",\n",
       "   \"Author: 'roxette', Album: 'Look Sharp ', Title: 'Chances'\",\n",
       "   \"Author: 'roxette', Album: 'Look Sharp ', Title: 'Dressed For Success'\",\n",
       "   \"Author: 'roxette', Album: 'Look Sharp ', Title: 'I Could Never Give You Up'\",\n",
       "   \"Author: 'roxette', Album: 'Look Sharp ', Title: 'Listen To Your Heart'\",\n",
       "   \"Author: 'roxette', Album: 'Look Sharp ', Title: 'The Look'\",\n",
       "   \"Author: 'roxette', Album: 'Look Sharp ', Title: 'View From A Hill'\",\n",
       "   \"Author: 'roxette', Album: 'Pearls of Passion 1997 Remaster ', Title: 'Neverending Love Frank Mono-Mix 1987 '\",\n",
       "   \"Author: 'roxette', Album: 'Room Service', Title: 'Jefferson'\",\n",
       "   \"Author: 'roxette', Album: 'Room Service', Title: 'Milk And Tost And Honey'\",\n",
       "   \"Author: 'roxette', Album: 'Room Service', Title: 'The Centre Of The Heart'\",\n",
       "   \"Author: 'steely dan', Album: 'Countdown To Ecstasy', Title: 'My Old School'\",\n",
       "   \"Author: 'steely dan', Album: 'Gaucho', Title: 'Third World Man'\",\n",
       "   \"Author: 'steely dan', Album: 'Katy Lied', Title: 'Doctor Wu'\",\n",
       "   \"Author: 'steely dan', Album: 'Pretzel Logic', Title: 'Barrytown'\",\n",
       "   \"Author: 'steely dan', Album: 'The Royal Scam', Title: 'Green Earrings'\",\n",
       "   \"Author: 'steely dan', Album: 'The Royal Scam', Title: 'Sign in Stranger'\",\n",
       "   \"Author: 'steely dan', Album: 'The Royal Scam', Title: 'The Fez'\",\n",
       "   \"Author: 'suzanne vega', Album: '99 9 F ', Title: 'As A Child'\",\n",
       "   \"Author: 'suzanne vega', Album: '99 9 F ', Title: 'Song Of Sand'\",\n",
       "   \"Author: 'suzanne vega', Album: 'Days of Open Hand', Title: 'Big Space'\",\n",
       "   \"Author: 'suzanne vega', Album: 'Days of Open Hand', Title: 'Book Of Dreams'\",\n",
       "   \"Author: 'suzanne vega', Album: 'Days of Open Hand', Title: 'Room Off The Street'\",\n",
       "   \"Author: 'suzanne vega', Album: 'Days of Open Hand', Title: 'Rusted Pipe'\",\n",
       "   \"Author: 'suzanne vega', Album: 'Nine Objects Of Desire', Title: 'Head Shots'\",\n",
       "   \"Author: 'suzanne vega', Album: 'Nine Objects Of Desire', Title: 'No Cheap Thrill'\",\n",
       "   \"Author: 'suzanne vega', Album: 'Songs in Red and Gray', Title: ' I ll Never Be Your Maggie May'\",\n",
       "   \"Author: 'suzanne vega', Album: 'Songs in Red and Gray', Title: 'If I Were a Weapon'\",\n",
       "   \"Author: 'suzanne vega', Album: 'Songs in Red and Gray', Title: 'It Makes Me Wonder'\",\n",
       "   \"Author: 'suzanne vega', Album: 'Songs in Red and Gray', Title: 'Last Years Troubles'\",\n",
       "   \"Author: 'suzanne vega', Album: 'Songs in Red and Gray', Title: 'Priscilla'\",\n",
       "   \"Author: 'suzanne vega', Album: 'Songs in Red and Gray', Title: 'Soap and Water'\",\n",
       "   \"Author: 'suzanne vega', Album: 'Songs in Red and Gray', Title: 'Solitaire'\",\n",
       "   \"Author: 'suzanne vega', Album: 'Songs in Red and Gray', Title: 'Widow s Walk'\",\n",
       "   \"Author: 'suzanne vega', Album: 'Suzanne Vega', Title: 'Marlene On The Wall'\",\n",
       "   \"Author: 'suzanne vega', Album: 'Suzanne Vega', Title: 'Some Journey'\",\n",
       "   \"Author: 'suzanne vega', Album: 'Suzanne Vega', Title: 'The Queen And The Soldier'\",\n",
       "   \"Author: 'tori amos', Album: 'From the Choirgirl Hotel', Title: 'Jackie s Strength'\",\n",
       "   \"Author: 'tori amos', Album: 'From the Choirgirl Hotel', Title: 'Pandora s Aquarium'\",\n",
       "   \"Author: 'tori amos', Album: 'Little Earthquakes', Title: 'China'\",\n",
       "   \"Author: 'tori amos', Album: 'Little Earthquakes', Title: 'Girl'\",\n",
       "   \"Author: 'tori amos', Album: 'Little Earthquakes', Title: 'Happy Phantom'\",\n",
       "   \"Author: 'tori amos', Album: 'Little Earthquakes', Title: 'Silent All These Years'\",\n",
       "   \"Author: 'tori amos', Album: 'Scarlet s Walk', Title: 'A Sorta Fairytale'\",\n",
       "   \"Author: 'tori amos', Album: 'Scarlet s Walk', Title: 'I Can t See New York'\",\n",
       "   \"Author: 'tori amos', Album: 'Scarlet s Walk', Title: 'Scarlet s Walk'\",\n",
       "   \"Author: 'tori amos', Album: 'Scarlet s Walk', Title: 'Sweet Sangria'\",\n",
       "   \"Author: 'tori amos', Album: 'Scarlet s Walk', Title: 'Taxi Ride'\",\n",
       "   \"Author: 'tori amos', Album: 'Scarlet s Walk', Title: 'Your Cloud'\",\n",
       "   \"Author: 'tori amos', Album: 'The Beekeeper', Title: 'Barons of Suburbia'\",\n",
       "   \"Author: 'tori amos', Album: 'The Beekeeper', Title: 'Hoochie Woman'\",\n",
       "   \"Author: 'tori amos', Album: 'The Beekeeper', Title: 'Ireland'\",\n",
       "   \"Author: 'tori amos', Album: 'The Beekeeper', Title: 'Jamaica Inn'\",\n",
       "   \"Author: 'tori amos', Album: 'The Beekeeper', Title: 'Martha s Foolish Ginger'\",\n",
       "   \"Author: 'tori amos', Album: 'The Beekeeper', Title: 'Marys of the Sea'\",\n",
       "   \"Author: 'tori amos', Album: 'The Beekeeper', Title: 'The Beekeeper'\",\n",
       "   \"Author: 'tori amos', Album: 'To Venus and Back-Orbiting', Title: 'Glory Of The 80 s'\",\n",
       "   \"Author: 'tori amos', Album: 'To Venus and Back-Orbiting', Title: 'Lust'\",\n",
       "   \"Author: 'tori amos', Album: 'To Venus and Back-Orbiting', Title: 'Suede'\",\n",
       "   \"Author: 'tori amos', Album: 'Under the Pink', Title: 'Bells For Her'\",\n",
       "   \"Author: 'tori amos', Album: 'Under the Pink', Title: 'Space Dog'\",\n",
       "   \"Author: 'tori amos', Album: 'Under the Pink', Title: 'The Wrong Band'\",\n",
       "   \"Author: 'u2', Album: 'Achtung Baby', Title: 'One'\",\n",
       "   \"Author: 'u2', Album: 'Achtung Baby', Title: 'The Fly'\",\n",
       "   \"Author: 'u2', Album: 'October', Title: 'Rejoice'\",\n",
       "   \"Author: 'u2', Album: 'October', Title: 'Scarlet'\",\n",
       "   \"Author: 'u2', Album: 'October', Title: 'Tomorrow'\",\n",
       "   \"Author: 'u2', Album: 'The Joshua Tree', Title: 'I Still Haven t Found What I m Looking For'\",\n",
       "   \"Author: 'u2', Album: 'The Joshua Tree', Title: 'Red Hill Mining Town'\",\n",
       "   \"Author: 'u2', Album: 'The Joshua Tree', Title: 'Running to Stand Still'\",\n",
       "   \"Author: 'u2', Album: 'The Joshua Tree', Title: 'Trip Through Your Wires'\",\n",
       "   \"Author: 'u2', Album: 'The Joshua Tree', Title: 'With or Without You'\",\n",
       "   \"Author: 'u2', Album: 'The Unforgettable Fire', Title: '4th of July'\",\n",
       "   \"Author: 'u2', Album: 'The Unforgettable Fire', Title: 'A Sort of Homecoming'\",\n",
       "   \"Author: 'u2', Album: 'The Unforgettable Fire', Title: 'Indian Summer Sky'\",\n",
       "   \"Author: 'u2', Album: 'The Unforgettable Fire', Title: 'Promenade'\",\n",
       "   \"Author: 'u2', Album: 'War', Title: ' 40 '\",\n",
       "   \"Author: 'u2', Album: 'War', Title: 'Drowning Man'\",\n",
       "   \"Author: 'u2', Album: 'War', Title: 'New Year s Day'\",\n",
       "   \"Author: 'u2', Album: 'War', Title: 'Red Light'\",\n",
       "   \"Author: 'u2', Album: 'War', Title: 'Seconds'\",\n",
       "   \"Author: 'u2', Album: 'War', Title: 'Sunday Bloody Sunday'\",\n",
       "   \"Author: 'u2', Album: 'War', Title: 'Surrender'\",\n",
       "   \"Author: 'u2', Album: 'War', Title: 'The Refugee'\",\n",
       "   \"Author: 'u2', Album: 'Zooropa', Title: 'Babyface'\",\n",
       "   \"Author: 'u2', Album: 'Zooropa', Title: 'Dirty Day'\",\n",
       "   \"Author: 'u2', Album: 'Zooropa', Title: 'Lemon'\",\n",
       "   \"Author: 'u2', Album: 'Zooropa', Title: 'Numb'\",\n",
       "   \"Author: 'u2', Album: 'Zooropa', Title: 'Some Days Are Better Than Others'\",\n",
       "   \"Author: 'u2', Album: 'Zooropa', Title: 'Stay Faraway So Close '\",\n",
       "   \"Author: 'u2', Album: 'Zooropa', Title: 'The Wanderer'\"}),\n",
       " (3,\n",
       "  {\"Author: 'creedence clearwater revival', Album: 'Pendulum', Title: 'Molina'\",\n",
       "   \"Author: 'dave matthews band', Album: 'Under The Table And Dreaming', Title: 'Pay For What You Get'\",\n",
       "   \"Author: 'depeche mode', Album: 'A Broken Frame', Title: 'Leave In Silence'\",\n",
       "   \"Author: 'depeche mode', Album: 'Construction Time Again', Title: 'Love, In Itself'\",\n",
       "   \"Author: 'depeche mode', Album: 'Speak and Spell', Title: 'Any Second Now Voices '\",\n",
       "   \"Author: 'green day', Album: 'Insomniac', Title: 'Brain Stew'\",\n",
       "   \"Author: 'green day', Album: 'Kerplunk', Title: 'Welcome To Paradise'\",\n",
       "   \"Author: 'green day', Album: 'Nimrod', Title: 'Redundant'\",\n",
       "   \"Author: 'led zeppelin', Album: 'Led Zeppelin I', Title: 'You Shook Me'\",\n",
       "   \"Author: 'led zeppelin', Album: 'Led Zeppelin III', Title: 'Since I ve Been Loving You'\",\n",
       "   \"Author: 'madonna', Album: 'Erotica', Title: 'In This Life'\",\n",
       "   \"Author: 'madonna', Album: 'I m Breathless', Title: 'Hanky Panky'\",\n",
       "   \"Author: 'madonna', Album: 'Ray of Light', Title: 'Frozen'\",\n",
       "   \"Author: 'queen', Album: 'The Game', Title: 'Dragon Attack 1991 Bonus Remix '\",\n",
       "   \"Author: 'queen', Album: 'The Works', Title: 'I Want To Break Free'\",\n",
       "   \"Author: 'radiohead', Album: 'Hail to the Theif', Title: 'Where I End and You Begin'\",\n",
       "   \"Author: 'roxette', Album: 'Look Sharp ', Title: 'Dance Away'\",\n",
       "   \"Author: 'roxette', Album: 'Pearls of Passion 1997 Remaster ', Title: 'Neverending Love Frank Mono-Mix 1987 '\",\n",
       "   \"Author: 'roxette', Album: 'Room Service', Title: 'Real Sugar'\",\n",
       "   \"Author: 'steely dan', Album: 'Aja', Title: 'Black Cow'\",\n",
       "   \"Author: 'suzanne vega', Album: 'Days of Open Hand', Title: 'Room Off The Street'\",\n",
       "   \"Author: 'tori amos', Album: 'Scarlet s Walk', Title: 'A Sorta Fairytale'\",\n",
       "   \"Author: 'tori amos', Album: 'Under the Pink', Title: 'Cloud On My Tongue'\",\n",
       "   \"Author: 'tori amos', Album: 'Under the Pink', Title: 'Space Dog'\",\n",
       "   \"Author: 'u2', Album: 'October', Title: 'Fire'\",\n",
       "   \"Author: 'u2', Album: 'The Unforgettable Fire', Title: 'A Sort of Homecoming'\",\n",
       "   \"Author: 'u2', Album: 'War', Title: 'Red Light'\"}),\n",
       " (4,\n",
       "  {\"Author: 'dave matthews band', Album: 'Stand Up', Title: 'Everybody Wake Up Our Finest Hour Arrives '\",\n",
       "   \"Author: 'dave matthews band', Album: 'Under The Table And Dreaming', Title: 'Lover Lay Down'\",\n",
       "   \"Author: 'depeche mode', Album: 'Black Celebration', Title: 'New dress'\",\n",
       "   \"Author: 'depeche mode', Album: 'Some Great Reward', Title: 'People Are People'\",\n",
       "   \"Author: 'depeche mode', Album: 'Speak and Spell', Title: 'Boys Say Go '\",\n",
       "   \"Author: 'fleetwood mac', Album: 'Mirage', Title: 'Wish You Were Here'\",\n",
       "   \"Author: 'fleetwood mac', Album: 'Rumours', Title: 'Never Going Back Again'\",\n",
       "   \"Author: 'fleetwood mac', Album: 'Tango In The Night', Title: 'You and I Part II'\",\n",
       "   \"Author: 'fleetwood mac', Album: 'Tusk', Title: 'Never Forget'\",\n",
       "   \"Author: 'garth brooks', Album: 'Fresh Horses 2000', Title: 'Cowboys and Angels'\",\n",
       "   \"Author: 'garth brooks', Album: 'Ropin The Wind The Limited Series ', Title: 'Rodeo'\",\n",
       "   \"Author: 'green day', Album: 'Dookie', Title: 'F O D -All By Myself'\",\n",
       "   \"Author: 'green day', Album: 'Kerplunk', Title: 'Welcome To Paradise'\",\n",
       "   \"Author: 'led zeppelin', Album: 'Led Zeppelin II', Title: 'Moby Dick'\",\n",
       "   \"Author: 'madonna', Album: 'Bedtime Stories', Title: 'I d Rather Be Your Lover'\",\n",
       "   \"Author: 'madonna', Album: 'Bedtime Stories', Title: 'Sanctuary'\",\n",
       "   \"Author: 'madonna', Album: 'Erotica', Title: 'Words'\",\n",
       "   \"Author: 'madonna', Album: 'I m Breathless', Title: 'Cry Baby'\",\n",
       "   \"Author: 'madonna', Album: 'Like A Prayer', Title: 'Dear Jessie'\",\n",
       "   \"Author: 'madonna', Album: 'Like A Prayer', Title: 'Express Yourself'\",\n",
       "   \"Author: 'madonna', Album: 'Like A Prayer', Title: 'Like A Prayer'\",\n",
       "   \"Author: 'madonna', Album: 'Music', Title: 'Amazing'\",\n",
       "   \"Author: 'madonna', Album: 'Ray of Light', Title: 'Ray Of Light'\",\n",
       "   \"Author: 'metallica', Album: 'Load', Title: 'King Nothing'\",\n",
       "   \"Author: 'metallica', Album: 'Metallica', Title: 'The Unforgiven'\",\n",
       "   \"Author: 'prince', Album: 'Parade', Title: 'Christopher Tracy s Parade'\",\n",
       "   \"Author: 'queen', Album: 'A Night At the Opera', Title: 'I m In Love With My Car'\",\n",
       "   \"Author: 'queen', Album: 'Jazz', Title: 'Fat Bottomed Girls'\",\n",
       "   \"Author: 'queen', Album: 'Jazz', Title: 'Jealousy'\",\n",
       "   \"Author: 'queen', Album: 'Sheer Heart Attack', Title: 'Lily Of The Valley'\",\n",
       "   \"Author: 'queen', Album: 'The Game', Title: 'Don t Try Suicide'\",\n",
       "   \"Author: 'queen', Album: 'The Game', Title: 'Dragon Attack 1991 Bonus Remix '\",\n",
       "   \"Author: 'queen', Album: 'The Works', Title: 'Hammer To Fall'\",\n",
       "   \"Author: 'radiohead', Album: 'Hail to the Theif', Title: 'A Punchup at a Wedding'\",\n",
       "   \"Author: 'radiohead', Album: 'OK Computer', Title: 'Climbing Up The Walls'\",\n",
       "   \"Author: 'radiohead', Album: 'Pablo Honey', Title: 'Creep Radio Edit '\",\n",
       "   \"Author: 'radiohead', Album: 'Pablo Honey', Title: 'How Do You '\",\n",
       "   \"Author: 'radiohead', Album: 'Pablo Honey', Title: 'Prove Yourself'\",\n",
       "   \"Author: 'roxette', Album: 'Crash Boom Bang ', Title: 'Fireworks'\",\n",
       "   \"Author: 'roxette', Album: 'Crash Boom Bang ', Title: 'I m Sorry'\",\n",
       "   \"Author: 'roxette', Album: 'Joyride', Title: 'spending my time'\",\n",
       "   \"Author: 'roxette', Album: 'Look Sharp ', Title: 'Listen To Your Heart'\",\n",
       "   \"Author: 'roxette', Album: 'Look Sharp ', Title: 'Shadow Of A Doubt'\",\n",
       "   \"Author: 'roxette', Album: 'Look Sharp ', Title: 'The Look'\",\n",
       "   \"Author: 'roxette', Album: 'Pearls of Passion 1997 Remaster ', Title: 'Neverending Love Tits Ass Demo 1986 '\",\n",
       "   \"Author: 'roxette', Album: 'Room Service', Title: 'Looking For Jane'\",\n",
       "   \"Author: 'roxette', Album: 'Room Service', Title: 'The Centre Of The Heart'\",\n",
       "   \"Author: 'steely dan', Album: 'Aja', Title: 'Peg'\",\n",
       "   \"Author: 'steely dan', Album: 'Countdown To Ecstasy', Title: 'My Old School'\",\n",
       "   \"Author: 'steely dan', Album: 'Gaucho', Title: 'Time Out of Mind'\",\n",
       "   \"Author: 'steely dan', Album: 'Katy Lied', Title: 'Bad Sneakers'\",\n",
       "   \"Author: 'steely dan', Album: 'Katy Lied', Title: 'Chain Lightning'\",\n",
       "   \"Author: 'steely dan', Album: 'Pretzel Logic', Title: 'Monkey in Your Soul'\",\n",
       "   \"Author: 'steely dan', Album: 'Pretzel Logic', Title: 'With a Gun'\",\n",
       "   \"Author: 'steely dan', Album: 'The Royal Scam', Title: 'The Caves of Altamira'\",\n",
       "   \"Author: 'steely dan', Album: 'The Royal Scam', Title: 'The Fez'\",\n",
       "   \"Author: 'steely dan', Album: 'The Royal Scam', Title: 'The Royal Scam'\",\n",
       "   \"Author: 'suzanne vega', Album: '99 9 F ', Title: 'Bad Wisdom'\",\n",
       "   \"Author: 'suzanne vega', Album: '99 9 F ', Title: 'Rock In This Pocket Song Of David '\",\n",
       "   \"Author: 'suzanne vega', Album: 'Days of Open Hand', Title: 'Fifty-Fifty Chance'\",\n",
       "   \"Author: 'suzanne vega', Album: 'Days of Open Hand', Title: 'Pilgrimage'\",\n",
       "   \"Author: 'suzanne vega', Album: 'Days of Open Hand', Title: 'Room Off The Street'\",\n",
       "   \"Author: 'suzanne vega', Album: 'Days of Open Hand', Title: 'Those Whole Girls Run In Grace '\",\n",
       "   \"Author: 'suzanne vega', Album: 'Nine Objects Of Desire', Title: 'Caramel'\",\n",
       "   \"Author: 'suzanne vega', Album: 'Nine Objects Of Desire', Title: 'Casual Match'\",\n",
       "   \"Author: 'suzanne vega', Album: 'Nine Objects Of Desire', Title: 'Honeymoon Suite'\",\n",
       "   \"Author: 'suzanne vega', Album: 'Nine Objects Of Desire', Title: 'Lolita'\",\n",
       "   \"Author: 'suzanne vega', Album: 'Nine Objects Of Desire', Title: 'World Before Columbus'\",\n",
       "   \"Author: 'suzanne vega', Album: 'Solitude Standing', Title: 'Gypsy'\",\n",
       "   \"Author: 'suzanne vega', Album: 'Solitude Standing', Title: 'Language'\",\n",
       "   \"Author: 'suzanne vega', Album: 'Solitude Standing', Title: 'Tom s Diner Reprise'\",\n",
       "   \"Author: 'suzanne vega', Album: 'Solitude Standing', Title: 'Tom s Diner'\",\n",
       "   \"Author: 'suzanne vega', Album: 'Songs in Red and Gray', Title: 'If I Were a Weapon'\",\n",
       "   \"Author: 'suzanne vega', Album: 'Songs in Red and Gray', Title: 'Machine Ballerina'\",\n",
       "   \"Author: 'tori amos', Album: 'From the Choirgirl Hotel', Title: 'Black-Dove January '\",\n",
       "   \"Author: 'tori amos', Album: 'From the Choirgirl Hotel', Title: 'Hotel'\",\n",
       "   \"Author: 'tori amos', Album: 'From the Choirgirl Hotel', Title: 'Jackie s Strength'\",\n",
       "   \"Author: 'tori amos', Album: 'From the Choirgirl Hotel', Title: 'Pandora s Aquarium'\",\n",
       "   \"Author: 'tori amos', Album: 'Little Earthquakes', Title: 'Girl'\",\n",
       "   \"Author: 'tori amos', Album: 'Little Earthquakes', Title: 'Tear In Your Hand'\",\n",
       "   \"Author: 'tori amos', Album: 'Scarlet s Walk', Title: 'Scarlet s Walk'\",\n",
       "   \"Author: 'tori amos', Album: 'Scarlet s Walk', Title: 'Wednesday'\",\n",
       "   \"Author: 'tori amos', Album: 'The Beekeeper', Title: 'Hoochie Woman'\",\n",
       "   \"Author: 'tori amos', Album: 'The Beekeeper', Title: 'Ireland'\",\n",
       "   \"Author: 'tori amos', Album: 'The Beekeeper', Title: 'Martha s Foolish Ginger'\",\n",
       "   \"Author: 'tori amos', Album: 'The Beekeeper', Title: 'Marys of the Sea'\",\n",
       "   \"Author: 'tori amos', Album: 'The Beekeeper', Title: 'Original Sinsuality'\",\n",
       "   \"Author: 'tori amos', Album: 'The Beekeeper', Title: 'Parasol'\",\n",
       "   \"Author: 'tori amos', Album: 'The Beekeeper', Title: 'Sweet the Sting'\",\n",
       "   \"Author: 'tori amos', Album: 'The Beekeeper', Title: 'The Power of Orange Knickers'\",\n",
       "   \"Author: 'tori amos', Album: 'The Beekeeper', Title: 'Witness'\",\n",
       "   \"Author: 'tori amos', Album: 'To Venus and Back-Orbiting', Title: 'Bliss'\",\n",
       "   \"Author: 'tori amos', Album: 'To Venus and Back-Orbiting', Title: 'Josephine'\",\n",
       "   \"Author: 'tori amos', Album: 'To Venus and Back-Orbiting', Title: 'Lust'\",\n",
       "   \"Author: 'tori amos', Album: 'Under the Pink', Title: 'Baker Baker'\",\n",
       "   \"Author: 'tori amos', Album: 'Under the Pink', Title: 'Cornflake Girl'\",\n",
       "   \"Author: 'tori amos', Album: 'Under the Pink', Title: 'God'\",\n",
       "   \"Author: 'u2', Album: 'Achtung Baby', Title: 'Acrobat'\",\n",
       "   \"Author: 'u2', Album: 'Achtung Baby', Title: 'Love Is Blindness'\",\n",
       "   \"Author: 'u2', Album: 'Achtung Baby', Title: 'So Cruel'\",\n",
       "   \"Author: 'u2', Album: 'Achtung Baby', Title: 'The Fly'\",\n",
       "   \"Author: 'u2', Album: 'Achtung Baby', Title: 'Tryin To Throw Your Arms Around The World'\",\n",
       "   \"Author: 'u2', Album: 'Achtung Baby', Title: 'Until The End Of The World'\",\n",
       "   \"Author: 'u2', Album: 'Achtung Baby', Title: 'Who s Gonna Ride Your Wild Horses'\",\n",
       "   \"Author: 'u2', Album: 'Achtung Baby', Title: 'Zoo Station'\",\n",
       "   \"Author: 'u2', Album: 'October', Title: 'Fire'\",\n",
       "   \"Author: 'u2', Album: 'October', Title: 'Scarlet'\",\n",
       "   \"Author: 'u2', Album: 'October', Title: 'With a Shout'\",\n",
       "   \"Author: 'u2', Album: 'The Joshua Tree', Title: 'Bullet the Blue Sky'\",\n",
       "   \"Author: 'u2', Album: 'The Joshua Tree', Title: 'I Still Haven t Found What I m Looking For'\",\n",
       "   \"Author: 'u2', Album: 'The Joshua Tree', Title: 'Mothers of the Disappeared'\",\n",
       "   \"Author: 'u2', Album: 'The Joshua Tree', Title: 'One Tree Hill'\",\n",
       "   \"Author: 'u2', Album: 'The Joshua Tree', Title: 'Red Hill Mining Town'\",\n",
       "   \"Author: 'u2', Album: 'The Joshua Tree', Title: 'With or Without You'\",\n",
       "   \"Author: 'u2', Album: 'The Unforgettable Fire', Title: 'A Sort of Homecoming'\",\n",
       "   \"Author: 'u2', Album: 'The Unforgettable Fire', Title: 'Pride In The Name of Love '\",\n",
       "   \"Author: 'u2', Album: 'The Unforgettable Fire', Title: 'Promenade'\",\n",
       "   \"Author: 'u2', Album: 'The Unforgettable Fire', Title: 'The Unforgettable Fire'\",\n",
       "   \"Author: 'u2', Album: 'War', Title: 'Drowning Man'\",\n",
       "   \"Author: 'u2', Album: 'War', Title: 'Red Light'\",\n",
       "   \"Author: 'u2', Album: 'War', Title: 'Seconds'\",\n",
       "   \"Author: 'u2', Album: 'War', Title: 'Sunday Bloody Sunday'\",\n",
       "   \"Author: 'u2', Album: 'War', Title: 'Surrender'\",\n",
       "   \"Author: 'u2', Album: 'War', Title: 'The Refugee'\",\n",
       "   \"Author: 'u2', Album: 'War', Title: 'Two Hearts Beat As One'\",\n",
       "   \"Author: 'u2', Album: 'Zooropa', Title: 'Babyface'\",\n",
       "   \"Author: 'u2', Album: 'Zooropa', Title: 'Dirty Day'\",\n",
       "   \"Author: 'u2', Album: 'Zooropa', Title: 'Lemon'\",\n",
       "   \"Author: 'u2', Album: 'Zooropa', Title: 'Some Days Are Better Than Others'\",\n",
       "   \"Author: 'u2', Album: 'Zooropa', Title: 'Stay Faraway So Close '\",\n",
       "   \"Author: 'u2', Album: 'Zooropa', Title: 'The First Time'\",\n",
       "   \"Author: 'u2', Album: 'Zooropa', Title: 'The Wanderer'\",\n",
       "   \"Author: 'u2', Album: 'Zooropa', Title: 'Zooropa'\"}),\n",
       " (5,\n",
       "  {\"Author: 'aerosmith', Album: 'Toys In The Attic', Title: 'You See Me Crying'\",\n",
       "   \"Author: 'beatles', Album: 'Beatles For Sale', Title: 'I m A Loser'\",\n",
       "   \"Author: 'beatles', Album: 'Magical Mystery Tour', Title: 'Blue Jay Way'\",\n",
       "   \"Author: 'creedence clearwater revival', Album: 'Bayou Country', Title: 'Keep On Chooglin '\",\n",
       "   \"Author: 'creedence clearwater revival', Album: 'Pendulum', Title: ' Wish I Could Hideaway'\",\n",
       "   \"Author: 'cure', Album: 'The Top', Title: 'Bird Mad Girl'\",\n",
       "   \"Author: 'cure', Album: 'Wild Mood Swings', Title: 'The 13th'\",\n",
       "   \"Author: 'cure', Album: 'Wish', Title: 'From the Edge of the Deep Green Sea'\",\n",
       "   \"Author: 'dave matthews band', Album: 'Before These Crowded Streets', Title: 'Rapunzel'\",\n",
       "   \"Author: 'dave matthews band', Album: 'Stand Up', Title: 'Hello Again'\",\n",
       "   \"Author: 'dave matthews band', Album: 'Under The Table And Dreaming', Title: 'Pay For What You Get'\",\n",
       "   \"Author: 'depeche mode', Album: 'A Broken Frame', Title: 'The Meaning Of Love'\",\n",
       "   \"Author: 'depeche mode', Album: 'Construction Time Again', Title: 'Love, In Itself'\",\n",
       "   \"Author: 'depeche mode', Album: 'Construction Time Again', Title: 'Told You So'\",\n",
       "   \"Author: 'fleetwood mac', Album: 'Fleetwood Mac', Title: 'Say You Love Me'\",\n",
       "   \"Author: 'fleetwood mac', Album: 'Mirage', Title: 'Empire State'\",\n",
       "   \"Author: 'fleetwood mac', Album: 'Mirage', Title: 'Gypsy'\",\n",
       "   \"Author: 'fleetwood mac', Album: 'Rumours', Title: 'Gold Dust Woman'\",\n",
       "   \"Author: 'fleetwood mac', Album: 'Rumours', Title: 'The Chain'\",\n",
       "   \"Author: 'fleetwood mac', Album: 'Tango In The Night', Title: 'Big Love'\",\n",
       "   \"Author: 'fleetwood mac', Album: 'Tango In The Night', Title: 'Welcome To The Room Sara'\",\n",
       "   \"Author: 'fleetwood mac', Album: 'Tusk', Title: 'Beautiful Child'\",\n",
       "   \"Author: 'fleetwood mac', Album: 'Tusk', Title: 'Think About Me'\",\n",
       "   \"Author: 'garth brooks', Album: 'Fresh Horses 2000', Title: 'Ireland'\",\n",
       "   \"Author: 'garth brooks', Album: 'No Fences The Limited Series ', Title: 'This Ain t Tennessee'\",\n",
       "   \"Author: 'garth brooks', Album: 'Ropin The Wind The Limited Series ', Title: 'Shameless'\",\n",
       "   \"Author: 'garth brooks', Album: 'The Chase', Title: 'That Summer'\",\n",
       "   \"Author: 'madonna', Album: 'Bedtime Stories', Title: 'Inside Of Me'\",\n",
       "   \"Author: 'madonna', Album: 'Bedtime Stories', Title: 'Take A Bow'\",\n",
       "   \"Author: 'madonna', Album: 'I m Breathless', Title: 'More'\",\n",
       "   \"Author: 'madonna', Album: 'I m Breathless', Title: 'Now I m Following You Part II '\",\n",
       "   \"Author: 'madonna', Album: 'Like A Prayer', Title: 'Act Of Contrition'\",\n",
       "   \"Author: 'madonna', Album: 'Like A Prayer', Title: 'Promise To Try'\",\n",
       "   \"Author: 'madonna', Album: 'Ray of Light', Title: 'Candy Perfume Girl'\",\n",
       "   \"Author: 'metallica', Album: 'Load', Title: 'King Nothing'\",\n",
       "   \"Author: 'metallica', Album: 'Reload', Title: 'Devil s Dance'\",\n",
       "   \"Author: 'metallica', Album: 'Ride The Lightning', Title: 'Creeping Death'\",\n",
       "   \"Author: 'prince', Album: '1999', Title: 'Free'\",\n",
       "   \"Author: 'prince', Album: 'Parade', Title: 'I Wonder U'\",\n",
       "   \"Author: 'prince', Album: 'Sign O The Times Disc 1 ', Title: 'Sign O The Times'\",\n",
       "   \"Author: 'prince', Album: 'The Love Symbol Album', Title: 'The Continental'\",\n",
       "   \"Author: 'queen', Album: 'A Night At the Opera', Title: 'God Save the Queen'\",\n",
       "   \"Author: 'queen', Album: 'Jazz', Title: 'Fat Bottomed Girls'\",\n",
       "   \"Author: 'queen', Album: 'News Of The World', Title: 'We Are The Champions'\",\n",
       "   \"Author: 'queen', Album: 'Sheer Heart Attack', Title: 'Misfire'\",\n",
       "   \"Author: 'queen', Album: 'The Works', Title: 'I Want To Break Free'\",\n",
       "   \"Author: 'radiohead', Album: 'Pablo Honey', Title: 'Stop Whispering'\",\n",
       "   \"Author: 'radiohead', Album: 'The Bends', Title: 'High And Dry'\",\n",
       "   \"Author: 'roxette', Album: 'Crash Boom Bang ', Title: 'I m Sorry'\",\n",
       "   \"Author: 'roxette', Album: 'Crash Boom Bang ', Title: 'Lies'\",\n",
       "   \"Author: 'roxette', Album: 'Crash Boom Bang ', Title: 'Place Your Love'\",\n",
       "   \"Author: 'roxette', Album: 'Crash Boom Bang ', Title: 'Vulnerable'\",\n",
       "   \"Author: 'roxette', Album: 'Have a Nice Day', Title: '7 Twenty 7'\",\n",
       "   \"Author: 'roxette', Album: 'Have a Nice Day', Title: 'It Will Take A Long Long Time'\",\n",
       "   \"Author: 'roxette', Album: 'Joyride', Title: 'perfect day'\",\n",
       "   \"Author: 'roxette', Album: 'Look Sharp ', Title: 'Dangerous'\",\n",
       "   \"Author: 'roxette', Album: 'Look Sharp ', Title: 'Listen To Your Heart'\",\n",
       "   \"Author: 'steely dan', Album: 'Aja', Title: 'Home At Last'\",\n",
       "   \"Author: 'steely dan', Album: 'Countdown To Ecstasy', Title: 'My Old School'\",\n",
       "   \"Author: 'steely dan', Album: 'Gaucho', Title: 'Babylon Sisters'\",\n",
       "   \"Author: 'steely dan', Album: 'Pretzel Logic', Title: 'With a Gun'\",\n",
       "   \"Author: 'steely dan', Album: 'The Royal Scam', Title: 'The Caves of Altamira'\",\n",
       "   \"Author: 'suzanne vega', Album: 'Days of Open Hand', Title: 'Book Of Dreams'\",\n",
       "   \"Author: 'suzanne vega', Album: 'Days of Open Hand', Title: 'Room Off The Street'\",\n",
       "   \"Author: 'suzanne vega', Album: 'Nine Objects Of Desire', Title: 'Honeymoon Suite'\",\n",
       "   \"Author: 'suzanne vega', Album: 'Nine Objects Of Desire', Title: 'Thin Man'\",\n",
       "   \"Author: 'suzanne vega', Album: 'Nine Objects Of Desire', Title: 'World Before Columbus'\",\n",
       "   \"Author: 'suzanne vega', Album: 'Solitude Standing', Title: 'Gypsy'\",\n",
       "   \"Author: 'suzanne vega', Album: 'Solitude Standing', Title: 'Solitude Standing'\",\n",
       "   \"Author: 'suzanne vega', Album: 'Songs in Red and Gray', Title: ' I ll Never Be Your Maggie May'\",\n",
       "   \"Author: 'suzanne vega', Album: 'Songs in Red and Gray', Title: 'Widow s Walk'\",\n",
       "   \"Author: 'suzanne vega', Album: 'Suzanne Vega', Title: 'Knight Moves'\",\n",
       "   \"Author: 'suzanne vega', Album: 'Suzanne Vega', Title: 'Marlene On The Wall'\",\n",
       "   \"Author: 'suzanne vega', Album: 'Suzanne Vega', Title: 'Small Blue Thing'\",\n",
       "   \"Author: 'tori amos', Album: 'From the Choirgirl Hotel', Title: 'Black-Dove January '\",\n",
       "   \"Author: 'tori amos', Album: 'From the Choirgirl Hotel', Title: 'Playboy Mommy'\",\n",
       "   \"Author: 'tori amos', Album: 'Little Earthquakes', Title: 'Happy Phantom'\",\n",
       "   \"Author: 'tori amos', Album: 'Little Earthquakes', Title: 'Leather'\",\n",
       "   \"Author: 'tori amos', Album: 'Little Earthquakes', Title: 'Tear In Your Hand'\",\n",
       "   \"Author: 'tori amos', Album: 'Little Earthquakes', Title: 'Winter'\",\n",
       "   \"Author: 'tori amos', Album: 'Scarlet s Walk', Title: 'A Sorta Fairytale'\",\n",
       "   \"Author: 'tori amos', Album: 'Scarlet s Walk', Title: 'Amber Waves'\",\n",
       "   \"Author: 'tori amos', Album: 'Scarlet s Walk', Title: 'Scarlet s Walk'\",\n",
       "   \"Author: 'tori amos', Album: 'Scarlet s Walk', Title: 'Sweet Sangria'\",\n",
       "   \"Author: 'tori amos', Album: 'The Beekeeper', Title: 'Hoochie Woman'\",\n",
       "   \"Author: 'tori amos', Album: 'The Beekeeper', Title: 'Ireland'\",\n",
       "   \"Author: 'tori amos', Album: 'The Beekeeper', Title: 'Mother Revolution'\",\n",
       "   \"Author: 'tori amos', Album: 'The Beekeeper', Title: 'Sleeps With Butterflies'\",\n",
       "   \"Author: 'tori amos', Album: 'The Beekeeper', Title: 'Witness'\",\n",
       "   \"Author: 'tori amos', Album: 'To Venus and Back-Orbiting', Title: 'Datura'\",\n",
       "   \"Author: 'tori amos', Album: 'To Venus and Back-Orbiting', Title: 'Juarez'\",\n",
       "   \"Author: 'tori amos', Album: 'To Venus and Back-Orbiting', Title: 'Riot Poof'\",\n",
       "   \"Author: 'tori amos', Album: 'Under the Pink', Title: 'Cloud On My Tongue'\",\n",
       "   \"Author: 'tori amos', Album: 'Under the Pink', Title: 'God'\",\n",
       "   \"Author: 'tori amos', Album: 'Under the Pink', Title: 'The Wrong Band'\",\n",
       "   \"Author: 'u2', Album: 'Achtung Baby', Title: 'Until The End Of The World'\",\n",
       "   \"Author: 'u2', Album: 'October', Title: 'I Fall Down'\",\n",
       "   \"Author: 'u2', Album: 'October', Title: 'Rejoice'\",\n",
       "   \"Author: 'u2', Album: 'October', Title: 'Scarlet'\",\n",
       "   \"Author: 'u2', Album: 'October', Title: 'With a Shout'\",\n",
       "   \"Author: 'u2', Album: 'The Joshua Tree', Title: 'Mothers of the Disappeared'\",\n",
       "   \"Author: 'u2', Album: 'The Joshua Tree', Title: 'With or Without You'\",\n",
       "   \"Author: 'u2', Album: 'War', Title: ' 40 '\",\n",
       "   \"Author: 'u2', Album: 'War', Title: 'Drowning Man'\",\n",
       "   \"Author: 'u2', Album: 'War', Title: 'Like A Song '\",\n",
       "   \"Author: 'u2', Album: 'War', Title: 'Two Hearts Beat As One'\",\n",
       "   \"Author: 'u2', Album: 'Zooropa', Title: 'Dirty Day'\",\n",
       "   \"Author: 'u2', Album: 'Zooropa', Title: 'Lemon'\",\n",
       "   \"Author: 'u2', Album: 'Zooropa', Title: 'Some Days Are Better Than Others'\"}),\n",
       " (6,\n",
       "  {\"Author: 'aerosmith', Album: 'Draw the Line', Title: 'I Wanna Know Why'\",\n",
       "   \"Author: 'aerosmith', Album: 'Rocks', Title: 'Home Tonight'\",\n",
       "   \"Author: 'beatles', Album: 'A Hard Day s Night', Title: 'When I Get Home'\",\n",
       "   \"Author: 'beatles', Album: 'Abbey Road', Title: 'Golden Slumbers'\",\n",
       "   \"Author: 'beatles', Album: 'Magical Mystery Tour', Title: 'Your Mother Should Know'\",\n",
       "   \"Author: 'beatles', Album: 'Revolver', Title: 'And Your Bird Can Sing'\",\n",
       "   \"Author: 'creedence clearwater revival', Album: 'Green River', Title: 'Lodi'\",\n",
       "   \"Author: 'cure', Album: 'Wish', Title: 'Wendy Time'\",\n",
       "   \"Author: 'dave matthews band', Album: 'Under The Table And Dreaming', Title: 'Ants Marching'\",\n",
       "   \"Author: 'depeche mode', Album: 'Black Celebration', Title: 'A question of lust'\",\n",
       "   \"Author: 'fleetwood mac', Album: 'Fleetwood Mac', Title: 'Landslide'\",\n",
       "   \"Author: 'fleetwood mac', Album: 'Fleetwood Mac', Title: 'World Turning'\",\n",
       "   \"Author: 'fleetwood mac', Album: 'Rumours', Title: 'The Chain'\",\n",
       "   \"Author: 'fleetwood mac', Album: 'Tango In The Night', Title: 'When I See You Again'\",\n",
       "   \"Author: 'garth brooks', Album: 'Fresh Horses 2000', Title: 'Rollin '\",\n",
       "   \"Author: 'garth brooks', Album: 'Fresh Horses 2000', Title: 'She s Every Woman'\",\n",
       "   \"Author: 'garth brooks', Album: 'Fresh Horses 2000', Title: 'The Fever'\",\n",
       "   \"Author: 'garth brooks', Album: 'In Pieces', Title: 'Callin Baton Rouge'\",\n",
       "   \"Author: 'garth brooks', Album: 'Ropin The Wind The Limited Series ', Title: 'Burning Bridges'\",\n",
       "   \"Author: 'green day', Album: 'Nimrod', Title: 'Prosthetic Head'\",\n",
       "   \"Author: 'green day', Album: 'Nimrod', Title: 'Worry Rock'\",\n",
       "   \"Author: 'led zeppelin', Album: 'Houses of the Holy', Title: 'The Crunge'\",\n",
       "   \"Author: 'led zeppelin', Album: 'Led Zeppelin I', Title: 'Good Times Bad Times'\",\n",
       "   \"Author: 'led zeppelin', Album: 'Physical Graffiti Disc 2 ', Title: 'The Wanton Song'\",\n",
       "   \"Author: 'madonna', Album: 'Bedtime Stories', Title: 'Forbidden Love'\",\n",
       "   \"Author: 'madonna', Album: 'Erotica', Title: 'Words'\",\n",
       "   \"Author: 'madonna', Album: 'Ray of Light', Title: 'Skin'\",\n",
       "   \"Author: 'metallica', Album: 'Kill Em All', Title: 'Whiplash'\",\n",
       "   \"Author: 'metallica', Album: 'Metallica', Title: 'Wherever I May Roam'\",\n",
       "   \"Author: 'metallica', Album: 'Ride The Lightning', Title: 'Creeping Death'\",\n",
       "   \"Author: 'prince', Album: '1999', Title: 'Free'\",\n",
       "   \"Author: 'prince', Album: 'Lovesexy', Title: 'Glam Slam'\",\n",
       "   \"Author: 'prince', Album: 'Parade', Title: 'Mountains'\",\n",
       "   \"Author: 'prince', Album: 'Purple Rain', Title: 'The beautiful ones'\",\n",
       "   \"Author: 'prince', Album: 'Sign O The Times Disc 1 ', Title: 'It'\",\n",
       "   \"Author: 'prince', Album: 'Sign O The Times Disc 1 ', Title: 'Play In The Sunshine'\",\n",
       "   \"Author: 'prince', Album: 'The Love Symbol Album', Title: '7'\",\n",
       "   \"Author: 'prince', Album: 'The Love Symbol Album', Title: 'Sexy M F '\",\n",
       "   \"Author: 'prince', Album: 'The Love Symbol Album', Title: 'The Continental'\",\n",
       "   \"Author: 'prince', Album: 'The Love Symbol Album', Title: 'The Flow'\",\n",
       "   \"Author: 'queen', Album: 'News Of The World', Title: 'My Melancholy Blues'\",\n",
       "   \"Author: 'queen', Album: 'Sheer Heart Attack', Title: 'She Makes Me Stormtrooper In Stilettos '\",\n",
       "   \"Author: 'queen', Album: 'The Game', Title: 'Coming Soon'\",\n",
       "   \"Author: 'queen', Album: 'The Game', Title: 'Crazy Little Thing Called Love'\",\n",
       "   \"Author: 'radiohead', Album: 'Amnesiac', Title: 'Dollars and Cents'\",\n",
       "   \"Author: 'radiohead', Album: 'Kid A', Title: 'Everything In Its Right Place'\",\n",
       "   \"Author: 'radiohead', Album: 'Kid A', Title: 'Optimistic'\",\n",
       "   \"Author: 'radiohead', Album: 'OK Computer', Title: 'Karma Police'\",\n",
       "   \"Author: 'radiohead', Album: 'Pablo Honey', Title: 'I Can t'\",\n",
       "   \"Author: 'radiohead', Album: 'Pablo Honey', Title: 'Stop Whispering'\",\n",
       "   \"Author: 'radiohead', Album: 'The Bends', Title: 'Sulk'\",\n",
       "   \"Author: 'roxette', Album: 'Crash Boom Bang ', Title: 'Place Your Love'\",\n",
       "   \"Author: 'roxette', Album: 'Have a Nice Day', Title: 'Wish I Could Fly'\",\n",
       "   \"Author: 'roxette', Album: 'Joyride', Title: 'spending my time'\",\n",
       "   \"Author: 'roxette', Album: 'Look Sharp ', Title: 'Dance Away'\",\n",
       "   \"Author: 'roxette', Album: 'Pearls of Passion 1997 Remaster ', Title: 'From One Heart To Another'\",\n",
       "   \"Author: 'roxette', Album: 'Pearls of Passion 1997 Remaster ', Title: 'It Must Have Been Love Christmas For The Broken-Hearted '\",\n",
       "   \"Author: 'roxette', Album: 'Pearls of Passion 1997 Remaster ', Title: 'Neverending Love Tits Ass Demo 1986 '\",\n",
       "   \"Author: 'roxette', Album: 'Pearls of Passion 1997 Remaster ', Title: 'Soul Deep'\",\n",
       "   \"Author: 'roxette', Album: 'Pearls of Passion 1997 Remaster ', Title: 'Surrender'\",\n",
       "   \"Author: 'roxette', Album: 'Room Service', Title: 'Bringing Me Down To My Knees'\",\n",
       "   \"Author: 'roxette', Album: 'Room Service', Title: 'Looking For Jane'\",\n",
       "   \"Author: 'roxette', Album: 'Room Service', Title: 'Try Just A Little Bit Harder '\",\n",
       "   \"Author: 'steely dan', Album: 'Aja', Title: 'Deacon Blues'\",\n",
       "   \"Author: 'steely dan', Album: 'Countdown To Ecstasy', Title: 'Bodhisattva'\",\n",
       "   \"Author: 'steely dan', Album: 'Gaucho', Title: 'Hey Nineteen'\",\n",
       "   \"Author: 'steely dan', Album: 'Gaucho', Title: 'My Rival'\",\n",
       "   \"Author: 'steely dan', Album: 'Gaucho', Title: 'Third World Man'\",\n",
       "   \"Author: 'steely dan', Album: 'Katy Lied', Title: 'Daddy Don t Live In That New York City No More'\",\n",
       "   \"Author: 'steely dan', Album: 'The Royal Scam', Title: 'Green Earrings'\",\n",
       "   \"Author: 'steely dan', Album: 'The Royal Scam', Title: 'The Fez'\",\n",
       "   \"Author: 'suzanne vega', Album: '99 9 F ', Title: ' If You Were In My Movie'\",\n",
       "   \"Author: 'suzanne vega', Album: '99 9 F ', Title: '99 9 F '\",\n",
       "   \"Author: 'suzanne vega', Album: '99 9 F ', Title: 'Bad Wisdom'\",\n",
       "   \"Author: 'suzanne vega', Album: '99 9 F ', Title: 'When Heroes Go Down'\",\n",
       "   \"Author: 'suzanne vega', Album: 'Days of Open Hand', Title: 'Room Off The Street'\",\n",
       "   \"Author: 'suzanne vega', Album: 'Nine Objects Of Desire', Title: 'Lolita'\",\n",
       "   \"Author: 'suzanne vega', Album: 'Solitude Standing', Title: 'Language'\",\n",
       "   \"Author: 'suzanne vega', Album: 'Songs in Red and Gray', Title: 'If I Were a Weapon'\",\n",
       "   \"Author: 'suzanne vega', Album: 'Songs in Red and Gray', Title: 'Priscilla'\",\n",
       "   \"Author: 'suzanne vega', Album: 'Songs in Red and Gray', Title: 'Soap and Water'\",\n",
       "   \"Author: 'suzanne vega', Album: 'Songs in Red and Gray', Title: 'Songs in Red and Gray'\",\n",
       "   \"Author: 'suzanne vega', Album: 'Suzanne Vega', Title: 'Small Blue Thing'\",\n",
       "   \"Author: 'tori amos', Album: 'Little Earthquakes', Title: 'Girl'\",\n",
       "   \"Author: 'tori amos', Album: 'Little Earthquakes', Title: 'Leather'\",\n",
       "   \"Author: 'tori amos', Album: 'Scarlet s Walk', Title: 'A Sorta Fairytale'\",\n",
       "   \"Author: 'tori amos', Album: 'Scarlet s Walk', Title: 'Another Girl s Paradise'\",\n",
       "   \"Author: 'tori amos', Album: 'Scarlet s Walk', Title: 'Crazy'\",\n",
       "   \"Author: 'tori amos', Album: 'Scarlet s Walk', Title: 'Don t Make Me Come To Vegas'\",\n",
       "   \"Author: 'tori amos', Album: 'The Beekeeper', Title: 'Original Sinsuality'\",\n",
       "   \"Author: 'tori amos', Album: 'The Beekeeper', Title: 'Ribbons Undone'\",\n",
       "   \"Author: 'tori amos', Album: 'Under the Pink', Title: 'Cornflake Girl'\",\n",
       "   \"Author: 'tori amos', Album: 'Under the Pink', Title: 'God'\",\n",
       "   \"Author: 'tori amos', Album: 'Under the Pink', Title: 'Past The Mission'\",\n",
       "   \"Author: 'u2', Album: 'Achtung Baby', Title: 'Acrobat'\",\n",
       "   \"Author: 'u2', Album: 'Achtung Baby', Title: 'The Fly'\",\n",
       "   \"Author: 'u2', Album: 'Achtung Baby', Title: 'Tryin To Throw Your Arms Around The World'\",\n",
       "   \"Author: 'u2', Album: 'Achtung Baby', Title: 'Zoo Station'\",\n",
       "   \"Author: 'u2', Album: 'October', Title: 'I Threw a Brick Through a Window'\",\n",
       "   \"Author: 'u2', Album: 'October', Title: 'Scarlet'\",\n",
       "   \"Author: 'u2', Album: 'October', Title: 'Stranger in a Strange Land'\",\n",
       "   \"Author: 'u2', Album: 'The Joshua Tree', Title: 'Bullet the Blue Sky'\",\n",
       "   \"Author: 'u2', Album: 'The Joshua Tree', Title: 'I Still Haven t Found What I m Looking For'\",\n",
       "   \"Author: 'u2', Album: 'The Joshua Tree', Title: 'One Tree Hill'\",\n",
       "   \"Author: 'u2', Album: 'The Joshua Tree', Title: 'Red Hill Mining Town'\",\n",
       "   \"Author: 'u2', Album: 'The Unforgettable Fire', Title: 'Bad'\",\n",
       "   \"Author: 'u2', Album: 'The Unforgettable Fire', Title: 'Indian Summer Sky'\",\n",
       "   \"Author: 'u2', Album: 'Zooropa', Title: 'Daddy s Gonna Pay For Your Crashed Car'\",\n",
       "   \"Author: 'u2', Album: 'Zooropa', Title: 'Lemon'\",\n",
       "   \"Author: 'u2', Album: 'Zooropa', Title: 'Stay Faraway So Close '\",\n",
       "   \"Author: 'u2', Album: 'Zooropa', Title: 'The First Time'\"}),\n",
       " (7,\n",
       "  {\"Author: 'aerosmith', Album: 'Aerosmith', Title: 'One Way Street'\",\n",
       "   \"Author: 'beatles', Album: 'A Hard Day s Night', Title: 'I m Happy Just To Dance With You'\",\n",
       "   \"Author: 'creedence clearwater revival', Album: 'Green River', Title: 'Lodi'\",\n",
       "   \"Author: 'creedence clearwater revival', Album: 'Pendulum', Title: 'Rude Awakening 2'\",\n",
       "   \"Author: 'creedence clearwater revival', Album: 'Willy and the Poor Boys', Title: 'Side o the road'\",\n",
       "   \"Author: 'cure', Album: 'Disintegration', Title: 'Plainsong'\",\n",
       "   \"Author: 'cure', Album: 'Wild Mood Swings', Title: 'Club America'\",\n",
       "   \"Author: 'cure', Album: 'Wild Mood Swings', Title: 'Mint Car'\",\n",
       "   \"Author: 'dave matthews band', Album: 'Before These Crowded Streets', Title: 'Stay Wasting Time '\",\n",
       "   \"Author: 'dave matthews band', Album: 'Everyday', Title: 'Sleep To Dream Her'\",\n",
       "   \"Author: 'dave matthews band', Album: 'Stand Up', Title: 'Out Of My Hands'\",\n",
       "   \"Author: 'depeche mode', Album: 'Speak and Spell', Title: 'Photographic'\",\n",
       "   \"Author: 'garth brooks', Album: 'Fresh Horses 2000', Title: 'The Beaches of Cheyenne'\",\n",
       "   \"Author: 'garth brooks', Album: 'Ropin The Wind The Limited Series ', Title: 'Shameless'\",\n",
       "   \"Author: 'green day', Album: 'American Idiot', Title: 'Letterbomb'\",\n",
       "   \"Author: 'green day', Album: 'Kerplunk', Title: 'Strangeland'\",\n",
       "   \"Author: 'green day', Album: 'Kerplunk', Title: 'Sweet Children'\",\n",
       "   \"Author: 'green day', Album: 'Nimrod', Title: 'Nice Guys Finish Last'\",\n",
       "   \"Author: 'green day', Album: 'Warning', Title: 'Jackass'\",\n",
       "   \"Author: 'led zeppelin', Album: 'Houses of the Holy', Title: 'Over The Hills And Far Away'\",\n",
       "   \"Author: 'led zeppelin', Album: 'Led Zeppelin I', Title: 'Communication Breakdown'\",\n",
       "   \"Author: 'led zeppelin', Album: 'Led Zeppelin IV Zoso', Title: 'Misty Mountain Hop'\",\n",
       "   \"Author: 'led zeppelin', Album: 'Physical Graffiti Disc 2 ', Title: 'Night Flight'\",\n",
       "   \"Author: 'madonna', Album: 'Bedtime Stories', Title: 'Inside Of Me'\",\n",
       "   \"Author: 'madonna', Album: 'I m Breathless', Title: 'Something to Remember'\",\n",
       "   \"Author: 'metallica', Album: 'Master of Puppets', Title: 'Leper Messiah'\",\n",
       "   \"Author: 'metallica', Album: 'Metallica', Title: 'The God that Failed'\",\n",
       "   \"Author: 'prince', Album: '1999', Title: 'Delirious'\",\n",
       "   \"Author: 'prince', Album: 'Parade', Title: 'Christopher Tracy s Parade'\",\n",
       "   \"Author: 'prince', Album: 'Parade', Title: 'New Position'\",\n",
       "   \"Author: 'prince', Album: 'Purple Rain', Title: 'Baby I m a star'\",\n",
       "   \"Author: 'prince', Album: 'The Love Symbol Album', Title: 'The Continental'\",\n",
       "   \"Author: 'queen', Album: 'News Of The World', Title: 'It s Late'\",\n",
       "   \"Author: 'queen', Album: 'The Game', Title: 'Coming Soon'\",\n",
       "   \"Author: 'queen', Album: 'The Game', Title: 'Crazy Little Thing Called Love'\",\n",
       "   \"Author: 'queen', Album: 'The Works', Title: 'Radio Ga Ga Extended Version '\",\n",
       "   \"Author: 'queen', Album: 'The Works', Title: 'Radio Ga Ga'\",\n",
       "   \"Author: 'radiohead', Album: 'OK Computer', Title: 'Exit Music for a film '\",\n",
       "   \"Author: 'radiohead', Album: 'OK Computer', Title: 'Paranoid Android'\",\n",
       "   \"Author: 'radiohead', Album: 'The Bends', Title: 'Bones'\",\n",
       "   \"Author: 'roxette', Album: 'Have a Nice Day', Title: 'Crush On You'\",\n",
       "   \"Author: 'roxette', Album: 'Joyride', Title: 'joyride'\",\n",
       "   \"Author: 'roxette', Album: 'Look Sharp ', Title: 'Dressed For Success'\",\n",
       "   \"Author: 'roxette', Album: 'Pearls of Passion 1997 Remaster ', Title: 'I Call Your Name Montezuma Demo 26 07 86 '\",\n",
       "   \"Author: 'roxette', Album: 'Room Service', Title: 'Make My Head Go Pop'\",\n",
       "   \"Author: 'steely dan', Album: 'Countdown To Ecstasy', Title: 'Pearl Of The Quarter'\",\n",
       "   \"Author: 'steely dan', Album: 'Countdown To Ecstasy', Title: 'Show Biz Kids'\",\n",
       "   \"Author: 'steely dan', Album: 'Pretzel Logic', Title: 'Rikki Don t Lose That Number'\",\n",
       "   \"Author: 'suzanne vega', Album: '99 9 F ', Title: 'As Girls Go'\",\n",
       "   \"Author: 'suzanne vega', Album: '99 9 F ', Title: 'Bad Wisdom'\",\n",
       "   \"Author: 'suzanne vega', Album: 'Days of Open Hand', Title: 'Those Whole Girls Run In Grace '\",\n",
       "   \"Author: 'suzanne vega', Album: 'Nine Objects Of Desire', Title: 'Head Shots'\",\n",
       "   \"Author: 'suzanne vega', Album: 'Nine Objects Of Desire', Title: 'Tombstone'\",\n",
       "   \"Author: 'suzanne vega', Album: 'Songs in Red and Gray', Title: 'Last Years Troubles'\",\n",
       "   \"Author: 'tori amos', Album: 'Scarlet s Walk', Title: 'Sweet Sangria'\",\n",
       "   \"Author: 'tori amos', Album: 'The Beekeeper', Title: 'Sweet the Sting'\",\n",
       "   \"Author: 'tori amos', Album: 'To Venus and Back-Orbiting', Title: 'Suede'\",\n",
       "   \"Author: 'tori amos', Album: 'Under the Pink', Title: 'God'\",\n",
       "   \"Author: 'tori amos', Album: 'Under the Pink', Title: 'The Waitress'\",\n",
       "   \"Author: 'tori amos', Album: 'Under the Pink', Title: 'The Wrong Band'\",\n",
       "   \"Author: 'u2', Album: 'Achtung Baby', Title: 'Love Is Blindness'\",\n",
       "   \"Author: 'u2', Album: 'Achtung Baby', Title: 'Tryin To Throw Your Arms Around The World'\",\n",
       "   \"Author: 'u2', Album: 'October', Title: 'I Threw a Brick Through a Window'\",\n",
       "   \"Author: 'u2', Album: 'October', Title: 'October'\",\n",
       "   \"Author: 'u2', Album: 'October', Title: 'Scarlet'\",\n",
       "   \"Author: 'u2', Album: 'The Joshua Tree', Title: 'Trip Through Your Wires'\",\n",
       "   \"Author: 'u2', Album: 'The Unforgettable Fire', Title: '4th of July'\",\n",
       "   \"Author: 'u2', Album: 'War', Title: 'Seconds'\",\n",
       "   \"Author: 'u2', Album: 'War', Title: 'Sunday Bloody Sunday'\",\n",
       "   \"Author: 'u2', Album: 'War', Title: 'The Refugee'\",\n",
       "   \"Author: 'u2', Album: 'War', Title: 'Two Hearts Beat As One'\",\n",
       "   \"Author: 'u2', Album: 'Zooropa', Title: 'Some Days Are Better Than Others'\",\n",
       "   \"Author: 'u2', Album: 'Zooropa', Title: 'The Wanderer'\"}),\n",
       " (8,\n",
       "  {\"Author: 'aerosmith', Album: 'Pump', Title: 'What It Takes'\",\n",
       "   \"Author: 'aerosmith', Album: 'Toys In The Attic', Title: 'Sweet Emotion'\",\n",
       "   \"Author: 'beatles', Album: 'Revolver', Title: 'Good Day Sunshine'\",\n",
       "   \"Author: 'beatles', Album: 'Revolver', Title: 'I m Only Sleeping'\",\n",
       "   \"Author: 'beatles', Album: 'The White Album Disc 1', Title: 'Julia'\",\n",
       "   \"Author: 'beatles', Album: 'The White Album Disc 1', Title: 'Wild Honey Pie'\",\n",
       "   \"Author: 'creedence clearwater revival', Album: 'Creedence Clearwater Revival', Title: 'Get Down Woman'\",\n",
       "   \"Author: 'creedence clearwater revival', Album: 'Green River', Title: 'The Night Time Is The Right Time'\",\n",
       "   \"Author: 'creedence clearwater revival', Album: 'Green River', Title: 'Tombstone Shadow'\",\n",
       "   \"Author: 'cure', Album: 'Wild Mood Swings', Title: 'Return'\",\n",
       "   \"Author: 'cure', Album: 'Wild Mood Swings', Title: 'This Is A Lie'\",\n",
       "   \"Author: 'dave matthews band', Album: 'Crash', Title: 'Proudest Monkey'\",\n",
       "   \"Author: 'dave matthews band', Album: 'Stand Up', Title: 'Steady As We Go'\",\n",
       "   \"Author: 'depeche mode', Album: 'Music for the Masses', Title: 'To have and to hold Spanish Taster '\",\n",
       "   \"Author: 'fleetwood mac', Album: 'Behind the Mask', Title: 'Behind the Mask'\",\n",
       "   \"Author: 'fleetwood mac', Album: 'Fleetwood Mac', Title: 'Say You Love Me'\",\n",
       "   \"Author: 'fleetwood mac', Album: 'Mirage', Title: 'Love in Store'\",\n",
       "   \"Author: 'fleetwood mac', Album: 'Rumours', Title: 'You Make Loving Fun'\",\n",
       "   \"Author: 'fleetwood mac', Album: 'Tusk', Title: 'Beautiful Child'\",\n",
       "   \"Author: 'green day', Album: 'American Idiot', Title: 'Are We the Waiting'\",\n",
       "   \"Author: 'green day', Album: 'Insomniac', Title: 'Westbound Sign'\",\n",
       "   \"Author: 'green day', Album: 'Nimrod', Title: 'Haushinka'\",\n",
       "   \"Author: 'green day', Album: 'Nimrod', Title: 'Last Ride In'\",\n",
       "   \"Author: 'led zeppelin', Album: 'Houses of the Holy', Title: 'The Song Remains The Same'\",\n",
       "   \"Author: 'led zeppelin', Album: 'Led Zeppelin I', Title: 'Babe I m Gonna Leave You'\",\n",
       "   \"Author: 'led zeppelin', Album: 'Led Zeppelin II', Title: 'What Is And What Should Never'\",\n",
       "   \"Author: 'led zeppelin', Album: 'Led Zeppelin III', Title: 'Gallows Pole'\",\n",
       "   \"Author: 'led zeppelin', Album: 'Physical Graffiti Disc 2 ', Title: 'Bron-Yr-Aur'\",\n",
       "   \"Author: 'madonna', Album: 'Bedtime Stories', Title: 'Bedtime Story'\",\n",
       "   \"Author: 'madonna', Album: 'Bedtime Stories', Title: 'Forbidden Love'\",\n",
       "   \"Author: 'madonna', Album: 'Erotica', Title: 'Did You Do It '\",\n",
       "   \"Author: 'madonna', Album: 'I m Breathless', Title: 'What Can You Lose'\",\n",
       "   \"Author: 'madonna', Album: 'Music', Title: 'Amazing'\",\n",
       "   \"Author: 'madonna', Album: 'Music', Title: 'I Deserve It'\",\n",
       "   \"Author: 'madonna', Album: 'Ray of Light', Title: 'Frozen'\",\n",
       "   \"Author: 'metallica', Album: 'Load', Title: 'Cure'\",\n",
       "   \"Author: 'metallica', Album: 'Load', Title: 'Until It Sleeps'\",\n",
       "   \"Author: 'metallica', Album: 'Reload', Title: 'The Unforgiven II'\",\n",
       "   \"Author: 'metallica', Album: 'Ride The Lightning', Title: 'Escape'\",\n",
       "   \"Author: 'prince', Album: '1999', Title: 'All The Critics Love U In New York'\",\n",
       "   \"Author: 'prince', Album: '1999', Title: 'Let s Pretend We re Married'\",\n",
       "   \"Author: 'prince', Album: 'Lovesexy', Title: 'When 2 R In Love'\",\n",
       "   \"Author: 'prince', Album: 'Parade', Title: 'Christopher Tracy s Parade'\",\n",
       "   \"Author: 'prince', Album: 'Purple Rain', Title: 'When doves cry'\",\n",
       "   \"Author: 'queen', Album: 'Sheer Heart Attack', Title: 'She Makes Me Stormtrooper In Stilettos '\",\n",
       "   \"Author: 'queen', Album: 'The Game', Title: 'Crazy Little Thing Called Love'\",\n",
       "   \"Author: 'queen', Album: 'The Game', Title: 'Save Me'\",\n",
       "   \"Author: 'queen', Album: 'The Works', Title: 'Man On The Prowl'\",\n",
       "   \"Author: 'radiohead', Album: 'Pablo Honey', Title: 'Vegetable'\",\n",
       "   \"Author: 'radiohead', Album: 'The Bends', Title: 'High And Dry'\",\n",
       "   \"Author: 'radiohead', Album: 'The Bends', Title: 'Planet Telex'\",\n",
       "   \"Author: 'roxette', Album: 'Crash Boom Bang ', Title: 'Do You Wanna Go The Whole Way '\",\n",
       "   \"Author: 'roxette', Album: 'Crash Boom Bang ', Title: 'I m Sorry'\",\n",
       "   \"Author: 'roxette', Album: 'Crash Boom Bang ', Title: 'Vulnerable'\",\n",
       "   \"Author: 'roxette', Album: 'Have a Nice Day', Title: 'It Will Take A Long Long Time'\",\n",
       "   \"Author: 'roxette', Album: 'Joyride', Title: 'watercolours in the rain'\",\n",
       "   \"Author: 'roxette', Album: 'Pearls of Passion 1997 Remaster ', Title: 'I Call Your Name'\",\n",
       "   \"Author: 'roxette', Album: 'Pearls of Passion 1997 Remaster ', Title: 'Neverending Love Frank Mono-Mix 1987 '\",\n",
       "   \"Author: 'steely dan', Album: 'Countdown To Ecstasy', Title: 'Bodhisattva'\",\n",
       "   \"Author: 'steely dan', Album: 'Gaucho', Title: 'Gaucho'\",\n",
       "   \"Author: 'steely dan', Album: 'Gaucho', Title: 'My Rival'\",\n",
       "   \"Author: 'steely dan', Album: 'Katy Lied', Title: 'Black Friday'\",\n",
       "   \"Author: 'steely dan', Album: 'The Royal Scam', Title: 'Haitian Divorce'\",\n",
       "   \"Author: 'steely dan', Album: 'The Royal Scam', Title: 'Sign in Stranger'\",\n",
       "   \"Author: 'steely dan', Album: 'The Royal Scam', Title: 'The Fez'\",\n",
       "   \"Author: 'suzanne vega', Album: '99 9 F ', Title: 'As A Child'\",\n",
       "   \"Author: 'suzanne vega', Album: '99 9 F ', Title: 'In Liverpool'\",\n",
       "   \"Author: 'suzanne vega', Album: 'Days of Open Hand', Title: 'Predictions'\",\n",
       "   \"Author: 'suzanne vega', Album: 'Nine Objects Of Desire', Title: 'Thin Man'\",\n",
       "   \"Author: 'suzanne vega', Album: 'Solitude Standing', Title: 'Ironbound-Fancy Poultry'\",\n",
       "   \"Author: 'suzanne vega', Album: 'Solitude Standing', Title: 'Night Vision'\",\n",
       "   \"Author: 'suzanne vega', Album: 'Solitude Standing', Title: 'Solitude Standing'\",\n",
       "   \"Author: 'suzanne vega', Album: 'Songs in Red and Gray', Title: 'Last Years Troubles'\",\n",
       "   \"Author: 'suzanne vega', Album: 'Songs in Red and Gray', Title: 'Penitent'\",\n",
       "   \"Author: 'suzanne vega', Album: 'Songs in Red and Gray', Title: 'Widow s Walk'\",\n",
       "   \"Author: 'tori amos', Album: 'Little Earthquakes', Title: 'Silent All These Years'\",\n",
       "   \"Author: 'tori amos', Album: 'Scarlet s Walk', Title: 'A Sorta Fairytale'\",\n",
       "   \"Author: 'tori amos', Album: 'Scarlet s Walk', Title: 'Pancake'\",\n",
       "   \"Author: 'tori amos', Album: 'Scarlet s Walk', Title: 'Sweet Sangria'\",\n",
       "   \"Author: 'tori amos', Album: 'The Beekeeper', Title: 'Jamaica Inn'\",\n",
       "   \"Author: 'tori amos', Album: 'The Beekeeper', Title: 'Marys of the Sea'\",\n",
       "   \"Author: 'tori amos', Album: 'The Beekeeper', Title: 'The Power of Orange Knickers'\",\n",
       "   \"Author: 'tori amos', Album: 'To Venus and Back-Orbiting', Title: 'Suede'\",\n",
       "   \"Author: 'tori amos', Album: 'Under the Pink', Title: 'Baker Baker'\",\n",
       "   \"Author: 'tori amos', Album: 'Under the Pink', Title: 'Cornflake Girl'\",\n",
       "   \"Author: 'u2', Album: 'Achtung Baby', Title: 'Even Better Than The Real Thing'\",\n",
       "   \"Author: 'u2', Album: 'Achtung Baby', Title: 'Mysterious Ways'\",\n",
       "   \"Author: 'u2', Album: 'Achtung Baby', Title: 'One'\",\n",
       "   \"Author: 'u2', Album: 'Achtung Baby', Title: 'Zoo Station'\",\n",
       "   \"Author: 'u2', Album: 'October', Title: 'Gloria'\",\n",
       "   \"Author: 'u2', Album: 'October', Title: 'I Threw a Brick Through a Window'\",\n",
       "   \"Author: 'u2', Album: 'The Joshua Tree', Title: 'Mothers of the Disappeared'\",\n",
       "   \"Author: 'u2', Album: 'The Joshua Tree', Title: 'One Tree Hill'\",\n",
       "   \"Author: 'u2', Album: 'The Joshua Tree', Title: 'Running to Stand Still'\",\n",
       "   \"Author: 'u2', Album: 'The Joshua Tree', Title: 'Trip Through Your Wires'\",\n",
       "   \"Author: 'u2', Album: 'The Joshua Tree', Title: 'With or Without You'\",\n",
       "   \"Author: 'u2', Album: 'The Unforgettable Fire', Title: 'Indian Summer Sky'\",\n",
       "   \"Author: 'u2', Album: 'The Unforgettable Fire', Title: 'Pride In The Name of Love '\",\n",
       "   \"Author: 'u2', Album: 'War', Title: 'Seconds'\",\n",
       "   \"Author: 'u2', Album: 'Zooropa', Title: 'Daddy s Gonna Pay For Your Crashed Car'\",\n",
       "   \"Author: 'u2', Album: 'Zooropa', Title: 'Lemon'\",\n",
       "   \"Author: 'u2', Album: 'Zooropa', Title: 'Numb'\",\n",
       "   \"Author: 'u2', Album: 'Zooropa', Title: 'Stay Faraway So Close '\",\n",
       "   \"Author: 'u2', Album: 'Zooropa', Title: 'The Wanderer'\"}),\n",
       " (9,\n",
       "  {\"Author: 'aerosmith', Album: 'Get Your Wings', Title: 'Woman Of The World'\",\n",
       "   \"Author: 'creedence clearwater revival', Album: 'Bayou Country', Title: 'Good Golly Miss Molly'\",\n",
       "   \"Author: 'creedence clearwater revival', Album: 'Pendulum', Title: 'It s Just A Thought'\",\n",
       "   \"Author: 'cure', Album: 'Kiss Me Kiss Me Kiss Me', Title: 'Shiver And Shake'\",\n",
       "   \"Author: 'cure', Album: 'Kiss Me Kiss Me Kiss Me', Title: 'Why Can t I Be You '\",\n",
       "   \"Author: 'dave matthews band', Album: 'Crash', Title: 'Too Much'\",\n",
       "   \"Author: 'dave matthews band', Album: 'Everyday', Title: 'Dreams of Our Fathers'\",\n",
       "   \"Author: 'fleetwood mac', Album: 'Fleetwood Mac', Title: 'Monday Morning'\",\n",
       "   \"Author: 'green day', Album: 'Dookie', Title: 'Longview'\",\n",
       "   \"Author: 'green day', Album: 'Nimrod', Title: 'Take Back'\",\n",
       "   \"Author: 'led zeppelin', Album: 'Led Zeppelin II', Title: 'Whole Lotta Love'\",\n",
       "   \"Author: 'led zeppelin', Album: 'Physical Graffiti Disc 2 ', Title: 'Ten Years Gone'\",\n",
       "   \"Author: 'madonna', Album: 'Bedtime Stories', Title: 'Survival'\",\n",
       "   \"Author: 'madonna', Album: 'Like A Prayer', Title: 'Cherish'\",\n",
       "   \"Author: 'madonna', Album: 'Music', Title: 'Music'\",\n",
       "   \"Author: 'metallica', Album: 'Kill Em All', Title: 'Phantom Lord'\",\n",
       "   \"Author: 'metallica', Album: 'Master of Puppets', Title: 'Thing That Should Not Be The'\",\n",
       "   \"Author: 'metallica', Album: 'Reload', Title: 'Fuel'\",\n",
       "   \"Author: 'metallica', Album: 'Ride The Lightning', Title: 'Fight Fire With Fire'\",\n",
       "   \"Author: 'queen', Album: 'A Night At the Opera', Title: 'You re My Best Friend'\",\n",
       "   \"Author: 'queen', Album: 'Jazz', Title: 'Mustapha'\",\n",
       "   \"Author: 'queen', Album: 'News Of The World', Title: 'Spread Your Wings'\",\n",
       "   \"Author: 'radiohead', Album: 'Amnesiac', Title: 'You and Whose Army'\",\n",
       "   \"Author: 'roxette', Album: 'Crash Boom Bang ', Title: 'The First Girl On The Moon'\",\n",
       "   \"Author: 'roxette', Album: 'Joyride', Title: 'phsycial fascination'\",\n",
       "   \"Author: 'roxette', Album: 'Pearls of Passion 1997 Remaster ', Title: 'Soul Deep'\",\n",
       "   \"Author: 'roxette', Album: 'Room Service', Title: 'Little Girl'\",\n",
       "   \"Author: 'suzanne vega', Album: 'Nine Objects Of Desire', Title: 'No Cheap Thrill'\",\n",
       "   \"Author: 'suzanne vega', Album: 'Songs in Red and Gray', Title: 'Songs in Red and Gray'\",\n",
       "   \"Author: 'tori amos', Album: 'From the Choirgirl Hotel', Title: 'Liquid Diamonds'\",\n",
       "   \"Author: 'tori amos', Album: 'Little Earthquakes', Title: 'Happy Phantom'\",\n",
       "   \"Author: 'tori amos', Album: 'The Beekeeper', Title: 'Mother Revolution'\",\n",
       "   \"Author: 'tori amos', Album: 'The Beekeeper', Title: 'Parasol'\",\n",
       "   \"Author: 'u2', Album: 'The Joshua Tree', Title: 'With or Without You'\",\n",
       "   \"Author: 'u2', Album: 'War', Title: 'Drowning Man'\",\n",
       "   \"Author: 'u2', Album: 'Zooropa', Title: 'Dirty Day'\",\n",
       "   \"Author: 'u2', Album: 'Zooropa', Title: 'Some Days Are Better Than Others'\",\n",
       "   \"Author: 'u2', Album: 'Zooropa', Title: 'The Wanderer'\"})]"
      ]
     },
     "execution_count": 79,
     "metadata": {},
     "output_type": "execute_result"
    }
   ],
   "source": [
    "output"
   ]
  },
  {
   "cell_type": "markdown",
   "metadata": {},
   "source": [
    "Using a bandwidth of 5 yields more than 100 matches per track, as we can see below. Thus in the next paragraph we will fine-tune the two hyperparameters, namely duration and bandwidth in order to get a meaningful number of matches."
   ]
  },
  {
   "cell_type": "code",
   "execution_count": 83,
   "metadata": {},
   "outputs": [
    {
     "data": {
      "text/plain": [
       "114"
      ]
     },
     "execution_count": 83,
     "metadata": {},
     "output_type": "execute_result"
    }
   ],
   "source": [
    "len(output[0][1])"
   ]
  },
  {
   "cell_type": "markdown",
   "metadata": {},
   "source": [
    "# Hyperparameter-Tuning"
   ]
  },
  {
   "cell_type": "markdown",
   "metadata": {},
   "source": [
    "In the code above we have found too many matches per query track. Our goal is to get at most 1 match per track, and output its name. Hence, we are going to do some tune the duration, the number of bands and the number of permutations, keeping in mind also the computation time, that for an application like Shazam is as important as predicting tracks right.\n",
    "\n",
    "Thus, we will try the fastest combination each time, whenever we find more than one match we are going to raise some of the above-mentioned parameters. In the specific, we are going to progressively lower the number of bands parameter, from 20 (that finds 0 matches with duration < 90 sec) to the first number at which some matches will be found, hoping that such number would be high, since at lower num_bands values, e.g. 2, there would be too many of matches for sure (it is an indicator for the robustness of the prediction basically). \n",
    "\n",
    "To improve this algorithm, we could take the number of num_bands at which it finds matches into account for computing a score that would approximate the accuracy of the prediction."
   ]
  },
  {
   "cell_type": "code",
   "execution_count": 18,
   "metadata": {},
   "outputs": [
    {
     "data": {
      "application/vnd.jupyter.widget-view+json": {
       "model_id": "65d1541584574925ac495cc3f4855140",
       "version_major": 2,
       "version_minor": 0
      },
      "text/plain": [
       "HBox(children=(HTML(value=''), FloatProgress(value=0.0, max=1413.0), HTML(value='')))"
      ]
     },
     "metadata": {},
     "output_type": "display_data"
    },
    {
     "name": "stdout",
     "output_type": "stream",
     "text": [
      "\n"
     ]
    }
   ],
   "source": [
    "#Sort of GridSearch, wout CV lol\n",
    "\n",
    "import random\n",
    "random.seed(42)\n",
    "DURATION = 30 \n",
    "\n",
    "data_folder = Path(r\"C:\\Users\\alessio\\Downloads\\adm-hw4\\mp3s-32k\")\n",
    "mp3_tracks = data_folder.glob(\"*\\*\\*.mp3\")\n",
    "tracks = data_folder.glob(\"*\\*\\*.wav\") \n",
    "ls=[]\n",
    "for idx, audio in tqdm(enumerate(tracks), total=N_TRACKS):\n",
    "    track, sr, onset_env, peaks = load_audio_picks(audio, DURATION, HOP_SIZE)\n",
    "    ls.append((idx, peaks))\n",
    "peakListLen = DURATION*22050//HOP_SIZE\n",
    "m=np.zeros((peakListLen, N_TRACKS), dtype=int)\n",
    "for i in range(peakListLen):\n",
    "        j=0\n",
    "        while j<(ls[-1][0]+1):\n",
    "            if i in ls[j][1]:\n",
    "                m[i][j]=1\n",
    "            j+=1\n",
    "shingles = list(range(peakListLen))\n",
    "signatureMatrix = []\n",
    "num_perm = 10000\n",
    "signatureMatrix=[]\n",
    "for _ in tqdm(range(num_perm), total=num_perm):\n",
    "    temp=[]\n",
    "    random.shuffle(shingles)\n",
    "    for i in range(ls[-1][0]+1):\n",
    "        j=0\n",
    "        while shingles[j] not in ls[i][1]:\n",
    "            if j==peakListLen-1:\n",
    "                break\n",
    "            j+=1\n",
    "        temp.append(j)\n",
    "    signatureMatrix.append(temp)\n",
    "signatureMatrix=np.array(signatureMatrix)\n",
    "\n",
    "perms_transp = np.transpose(np.array(signatureMatrix))\n",
    "perms_flat = perms_transp.flatten()\n",
    "#Ready for computing bands\n",
    "data_folder = Path(r\"C:\\Users\\alessio\\Downloads\\adm-hw4\\query\")\n",
    "tracksQ = data_folder.glob(\"*.wav\")\n",
    "\n",
    "lsQ=[]\n",
    "for idx, audio in tqdm(enumerate(tracksQ), total=10):\n",
    "    track, sr, onset_env, peaks = load_audio_picks(audio, DURATION, HOP_SIZE)\n",
    "    lsQ.append((idx, peaks))\n",
    "\n",
    "mQ=np.zeros((peakListLen, 10), dtype=int)\n",
    "\n",
    "for i in range(peakListLen):\n",
    "        j=0\n",
    "        while j<10:\n",
    "            if i in ls[j][1]:\n",
    "                mQ[i][j]=1\n",
    "            j+=1\n",
    "\n",
    "shinglesQ = list(range(peakListLen))\n",
    "signatureMatrixQ = []\n",
    "num_permQ = 10000\n",
    "for _ in tqdm(range(num_perm), total=num_perm):\n",
    "    temp=[]\n",
    "    random.shuffle(shinglesQ)\n",
    "    for i in range(lsQ[-1][0]+1):\n",
    "        j=0\n",
    "        while shinglesQ[j] not in lsQ[i][1]:\n",
    "            if j==peakListLen:\n",
    "                break\n",
    "            j+=1\n",
    "        temp.append(j)\n",
    "    signatureMatrixQ.append(temp)\n",
    "\n",
    "perms_transpQ = np.transpose(np.array(signatureMatrixQ))\n",
    "perms_flatQ = perms_transpQ.flatten()\n",
    "#Ready for computing bands pt.2"
   ]
  },
  {
   "cell_type": "code",
   "execution_count": 21,
   "metadata": {
    "scrolled": true
   },
   "outputs": [
    {
     "data": {
      "application/vnd.jupyter.widget-view+json": {
       "model_id": "9e68a7aeac5643639ef55a17e3e1d09f",
       "version_major": 2,
       "version_minor": 0
      },
      "text/plain": [
       "HBox(children=(HTML(value=''), FloatProgress(value=0.0, max=706500.0), HTML(value='')))"
      ]
     },
     "metadata": {},
     "output_type": "display_data"
    },
    {
     "name": "stdout",
     "output_type": "stream",
     "text": [
      "\n",
      "20 []\n"
     ]
    },
    {
     "data": {
      "application/vnd.jupyter.widget-view+json": {
       "model_id": "13812257d5214a1c8c347b29a59978dd",
       "version_major": 2,
       "version_minor": 0
      },
      "text/plain": [
       "HBox(children=(HTML(value=''), FloatProgress(value=0.0, max=743684.2105263158), HTML(value='')))"
      ]
     },
     "metadata": {},
     "output_type": "display_data"
    },
    {
     "name": "stdout",
     "output_type": "stream",
     "text": [
      "\n",
      "19 []\n"
     ]
    },
    {
     "data": {
      "application/vnd.jupyter.widget-view+json": {
       "model_id": "cfb7963a5dc54cc3b9b91077f2e16347",
       "version_major": 2,
       "version_minor": 0
      },
      "text/plain": [
       "HBox(children=(HTML(value=''), FloatProgress(value=0.0, max=785000.0), HTML(value='')))"
      ]
     },
     "metadata": {},
     "output_type": "display_data"
    },
    {
     "name": "stdout",
     "output_type": "stream",
     "text": [
      "\n",
      "18 []\n"
     ]
    },
    {
     "data": {
      "application/vnd.jupyter.widget-view+json": {
       "model_id": "2c9463da3edb4746abe93814e77be04a",
       "version_major": 2,
       "version_minor": 0
      },
      "text/plain": [
       "HBox(children=(HTML(value=''), FloatProgress(value=0.0, max=831176.4705882353), HTML(value='')))"
      ]
     },
     "metadata": {},
     "output_type": "display_data"
    },
    {
     "name": "stdout",
     "output_type": "stream",
     "text": [
      "\n",
      "17 []\n"
     ]
    },
    {
     "data": {
      "application/vnd.jupyter.widget-view+json": {
       "model_id": "62c0f4240bfd4591b96116abb6f2d991",
       "version_major": 2,
       "version_minor": 0
      },
      "text/plain": [
       "HBox(children=(HTML(value=''), FloatProgress(value=0.0, max=883125.0), HTML(value='')))"
      ]
     },
     "metadata": {},
     "output_type": "display_data"
    },
    {
     "name": "stdout",
     "output_type": "stream",
     "text": [
      "\n",
      "16 []\n"
     ]
    },
    {
     "data": {
      "application/vnd.jupyter.widget-view+json": {
       "model_id": "7587499c500f439aaf9830490afed3da",
       "version_major": 2,
       "version_minor": 0
      },
      "text/plain": [
       "HBox(children=(HTML(value=''), FloatProgress(value=0.0, max=942000.0), HTML(value='')))"
      ]
     },
     "metadata": {},
     "output_type": "display_data"
    },
    {
     "name": "stdout",
     "output_type": "stream",
     "text": [
      "\n",
      "15 []\n"
     ]
    },
    {
     "data": {
      "application/vnd.jupyter.widget-view+json": {
       "model_id": "dcd0d2d50dc24ad5a3c0a3a0af3fdff7",
       "version_major": 2,
       "version_minor": 0
      },
      "text/plain": [
       "HBox(children=(HTML(value=''), FloatProgress(value=0.0, max=1009285.7142857143), HTML(value='')))"
      ]
     },
     "metadata": {},
     "output_type": "display_data"
    },
    {
     "name": "stdout",
     "output_type": "stream",
     "text": [
      "\n",
      "14 []\n"
     ]
    },
    {
     "data": {
      "application/vnd.jupyter.widget-view+json": {
       "model_id": "b49da3f1dc63497790fb417454c447af",
       "version_major": 2,
       "version_minor": 0
      },
      "text/plain": [
       "HBox(children=(HTML(value=''), FloatProgress(value=0.0, max=1086923.076923077), HTML(value='')))"
      ]
     },
     "metadata": {},
     "output_type": "display_data"
    },
    {
     "name": "stdout",
     "output_type": "stream",
     "text": [
      "\n",
      "13 []\n"
     ]
    },
    {
     "data": {
      "application/vnd.jupyter.widget-view+json": {
       "model_id": "a904122d458b463ab32fb3041739fdb0",
       "version_major": 2,
       "version_minor": 0
      },
      "text/plain": [
       "HBox(children=(HTML(value=''), FloatProgress(value=0.0, max=1177500.0), HTML(value='')))"
      ]
     },
     "metadata": {},
     "output_type": "display_data"
    },
    {
     "name": "stdout",
     "output_type": "stream",
     "text": [
      "\n",
      "12 []\n"
     ]
    },
    {
     "data": {
      "application/vnd.jupyter.widget-view+json": {
       "model_id": "30ff28f734f84e9cb02e1087ff714849",
       "version_major": 2,
       "version_minor": 0
      },
      "text/plain": [
       "HBox(children=(HTML(value=''), FloatProgress(value=0.0, max=1284545.4545454546), HTML(value='')))"
      ]
     },
     "metadata": {},
     "output_type": "display_data"
    },
    {
     "name": "stdout",
     "output_type": "stream",
     "text": [
      "\n",
      "11 [\"Author: 'aerosmith', Album: 'Toys In The Attic', Title: 'No More No More'\"]\n"
     ]
    },
    {
     "data": {
      "application/vnd.jupyter.widget-view+json": {
       "model_id": "520e34b828a8429b8e83cb151fcb43bb",
       "version_major": 2,
       "version_minor": 0
      },
      "text/plain": [
       "HBox(children=(HTML(value=''), FloatProgress(value=0.0, max=706500.0), HTML(value='')))"
      ]
     },
     "metadata": {},
     "output_type": "display_data"
    },
    {
     "name": "stdout",
     "output_type": "stream",
     "text": [
      "\n",
      "20 []\n"
     ]
    },
    {
     "data": {
      "application/vnd.jupyter.widget-view+json": {
       "model_id": "6eb21c05f5cf4ef999b38f402dd84f36",
       "version_major": 2,
       "version_minor": 0
      },
      "text/plain": [
       "HBox(children=(HTML(value=''), FloatProgress(value=0.0, max=743684.2105263158), HTML(value='')))"
      ]
     },
     "metadata": {},
     "output_type": "display_data"
    },
    {
     "name": "stdout",
     "output_type": "stream",
     "text": [
      "\n",
      "19 []\n"
     ]
    },
    {
     "data": {
      "application/vnd.jupyter.widget-view+json": {
       "model_id": "2212d3a1525348bcab0e4cbcb307d20a",
       "version_major": 2,
       "version_minor": 0
      },
      "text/plain": [
       "HBox(children=(HTML(value=''), FloatProgress(value=0.0, max=785000.0), HTML(value='')))"
      ]
     },
     "metadata": {},
     "output_type": "display_data"
    },
    {
     "name": "stdout",
     "output_type": "stream",
     "text": [
      "\n",
      "18 []\n"
     ]
    },
    {
     "data": {
      "application/vnd.jupyter.widget-view+json": {
       "model_id": "ff22df9dfaac48fa9d476b901736d3f4",
       "version_major": 2,
       "version_minor": 0
      },
      "text/plain": [
       "HBox(children=(HTML(value=''), FloatProgress(value=0.0, max=831176.4705882353), HTML(value='')))"
      ]
     },
     "metadata": {},
     "output_type": "display_data"
    },
    {
     "name": "stdout",
     "output_type": "stream",
     "text": [
      "\n",
      "17 []\n"
     ]
    },
    {
     "data": {
      "application/vnd.jupyter.widget-view+json": {
       "model_id": "52a5c7750ef440cc9f54d514e50f984c",
       "version_major": 2,
       "version_minor": 0
      },
      "text/plain": [
       "HBox(children=(HTML(value=''), FloatProgress(value=0.0, max=883125.0), HTML(value='')))"
      ]
     },
     "metadata": {},
     "output_type": "display_data"
    },
    {
     "name": "stdout",
     "output_type": "stream",
     "text": [
      "\n",
      "16 []\n"
     ]
    },
    {
     "data": {
      "application/vnd.jupyter.widget-view+json": {
       "model_id": "d7238ccaa7cb4ebcadf05b7fb1200d4c",
       "version_major": 2,
       "version_minor": 0
      },
      "text/plain": [
       "HBox(children=(HTML(value=''), FloatProgress(value=0.0, max=942000.0), HTML(value='')))"
      ]
     },
     "metadata": {},
     "output_type": "display_data"
    },
    {
     "name": "stdout",
     "output_type": "stream",
     "text": [
      "\n",
      "15 []\n"
     ]
    },
    {
     "data": {
      "application/vnd.jupyter.widget-view+json": {
       "model_id": "8f8f35caa0df4ce9a4b937b6e89f9171",
       "version_major": 2,
       "version_minor": 0
      },
      "text/plain": [
       "HBox(children=(HTML(value=''), FloatProgress(value=0.0, max=1009285.7142857143), HTML(value='')))"
      ]
     },
     "metadata": {},
     "output_type": "display_data"
    },
    {
     "name": "stdout",
     "output_type": "stream",
     "text": [
      "\n",
      "14 []\n"
     ]
    },
    {
     "data": {
      "application/vnd.jupyter.widget-view+json": {
       "model_id": "bfd331b4074d4483993a87cd11444da1",
       "version_major": 2,
       "version_minor": 0
      },
      "text/plain": [
       "HBox(children=(HTML(value=''), FloatProgress(value=0.0, max=1086923.076923077), HTML(value='')))"
      ]
     },
     "metadata": {},
     "output_type": "display_data"
    },
    {
     "name": "stdout",
     "output_type": "stream",
     "text": [
      "\n",
      "13 []\n"
     ]
    },
    {
     "data": {
      "application/vnd.jupyter.widget-view+json": {
       "model_id": "1ad706f4061e49c09d40fd8e0c3d11fc",
       "version_major": 2,
       "version_minor": 0
      },
      "text/plain": [
       "HBox(children=(HTML(value=''), FloatProgress(value=0.0, max=1177500.0), HTML(value='')))"
      ]
     },
     "metadata": {},
     "output_type": "display_data"
    },
    {
     "name": "stdout",
     "output_type": "stream",
     "text": [
      "\n",
      "12 []\n"
     ]
    },
    {
     "data": {
      "application/vnd.jupyter.widget-view+json": {
       "model_id": "4facb80a73b84f668a7151858006cebd",
       "version_major": 2,
       "version_minor": 0
      },
      "text/plain": [
       "HBox(children=(HTML(value=''), FloatProgress(value=0.0, max=1284545.4545454546), HTML(value='')))"
      ]
     },
     "metadata": {},
     "output_type": "display_data"
    },
    {
     "name": "stdout",
     "output_type": "stream",
     "text": [
      "\n",
      "11 []\n"
     ]
    },
    {
     "data": {
      "application/vnd.jupyter.widget-view+json": {
       "model_id": "2fd860280db0402ea2fcffe2b6f1b20b",
       "version_major": 2,
       "version_minor": 0
      },
      "text/plain": [
       "HBox(children=(HTML(value=''), FloatProgress(value=0.0, max=1413000.0), HTML(value='')))"
      ]
     },
     "metadata": {},
     "output_type": "display_data"
    },
    {
     "name": "stdout",
     "output_type": "stream",
     "text": [
      "\n",
      "10 [\"Author: 'queen', Album: 'The Works', Title: 'I Want To Break Free'\", \"Author: 'steely dan', Album: 'Gaucho', Title: 'Gaucho'\"]\n"
     ]
    },
    {
     "data": {
      "application/vnd.jupyter.widget-view+json": {
       "model_id": "9ebd90cd4d944c5fb1d2b06bf16159b9",
       "version_major": 2,
       "version_minor": 0
      },
      "text/plain": [
       "HBox(children=(HTML(value=''), FloatProgress(value=0.0, max=706500.0), HTML(value='')))"
      ]
     },
     "metadata": {},
     "output_type": "display_data"
    },
    {
     "name": "stdout",
     "output_type": "stream",
     "text": [
      "\n",
      "20 []\n"
     ]
    },
    {
     "data": {
      "application/vnd.jupyter.widget-view+json": {
       "model_id": "aa3f134bb2be497796450c5eed3a0f1b",
       "version_major": 2,
       "version_minor": 0
      },
      "text/plain": [
       "HBox(children=(HTML(value=''), FloatProgress(value=0.0, max=743684.2105263158), HTML(value='')))"
      ]
     },
     "metadata": {},
     "output_type": "display_data"
    },
    {
     "name": "stdout",
     "output_type": "stream",
     "text": [
      "\n",
      "19 []\n"
     ]
    },
    {
     "data": {
      "application/vnd.jupyter.widget-view+json": {
       "model_id": "3ca82d1d56e74349913b8ecc7e820bf5",
       "version_major": 2,
       "version_minor": 0
      },
      "text/plain": [
       "HBox(children=(HTML(value=''), FloatProgress(value=0.0, max=785000.0), HTML(value='')))"
      ]
     },
     "metadata": {},
     "output_type": "display_data"
    },
    {
     "name": "stdout",
     "output_type": "stream",
     "text": [
      "\n",
      "18 []\n"
     ]
    },
    {
     "data": {
      "application/vnd.jupyter.widget-view+json": {
       "model_id": "644a488f7efa48ecb3b43deeae5a3bd1",
       "version_major": 2,
       "version_minor": 0
      },
      "text/plain": [
       "HBox(children=(HTML(value=''), FloatProgress(value=0.0, max=831176.4705882353), HTML(value='')))"
      ]
     },
     "metadata": {},
     "output_type": "display_data"
    },
    {
     "name": "stdout",
     "output_type": "stream",
     "text": [
      "\n",
      "17 []\n"
     ]
    },
    {
     "data": {
      "application/vnd.jupyter.widget-view+json": {
       "model_id": "6543bd8cad4a4641ada23ac277627c90",
       "version_major": 2,
       "version_minor": 0
      },
      "text/plain": [
       "HBox(children=(HTML(value=''), FloatProgress(value=0.0, max=883125.0), HTML(value='')))"
      ]
     },
     "metadata": {},
     "output_type": "display_data"
    },
    {
     "name": "stdout",
     "output_type": "stream",
     "text": [
      "\n",
      "16 []\n"
     ]
    },
    {
     "data": {
      "application/vnd.jupyter.widget-view+json": {
       "model_id": "6b4ad468b23941e484e7b1c8e16fb490",
       "version_major": 2,
       "version_minor": 0
      },
      "text/plain": [
       "HBox(children=(HTML(value=''), FloatProgress(value=0.0, max=942000.0), HTML(value='')))"
      ]
     },
     "metadata": {},
     "output_type": "display_data"
    },
    {
     "name": "stdout",
     "output_type": "stream",
     "text": [
      "\n",
      "15 []\n"
     ]
    },
    {
     "data": {
      "application/vnd.jupyter.widget-view+json": {
       "model_id": "3d549a5014564d449b12a36f74230f97",
       "version_major": 2,
       "version_minor": 0
      },
      "text/plain": [
       "HBox(children=(HTML(value=''), FloatProgress(value=0.0, max=1009285.7142857143), HTML(value='')))"
      ]
     },
     "metadata": {},
     "output_type": "display_data"
    },
    {
     "name": "stdout",
     "output_type": "stream",
     "text": [
      "\n",
      "14 []\n"
     ]
    },
    {
     "data": {
      "application/vnd.jupyter.widget-view+json": {
       "model_id": "3c306368a06c49fca43642c73cde72b0",
       "version_major": 2,
       "version_minor": 0
      },
      "text/plain": [
       "HBox(children=(HTML(value=''), FloatProgress(value=0.0, max=1086923.076923077), HTML(value='')))"
      ]
     },
     "metadata": {},
     "output_type": "display_data"
    },
    {
     "name": "stdout",
     "output_type": "stream",
     "text": [
      "\n",
      "13 []\n"
     ]
    },
    {
     "data": {
      "application/vnd.jupyter.widget-view+json": {
       "model_id": "bdf3b003bd934e559e1dfdda8c077b6d",
       "version_major": 2,
       "version_minor": 0
      },
      "text/plain": [
       "HBox(children=(HTML(value=''), FloatProgress(value=0.0, max=1177500.0), HTML(value='')))"
      ]
     },
     "metadata": {},
     "output_type": "display_data"
    },
    {
     "name": "stdout",
     "output_type": "stream",
     "text": [
      "\n",
      "12 []\n"
     ]
    },
    {
     "data": {
      "application/vnd.jupyter.widget-view+json": {
       "model_id": "6289f1aa5da04a75bb6ae81aba55b57f",
       "version_major": 2,
       "version_minor": 0
      },
      "text/plain": [
       "HBox(children=(HTML(value=''), FloatProgress(value=0.0, max=1284545.4545454546), HTML(value='')))"
      ]
     },
     "metadata": {},
     "output_type": "display_data"
    },
    {
     "name": "stdout",
     "output_type": "stream",
     "text": [
      "\n",
      "11 [\"Author: 'beatles', Album: 'A Hard Day s Night', Title: 'If I Fell'\"]\n"
     ]
    },
    {
     "data": {
      "application/vnd.jupyter.widget-view+json": {
       "model_id": "8c9ae63cf1e14416a9c2d2abe73b62f7",
       "version_major": 2,
       "version_minor": 0
      },
      "text/plain": [
       "HBox(children=(HTML(value=''), FloatProgress(value=0.0, max=706500.0), HTML(value='')))"
      ]
     },
     "metadata": {},
     "output_type": "display_data"
    },
    {
     "name": "stdout",
     "output_type": "stream",
     "text": [
      "\n",
      "20 []\n"
     ]
    },
    {
     "data": {
      "application/vnd.jupyter.widget-view+json": {
       "model_id": "2615f8cda8f340c991c174a974cc4ea2",
       "version_major": 2,
       "version_minor": 0
      },
      "text/plain": [
       "HBox(children=(HTML(value=''), FloatProgress(value=0.0, max=743684.2105263158), HTML(value='')))"
      ]
     },
     "metadata": {},
     "output_type": "display_data"
    },
    {
     "name": "stdout",
     "output_type": "stream",
     "text": [
      "\n",
      "19 []\n"
     ]
    },
    {
     "data": {
      "application/vnd.jupyter.widget-view+json": {
       "model_id": "440f6e819c24466a9b29af4bb6497d4c",
       "version_major": 2,
       "version_minor": 0
      },
      "text/plain": [
       "HBox(children=(HTML(value=''), FloatProgress(value=0.0, max=785000.0), HTML(value='')))"
      ]
     },
     "metadata": {},
     "output_type": "display_data"
    },
    {
     "name": "stdout",
     "output_type": "stream",
     "text": [
      "\n",
      "18 []\n"
     ]
    },
    {
     "data": {
      "application/vnd.jupyter.widget-view+json": {
       "model_id": "9aa8d807c7ea4315a003df2b0bf88a11",
       "version_major": 2,
       "version_minor": 0
      },
      "text/plain": [
       "HBox(children=(HTML(value=''), FloatProgress(value=0.0, max=831176.4705882353), HTML(value='')))"
      ]
     },
     "metadata": {},
     "output_type": "display_data"
    },
    {
     "name": "stdout",
     "output_type": "stream",
     "text": [
      "\n",
      "17 []\n"
     ]
    },
    {
     "data": {
      "application/vnd.jupyter.widget-view+json": {
       "model_id": "b294f55e9bf340a6b3abd6a5c6072550",
       "version_major": 2,
       "version_minor": 0
      },
      "text/plain": [
       "HBox(children=(HTML(value=''), FloatProgress(value=0.0, max=883125.0), HTML(value='')))"
      ]
     },
     "metadata": {},
     "output_type": "display_data"
    },
    {
     "name": "stdout",
     "output_type": "stream",
     "text": [
      "\n",
      "16 []\n"
     ]
    },
    {
     "data": {
      "application/vnd.jupyter.widget-view+json": {
       "model_id": "7726dbf42aff49b5bdb9bdf9e3cb4c8b",
       "version_major": 2,
       "version_minor": 0
      },
      "text/plain": [
       "HBox(children=(HTML(value=''), FloatProgress(value=0.0, max=942000.0), HTML(value='')))"
      ]
     },
     "metadata": {},
     "output_type": "display_data"
    },
    {
     "name": "stdout",
     "output_type": "stream",
     "text": [
      "\n",
      "15 []\n"
     ]
    },
    {
     "data": {
      "application/vnd.jupyter.widget-view+json": {
       "model_id": "40f68b04847145ef82095eeeaa323660",
       "version_major": 2,
       "version_minor": 0
      },
      "text/plain": [
       "HBox(children=(HTML(value=''), FloatProgress(value=0.0, max=1009285.7142857143), HTML(value='')))"
      ]
     },
     "metadata": {},
     "output_type": "display_data"
    },
    {
     "name": "stdout",
     "output_type": "stream",
     "text": [
      "\n",
      "14 []\n"
     ]
    },
    {
     "data": {
      "application/vnd.jupyter.widget-view+json": {
       "model_id": "1d5cb02564334aedb8bc6b5c396dd13f",
       "version_major": 2,
       "version_minor": 0
      },
      "text/plain": [
       "HBox(children=(HTML(value=''), FloatProgress(value=0.0, max=1086923.076923077), HTML(value='')))"
      ]
     },
     "metadata": {},
     "output_type": "display_data"
    },
    {
     "name": "stdout",
     "output_type": "stream",
     "text": [
      "\n",
      "13 []\n"
     ]
    },
    {
     "data": {
      "application/vnd.jupyter.widget-view+json": {
       "model_id": "836aa63b698c4d6d88f00e9c1e9c8967",
       "version_major": 2,
       "version_minor": 0
      },
      "text/plain": [
       "HBox(children=(HTML(value=''), FloatProgress(value=0.0, max=1177500.0), HTML(value='')))"
      ]
     },
     "metadata": {},
     "output_type": "display_data"
    },
    {
     "name": "stdout",
     "output_type": "stream",
     "text": [
      "\n",
      "12 []\n"
     ]
    },
    {
     "data": {
      "application/vnd.jupyter.widget-view+json": {
       "model_id": "d495c2d9543c47c88030fb95d6f2f0f6",
       "version_major": 2,
       "version_minor": 0
      },
      "text/plain": [
       "HBox(children=(HTML(value=''), FloatProgress(value=0.0, max=1284545.4545454546), HTML(value='')))"
      ]
     },
     "metadata": {},
     "output_type": "display_data"
    },
    {
     "name": "stdout",
     "output_type": "stream",
     "text": [
      "\n",
      "11 []\n"
     ]
    },
    {
     "data": {
      "application/vnd.jupyter.widget-view+json": {
       "model_id": "3cd27c2ea2344b50a5bf564ef5ba06c3",
       "version_major": 2,
       "version_minor": 0
      },
      "text/plain": [
       "HBox(children=(HTML(value=''), FloatProgress(value=0.0, max=1413000.0), HTML(value='')))"
      ]
     },
     "metadata": {},
     "output_type": "display_data"
    },
    {
     "name": "stdout",
     "output_type": "stream",
     "text": [
      "\n",
      "10 []\n"
     ]
    },
    {
     "data": {
      "application/vnd.jupyter.widget-view+json": {
       "model_id": "6fd92547077b4a04bd6400c70cad7909",
       "version_major": 2,
       "version_minor": 0
      },
      "text/plain": [
       "HBox(children=(HTML(value=''), FloatProgress(value=0.0, max=1570000.0), HTML(value='')))"
      ]
     },
     "metadata": {},
     "output_type": "display_data"
    },
    {
     "name": "stdout",
     "output_type": "stream",
     "text": [
      "\n",
      "9 []\n"
     ]
    },
    {
     "data": {
      "application/vnd.jupyter.widget-view+json": {
       "model_id": "d68567a2979845cc9e69e6ab2550d074",
       "version_major": 2,
       "version_minor": 0
      },
      "text/plain": [
       "HBox(children=(HTML(value=''), FloatProgress(value=0.0, max=1766250.0), HTML(value='')))"
      ]
     },
     "metadata": {},
     "output_type": "display_data"
    },
    {
     "name": "stdout",
     "output_type": "stream",
     "text": [
      "\n",
      "8 [\"Author: 'garth brooks', Album: 'No Fences The Limited Series ', Title: 'Same Old Story'\"]\n"
     ]
    },
    {
     "data": {
      "application/vnd.jupyter.widget-view+json": {
       "model_id": "aa28e8d2ee604351ac38e8060c699866",
       "version_major": 2,
       "version_minor": 0
      },
      "text/plain": [
       "HBox(children=(HTML(value=''), FloatProgress(value=0.0, max=706500.0), HTML(value='')))"
      ]
     },
     "metadata": {},
     "output_type": "display_data"
    },
    {
     "name": "stdout",
     "output_type": "stream",
     "text": [
      "\n",
      "20 []\n"
     ]
    },
    {
     "data": {
      "application/vnd.jupyter.widget-view+json": {
       "model_id": "641fdefe43a446cfab0a918545643c53",
       "version_major": 2,
       "version_minor": 0
      },
      "text/plain": [
       "HBox(children=(HTML(value=''), FloatProgress(value=0.0, max=743684.2105263158), HTML(value='')))"
      ]
     },
     "metadata": {},
     "output_type": "display_data"
    },
    {
     "name": "stdout",
     "output_type": "stream",
     "text": [
      "\n",
      "19 []\n"
     ]
    },
    {
     "data": {
      "application/vnd.jupyter.widget-view+json": {
       "model_id": "682acb0879d648988c6aa778bf607dec",
       "version_major": 2,
       "version_minor": 0
      },
      "text/plain": [
       "HBox(children=(HTML(value=''), FloatProgress(value=0.0, max=785000.0), HTML(value='')))"
      ]
     },
     "metadata": {},
     "output_type": "display_data"
    },
    {
     "name": "stdout",
     "output_type": "stream",
     "text": [
      "\n",
      "18 []\n"
     ]
    },
    {
     "data": {
      "application/vnd.jupyter.widget-view+json": {
       "model_id": "0cc86c285fcb4b50984444db5b6af874",
       "version_major": 2,
       "version_minor": 0
      },
      "text/plain": [
       "HBox(children=(HTML(value=''), FloatProgress(value=0.0, max=831176.4705882353), HTML(value='')))"
      ]
     },
     "metadata": {},
     "output_type": "display_data"
    },
    {
     "name": "stdout",
     "output_type": "stream",
     "text": [
      "\n",
      "17 []\n"
     ]
    },
    {
     "data": {
      "application/vnd.jupyter.widget-view+json": {
       "model_id": "d33e258c2f9c43818ec81621350414f3",
       "version_major": 2,
       "version_minor": 0
      },
      "text/plain": [
       "HBox(children=(HTML(value=''), FloatProgress(value=0.0, max=883125.0), HTML(value='')))"
      ]
     },
     "metadata": {},
     "output_type": "display_data"
    },
    {
     "name": "stdout",
     "output_type": "stream",
     "text": [
      "\n",
      "16 []\n"
     ]
    },
    {
     "data": {
      "application/vnd.jupyter.widget-view+json": {
       "model_id": "c36fff71b4a846cabb351d98d6b70630",
       "version_major": 2,
       "version_minor": 0
      },
      "text/plain": [
       "HBox(children=(HTML(value=''), FloatProgress(value=0.0, max=942000.0), HTML(value='')))"
      ]
     },
     "metadata": {},
     "output_type": "display_data"
    },
    {
     "name": "stdout",
     "output_type": "stream",
     "text": [
      "\n",
      "15 []\n"
     ]
    },
    {
     "data": {
      "application/vnd.jupyter.widget-view+json": {
       "model_id": "a166becfea8d4b9bb3ac692f7b0a4d69",
       "version_major": 2,
       "version_minor": 0
      },
      "text/plain": [
       "HBox(children=(HTML(value=''), FloatProgress(value=0.0, max=1009285.7142857143), HTML(value='')))"
      ]
     },
     "metadata": {},
     "output_type": "display_data"
    },
    {
     "name": "stdout",
     "output_type": "stream",
     "text": [
      "\n",
      "14 []\n"
     ]
    },
    {
     "data": {
      "application/vnd.jupyter.widget-view+json": {
       "model_id": "de50b0db974e454d9a7d22b49557790f",
       "version_major": 2,
       "version_minor": 0
      },
      "text/plain": [
       "HBox(children=(HTML(value=''), FloatProgress(value=0.0, max=1086923.076923077), HTML(value='')))"
      ]
     },
     "metadata": {},
     "output_type": "display_data"
    },
    {
     "name": "stdout",
     "output_type": "stream",
     "text": [
      "\n",
      "13 []\n"
     ]
    },
    {
     "data": {
      "application/vnd.jupyter.widget-view+json": {
       "model_id": "3d12e392da9340e0a61da5df4a1daa25",
       "version_major": 2,
       "version_minor": 0
      },
      "text/plain": [
       "HBox(children=(HTML(value=''), FloatProgress(value=0.0, max=1177500.0), HTML(value='')))"
      ]
     },
     "metadata": {},
     "output_type": "display_data"
    },
    {
     "name": "stdout",
     "output_type": "stream",
     "text": [
      "\n",
      "12 []\n"
     ]
    },
    {
     "data": {
      "application/vnd.jupyter.widget-view+json": {
       "model_id": "1b065e92cb7745d99e0c0700bf36349e",
       "version_major": 2,
       "version_minor": 0
      },
      "text/plain": [
       "HBox(children=(HTML(value=''), FloatProgress(value=0.0, max=1284545.4545454546), HTML(value='')))"
      ]
     },
     "metadata": {},
     "output_type": "display_data"
    },
    {
     "name": "stdout",
     "output_type": "stream",
     "text": [
      "\n",
      "11 [\"Author: 'beatles', Album: 'Magical Mystery Tour', Title: 'Penny Lane'\"]\n"
     ]
    },
    {
     "data": {
      "application/vnd.jupyter.widget-view+json": {
       "model_id": "cf0a7b0cd1ce48da816a004cc86a1218",
       "version_major": 2,
       "version_minor": 0
      },
      "text/plain": [
       "HBox(children=(HTML(value=''), FloatProgress(value=0.0, max=706500.0), HTML(value='')))"
      ]
     },
     "metadata": {},
     "output_type": "display_data"
    },
    {
     "name": "stdout",
     "output_type": "stream",
     "text": [
      "\n",
      "20 []\n"
     ]
    },
    {
     "data": {
      "application/vnd.jupyter.widget-view+json": {
       "model_id": "342e475ab01448e496fba9141ccda04c",
       "version_major": 2,
       "version_minor": 0
      },
      "text/plain": [
       "HBox(children=(HTML(value=''), FloatProgress(value=0.0, max=743684.2105263158), HTML(value='')))"
      ]
     },
     "metadata": {},
     "output_type": "display_data"
    },
    {
     "name": "stdout",
     "output_type": "stream",
     "text": [
      "\n",
      "19 []\n"
     ]
    },
    {
     "data": {
      "application/vnd.jupyter.widget-view+json": {
       "model_id": "c4f26a53aa0d4a01bceb522a7e3f7370",
       "version_major": 2,
       "version_minor": 0
      },
      "text/plain": [
       "HBox(children=(HTML(value=''), FloatProgress(value=0.0, max=785000.0), HTML(value='')))"
      ]
     },
     "metadata": {},
     "output_type": "display_data"
    },
    {
     "name": "stdout",
     "output_type": "stream",
     "text": [
      "\n",
      "18 []\n"
     ]
    },
    {
     "data": {
      "application/vnd.jupyter.widget-view+json": {
       "model_id": "f27c540144d64d30884a72fff694d9ce",
       "version_major": 2,
       "version_minor": 0
      },
      "text/plain": [
       "HBox(children=(HTML(value=''), FloatProgress(value=0.0, max=831176.4705882353), HTML(value='')))"
      ]
     },
     "metadata": {},
     "output_type": "display_data"
    },
    {
     "name": "stdout",
     "output_type": "stream",
     "text": [
      "\n",
      "17 []\n"
     ]
    },
    {
     "data": {
      "application/vnd.jupyter.widget-view+json": {
       "model_id": "485b6efb805b4a8ca3df6ef3f73f4dfe",
       "version_major": 2,
       "version_minor": 0
      },
      "text/plain": [
       "HBox(children=(HTML(value=''), FloatProgress(value=0.0, max=883125.0), HTML(value='')))"
      ]
     },
     "metadata": {},
     "output_type": "display_data"
    },
    {
     "name": "stdout",
     "output_type": "stream",
     "text": [
      "\n",
      "16 []\n"
     ]
    },
    {
     "data": {
      "application/vnd.jupyter.widget-view+json": {
       "model_id": "c08e24f928524932b923393aa00d049b",
       "version_major": 2,
       "version_minor": 0
      },
      "text/plain": [
       "HBox(children=(HTML(value=''), FloatProgress(value=0.0, max=942000.0), HTML(value='')))"
      ]
     },
     "metadata": {},
     "output_type": "display_data"
    },
    {
     "name": "stdout",
     "output_type": "stream",
     "text": [
      "\n",
      "15 []\n"
     ]
    },
    {
     "data": {
      "application/vnd.jupyter.widget-view+json": {
       "model_id": "fadf1d214f9042feb51bd0e8af6c9ce7",
       "version_major": 2,
       "version_minor": 0
      },
      "text/plain": [
       "HBox(children=(HTML(value=''), FloatProgress(value=0.0, max=1009285.7142857143), HTML(value='')))"
      ]
     },
     "metadata": {},
     "output_type": "display_data"
    },
    {
     "name": "stdout",
     "output_type": "stream",
     "text": [
      "\n",
      "14 []\n"
     ]
    },
    {
     "data": {
      "application/vnd.jupyter.widget-view+json": {
       "model_id": "d25573057bd44362aef3149b88462133",
       "version_major": 2,
       "version_minor": 0
      },
      "text/plain": [
       "HBox(children=(HTML(value=''), FloatProgress(value=0.0, max=1086923.076923077), HTML(value='')))"
      ]
     },
     "metadata": {},
     "output_type": "display_data"
    },
    {
     "name": "stdout",
     "output_type": "stream",
     "text": [
      "\n",
      "13 []\n"
     ]
    },
    {
     "data": {
      "application/vnd.jupyter.widget-view+json": {
       "model_id": "356ac8b39eae49eebac51f0a5ad32fa9",
       "version_major": 2,
       "version_minor": 0
      },
      "text/plain": [
       "HBox(children=(HTML(value=''), FloatProgress(value=0.0, max=1177500.0), HTML(value='')))"
      ]
     },
     "metadata": {},
     "output_type": "display_data"
    },
    {
     "name": "stdout",
     "output_type": "stream",
     "text": [
      "\n",
      "12 []\n"
     ]
    },
    {
     "data": {
      "application/vnd.jupyter.widget-view+json": {
       "model_id": "cfb3f7ab45b34469af24ca3620bb76fa",
       "version_major": 2,
       "version_minor": 0
      },
      "text/plain": [
       "HBox(children=(HTML(value=''), FloatProgress(value=0.0, max=1284545.4545454546), HTML(value='')))"
      ]
     },
     "metadata": {},
     "output_type": "display_data"
    },
    {
     "name": "stdout",
     "output_type": "stream",
     "text": [
      "\n",
      "11 []\n"
     ]
    },
    {
     "data": {
      "application/vnd.jupyter.widget-view+json": {
       "model_id": "593f72989adc48dab70254ad2c02a4e3",
       "version_major": 2,
       "version_minor": 0
      },
      "text/plain": [
       "HBox(children=(HTML(value=''), FloatProgress(value=0.0, max=1413000.0), HTML(value='')))"
      ]
     },
     "metadata": {},
     "output_type": "display_data"
    },
    {
     "name": "stdout",
     "output_type": "stream",
     "text": [
      "\n",
      "10 []\n"
     ]
    },
    {
     "data": {
      "application/vnd.jupyter.widget-view+json": {
       "model_id": "40f76a0542e54514b6e086748d270bc7",
       "version_major": 2,
       "version_minor": 0
      },
      "text/plain": [
       "HBox(children=(HTML(value=''), FloatProgress(value=0.0, max=1570000.0), HTML(value='')))"
      ]
     },
     "metadata": {},
     "output_type": "display_data"
    },
    {
     "name": "stdout",
     "output_type": "stream",
     "text": [
      "\n",
      "9 [\"Author: 'beatles', Album: 'The White Album Disc 1', Title: 'Blackbird'\", \"Author: 'beatles', Album: 'Revolver', Title: 'I Want To Tell You'\"]\n"
     ]
    },
    {
     "data": {
      "application/vnd.jupyter.widget-view+json": {
       "model_id": "752ec7524d104ec2b97ad22c3de3c1f4",
       "version_major": 2,
       "version_minor": 0
      },
      "text/plain": [
       "HBox(children=(HTML(value=''), FloatProgress(value=0.0, max=706500.0), HTML(value='')))"
      ]
     },
     "metadata": {},
     "output_type": "display_data"
    },
    {
     "name": "stdout",
     "output_type": "stream",
     "text": [
      "\n",
      "20 []\n"
     ]
    },
    {
     "data": {
      "application/vnd.jupyter.widget-view+json": {
       "model_id": "869380c2c18140b196e366da92e036fa",
       "version_major": 2,
       "version_minor": 0
      },
      "text/plain": [
       "HBox(children=(HTML(value=''), FloatProgress(value=0.0, max=743684.2105263158), HTML(value='')))"
      ]
     },
     "metadata": {},
     "output_type": "display_data"
    },
    {
     "name": "stdout",
     "output_type": "stream",
     "text": [
      "\n",
      "19 []\n"
     ]
    },
    {
     "data": {
      "application/vnd.jupyter.widget-view+json": {
       "model_id": "f283baef0f11425baf49ed18c75302cb",
       "version_major": 2,
       "version_minor": 0
      },
      "text/plain": [
       "HBox(children=(HTML(value=''), FloatProgress(value=0.0, max=785000.0), HTML(value='')))"
      ]
     },
     "metadata": {},
     "output_type": "display_data"
    },
    {
     "name": "stdout",
     "output_type": "stream",
     "text": [
      "\n",
      "18 []\n"
     ]
    },
    {
     "data": {
      "application/vnd.jupyter.widget-view+json": {
       "model_id": "4e08a929d6aa489dae8b144cffa36ce8",
       "version_major": 2,
       "version_minor": 0
      },
      "text/plain": [
       "HBox(children=(HTML(value=''), FloatProgress(value=0.0, max=831176.4705882353), HTML(value='')))"
      ]
     },
     "metadata": {},
     "output_type": "display_data"
    },
    {
     "name": "stdout",
     "output_type": "stream",
     "text": [
      "\n",
      "17 []\n"
     ]
    },
    {
     "data": {
      "application/vnd.jupyter.widget-view+json": {
       "model_id": "9a9dee8271c647259d00f33e50a45cdd",
       "version_major": 2,
       "version_minor": 0
      },
      "text/plain": [
       "HBox(children=(HTML(value=''), FloatProgress(value=0.0, max=883125.0), HTML(value='')))"
      ]
     },
     "metadata": {},
     "output_type": "display_data"
    },
    {
     "name": "stdout",
     "output_type": "stream",
     "text": [
      "\n",
      "16 []\n"
     ]
    },
    {
     "data": {
      "application/vnd.jupyter.widget-view+json": {
       "model_id": "958c4522ca384ec1ac680c896900f2b3",
       "version_major": 2,
       "version_minor": 0
      },
      "text/plain": [
       "HBox(children=(HTML(value=''), FloatProgress(value=0.0, max=942000.0), HTML(value='')))"
      ]
     },
     "metadata": {},
     "output_type": "display_data"
    },
    {
     "name": "stdout",
     "output_type": "stream",
     "text": [
      "\n",
      "15 []\n"
     ]
    },
    {
     "data": {
      "application/vnd.jupyter.widget-view+json": {
       "model_id": "e7859bce3e014f9699d876f0d9007856",
       "version_major": 2,
       "version_minor": 0
      },
      "text/plain": [
       "HBox(children=(HTML(value=''), FloatProgress(value=0.0, max=1009285.7142857143), HTML(value='')))"
      ]
     },
     "metadata": {},
     "output_type": "display_data"
    },
    {
     "name": "stdout",
     "output_type": "stream",
     "text": [
      "\n",
      "14 []\n"
     ]
    },
    {
     "data": {
      "application/vnd.jupyter.widget-view+json": {
       "model_id": "e3290d1d4e6848469642752f0c66ce93",
       "version_major": 2,
       "version_minor": 0
      },
      "text/plain": [
       "HBox(children=(HTML(value=''), FloatProgress(value=0.0, max=1086923.076923077), HTML(value='')))"
      ]
     },
     "metadata": {},
     "output_type": "display_data"
    },
    {
     "name": "stdout",
     "output_type": "stream",
     "text": [
      "\n",
      "13 []\n"
     ]
    },
    {
     "data": {
      "application/vnd.jupyter.widget-view+json": {
       "model_id": "43fbde3ea38b46edbf01d8dbd4a65387",
       "version_major": 2,
       "version_minor": 0
      },
      "text/plain": [
       "HBox(children=(HTML(value=''), FloatProgress(value=0.0, max=1177500.0), HTML(value='')))"
      ]
     },
     "metadata": {},
     "output_type": "display_data"
    },
    {
     "name": "stdout",
     "output_type": "stream",
     "text": [
      "\n",
      "12 []\n"
     ]
    },
    {
     "data": {
      "application/vnd.jupyter.widget-view+json": {
       "model_id": "f2299274148a4bf1baa1d6d2ebf02f8c",
       "version_major": 2,
       "version_minor": 0
      },
      "text/plain": [
       "HBox(children=(HTML(value=''), FloatProgress(value=0.0, max=1284545.4545454546), HTML(value='')))"
      ]
     },
     "metadata": {},
     "output_type": "display_data"
    },
    {
     "name": "stdout",
     "output_type": "stream",
     "text": [
      "\n",
      "11 []\n"
     ]
    },
    {
     "data": {
      "application/vnd.jupyter.widget-view+json": {
       "model_id": "c8f76e7054c34fd69a8326d184a1dd96",
       "version_major": 2,
       "version_minor": 0
      },
      "text/plain": [
       "HBox(children=(HTML(value=''), FloatProgress(value=0.0, max=1413000.0), HTML(value='')))"
      ]
     },
     "metadata": {},
     "output_type": "display_data"
    },
    {
     "name": "stdout",
     "output_type": "stream",
     "text": [
      "\n",
      "10 []\n"
     ]
    },
    {
     "data": {
      "application/vnd.jupyter.widget-view+json": {
       "model_id": "22c9f9ecd3f34dfaabc026b4b85b37a5",
       "version_major": 2,
       "version_minor": 0
      },
      "text/plain": [
       "HBox(children=(HTML(value=''), FloatProgress(value=0.0, max=1570000.0), HTML(value='')))"
      ]
     },
     "metadata": {},
     "output_type": "display_data"
    },
    {
     "name": "stdout",
     "output_type": "stream",
     "text": [
      "\n",
      "9 [\"Author: 'beatles', Album: 'Beatles For Sale', Title: 'Everybody s Trying To Be My Baby'\", \"Author: 'beatles', Album: 'A Hard Day s Night', Title: 'If I Fell'\", \"Author: 'beatles', Album: 'The White Album Disc 1', Title: 'Why Don t We Do It In The Road'\", \"Author: 'beatles', Album: 'Magical Mystery Tour', Title: 'Penny Lane'\", \"Author: 'beatles', Album: 'The White Album Disc 1', Title: 'Dear Prudence'\"]\n"
     ]
    },
    {
     "data": {
      "application/vnd.jupyter.widget-view+json": {
       "model_id": "015cf4e9a634428291e22c18b988ec42",
       "version_major": 2,
       "version_minor": 0
      },
      "text/plain": [
       "HBox(children=(HTML(value=''), FloatProgress(value=0.0, max=706500.0), HTML(value='')))"
      ]
     },
     "metadata": {},
     "output_type": "display_data"
    },
    {
     "name": "stdout",
     "output_type": "stream",
     "text": [
      "\n",
      "20 []\n"
     ]
    },
    {
     "data": {
      "application/vnd.jupyter.widget-view+json": {
       "model_id": "9e9a57399c5e4c05a7394b0e92d591f6",
       "version_major": 2,
       "version_minor": 0
      },
      "text/plain": [
       "HBox(children=(HTML(value=''), FloatProgress(value=0.0, max=743684.2105263158), HTML(value='')))"
      ]
     },
     "metadata": {},
     "output_type": "display_data"
    },
    {
     "name": "stdout",
     "output_type": "stream",
     "text": [
      "\n",
      "19 []\n"
     ]
    },
    {
     "data": {
      "application/vnd.jupyter.widget-view+json": {
       "model_id": "eb3ab462569e446fa293aeda5764a0cb",
       "version_major": 2,
       "version_minor": 0
      },
      "text/plain": [
       "HBox(children=(HTML(value=''), FloatProgress(value=0.0, max=785000.0), HTML(value='')))"
      ]
     },
     "metadata": {},
     "output_type": "display_data"
    },
    {
     "name": "stdout",
     "output_type": "stream",
     "text": [
      "\n",
      "18 []\n"
     ]
    },
    {
     "data": {
      "application/vnd.jupyter.widget-view+json": {
       "model_id": "0e8a9dcb4929424bbbd1bff3a7d51243",
       "version_major": 2,
       "version_minor": 0
      },
      "text/plain": [
       "HBox(children=(HTML(value=''), FloatProgress(value=0.0, max=831176.4705882353), HTML(value='')))"
      ]
     },
     "metadata": {},
     "output_type": "display_data"
    },
    {
     "name": "stdout",
     "output_type": "stream",
     "text": [
      "\n",
      "17 []\n"
     ]
    },
    {
     "data": {
      "application/vnd.jupyter.widget-view+json": {
       "model_id": "d5254a0d40c944dbbccb7428e16affc4",
       "version_major": 2,
       "version_minor": 0
      },
      "text/plain": [
       "HBox(children=(HTML(value=''), FloatProgress(value=0.0, max=883125.0), HTML(value='')))"
      ]
     },
     "metadata": {},
     "output_type": "display_data"
    },
    {
     "name": "stdout",
     "output_type": "stream",
     "text": [
      "\n",
      "16 []\n"
     ]
    },
    {
     "data": {
      "application/vnd.jupyter.widget-view+json": {
       "model_id": "b19b61a956a8450bad84319eb178c2bb",
       "version_major": 2,
       "version_minor": 0
      },
      "text/plain": [
       "HBox(children=(HTML(value=''), FloatProgress(value=0.0, max=942000.0), HTML(value='')))"
      ]
     },
     "metadata": {},
     "output_type": "display_data"
    },
    {
     "name": "stdout",
     "output_type": "stream",
     "text": [
      "\n",
      "15 []\n"
     ]
    },
    {
     "data": {
      "application/vnd.jupyter.widget-view+json": {
       "model_id": "a6d7973acca34126bfa21c758633d8cf",
       "version_major": 2,
       "version_minor": 0
      },
      "text/plain": [
       "HBox(children=(HTML(value=''), FloatProgress(value=0.0, max=1009285.7142857143), HTML(value='')))"
      ]
     },
     "metadata": {},
     "output_type": "display_data"
    },
    {
     "name": "stdout",
     "output_type": "stream",
     "text": [
      "\n",
      "14 []\n"
     ]
    },
    {
     "data": {
      "application/vnd.jupyter.widget-view+json": {
       "model_id": "ddc371a18d9f479989fa60f0512824f9",
       "version_major": 2,
       "version_minor": 0
      },
      "text/plain": [
       "HBox(children=(HTML(value=''), FloatProgress(value=0.0, max=1086923.076923077), HTML(value='')))"
      ]
     },
     "metadata": {},
     "output_type": "display_data"
    },
    {
     "name": "stdout",
     "output_type": "stream",
     "text": [
      "\n",
      "13 []\n"
     ]
    },
    {
     "data": {
      "application/vnd.jupyter.widget-view+json": {
       "model_id": "2cec216e3d294b43a4c75fe7f244ab7b",
       "version_major": 2,
       "version_minor": 0
      },
      "text/plain": [
       "HBox(children=(HTML(value=''), FloatProgress(value=0.0, max=1177500.0), HTML(value='')))"
      ]
     },
     "metadata": {},
     "output_type": "display_data"
    },
    {
     "name": "stdout",
     "output_type": "stream",
     "text": [
      "\n",
      "12 []\n"
     ]
    },
    {
     "data": {
      "application/vnd.jupyter.widget-view+json": {
       "model_id": "fe85c67794a1495fa8a20be0edab2ca5",
       "version_major": 2,
       "version_minor": 0
      },
      "text/plain": [
       "HBox(children=(HTML(value=''), FloatProgress(value=0.0, max=1284545.4545454546), HTML(value='')))"
      ]
     },
     "metadata": {},
     "output_type": "display_data"
    },
    {
     "name": "stdout",
     "output_type": "stream",
     "text": [
      "\n",
      "11 []\n"
     ]
    },
    {
     "data": {
      "application/vnd.jupyter.widget-view+json": {
       "model_id": "7a677fece4b141419c07c78f9e642696",
       "version_major": 2,
       "version_minor": 0
      },
      "text/plain": [
       "HBox(children=(HTML(value=''), FloatProgress(value=0.0, max=1413000.0), HTML(value='')))"
      ]
     },
     "metadata": {},
     "output_type": "display_data"
    },
    {
     "name": "stdout",
     "output_type": "stream",
     "text": [
      "\n",
      "10 []\n"
     ]
    },
    {
     "data": {
      "application/vnd.jupyter.widget-view+json": {
       "model_id": "6f196ac28e8341578cfbfa0bf1ebcc08",
       "version_major": 2,
       "version_minor": 0
      },
      "text/plain": [
       "HBox(children=(HTML(value=''), FloatProgress(value=0.0, max=1570000.0), HTML(value='')))"
      ]
     },
     "metadata": {},
     "output_type": "display_data"
    },
    {
     "name": "stdout",
     "output_type": "stream",
     "text": [
      "\n",
      "9 []\n"
     ]
    },
    {
     "data": {
      "application/vnd.jupyter.widget-view+json": {
       "model_id": "15ea0d641ef04608a24de29f1b55efb4",
       "version_major": 2,
       "version_minor": 0
      },
      "text/plain": [
       "HBox(children=(HTML(value=''), FloatProgress(value=0.0, max=1766250.0), HTML(value='')))"
      ]
     },
     "metadata": {},
     "output_type": "display_data"
    },
    {
     "name": "stdout",
     "output_type": "stream",
     "text": [
      "\n",
      "8 [\"Author: 'aerosmith', Album: 'Pump', Title: 'F I N E '\", \"Author: 'cure', Album: 'Wish', Title: 'Wendy Time'\", \"Author: 'prince', Album: 'Purple Rain', Title: 'Baby I m a star'\", \"Author: 'dave matthews band', Album: 'Before These Crowded Streets', Title: 'Halloween'\", \"Author: 'dave matthews band', Album: 'Before These Crowded Streets', Title: 'Halloween'\"]\n"
     ]
    },
    {
     "data": {
      "application/vnd.jupyter.widget-view+json": {
       "model_id": "dc15d5d322ba41668cecc2789ce36e4b",
       "version_major": 2,
       "version_minor": 0
      },
      "text/plain": [
       "HBox(children=(HTML(value=''), FloatProgress(value=0.0, max=706500.0), HTML(value='')))"
      ]
     },
     "metadata": {},
     "output_type": "display_data"
    },
    {
     "name": "stdout",
     "output_type": "stream",
     "text": [
      "\n",
      "20 []\n"
     ]
    },
    {
     "data": {
      "application/vnd.jupyter.widget-view+json": {
       "model_id": "ce3d350a219548969e08605dfd61ad7d",
       "version_major": 2,
       "version_minor": 0
      },
      "text/plain": [
       "HBox(children=(HTML(value=''), FloatProgress(value=0.0, max=743684.2105263158), HTML(value='')))"
      ]
     },
     "metadata": {},
     "output_type": "display_data"
    },
    {
     "name": "stdout",
     "output_type": "stream",
     "text": [
      "\n",
      "19 []\n"
     ]
    },
    {
     "data": {
      "application/vnd.jupyter.widget-view+json": {
       "model_id": "ff10649638b14f129f6acf500adbc40f",
       "version_major": 2,
       "version_minor": 0
      },
      "text/plain": [
       "HBox(children=(HTML(value=''), FloatProgress(value=0.0, max=785000.0), HTML(value='')))"
      ]
     },
     "metadata": {},
     "output_type": "display_data"
    },
    {
     "name": "stdout",
     "output_type": "stream",
     "text": [
      "\n",
      "18 []\n"
     ]
    },
    {
     "data": {
      "application/vnd.jupyter.widget-view+json": {
       "model_id": "8ae4153e5d974c0383e66adde82b0db2",
       "version_major": 2,
       "version_minor": 0
      },
      "text/plain": [
       "HBox(children=(HTML(value=''), FloatProgress(value=0.0, max=831176.4705882353), HTML(value='')))"
      ]
     },
     "metadata": {},
     "output_type": "display_data"
    },
    {
     "name": "stdout",
     "output_type": "stream",
     "text": [
      "\n",
      "17 []\n"
     ]
    },
    {
     "data": {
      "application/vnd.jupyter.widget-view+json": {
       "model_id": "d0b0cc0cc37c451c8d9be0ce1f6d44fd",
       "version_major": 2,
       "version_minor": 0
      },
      "text/plain": [
       "HBox(children=(HTML(value=''), FloatProgress(value=0.0, max=883125.0), HTML(value='')))"
      ]
     },
     "metadata": {},
     "output_type": "display_data"
    },
    {
     "name": "stdout",
     "output_type": "stream",
     "text": [
      "\n",
      "16 []\n"
     ]
    },
    {
     "data": {
      "application/vnd.jupyter.widget-view+json": {
       "model_id": "6a75c326739d48a89c5de50e0c104c6e",
       "version_major": 2,
       "version_minor": 0
      },
      "text/plain": [
       "HBox(children=(HTML(value=''), FloatProgress(value=0.0, max=942000.0), HTML(value='')))"
      ]
     },
     "metadata": {},
     "output_type": "display_data"
    },
    {
     "name": "stdout",
     "output_type": "stream",
     "text": [
      "\n",
      "15 []\n"
     ]
    },
    {
     "data": {
      "application/vnd.jupyter.widget-view+json": {
       "model_id": "fd836656e30f4d23bce30b5729a19ead",
       "version_major": 2,
       "version_minor": 0
      },
      "text/plain": [
       "HBox(children=(HTML(value=''), FloatProgress(value=0.0, max=1009285.7142857143), HTML(value='')))"
      ]
     },
     "metadata": {},
     "output_type": "display_data"
    },
    {
     "name": "stdout",
     "output_type": "stream",
     "text": [
      "\n",
      "14 []\n"
     ]
    },
    {
     "data": {
      "application/vnd.jupyter.widget-view+json": {
       "model_id": "d8e6a215ba244b27ab9b842ecaea7d3f",
       "version_major": 2,
       "version_minor": 0
      },
      "text/plain": [
       "HBox(children=(HTML(value=''), FloatProgress(value=0.0, max=1086923.076923077), HTML(value='')))"
      ]
     },
     "metadata": {},
     "output_type": "display_data"
    },
    {
     "name": "stdout",
     "output_type": "stream",
     "text": [
      "\n",
      "13 []\n"
     ]
    },
    {
     "data": {
      "application/vnd.jupyter.widget-view+json": {
       "model_id": "7b43c2ce29174424a83a66ba16c069e2",
       "version_major": 2,
       "version_minor": 0
      },
      "text/plain": [
       "HBox(children=(HTML(value=''), FloatProgress(value=0.0, max=1177500.0), HTML(value='')))"
      ]
     },
     "metadata": {},
     "output_type": "display_data"
    },
    {
     "name": "stdout",
     "output_type": "stream",
     "text": [
      "\n",
      "12 []\n"
     ]
    },
    {
     "data": {
      "application/vnd.jupyter.widget-view+json": {
       "model_id": "22b28ff550874a5e94c19f2ed91efbdc",
       "version_major": 2,
       "version_minor": 0
      },
      "text/plain": [
       "HBox(children=(HTML(value=''), FloatProgress(value=0.0, max=1284545.4545454546), HTML(value='')))"
      ]
     },
     "metadata": {},
     "output_type": "display_data"
    },
    {
     "name": "stdout",
     "output_type": "stream",
     "text": [
      "\n",
      "11 [\"Author: 'beatles', Album: 'The White Album Disc 1', Title: 'Back In The U S S R '\"]\n"
     ]
    },
    {
     "data": {
      "application/vnd.jupyter.widget-view+json": {
       "model_id": "ec858a6ce96e45af9d8584fffe28e3ca",
       "version_major": 2,
       "version_minor": 0
      },
      "text/plain": [
       "HBox(children=(HTML(value=''), FloatProgress(value=0.0, max=706500.0), HTML(value='')))"
      ]
     },
     "metadata": {},
     "output_type": "display_data"
    },
    {
     "name": "stdout",
     "output_type": "stream",
     "text": [
      "\n",
      "20 []\n"
     ]
    },
    {
     "data": {
      "application/vnd.jupyter.widget-view+json": {
       "model_id": "2c3f1667f283469e89f7c0e6e131da5c",
       "version_major": 2,
       "version_minor": 0
      },
      "text/plain": [
       "HBox(children=(HTML(value=''), FloatProgress(value=0.0, max=743684.2105263158), HTML(value='')))"
      ]
     },
     "metadata": {},
     "output_type": "display_data"
    },
    {
     "name": "stdout",
     "output_type": "stream",
     "text": [
      "\n",
      "19 []\n"
     ]
    },
    {
     "data": {
      "application/vnd.jupyter.widget-view+json": {
       "model_id": "c2a1bbd2ee6d48ffb8051eff36fb4bfa",
       "version_major": 2,
       "version_minor": 0
      },
      "text/plain": [
       "HBox(children=(HTML(value=''), FloatProgress(value=0.0, max=785000.0), HTML(value='')))"
      ]
     },
     "metadata": {},
     "output_type": "display_data"
    },
    {
     "name": "stdout",
     "output_type": "stream",
     "text": [
      "\n",
      "18 []\n"
     ]
    },
    {
     "data": {
      "application/vnd.jupyter.widget-view+json": {
       "model_id": "61c24ff4e22646f0abc6305eedfc9562",
       "version_major": 2,
       "version_minor": 0
      },
      "text/plain": [
       "HBox(children=(HTML(value=''), FloatProgress(value=0.0, max=831176.4705882353), HTML(value='')))"
      ]
     },
     "metadata": {},
     "output_type": "display_data"
    },
    {
     "name": "stdout",
     "output_type": "stream",
     "text": [
      "\n",
      "17 []\n"
     ]
    },
    {
     "data": {
      "application/vnd.jupyter.widget-view+json": {
       "model_id": "a247d64eef1c4b42a346f61960ca1397",
       "version_major": 2,
       "version_minor": 0
      },
      "text/plain": [
       "HBox(children=(HTML(value=''), FloatProgress(value=0.0, max=883125.0), HTML(value='')))"
      ]
     },
     "metadata": {},
     "output_type": "display_data"
    },
    {
     "name": "stdout",
     "output_type": "stream",
     "text": [
      "\n",
      "16 []\n"
     ]
    },
    {
     "data": {
      "application/vnd.jupyter.widget-view+json": {
       "model_id": "bc4dbd6bce1b42fe99f372558a56bc76",
       "version_major": 2,
       "version_minor": 0
      },
      "text/plain": [
       "HBox(children=(HTML(value=''), FloatProgress(value=0.0, max=942000.0), HTML(value='')))"
      ]
     },
     "metadata": {},
     "output_type": "display_data"
    },
    {
     "name": "stdout",
     "output_type": "stream",
     "text": [
      "\n",
      "15 []\n"
     ]
    },
    {
     "data": {
      "application/vnd.jupyter.widget-view+json": {
       "model_id": "ec1f9d0557d44a1dadc61a24fc22e22a",
       "version_major": 2,
       "version_minor": 0
      },
      "text/plain": [
       "HBox(children=(HTML(value=''), FloatProgress(value=0.0, max=1009285.7142857143), HTML(value='')))"
      ]
     },
     "metadata": {},
     "output_type": "display_data"
    },
    {
     "name": "stdout",
     "output_type": "stream",
     "text": [
      "\n",
      "14 []\n"
     ]
    },
    {
     "data": {
      "application/vnd.jupyter.widget-view+json": {
       "model_id": "c5dd0e3d1ae84da5bc220aef495117e9",
       "version_major": 2,
       "version_minor": 0
      },
      "text/plain": [
       "HBox(children=(HTML(value=''), FloatProgress(value=0.0, max=1086923.076923077), HTML(value='')))"
      ]
     },
     "metadata": {},
     "output_type": "display_data"
    },
    {
     "name": "stdout",
     "output_type": "stream",
     "text": [
      "\n",
      "13 []\n"
     ]
    },
    {
     "data": {
      "application/vnd.jupyter.widget-view+json": {
       "model_id": "1e3b446ebc4345f5ad41a4edc204917c",
       "version_major": 2,
       "version_minor": 0
      },
      "text/plain": [
       "HBox(children=(HTML(value=''), FloatProgress(value=0.0, max=1177500.0), HTML(value='')))"
      ]
     },
     "metadata": {},
     "output_type": "display_data"
    },
    {
     "name": "stdout",
     "output_type": "stream",
     "text": [
      "\n",
      "12 []\n"
     ]
    },
    {
     "data": {
      "application/vnd.jupyter.widget-view+json": {
       "model_id": "d70227d66f974e3d966abe5edaba3492",
       "version_major": 2,
       "version_minor": 0
      },
      "text/plain": [
       "HBox(children=(HTML(value=''), FloatProgress(value=0.0, max=1284545.4545454546), HTML(value='')))"
      ]
     },
     "metadata": {},
     "output_type": "display_data"
    },
    {
     "name": "stdout",
     "output_type": "stream",
     "text": [
      "\n",
      "11 []\n"
     ]
    },
    {
     "data": {
      "application/vnd.jupyter.widget-view+json": {
       "model_id": "46083f37dd524620b81f22477dd55e04",
       "version_major": 2,
       "version_minor": 0
      },
      "text/plain": [
       "HBox(children=(HTML(value=''), FloatProgress(value=0.0, max=1413000.0), HTML(value='')))"
      ]
     },
     "metadata": {},
     "output_type": "display_data"
    },
    {
     "name": "stdout",
     "output_type": "stream",
     "text": [
      "\n",
      "10 []\n"
     ]
    },
    {
     "data": {
      "application/vnd.jupyter.widget-view+json": {
       "model_id": "14e54c34acab438188f17eccf94f7b02",
       "version_major": 2,
       "version_minor": 0
      },
      "text/plain": [
       "HBox(children=(HTML(value=''), FloatProgress(value=0.0, max=1570000.0), HTML(value='')))"
      ]
     },
     "metadata": {},
     "output_type": "display_data"
    },
    {
     "name": "stdout",
     "output_type": "stream",
     "text": [
      "\n",
      "9 []\n"
     ]
    },
    {
     "data": {
      "application/vnd.jupyter.widget-view+json": {
       "model_id": "d42dfa74c16947d2afe0e8a78549f75c",
       "version_major": 2,
       "version_minor": 0
      },
      "text/plain": [
       "HBox(children=(HTML(value=''), FloatProgress(value=0.0, max=1766250.0), HTML(value='')))"
      ]
     },
     "metadata": {},
     "output_type": "display_data"
    },
    {
     "name": "stdout",
     "output_type": "stream",
     "text": [
      "\n",
      "8 []\n"
     ]
    },
    {
     "data": {
      "application/vnd.jupyter.widget-view+json": {
       "model_id": "19f27ecbb2cd4e389f41727c9f232853",
       "version_major": 2,
       "version_minor": 0
      },
      "text/plain": [
       "HBox(children=(HTML(value=''), FloatProgress(value=0.0, max=2018571.4285714286), HTML(value='')))"
      ]
     },
     "metadata": {},
     "output_type": "display_data"
    },
    {
     "name": "stdout",
     "output_type": "stream",
     "text": [
      "\n",
      "7 []\n"
     ]
    },
    {
     "data": {
      "application/vnd.jupyter.widget-view+json": {
       "model_id": "162af9de14fa4b11bd02b6ad8371d9a6",
       "version_major": 2,
       "version_minor": 0
      },
      "text/plain": [
       "HBox(children=(HTML(value=''), FloatProgress(value=0.0, max=2355000.0), HTML(value='')))"
      ]
     },
     "metadata": {},
     "output_type": "display_data"
    },
    {
     "name": "stdout",
     "output_type": "stream",
     "text": [
      "\n",
      "6 [\"Author: 'cure', Album: 'Disintegration', Title: 'Prayers For Rain'\", \"Author: 'cure', Album: 'Kiss Me Kiss Me Kiss Me', Title: 'All I Want'\", \"Author: 'aerosmith', Album: 'Pump', Title: 'Hoodoo-Voodoo Medicine Man'\", \"Author: 'creedence clearwater revival', Album: 'Green River', Title: 'Commotion'\", \"Author: 'creedence clearwater revival', Album: 'Cosmo s Factory', Title: 'Before You Accuse Me'\"]\n"
     ]
    }
   ],
   "source": [
    "output=[]\n",
    "for q in range(10):\n",
    "    sent=True\n",
    "    THRESHOLD = 20 \n",
    "    num_bands = 20\n",
    "    while sent:\n",
    "        bands = []\n",
    "        c=0\n",
    "        for i in tqdm(range(0, len(perms_flat), num_bands), total=len(perms_flat)/num_bands):\n",
    "            if i in list(range(num_perm,num_perm*1413+1,num_perm)):\n",
    "                c+=1\n",
    "            try:\n",
    "                bands.append(([perms_flat[j] for j in range(i,num_bands+i)], c))\n",
    "            except:\n",
    "                pass \n",
    "        buckets = {}\n",
    "        for x in bands:\n",
    "            x[0].sort()\n",
    "            if str(x) not in buckets.keys():\n",
    "                buckets[str(x[0])] = [] \n",
    "            buckets[str(x[0])].append(trackName[x[1]])\n",
    "        \n",
    "        j=0\n",
    "        temp=[]\n",
    "        while j<=num_perm:\n",
    "            x=list(perms_transpQ[q,j:j+THRESHOLD])\n",
    "            x.sort()\n",
    "            if str(x) in buckets.keys():\n",
    "                temp.append(buckets[str(x)][0])\n",
    "            j+=THRESHOLD\n",
    "   \n",
    "        if len(temp)>=1:\n",
    "            sent=False\n",
    "            output.append((q,set(temp)))\n",
    "        print(THRESHOLD, temp)\n",
    "        THRESHOLD-=1  \n",
    "        num_bands-=1"
   ]
  },
  {
   "cell_type": "code",
   "execution_count": 22,
   "metadata": {},
   "outputs": [
    {
     "name": "stdout",
     "output_type": "stream",
     "text": [
      "[(0, {\"Author: 'aerosmith', Album: 'Toys In The Attic', Title: 'No More No More'\"}), (1, {\"Author: 'steely dan', Album: 'Gaucho', Title: 'Gaucho'\", \"Author: 'queen', Album: 'The Works', Title: 'I Want To Break Free'\"}), (2, {\"Author: 'beatles', Album: 'A Hard Day s Night', Title: 'If I Fell'\"}), (3, {\"Author: 'garth brooks', Album: 'No Fences The Limited Series ', Title: 'Same Old Story'\"}), (4, {\"Author: 'beatles', Album: 'Magical Mystery Tour', Title: 'Penny Lane'\"}), (5, {\"Author: 'beatles', Album: 'Revolver', Title: 'I Want To Tell You'\", \"Author: 'beatles', Album: 'The White Album Disc 1', Title: 'Blackbird'\"}), (6, {\"Author: 'beatles', Album: 'A Hard Day s Night', Title: 'If I Fell'\", \"Author: 'beatles', Album: 'The White Album Disc 1', Title: 'Dear Prudence'\", \"Author: 'beatles', Album: 'Magical Mystery Tour', Title: 'Penny Lane'\", \"Author: 'beatles', Album: 'The White Album Disc 1', Title: 'Why Don t We Do It In The Road'\", \"Author: 'beatles', Album: 'Beatles For Sale', Title: 'Everybody s Trying To Be My Baby'\"}), (7, {\"Author: 'dave matthews band', Album: 'Before These Crowded Streets', Title: 'Halloween'\", \"Author: 'prince', Album: 'Purple Rain', Title: 'Baby I m a star'\", \"Author: 'cure', Album: 'Wish', Title: 'Wendy Time'\", \"Author: 'aerosmith', Album: 'Pump', Title: 'F I N E '\"}), (8, {\"Author: 'beatles', Album: 'The White Album Disc 1', Title: 'Back In The U S S R '\"}), (9, {\"Author: 'creedence clearwater revival', Album: 'Green River', Title: 'Commotion'\", \"Author: 'creedence clearwater revival', Album: 'Cosmo s Factory', Title: 'Before You Accuse Me'\", \"Author: 'cure', Album: 'Kiss Me Kiss Me Kiss Me', Title: 'All I Want'\", \"Author: 'cure', Album: 'Disintegration', Title: 'Prayers For Rain'\", \"Author: 'aerosmith', Album: 'Pump', Title: 'Hoodoo-Voodoo Medicine Man'\"})]\n"
     ]
    }
   ],
   "source": [
    "print(output)"
   ]
  },
  {
   "cell_type": "markdown",
   "metadata": {},
   "source": [
    "With this setting (duration: 30s, number of permutation: 10000), we have already found some unique matches:\n",
    "\n",
    "(0, {\"Author: 'aerosmith', Album: 'Toys In The Attic', Title: 'No More No More'\"})\n",
    "\n",
    "(2, {\"Author: 'beatles', Album: 'A Hard Day s Night', Title: 'If I Fell'\"})\n",
    "\n",
    "(3, {\"Author: 'garth brooks', Album: 'No Fences The Limited Series ', Title: 'Same Old Story'\"})\n",
    "\n",
    "(4, {\"Author: 'beatles', Album: 'Magical Mystery Tour', Title: 'Penny Lane'\"})\n",
    "\n",
    "(8, {\"Author: 'beatles', Album: 'The White Album Disc 1', Title: 'Back In The U S S R '\"})\n",
    "\n",
    "Still, 5 query tracks had more than 1 match and must be predicted again with larger parameters.\n",
    "    "
   ]
  },
  {
   "cell_type": "code",
   "execution_count": null,
   "metadata": {},
   "outputs": [],
   "source": [
    "#Sort of GridSearch, wout CV lol\n",
    "\n",
    "import random\n",
    "random.seed(42)\n",
    "\n",
    "DURATION = 45 \n",
    "\n",
    "data_folder = Path(r\"C:\\Users\\alessio\\Downloads\\adm-hw4\\mp3s-32k\")\n",
    "mp3_tracks = data_folder.glob(\"*\\*\\*.mp3\")\n",
    "tracks = data_folder.glob(\"*\\*\\*.wav\") \n",
    "\n",
    "ls=[]\n",
    "for idx, audio in tqdm(enumerate(tracks), total=N_TRACKS):\n",
    "    track, sr, onset_env, peaks = load_audio_picks(audio, DURATION, HOP_SIZE)\n",
    "    ls.append((idx, peaks))\n",
    "peakListLen = DURATION*22050//HOP_SIZE\n",
    "m=np.zeros((peakListLen, N_TRACKS), dtype=int)\n",
    "\n",
    "for i in range(peakListLen):\n",
    "        j=0\n",
    "        while j<(ls[-1][0]+1):\n",
    "            if i in ls[j][1]:\n",
    "                m[i][j]=1\n",
    "            j+=1\n",
    "\n",
    "shingles = list(range(peakListLen))\n",
    "signatureMatrix = []\n",
    "num_perm = 20000\n",
    "signatureMatrix=[]\n",
    "for _ in tqdm(range(num_perm), total=num_perm):\n",
    "    temp=[]\n",
    "    random.shuffle(shingles)\n",
    "    for i in range(ls[-1][0]+1):\n",
    "        j=0\n",
    "        while shingles[j] not in ls[i][1]:\n",
    "            if j==peakListLen-1:\n",
    "                break\n",
    "            j+=1\n",
    "        temp.append(j)\n",
    "    signatureMatrix.append(temp)\n",
    "signatureMatrix=np.array(signatureMatrix)\n",
    "\n",
    "perms_transp = np.transpose(np.array(signatureMatrix))\n",
    "perms_flat = perms_transp.flatten()\n",
    "#Ready for computing bands\n",
    "data_folder = Path(r\"C:\\Users\\alessio\\Downloads\\adm-hw4\\query\")\n",
    "tracksQ = data_folder.glob(\"*.wav\")\n",
    "\n",
    "lsQ=[]\n",
    "for idx, audio in tqdm(enumerate(tracksQ), total=10):\n",
    "    track, sr, onset_env, peaks = load_audio_picks(audio, DURATION, HOP_SIZE)\n",
    "    lsQ.append((idx, peaks))\n",
    "\n",
    "mQ=np.zeros((peakListLen, 10), dtype=int)\n",
    "\n",
    "for i in range(peakListLen):\n",
    "        j=0\n",
    "        while j<10:\n",
    "            if i in ls[j][1]:\n",
    "                mQ[i][j]=1\n",
    "            j+=1\n",
    "\n",
    "shinglesQ = list(range(peakListLen))\n",
    "signatureMatrixQ = []\n",
    "num_permQ = 20000\n",
    "for _ in tqdm(range(num_perm), total=num_perm):\n",
    "    temp=[]\n",
    "    random.shuffle(shinglesQ)\n",
    "    for i in range(lsQ[-1][0]+1):\n",
    "        j=0\n",
    "        while shinglesQ[j] not in lsQ[i][1]:\n",
    "            if j==peakListLen:\n",
    "                break\n",
    "            j+=1\n",
    "        temp.append(j)\n",
    "    signatureMatrixQ.append(temp)\n",
    "\n",
    "perms_transpQ = np.transpose(np.array(signatureMatrixQ))\n",
    "perms_flatQ = perms_transpQ.flatten()\n",
    "#Ready for computing bands pt.2"
   ]
  },
  {
   "cell_type": "code",
   "execution_count": 26,
   "metadata": {
    "scrolled": true
   },
   "outputs": [
    {
     "data": {
      "application/vnd.jupyter.widget-view+json": {
       "model_id": "d8e1e89160724ad4ae58e247c2becb8f",
       "version_major": 2,
       "version_minor": 0
      },
      "text/plain": [
       "HBox(children=(HTML(value=''), FloatProgress(value=0.0, max=1413000.0), HTML(value='')))"
      ]
     },
     "metadata": {},
     "output_type": "display_data"
    },
    {
     "name": "stdout",
     "output_type": "stream",
     "text": [
      "\n",
      "20 []\n"
     ]
    },
    {
     "data": {
      "application/vnd.jupyter.widget-view+json": {
       "model_id": "c669555b9aaf4c448fd655b041f4bd49",
       "version_major": 2,
       "version_minor": 0
      },
      "text/plain": [
       "HBox(children=(HTML(value=''), FloatProgress(value=0.0, max=1487368.4210526317), HTML(value='')))"
      ]
     },
     "metadata": {},
     "output_type": "display_data"
    },
    {
     "name": "stdout",
     "output_type": "stream",
     "text": [
      "\n",
      "19 []\n"
     ]
    },
    {
     "data": {
      "application/vnd.jupyter.widget-view+json": {
       "model_id": "5b891f24b0fa4285b06b0f5ca325d81d",
       "version_major": 2,
       "version_minor": 0
      },
      "text/plain": [
       "HBox(children=(HTML(value=''), FloatProgress(value=0.0, max=1570000.0), HTML(value='')))"
      ]
     },
     "metadata": {},
     "output_type": "display_data"
    },
    {
     "name": "stdout",
     "output_type": "stream",
     "text": [
      "\n",
      "18 []\n"
     ]
    },
    {
     "data": {
      "application/vnd.jupyter.widget-view+json": {
       "model_id": "2f3ebaaee0a445918cb1379a2d107aa5",
       "version_major": 2,
       "version_minor": 0
      },
      "text/plain": [
       "HBox(children=(HTML(value=''), FloatProgress(value=0.0, max=1662352.9411764706), HTML(value='')))"
      ]
     },
     "metadata": {},
     "output_type": "display_data"
    },
    {
     "name": "stdout",
     "output_type": "stream",
     "text": [
      "\n",
      "17 []\n"
     ]
    },
    {
     "data": {
      "application/vnd.jupyter.widget-view+json": {
       "model_id": "b687de41acbf4923bf8c4fd8b32e4432",
       "version_major": 2,
       "version_minor": 0
      },
      "text/plain": [
       "HBox(children=(HTML(value=''), FloatProgress(value=0.0, max=1766250.0), HTML(value='')))"
      ]
     },
     "metadata": {},
     "output_type": "display_data"
    },
    {
     "name": "stdout",
     "output_type": "stream",
     "text": [
      "\n",
      "16 []\n"
     ]
    },
    {
     "data": {
      "application/vnd.jupyter.widget-view+json": {
       "model_id": "dc4d4fedc2e64154921c26f6931d3b17",
       "version_major": 2,
       "version_minor": 0
      },
      "text/plain": [
       "HBox(children=(HTML(value=''), FloatProgress(value=0.0, max=1884000.0), HTML(value='')))"
      ]
     },
     "metadata": {},
     "output_type": "display_data"
    },
    {
     "name": "stdout",
     "output_type": "stream",
     "text": [
      "\n",
      "15 []\n"
     ]
    },
    {
     "data": {
      "application/vnd.jupyter.widget-view+json": {
       "model_id": "737a2523212f436595f37ee919a561e2",
       "version_major": 2,
       "version_minor": 0
      },
      "text/plain": [
       "HBox(children=(HTML(value=''), FloatProgress(value=0.0, max=2018571.4285714286), HTML(value='')))"
      ]
     },
     "metadata": {},
     "output_type": "display_data"
    },
    {
     "name": "stdout",
     "output_type": "stream",
     "text": [
      "\n",
      "14 []\n"
     ]
    },
    {
     "data": {
      "application/vnd.jupyter.widget-view+json": {
       "model_id": "f324fa9d07da440082ccabb349eca595",
       "version_major": 2,
       "version_minor": 0
      },
      "text/plain": [
       "HBox(children=(HTML(value=''), FloatProgress(value=0.0, max=2173846.153846154), HTML(value='')))"
      ]
     },
     "metadata": {},
     "output_type": "display_data"
    },
    {
     "name": "stdout",
     "output_type": "stream",
     "text": [
      "\n",
      "13 []\n"
     ]
    },
    {
     "data": {
      "application/vnd.jupyter.widget-view+json": {
       "model_id": "4a5f94faf37a49e684e37fe8bdcc67f9",
       "version_major": 2,
       "version_minor": 0
      },
      "text/plain": [
       "HBox(children=(HTML(value=''), FloatProgress(value=0.0, max=2355000.0), HTML(value='')))"
      ]
     },
     "metadata": {},
     "output_type": "display_data"
    },
    {
     "name": "stdout",
     "output_type": "stream",
     "text": [
      "\n",
      "12 []\n"
     ]
    },
    {
     "data": {
      "application/vnd.jupyter.widget-view+json": {
       "model_id": "e08bda244cbe4cb2aea6c4c163cae51c",
       "version_major": 2,
       "version_minor": 0
      },
      "text/plain": [
       "HBox(children=(HTML(value=''), FloatProgress(value=0.0, max=2569090.909090909), HTML(value='')))"
      ]
     },
     "metadata": {},
     "output_type": "display_data"
    },
    {
     "name": "stdout",
     "output_type": "stream",
     "text": [
      "\n",
      "11 [\"Author: 'beatles', Album: 'Abbey Road', Title: 'She Came In Through The Bathroom Window'\"]\n"
     ]
    },
    {
     "data": {
      "application/vnd.jupyter.widget-view+json": {
       "model_id": "a15ca997f5c94322a8b26b165a3beee6",
       "version_major": 2,
       "version_minor": 0
      },
      "text/plain": [
       "HBox(children=(HTML(value=''), FloatProgress(value=0.0, max=1413000.0), HTML(value='')))"
      ]
     },
     "metadata": {},
     "output_type": "display_data"
    },
    {
     "name": "stdout",
     "output_type": "stream",
     "text": [
      "\n",
      "20 []\n"
     ]
    },
    {
     "data": {
      "application/vnd.jupyter.widget-view+json": {
       "model_id": "73bd13239228474abef050ce18091e58",
       "version_major": 2,
       "version_minor": 0
      },
      "text/plain": [
       "HBox(children=(HTML(value=''), FloatProgress(value=0.0, max=1487368.4210526317), HTML(value='')))"
      ]
     },
     "metadata": {},
     "output_type": "display_data"
    },
    {
     "name": "stdout",
     "output_type": "stream",
     "text": [
      "\n",
      "19 []\n"
     ]
    },
    {
     "data": {
      "application/vnd.jupyter.widget-view+json": {
       "model_id": "9e980f4073ec4a98acc7e6ea70301a9b",
       "version_major": 2,
       "version_minor": 0
      },
      "text/plain": [
       "HBox(children=(HTML(value=''), FloatProgress(value=0.0, max=1570000.0), HTML(value='')))"
      ]
     },
     "metadata": {},
     "output_type": "display_data"
    },
    {
     "name": "stdout",
     "output_type": "stream",
     "text": [
      "\n",
      "18 []\n"
     ]
    },
    {
     "data": {
      "application/vnd.jupyter.widget-view+json": {
       "model_id": "12719647e0f444af85a2266755f0d857",
       "version_major": 2,
       "version_minor": 0
      },
      "text/plain": [
       "HBox(children=(HTML(value=''), FloatProgress(value=0.0, max=1662352.9411764706), HTML(value='')))"
      ]
     },
     "metadata": {},
     "output_type": "display_data"
    },
    {
     "name": "stdout",
     "output_type": "stream",
     "text": [
      "\n",
      "17 []\n"
     ]
    },
    {
     "data": {
      "application/vnd.jupyter.widget-view+json": {
       "model_id": "943d761e57414c4daa15e9d5e7b12329",
       "version_major": 2,
       "version_minor": 0
      },
      "text/plain": [
       "HBox(children=(HTML(value=''), FloatProgress(value=0.0, max=1766250.0), HTML(value='')))"
      ]
     },
     "metadata": {},
     "output_type": "display_data"
    },
    {
     "name": "stdout",
     "output_type": "stream",
     "text": [
      "\n",
      "16 []\n"
     ]
    },
    {
     "data": {
      "application/vnd.jupyter.widget-view+json": {
       "model_id": "9139903697f24dafa663aac972b94c16",
       "version_major": 2,
       "version_minor": 0
      },
      "text/plain": [
       "HBox(children=(HTML(value=''), FloatProgress(value=0.0, max=1884000.0), HTML(value='')))"
      ]
     },
     "metadata": {},
     "output_type": "display_data"
    },
    {
     "name": "stdout",
     "output_type": "stream",
     "text": [
      "\n",
      "15 []\n"
     ]
    },
    {
     "data": {
      "application/vnd.jupyter.widget-view+json": {
       "model_id": "e15ef5a5c4fa45708bb2e164f02abe02",
       "version_major": 2,
       "version_minor": 0
      },
      "text/plain": [
       "HBox(children=(HTML(value=''), FloatProgress(value=0.0, max=2018571.4285714286), HTML(value='')))"
      ]
     },
     "metadata": {},
     "output_type": "display_data"
    },
    {
     "name": "stdout",
     "output_type": "stream",
     "text": [
      "\n",
      "14 []\n"
     ]
    },
    {
     "data": {
      "application/vnd.jupyter.widget-view+json": {
       "model_id": "f638c0db7742407caae62a194fc148d3",
       "version_major": 2,
       "version_minor": 0
      },
      "text/plain": [
       "HBox(children=(HTML(value=''), FloatProgress(value=0.0, max=2173846.153846154), HTML(value='')))"
      ]
     },
     "metadata": {},
     "output_type": "display_data"
    },
    {
     "name": "stdout",
     "output_type": "stream",
     "text": [
      "\n",
      "13 []\n"
     ]
    },
    {
     "data": {
      "application/vnd.jupyter.widget-view+json": {
       "model_id": "d763c6af592d4bf4b4655b6321b046a0",
       "version_major": 2,
       "version_minor": 0
      },
      "text/plain": [
       "HBox(children=(HTML(value=''), FloatProgress(value=0.0, max=2355000.0), HTML(value='')))"
      ]
     },
     "metadata": {},
     "output_type": "display_data"
    },
    {
     "name": "stdout",
     "output_type": "stream",
     "text": [
      "\n",
      "12 []\n"
     ]
    },
    {
     "data": {
      "application/vnd.jupyter.widget-view+json": {
       "model_id": "b45fcace75584311925edf3cfbca1330",
       "version_major": 2,
       "version_minor": 0
      },
      "text/plain": [
       "HBox(children=(HTML(value=''), FloatProgress(value=0.0, max=2569090.909090909), HTML(value='')))"
      ]
     },
     "metadata": {},
     "output_type": "display_data"
    },
    {
     "name": "stdout",
     "output_type": "stream",
     "text": [
      "\n",
      "11 []\n"
     ]
    },
    {
     "data": {
      "application/vnd.jupyter.widget-view+json": {
       "model_id": "895960765ec54e5f9fe210b0512cbd84",
       "version_major": 2,
       "version_minor": 0
      },
      "text/plain": [
       "HBox(children=(HTML(value=''), FloatProgress(value=0.0, max=2826000.0), HTML(value='')))"
      ]
     },
     "metadata": {},
     "output_type": "display_data"
    },
    {
     "name": "stdout",
     "output_type": "stream",
     "text": [
      "\n",
      "10 [\"Author: 'metallica', Album: 'Load', Title: 'Cure'\"]\n"
     ]
    },
    {
     "data": {
      "application/vnd.jupyter.widget-view+json": {
       "model_id": "fea4ed66b2ae4591815180404f1c3956",
       "version_major": 2,
       "version_minor": 0
      },
      "text/plain": [
       "HBox(children=(HTML(value=''), FloatProgress(value=0.0, max=1413000.0), HTML(value='')))"
      ]
     },
     "metadata": {},
     "output_type": "display_data"
    },
    {
     "name": "stdout",
     "output_type": "stream",
     "text": [
      "\n",
      "20 []\n"
     ]
    },
    {
     "data": {
      "application/vnd.jupyter.widget-view+json": {
       "model_id": "9721da82d9c74c7090b818a3517152d1",
       "version_major": 2,
       "version_minor": 0
      },
      "text/plain": [
       "HBox(children=(HTML(value=''), FloatProgress(value=0.0, max=1487368.4210526317), HTML(value='')))"
      ]
     },
     "metadata": {},
     "output_type": "display_data"
    },
    {
     "name": "stdout",
     "output_type": "stream",
     "text": [
      "\n",
      "19 []\n"
     ]
    },
    {
     "data": {
      "application/vnd.jupyter.widget-view+json": {
       "model_id": "4f6ae9c1321048c2864840089a6ca222",
       "version_major": 2,
       "version_minor": 0
      },
      "text/plain": [
       "HBox(children=(HTML(value=''), FloatProgress(value=0.0, max=1570000.0), HTML(value='')))"
      ]
     },
     "metadata": {},
     "output_type": "display_data"
    },
    {
     "name": "stdout",
     "output_type": "stream",
     "text": [
      "\n",
      "18 []\n"
     ]
    },
    {
     "data": {
      "application/vnd.jupyter.widget-view+json": {
       "model_id": "9a7dc30c60c84aa0beefc8ebeac38107",
       "version_major": 2,
       "version_minor": 0
      },
      "text/plain": [
       "HBox(children=(HTML(value=''), FloatProgress(value=0.0, max=1662352.9411764706), HTML(value='')))"
      ]
     },
     "metadata": {},
     "output_type": "display_data"
    },
    {
     "name": "stdout",
     "output_type": "stream",
     "text": [
      "\n",
      "17 []\n"
     ]
    },
    {
     "data": {
      "application/vnd.jupyter.widget-view+json": {
       "model_id": "499e74a5050b41f6a328830f81923e83",
       "version_major": 2,
       "version_minor": 0
      },
      "text/plain": [
       "HBox(children=(HTML(value=''), FloatProgress(value=0.0, max=1766250.0), HTML(value='')))"
      ]
     },
     "metadata": {},
     "output_type": "display_data"
    },
    {
     "name": "stdout",
     "output_type": "stream",
     "text": [
      "\n",
      "16 []\n"
     ]
    },
    {
     "data": {
      "application/vnd.jupyter.widget-view+json": {
       "model_id": "ae023f5853374959945fdfad49ea8987",
       "version_major": 2,
       "version_minor": 0
      },
      "text/plain": [
       "HBox(children=(HTML(value=''), FloatProgress(value=0.0, max=1884000.0), HTML(value='')))"
      ]
     },
     "metadata": {},
     "output_type": "display_data"
    },
    {
     "name": "stdout",
     "output_type": "stream",
     "text": [
      "\n",
      "15 []\n"
     ]
    },
    {
     "data": {
      "application/vnd.jupyter.widget-view+json": {
       "model_id": "1deda00e4116425a9326505fb5d17be6",
       "version_major": 2,
       "version_minor": 0
      },
      "text/plain": [
       "HBox(children=(HTML(value=''), FloatProgress(value=0.0, max=2018571.4285714286), HTML(value='')))"
      ]
     },
     "metadata": {},
     "output_type": "display_data"
    },
    {
     "name": "stdout",
     "output_type": "stream",
     "text": [
      "\n",
      "14 []\n"
     ]
    },
    {
     "data": {
      "application/vnd.jupyter.widget-view+json": {
       "model_id": "d35149d110f040949cb67053d3dade85",
       "version_major": 2,
       "version_minor": 0
      },
      "text/plain": [
       "HBox(children=(HTML(value=''), FloatProgress(value=0.0, max=2173846.153846154), HTML(value='')))"
      ]
     },
     "metadata": {},
     "output_type": "display_data"
    },
    {
     "name": "stdout",
     "output_type": "stream",
     "text": [
      "\n",
      "13 []\n"
     ]
    },
    {
     "data": {
      "application/vnd.jupyter.widget-view+json": {
       "model_id": "6a922a39e3304a51b7a7089e069685f9",
       "version_major": 2,
       "version_minor": 0
      },
      "text/plain": [
       "HBox(children=(HTML(value=''), FloatProgress(value=0.0, max=2355000.0), HTML(value='')))"
      ]
     },
     "metadata": {},
     "output_type": "display_data"
    },
    {
     "name": "stdout",
     "output_type": "stream",
     "text": [
      "\n",
      "12 []\n"
     ]
    },
    {
     "data": {
      "application/vnd.jupyter.widget-view+json": {
       "model_id": "7901d74a186e47e8b124a8a037040482",
       "version_major": 2,
       "version_minor": 0
      },
      "text/plain": [
       "HBox(children=(HTML(value=''), FloatProgress(value=0.0, max=2569090.909090909), HTML(value='')))"
      ]
     },
     "metadata": {},
     "output_type": "display_data"
    },
    {
     "name": "stdout",
     "output_type": "stream",
     "text": [
      "\n",
      "11 []\n"
     ]
    },
    {
     "data": {
      "application/vnd.jupyter.widget-view+json": {
       "model_id": "16ee633acaa24f879115bc45c966ab5e",
       "version_major": 2,
       "version_minor": 0
      },
      "text/plain": [
       "HBox(children=(HTML(value=''), FloatProgress(value=0.0, max=2826000.0), HTML(value='')))"
      ]
     },
     "metadata": {},
     "output_type": "display_data"
    },
    {
     "name": "stdout",
     "output_type": "stream",
     "text": [
      "\n",
      "10 [\"Author: 'cure', Album: 'Disintegration', Title: 'Closedown'\"]\n"
     ]
    },
    {
     "data": {
      "application/vnd.jupyter.widget-view+json": {
       "model_id": "fccf6ef6d46e499a92941b473a7a5d7e",
       "version_major": 2,
       "version_minor": 0
      },
      "text/plain": [
       "HBox(children=(HTML(value=''), FloatProgress(value=0.0, max=1413000.0), HTML(value='')))"
      ]
     },
     "metadata": {},
     "output_type": "display_data"
    },
    {
     "name": "stdout",
     "output_type": "stream",
     "text": [
      "\n",
      "20 []\n"
     ]
    },
    {
     "data": {
      "application/vnd.jupyter.widget-view+json": {
       "model_id": "0632806f42e8403d8a30108f7c7755d7",
       "version_major": 2,
       "version_minor": 0
      },
      "text/plain": [
       "HBox(children=(HTML(value=''), FloatProgress(value=0.0, max=1487368.4210526317), HTML(value='')))"
      ]
     },
     "metadata": {},
     "output_type": "display_data"
    },
    {
     "name": "stdout",
     "output_type": "stream",
     "text": [
      "\n",
      "19 []\n"
     ]
    },
    {
     "data": {
      "application/vnd.jupyter.widget-view+json": {
       "model_id": "9526bd3cd6fd49eaba8ae33bbb14f38b",
       "version_major": 2,
       "version_minor": 0
      },
      "text/plain": [
       "HBox(children=(HTML(value=''), FloatProgress(value=0.0, max=1570000.0), HTML(value='')))"
      ]
     },
     "metadata": {},
     "output_type": "display_data"
    },
    {
     "name": "stdout",
     "output_type": "stream",
     "text": [
      "\n",
      "18 []\n"
     ]
    },
    {
     "data": {
      "application/vnd.jupyter.widget-view+json": {
       "model_id": "0d5d82f5afb049e5ae78b997ab74f629",
       "version_major": 2,
       "version_minor": 0
      },
      "text/plain": [
       "HBox(children=(HTML(value=''), FloatProgress(value=0.0, max=1662352.9411764706), HTML(value='')))"
      ]
     },
     "metadata": {},
     "output_type": "display_data"
    },
    {
     "name": "stdout",
     "output_type": "stream",
     "text": [
      "\n",
      "17 []\n"
     ]
    },
    {
     "data": {
      "application/vnd.jupyter.widget-view+json": {
       "model_id": "1f319c4cbdcb4d0bb5c7cf9469db2419",
       "version_major": 2,
       "version_minor": 0
      },
      "text/plain": [
       "HBox(children=(HTML(value=''), FloatProgress(value=0.0, max=1766250.0), HTML(value='')))"
      ]
     },
     "metadata": {},
     "output_type": "display_data"
    },
    {
     "name": "stdout",
     "output_type": "stream",
     "text": [
      "\n",
      "16 []\n"
     ]
    },
    {
     "data": {
      "application/vnd.jupyter.widget-view+json": {
       "model_id": "79b29c8f14174338b10271971d8a8fb6",
       "version_major": 2,
       "version_minor": 0
      },
      "text/plain": [
       "HBox(children=(HTML(value=''), FloatProgress(value=0.0, max=1884000.0), HTML(value='')))"
      ]
     },
     "metadata": {},
     "output_type": "display_data"
    },
    {
     "name": "stdout",
     "output_type": "stream",
     "text": [
      "\n",
      "15 []\n"
     ]
    },
    {
     "data": {
      "application/vnd.jupyter.widget-view+json": {
       "model_id": "43723a74a5aa4a15b6eb213033badc1e",
       "version_major": 2,
       "version_minor": 0
      },
      "text/plain": [
       "HBox(children=(HTML(value=''), FloatProgress(value=0.0, max=2018571.4285714286), HTML(value='')))"
      ]
     },
     "metadata": {},
     "output_type": "display_data"
    },
    {
     "name": "stdout",
     "output_type": "stream",
     "text": [
      "\n",
      "14 []\n"
     ]
    },
    {
     "data": {
      "application/vnd.jupyter.widget-view+json": {
       "model_id": "65d3c5f13a8243a28fe6000ef4ff57b8",
       "version_major": 2,
       "version_minor": 0
      },
      "text/plain": [
       "HBox(children=(HTML(value=''), FloatProgress(value=0.0, max=2173846.153846154), HTML(value='')))"
      ]
     },
     "metadata": {},
     "output_type": "display_data"
    },
    {
     "name": "stdout",
     "output_type": "stream",
     "text": [
      "\n",
      "13 []\n"
     ]
    },
    {
     "data": {
      "application/vnd.jupyter.widget-view+json": {
       "model_id": "ab050c3176ee43c896afc1c23f07fab2",
       "version_major": 2,
       "version_minor": 0
      },
      "text/plain": [
       "HBox(children=(HTML(value=''), FloatProgress(value=0.0, max=2355000.0), HTML(value='')))"
      ]
     },
     "metadata": {},
     "output_type": "display_data"
    },
    {
     "name": "stdout",
     "output_type": "stream",
     "text": [
      "\n",
      "12 []\n"
     ]
    },
    {
     "data": {
      "application/vnd.jupyter.widget-view+json": {
       "model_id": "cf0d3e5f8d4d40e2aa8504c84d9bf48b",
       "version_major": 2,
       "version_minor": 0
      },
      "text/plain": [
       "HBox(children=(HTML(value=''), FloatProgress(value=0.0, max=2569090.909090909), HTML(value='')))"
      ]
     },
     "metadata": {},
     "output_type": "display_data"
    },
    {
     "name": "stdout",
     "output_type": "stream",
     "text": [
      "\n",
      "11 []\n"
     ]
    },
    {
     "data": {
      "application/vnd.jupyter.widget-view+json": {
       "model_id": "c6edd37f276c4b6287682e1d19d69335",
       "version_major": 2,
       "version_minor": 0
      },
      "text/plain": [
       "HBox(children=(HTML(value=''), FloatProgress(value=0.0, max=2826000.0), HTML(value='')))"
      ]
     },
     "metadata": {},
     "output_type": "display_data"
    },
    {
     "name": "stdout",
     "output_type": "stream",
     "text": [
      "\n",
      "10 []\n"
     ]
    },
    {
     "data": {
      "application/vnd.jupyter.widget-view+json": {
       "model_id": "0ca271cb922a4628b03beed6b2a295d8",
       "version_major": 2,
       "version_minor": 0
      },
      "text/plain": [
       "HBox(children=(HTML(value=''), FloatProgress(value=0.0, max=3140000.0), HTML(value='')))"
      ]
     },
     "metadata": {},
     "output_type": "display_data"
    },
    {
     "name": "stdout",
     "output_type": "stream",
     "text": [
      "\n",
      "9 [\"Author: 'beatles', Album: 'Revolver', Title: 'Got To Get You Into My Life'\", \"Author: 'beatles', Album: 'A Hard Day s Night', Title: 'Any Time At All'\"]\n"
     ]
    },
    {
     "data": {
      "application/vnd.jupyter.widget-view+json": {
       "model_id": "2e4d574808924d45ae77dd192175d89e",
       "version_major": 2,
       "version_minor": 0
      },
      "text/plain": [
       "HBox(children=(HTML(value=''), FloatProgress(value=0.0, max=1413000.0), HTML(value='')))"
      ]
     },
     "metadata": {},
     "output_type": "display_data"
    },
    {
     "name": "stdout",
     "output_type": "stream",
     "text": [
      "\n",
      "20 []\n"
     ]
    },
    {
     "data": {
      "application/vnd.jupyter.widget-view+json": {
       "model_id": "7d460fe679ed4bbf95b4dc5a2b5b576e",
       "version_major": 2,
       "version_minor": 0
      },
      "text/plain": [
       "HBox(children=(HTML(value=''), FloatProgress(value=0.0, max=1487368.4210526317), HTML(value='')))"
      ]
     },
     "metadata": {},
     "output_type": "display_data"
    },
    {
     "name": "stdout",
     "output_type": "stream",
     "text": [
      "\n",
      "19 []\n"
     ]
    },
    {
     "data": {
      "application/vnd.jupyter.widget-view+json": {
       "model_id": "8064b6dd90764284834e7653d1c20a4f",
       "version_major": 2,
       "version_minor": 0
      },
      "text/plain": [
       "HBox(children=(HTML(value=''), FloatProgress(value=0.0, max=1570000.0), HTML(value='')))"
      ]
     },
     "metadata": {},
     "output_type": "display_data"
    },
    {
     "name": "stdout",
     "output_type": "stream",
     "text": [
      "\n",
      "18 []\n"
     ]
    },
    {
     "data": {
      "application/vnd.jupyter.widget-view+json": {
       "model_id": "bf486b1665bb45f5aac1cc390967d748",
       "version_major": 2,
       "version_minor": 0
      },
      "text/plain": [
       "HBox(children=(HTML(value=''), FloatProgress(value=0.0, max=1662352.9411764706), HTML(value='')))"
      ]
     },
     "metadata": {},
     "output_type": "display_data"
    },
    {
     "name": "stdout",
     "output_type": "stream",
     "text": [
      "\n",
      "17 []\n"
     ]
    },
    {
     "data": {
      "application/vnd.jupyter.widget-view+json": {
       "model_id": "e3ca0ec2e5b94d32b1c8a5cfd5589c49",
       "version_major": 2,
       "version_minor": 0
      },
      "text/plain": [
       "HBox(children=(HTML(value=''), FloatProgress(value=0.0, max=1766250.0), HTML(value='')))"
      ]
     },
     "metadata": {},
     "output_type": "display_data"
    },
    {
     "name": "stdout",
     "output_type": "stream",
     "text": [
      "\n",
      "16 []\n"
     ]
    },
    {
     "data": {
      "application/vnd.jupyter.widget-view+json": {
       "model_id": "1a06d1d6c80c4e4a9fd2c66451a0b033",
       "version_major": 2,
       "version_minor": 0
      },
      "text/plain": [
       "HBox(children=(HTML(value=''), FloatProgress(value=0.0, max=1884000.0), HTML(value='')))"
      ]
     },
     "metadata": {},
     "output_type": "display_data"
    },
    {
     "name": "stdout",
     "output_type": "stream",
     "text": [
      "\n",
      "15 []\n"
     ]
    },
    {
     "data": {
      "application/vnd.jupyter.widget-view+json": {
       "model_id": "05147dcd576e4e0a9e7711554851f588",
       "version_major": 2,
       "version_minor": 0
      },
      "text/plain": [
       "HBox(children=(HTML(value=''), FloatProgress(value=0.0, max=2018571.4285714286), HTML(value='')))"
      ]
     },
     "metadata": {},
     "output_type": "display_data"
    },
    {
     "name": "stdout",
     "output_type": "stream",
     "text": [
      "\n",
      "14 []\n"
     ]
    },
    {
     "data": {
      "application/vnd.jupyter.widget-view+json": {
       "model_id": "fc555189fbbf4d91b180868d0ad4cd5a",
       "version_major": 2,
       "version_minor": 0
      },
      "text/plain": [
       "HBox(children=(HTML(value=''), FloatProgress(value=0.0, max=2173846.153846154), HTML(value='')))"
      ]
     },
     "metadata": {},
     "output_type": "display_data"
    },
    {
     "name": "stdout",
     "output_type": "stream",
     "text": [
      "\n",
      "13 []\n"
     ]
    },
    {
     "data": {
      "application/vnd.jupyter.widget-view+json": {
       "model_id": "0cec17f00be04087ab8f14b32fe9b4e0",
       "version_major": 2,
       "version_minor": 0
      },
      "text/plain": [
       "HBox(children=(HTML(value=''), FloatProgress(value=0.0, max=2355000.0), HTML(value='')))"
      ]
     },
     "metadata": {},
     "output_type": "display_data"
    },
    {
     "name": "stdout",
     "output_type": "stream",
     "text": [
      "\n",
      "12 []\n"
     ]
    },
    {
     "data": {
      "application/vnd.jupyter.widget-view+json": {
       "model_id": "e34c8c887e954bd7984008c29b3a486a",
       "version_major": 2,
       "version_minor": 0
      },
      "text/plain": [
       "HBox(children=(HTML(value=''), FloatProgress(value=0.0, max=2569090.909090909), HTML(value='')))"
      ]
     },
     "metadata": {},
     "output_type": "display_data"
    },
    {
     "name": "stdout",
     "output_type": "stream",
     "text": [
      "\n",
      "11 []\n"
     ]
    },
    {
     "data": {
      "application/vnd.jupyter.widget-view+json": {
       "model_id": "ce091792c84848679f25c1fce58168cb",
       "version_major": 2,
       "version_minor": 0
      },
      "text/plain": [
       "HBox(children=(HTML(value=''), FloatProgress(value=0.0, max=2826000.0), HTML(value='')))"
      ]
     },
     "metadata": {},
     "output_type": "display_data"
    },
    {
     "name": "stdout",
     "output_type": "stream",
     "text": [
      "\n",
      "10 []\n"
     ]
    },
    {
     "data": {
      "application/vnd.jupyter.widget-view+json": {
       "model_id": "e59e9e783f1d418994c15d0a95cf3ae8",
       "version_major": 2,
       "version_minor": 0
      },
      "text/plain": [
       "HBox(children=(HTML(value=''), FloatProgress(value=0.0, max=3140000.0), HTML(value='')))"
      ]
     },
     "metadata": {},
     "output_type": "display_data"
    },
    {
     "name": "stdout",
     "output_type": "stream",
     "text": [
      "\n",
      "9 []\n"
     ]
    },
    {
     "data": {
      "application/vnd.jupyter.widget-view+json": {
       "model_id": "ecf0e038b5324d74aa56972d7eee0124",
       "version_major": 2,
       "version_minor": 0
      },
      "text/plain": [
       "HBox(children=(HTML(value=''), FloatProgress(value=0.0, max=3532500.0), HTML(value='')))"
      ]
     },
     "metadata": {},
     "output_type": "display_data"
    },
    {
     "name": "stdout",
     "output_type": "stream",
     "text": [
      "\n",
      "8 [\"Author: 'green day', Album: 'Nimrod', Title: 'Redundant'\", \"Author: 'steely dan', Album: 'Aja', Title: 'Peg'\"]\n"
     ]
    }
   ],
   "source": [
    "output=[]\n",
    "for q in [1,5,6,7,9]:\n",
    "    sent=True\n",
    "    THRESHOLD = 20 \n",
    "    num_bands = 20\n",
    "    while sent:\n",
    "        bands = []\n",
    "        c=0\n",
    "        for i in tqdm(range(0, len(perms_flat), num_bands), total=len(perms_flat)/num_bands):\n",
    "            if i in list(range(num_perm,num_perm*1413+1,num_perm)):\n",
    "                c+=1\n",
    "            try:\n",
    "                bands.append(([perms_flat[j] for j in range(i,num_bands+i)], c))\n",
    "            except:\n",
    "                pass \n",
    "        buckets = {}\n",
    "        for x in bands:\n",
    "            x[0].sort()\n",
    "            if str(x) not in buckets.keys():\n",
    "                buckets[str(x[0])] = [] \n",
    "            buckets[str(x[0])].append(trackName[x[1]])\n",
    "        \n",
    "        j=0\n",
    "        temp=[]\n",
    "        while j<=num_perm:\n",
    "            x=list(perms_transpQ[q,j:j+THRESHOLD])\n",
    "            x.sort()\n",
    "            if str(x) in buckets.keys():\n",
    "                temp.append(buckets[str(x)][0])\n",
    "            j+=THRESHOLD\n",
    "   \n",
    "        if len(temp)>=1:\n",
    "            sent=False\n",
    "            output.append((q,set(temp)))\n",
    "        print(THRESHOLD, temp)\n",
    "        THRESHOLD-=1  \n",
    "        num_bands-=1"
   ]
  },
  {
   "cell_type": "code",
   "execution_count": 27,
   "metadata": {},
   "outputs": [
    {
     "data": {
      "text/plain": [
       "[(1,\n",
       "  {\"Author: 'beatles', Album: 'Abbey Road', Title: 'She Came In Through The Bathroom Window'\"}),\n",
       " (5, {\"Author: 'metallica', Album: 'Load', Title: 'Cure'\"}),\n",
       " (6, {\"Author: 'cure', Album: 'Disintegration', Title: 'Closedown'\"}),\n",
       " (7,\n",
       "  {\"Author: 'beatles', Album: 'A Hard Day s Night', Title: 'Any Time At All'\",\n",
       "   \"Author: 'beatles', Album: 'Revolver', Title: 'Got To Get You Into My Life'\"}),\n",
       " (9,\n",
       "  {\"Author: 'green day', Album: 'Nimrod', Title: 'Redundant'\",\n",
       "   \"Author: 'steely dan', Album: 'Aja', Title: 'Peg'\"})]"
      ]
     },
     "execution_count": 27,
     "metadata": {},
     "output_type": "execute_result"
    }
   ],
   "source": [
    "output"
   ]
  },
  {
   "cell_type": "markdown",
   "metadata": {},
   "source": [
    "With this setting (duration: 45s, number of permutation: 20000), we have found:\n",
    "\n",
    "(1, {\"Author: 'beatles', Album: 'Abbey Road', Title: 'She Came In Through The Bathroom Window'\"}\n",
    "\n",
    "Other 4 to go...    "
   ]
  },
  {
   "cell_type": "code",
   "execution_count": 16,
   "metadata": {},
   "outputs": [
    {
     "data": {
      "application/vnd.jupyter.widget-view+json": {
       "model_id": "5c40a6365084411db872dcabbfd061dd",
       "version_major": 2,
       "version_minor": 0
      },
      "text/plain": [
       "  0%|          | 0/1413 [00:00<?, ?it/s]"
      ]
     },
     "metadata": {},
     "output_type": "display_data"
    }
   ],
   "source": [
    "#Sort of GridSearch, wout CV lol\n",
    "\n",
    "import random\n",
    "random.seed(42)\n",
    "\n",
    "DURATION = 60\n",
    "\n",
    "data_folder = Path(r\"C:\\Users\\alessio\\Downloads\\adm-hw4\\mp3s-32k\")\n",
    "mp3_tracks = data_folder.glob(\"*\\*\\*.mp3\")\n",
    "tracks = data_folder.glob(\"*\\*\\*.wav\") \n",
    "\n",
    "ls=[]\n",
    "for idx, audio in tqdm(enumerate(tracks), total=N_TRACKS):\n",
    "    track, sr, onset_env, peaks = load_audio_picks(audio, DURATION, HOP_SIZE)\n",
    "    ls.append((idx, peaks))\n",
    "peakListLen = DURATION*22050//HOP_SIZE\n",
    "m=np.zeros((peakListLen, N_TRACKS), dtype=int)\n",
    "\n",
    "for i in range(peakListLen):\n",
    "        j=0\n",
    "        while j<(ls[-1][0]+1):\n",
    "            if i in ls[j][1]:\n",
    "                m[i][j]=1\n",
    "            j+=1\n",
    "\n",
    "shingles = list(range(peakListLen))\n",
    "signatureMatrix = []\n",
    "num_perm = 20000\n",
    "signatureMatrix=[]\n",
    "for _ in tqdm(range(num_perm), total=num_perm):\n",
    "    temp=[]\n",
    "    random.shuffle(shingles)\n",
    "    for i in range(ls[-1][0]+1):\n",
    "        j=0\n",
    "        while shingles[j] not in ls[i][1]:\n",
    "            if j==peakListLen-1:\n",
    "                break\n",
    "            j+=1\n",
    "        temp.append(j)\n",
    "    signatureMatrix.append(temp)\n",
    "signatureMatrix=np.array(signatureMatrix)\n",
    "\n",
    "perms_transp = np.transpose(np.array(signatureMatrix))\n",
    "perms_flat = perms_transp.flatten()\n",
    "#Ready for computing bands\n",
    "data_folder = Path(r\"C:\\Users\\alessio\\Downloads\\adm-hw4\\query\")\n",
    "tracksQ = data_folder.glob(\"*.wav\")\n",
    "\n",
    "lsQ=[]\n",
    "for idx, audio in tqdm(enumerate(tracksQ), total=10):\n",
    "    track, sr, onset_env, peaks = load_audio_picks(audio, DURATION, HOP_SIZE)\n",
    "    lsQ.append((idx, peaks))\n",
    "\n",
    "mQ=np.zeros((peakListLen, 10), dtype=int)\n",
    "\n",
    "for i in range(peakListLen):\n",
    "        j=0\n",
    "        while j<10:\n",
    "            if i in ls[j][1]:\n",
    "                mQ[i][j]=1\n",
    "            j+=1\n",
    "\n",
    "shinglesQ = list(range(peakListLen))\n",
    "signatureMatrixQ = []\n",
    "num_permQ = 20000\n",
    "for _ in tqdm(range(num_perm), total=num_perm):\n",
    "    temp=[]\n",
    "    random.shuffle(shinglesQ)\n",
    "    for i in range(lsQ[-1][0]+1):\n",
    "        j=0\n",
    "        while shinglesQ[j] not in lsQ[i][1]:\n",
    "            if j==peakListLen:\n",
    "                break\n",
    "            j+=1\n",
    "        temp.append(j)\n",
    "    signatureMatrixQ.append(temp)\n",
    "\n",
    "perms_transpQ = np.transpose(np.array(signatureMatrixQ))\n",
    "perms_flatQ = perms_transpQ.flatten()\n",
    "#Ready for computing bands pt.2"
   ]
  },
  {
   "cell_type": "code",
   "execution_count": 19,
   "metadata": {
    "scrolled": true
   },
   "outputs": [
    {
     "data": {
      "application/vnd.jupyter.widget-view+json": {
       "model_id": "d7fd26ee55bd4cd8961b4f19293db4b4",
       "version_major": 2,
       "version_minor": 0
      },
      "text/plain": [
       "  0%|          | 0/1662352.9411764706 [00:00<?, ?it/s]"
      ]
     },
     "metadata": {},
     "output_type": "display_data"
    },
    {
     "name": "stdout",
     "output_type": "stream",
     "text": [
      "17 []\n"
     ]
    },
    {
     "data": {
      "application/vnd.jupyter.widget-view+json": {
       "model_id": "8750f97be654412f9e4301524fbf5519",
       "version_major": 2,
       "version_minor": 0
      },
      "text/plain": [
       "  0%|          | 0/1766250.0 [00:00<?, ?it/s]"
      ]
     },
     "metadata": {},
     "output_type": "display_data"
    },
    {
     "name": "stdout",
     "output_type": "stream",
     "text": [
      "16 []\n"
     ]
    },
    {
     "data": {
      "application/vnd.jupyter.widget-view+json": {
       "model_id": "617234e71ca14245b02a2590841e1229",
       "version_major": 2,
       "version_minor": 0
      },
      "text/plain": [
       "  0%|          | 0/1884000.0 [00:00<?, ?it/s]"
      ]
     },
     "metadata": {},
     "output_type": "display_data"
    },
    {
     "name": "stdout",
     "output_type": "stream",
     "text": [
      "15 []\n"
     ]
    },
    {
     "data": {
      "application/vnd.jupyter.widget-view+json": {
       "model_id": "1f746eee24614bbf8679cfb8fe17de00",
       "version_major": 2,
       "version_minor": 0
      },
      "text/plain": [
       "  0%|          | 0/2018571.4285714286 [00:00<?, ?it/s]"
      ]
     },
     "metadata": {},
     "output_type": "display_data"
    },
    {
     "name": "stdout",
     "output_type": "stream",
     "text": [
      "14 []\n"
     ]
    },
    {
     "data": {
      "application/vnd.jupyter.widget-view+json": {
       "model_id": "659e4f503677493998fce53d2a9c51c3",
       "version_major": 2,
       "version_minor": 0
      },
      "text/plain": [
       "  0%|          | 0/2173846.153846154 [00:00<?, ?it/s]"
      ]
     },
     "metadata": {},
     "output_type": "display_data"
    },
    {
     "name": "stdout",
     "output_type": "stream",
     "text": [
      "13 []\n"
     ]
    },
    {
     "data": {
      "application/vnd.jupyter.widget-view+json": {
       "model_id": "d885ae4aef734cccbdb6377c88aff346",
       "version_major": 2,
       "version_minor": 0
      },
      "text/plain": [
       "  0%|          | 0/2355000.0 [00:00<?, ?it/s]"
      ]
     },
     "metadata": {},
     "output_type": "display_data"
    },
    {
     "name": "stdout",
     "output_type": "stream",
     "text": [
      "12 []\n"
     ]
    },
    {
     "data": {
      "application/vnd.jupyter.widget-view+json": {
       "model_id": "e708b1b7d6134caa8beb2f623bc1b5cb",
       "version_major": 2,
       "version_minor": 0
      },
      "text/plain": [
       "  0%|          | 0/2569090.909090909 [00:00<?, ?it/s]"
      ]
     },
     "metadata": {},
     "output_type": "display_data"
    },
    {
     "name": "stdout",
     "output_type": "stream",
     "text": [
      "11 []\n"
     ]
    },
    {
     "data": {
      "application/vnd.jupyter.widget-view+json": {
       "model_id": "d4353e9100a442f6b3dfcc45e91cab14",
       "version_major": 2,
       "version_minor": 0
      },
      "text/plain": [
       "  0%|          | 0/2826000.0 [00:00<?, ?it/s]"
      ]
     },
     "metadata": {},
     "output_type": "display_data"
    },
    {
     "name": "stdout",
     "output_type": "stream",
     "text": [
      "10 [\"Author: 'beatles', Album: 'Beatles For Sale', Title: 'Baby s In Black'\"]\n"
     ]
    },
    {
     "data": {
      "application/vnd.jupyter.widget-view+json": {
       "model_id": "5e0d4bc5b5274f39a086994aedc19c0c",
       "version_major": 2,
       "version_minor": 0
      },
      "text/plain": [
       "  0%|          | 0/1662352.9411764706 [00:00<?, ?it/s]"
      ]
     },
     "metadata": {},
     "output_type": "display_data"
    },
    {
     "name": "stdout",
     "output_type": "stream",
     "text": [
      "17 []\n"
     ]
    },
    {
     "data": {
      "application/vnd.jupyter.widget-view+json": {
       "model_id": "2958895842f14081b9da2c57e0c6186e",
       "version_major": 2,
       "version_minor": 0
      },
      "text/plain": [
       "  0%|          | 0/1766250.0 [00:00<?, ?it/s]"
      ]
     },
     "metadata": {},
     "output_type": "display_data"
    },
    {
     "name": "stdout",
     "output_type": "stream",
     "text": [
      "16 []\n"
     ]
    },
    {
     "data": {
      "application/vnd.jupyter.widget-view+json": {
       "model_id": "7d064781d87742d4bd240ae6454dbb7f",
       "version_major": 2,
       "version_minor": 0
      },
      "text/plain": [
       "  0%|          | 0/1884000.0 [00:00<?, ?it/s]"
      ]
     },
     "metadata": {},
     "output_type": "display_data"
    },
    {
     "name": "stdout",
     "output_type": "stream",
     "text": [
      "15 []\n"
     ]
    },
    {
     "data": {
      "application/vnd.jupyter.widget-view+json": {
       "model_id": "4cd19787b949477f93aaedc6f11a8b93",
       "version_major": 2,
       "version_minor": 0
      },
      "text/plain": [
       "  0%|          | 0/2018571.4285714286 [00:00<?, ?it/s]"
      ]
     },
     "metadata": {},
     "output_type": "display_data"
    },
    {
     "name": "stdout",
     "output_type": "stream",
     "text": [
      "14 []\n"
     ]
    },
    {
     "data": {
      "application/vnd.jupyter.widget-view+json": {
       "model_id": "346aa36489ba4fd8a98acb0bb483e898",
       "version_major": 2,
       "version_minor": 0
      },
      "text/plain": [
       "  0%|          | 0/2173846.153846154 [00:00<?, ?it/s]"
      ]
     },
     "metadata": {},
     "output_type": "display_data"
    },
    {
     "name": "stdout",
     "output_type": "stream",
     "text": [
      "13 []\n"
     ]
    },
    {
     "data": {
      "application/vnd.jupyter.widget-view+json": {
       "model_id": "e68b2f20f5484f749dfc096157cc4bc1",
       "version_major": 2,
       "version_minor": 0
      },
      "text/plain": [
       "  0%|          | 0/2355000.0 [00:00<?, ?it/s]"
      ]
     },
     "metadata": {},
     "output_type": "display_data"
    },
    {
     "name": "stdout",
     "output_type": "stream",
     "text": [
      "12 []\n"
     ]
    },
    {
     "data": {
      "application/vnd.jupyter.widget-view+json": {
       "model_id": "37951098ec5d483fa145888288d17751",
       "version_major": 2,
       "version_minor": 0
      },
      "text/plain": [
       "  0%|          | 0/2569090.909090909 [00:00<?, ?it/s]"
      ]
     },
     "metadata": {},
     "output_type": "display_data"
    },
    {
     "name": "stdout",
     "output_type": "stream",
     "text": [
      "11 []\n"
     ]
    },
    {
     "data": {
      "application/vnd.jupyter.widget-view+json": {
       "model_id": "ceefe2058cee4c3bb2d91fe474da7544",
       "version_major": 2,
       "version_minor": 0
      },
      "text/plain": [
       "  0%|          | 0/2826000.0 [00:00<?, ?it/s]"
      ]
     },
     "metadata": {},
     "output_type": "display_data"
    },
    {
     "name": "stdout",
     "output_type": "stream",
     "text": [
      "10 []\n"
     ]
    },
    {
     "data": {
      "application/vnd.jupyter.widget-view+json": {
       "model_id": "60ede53d1cf74c2d84b0a2db71c91926",
       "version_major": 2,
       "version_minor": 0
      },
      "text/plain": [
       "  0%|          | 0/3140000.0 [00:00<?, ?it/s]"
      ]
     },
     "metadata": {},
     "output_type": "display_data"
    },
    {
     "name": "stdout",
     "output_type": "stream",
     "text": [
      "9 [\"Author: 'beatles', Album: 'Beatles For Sale', Title: 'What You re Doing'\", \"Author: 'beatles', Album: 'Magical Mystery Tour', Title: 'Magical Mystery Tour'\"]\n"
     ]
    }
   ],
   "source": [
    "output=[]\n",
    "for q in [7,9]:\n",
    "    sent=True\n",
    "    THRESHOLD = 17 \n",
    "    num_bands = 17 \n",
    "    while sent:\n",
    "        bands = []\n",
    "        c=0\n",
    "        for i in tqdm(range(0, len(perms_flat), num_bands), total=len(perms_flat)/num_bands):\n",
    "            if i in list(range(num_perm,num_perm*1413+1,num_perm)):\n",
    "                c+=1\n",
    "            try:\n",
    "                bands.append(([perms_flat[j] for j in range(i,num_bands+i)], c))\n",
    "            except:\n",
    "                pass \n",
    "        buckets = {}\n",
    "        for x in bands:\n",
    "            x[0].sort()\n",
    "            if str(x) not in buckets.keys():\n",
    "                buckets[str(x[0])] = [] \n",
    "            buckets[str(x[0])].append(trackName[x[1]])\n",
    "        \n",
    "        j=0\n",
    "        temp=[]\n",
    "        while j<=num_perm:\n",
    "            x=list(perms_transpQ[q,j:j+THRESHOLD])\n",
    "            x.sort()\n",
    "            if str(x) in buckets.keys():\n",
    "                temp.append(buckets[str(x)][0])\n",
    "            j+=THRESHOLD\n",
    "   \n",
    "        if len(temp)>=1: \n",
    "            sent=False\n",
    "            output.append((q,set(temp)))\n",
    "        print(THRESHOLD, temp)\n",
    "        THRESHOLD-=1  \n",
    "        num_bands-=1"
   ]
  },
  {
   "cell_type": "code",
   "execution_count": 20,
   "metadata": {},
   "outputs": [
    {
     "data": {
      "text/plain": [
       "[(7,\n",
       "  {\"Author: 'beatles', Album: 'Beatles For Sale', Title: 'Baby s In Black'\"}),\n",
       " (9,\n",
       "  {\"Author: 'beatles', Album: 'Beatles For Sale', Title: 'What You re Doing'\",\n",
       "   \"Author: 'beatles', Album: 'Magical Mystery Tour', Title: 'Magical Mystery Tour'\"})]"
      ]
     },
     "execution_count": 20,
     "metadata": {},
     "output_type": "execute_result"
    }
   ],
   "source": [
    "output"
   ]
  },
  {
   "cell_type": "markdown",
   "metadata": {},
   "source": [
    "With this setting (duration: 60s, number of permutation: 20000), we have found:\n",
    "\n",
    "(7, {\"Author: 'beatles', Album: 'Beatles For Sale', Title: 'Baby s In Black'\"})\n",
    "\n",
    "The last one to go...    "
   ]
  },
  {
   "cell_type": "code",
   "execution_count": 21,
   "metadata": {},
   "outputs": [
    {
     "data": {
      "application/vnd.jupyter.widget-view+json": {
       "model_id": "ab4aa48617a64143a76a6db835085a28",
       "version_major": 2,
       "version_minor": 0
      },
      "text/plain": [
       "  0%|          | 0/1413 [00:00<?, ?it/s]"
      ]
     },
     "metadata": {},
     "output_type": "display_data"
    }
   ],
   "source": [
    "#Sort of GridSearch, wout CV lol\n",
    "\n",
    "import random\n",
    "random.seed(42)\n",
    "\n",
    "DURATION = 90\n",
    "\n",
    "data_folder = Path(r\"C:\\Users\\alessio\\Downloads\\adm-hw4\\mp3s-32k\")\n",
    "mp3_tracks = data_folder.glob(\"*\\*\\*.mp3\")\n",
    "tracks = data_folder.glob(\"*\\*\\*.wav\") \n",
    "\n",
    "ls=[]\n",
    "for idx, audio in tqdm(enumerate(tracks), total=N_TRACKS):\n",
    "    track, sr, onset_env, peaks = load_audio_picks(audio, DURATION, HOP_SIZE)\n",
    "    ls.append((idx, peaks))\n",
    "peakListLen = DURATION*22050//HOP_SIZE\n",
    "m=np.zeros((peakListLen, N_TRACKS), dtype=int)\n",
    "\n",
    "for i in range(peakListLen):\n",
    "        j=0\n",
    "        while j<(ls[-1][0]+1):\n",
    "            if i in ls[j][1]:\n",
    "                m[i][j]=1\n",
    "            j+=1\n",
    "\n",
    "shingles = list(range(peakListLen))\n",
    "signatureMatrix = []\n",
    "num_perm = 50000\n",
    "signatureMatrix=[]\n",
    "for _ in tqdm(range(num_perm), total=num_perm):\n",
    "    temp=[]\n",
    "    random.shuffle(shingles)\n",
    "    for i in range(ls[-1][0]+1):\n",
    "        j=0\n",
    "        while shingles[j] not in ls[i][1]:\n",
    "            if j==peakListLen-1:\n",
    "                break\n",
    "            j+=1\n",
    "        temp.append(j)\n",
    "    signatureMatrix.append(temp)\n",
    "signatureMatrix=np.array(signatureMatrix)\n",
    "\n",
    "perms_transp = np.transpose(np.array(signatureMatrix))\n",
    "perms_flat = perms_transp.flatten()\n",
    "#Ready for computing bands\n",
    "data_folder = Path(r\"C:\\Users\\alessio\\Downloads\\adm-hw4\\query\")\n",
    "tracksQ = data_folder.glob(\"*.wav\")\n",
    "\n",
    "lsQ=[]\n",
    "for idx, audio in tqdm(enumerate(tracksQ), total=10):\n",
    "    track, sr, onset_env, peaks = load_audio_picks(audio, DURATION, HOP_SIZE)\n",
    "    lsQ.append((idx, peaks))\n",
    "\n",
    "mQ=np.zeros((peakListLen, 10), dtype=int)\n",
    "\n",
    "for i in range(peakListLen):\n",
    "        j=0\n",
    "        while j<10:\n",
    "            if i in ls[j][1]:\n",
    "                mQ[i][j]=1\n",
    "            j+=1\n",
    "\n",
    "shinglesQ = list(range(peakListLen))\n",
    "signatureMatrixQ = []\n",
    "num_permQ = 50000\n",
    "for _ in tqdm(range(num_perm), total=num_perm):\n",
    "    temp=[]\n",
    "    random.shuffle(shinglesQ)\n",
    "    for i in range(lsQ[-1][0]+1):\n",
    "        j=0\n",
    "        while shinglesQ[j] not in lsQ[i][1]:\n",
    "            if j==peakListLen:\n",
    "                break\n",
    "            j+=1\n",
    "        temp.append(j)\n",
    "    signatureMatrixQ.append(temp)\n",
    "\n",
    "perms_transpQ = np.transpose(np.array(signatureMatrixQ))\n",
    "perms_flatQ = perms_transpQ.flatten()\n",
    "#Ready for computing bands pt.2"
   ]
  },
  {
   "cell_type": "code",
   "execution_count": 24,
   "metadata": {
    "scrolled": true
   },
   "outputs": [
    {
     "data": {
      "application/vnd.jupyter.widget-view+json": {
       "model_id": "ac0a1a65ec6043ceaf1c27f5c6e58b6c",
       "version_major": 2,
       "version_minor": 0
      },
      "text/plain": [
       "  0%|          | 0/4155882.3529411764 [00:00<?, ?it/s]"
      ]
     },
     "metadata": {},
     "output_type": "display_data"
    },
    {
     "name": "stdout",
     "output_type": "stream",
     "text": [
      "17 []\n"
     ]
    },
    {
     "data": {
      "application/vnd.jupyter.widget-view+json": {
       "model_id": "6ba6057c9dec45e4982f274efb47f69d",
       "version_major": 2,
       "version_minor": 0
      },
      "text/plain": [
       "  0%|          | 0/4415625.0 [00:00<?, ?it/s]"
      ]
     },
     "metadata": {},
     "output_type": "display_data"
    },
    {
     "name": "stdout",
     "output_type": "stream",
     "text": [
      "16 []\n"
     ]
    },
    {
     "data": {
      "application/vnd.jupyter.widget-view+json": {
       "model_id": "5aa65f3780db4d98a83407803b7aa927",
       "version_major": 2,
       "version_minor": 0
      },
      "text/plain": [
       "  0%|          | 0/4710000.0 [00:00<?, ?it/s]"
      ]
     },
     "metadata": {},
     "output_type": "display_data"
    },
    {
     "name": "stdout",
     "output_type": "stream",
     "text": [
      "15 []\n"
     ]
    },
    {
     "data": {
      "application/vnd.jupyter.widget-view+json": {
       "model_id": "a53fc68728944a018dc2015f4378685e",
       "version_major": 2,
       "version_minor": 0
      },
      "text/plain": [
       "  0%|          | 0/5046428.571428572 [00:00<?, ?it/s]"
      ]
     },
     "metadata": {},
     "output_type": "display_data"
    },
    {
     "name": "stdout",
     "output_type": "stream",
     "text": [
      "14 []\n"
     ]
    },
    {
     "data": {
      "application/vnd.jupyter.widget-view+json": {
       "model_id": "4c929e663f9940ddb32597333e107862",
       "version_major": 2,
       "version_minor": 0
      },
      "text/plain": [
       "  0%|          | 0/5434615.384615385 [00:00<?, ?it/s]"
      ]
     },
     "metadata": {},
     "output_type": "display_data"
    },
    {
     "name": "stdout",
     "output_type": "stream",
     "text": [
      "13 []\n"
     ]
    },
    {
     "data": {
      "application/vnd.jupyter.widget-view+json": {
       "model_id": "fb23da8b84c24b2aacb1b21f2981ec91",
       "version_major": 2,
       "version_minor": 0
      },
      "text/plain": [
       "  0%|          | 0/5887500.0 [00:00<?, ?it/s]"
      ]
     },
     "metadata": {},
     "output_type": "display_data"
    },
    {
     "name": "stdout",
     "output_type": "stream",
     "text": [
      "12 [\"Author: 'dave matthews band', Album: 'Crash', Title: 'Too Much'\"]\n"
     ]
    }
   ],
   "source": [
    "output=[]\n",
    "for q in [9]:\n",
    "    sent=True\n",
    "    THRESHOLD = 17 \n",
    "    num_bands = 17 \n",
    "    while sent:\n",
    "        bands = []\n",
    "        c=0\n",
    "        for i in tqdm(range(0, len(perms_flat), num_bands), total=len(perms_flat)/num_bands):\n",
    "            if i in list(range(num_perm,num_perm*1413+1,num_perm)):\n",
    "                c+=1\n",
    "            try:\n",
    "                bands.append(([perms_flat[j] for j in range(i,num_bands+i)], c))\n",
    "            except:\n",
    "                pass \n",
    "        buckets = {}\n",
    "        for x in bands:\n",
    "            x[0].sort()\n",
    "            if str(x) not in buckets.keys():\n",
    "                buckets[str(x[0])] = [] \n",
    "            buckets[str(x[0])].append(trackName[x[1]])\n",
    "        \n",
    "        j=0\n",
    "        temp=[]\n",
    "        while j<=num_perm:\n",
    "            x=list(perms_transpQ[q,j:j+THRESHOLD])\n",
    "            x.sort()\n",
    "            if str(x) in buckets.keys():\n",
    "                temp.append(buckets[str(x)][0])\n",
    "            j+=THRESHOLD\n",
    "   \n",
    "        if len(temp)>=1:\n",
    "            sent=False\n",
    "            output.append((q,set(temp)))\n",
    "        print(THRESHOLD, temp)\n",
    "        THRESHOLD-=1  \n",
    "        num_bands-=1"
   ]
  },
  {
   "cell_type": "markdown",
   "metadata": {},
   "source": [
    "With this setting (duration: 90s, number of permutation: 50000), we have found:\n",
    "\n",
    "{12, \"Author: 'dave matthews band', Album: 'Crash', Title: 'Too Much'\"}"
   ]
  },
  {
   "cell_type": "markdown",
   "metadata": {},
   "source": [
    "Hence, in the end, what we have found is the following:\n",
    "\n",
    "(0, {\"Author: 'aerosmith', Album: 'Toys In The Attic', Title: 'No More No More'\"});\n",
    "\n",
    "(1,{\"Author: 'beatles', Album: 'Abbey Road', Title: 'She Came In Through The Bathroom Window'\"});\n",
    "\n",
    "(2, {\"Author: 'beatles', Album: 'A Hard Day s Night', Title: 'If I Fell'\"});\n",
    "\n",
    "(3, {\"Author: 'garth brooks', Album: 'No Fences The Limited Series ', Title: 'Same Old Story'\"});\n",
    "\n",
    "(4, {\"Author: 'beatles', Album: 'Magical Mystery Tour', Title: 'Penny Lane'\"});\n",
    "\n",
    "(5, {\"Author: 'metallica', Album: 'Load', Title: 'Cure'\"});\n",
    "\n",
    "(6, {\"Author: 'cure', Album: 'Disintegration', Title: 'Closedown'\"});\n",
    "\n",
    "(7, {\"Author: 'beatles', Album: 'Beatles For Sale', Title: 'Baby s In Black'\"});\n",
    "\n",
    "(8, {\"Author: 'beatles', Album: 'The White Album Disc 1', Title: 'Back In The U S S R '\"})\n",
    "\n",
    "(9, {\"Author: 'dave matthews band', Album: 'Crash', Title: 'Too Much'\"});\n",
    "\n",
    "We claim that everything could be solved by using duration: 90s, number of permutation: 50000, and numb_bands decreasing from 20 but that would require, with our algorithm and our machine, hours to say the least, thus it is not in line with the primary goal of an application like shazam.  "
   ]
  },
  {
   "cell_type": "markdown",
   "metadata": {},
   "source": [
    "# 2"
   ]
  },
  {
   "cell_type": "code",
   "execution_count": 356,
   "metadata": {},
   "outputs": [],
   "source": [
    "import pandas as pd, numpy as np"
   ]
  },
  {
   "cell_type": "code",
   "execution_count": 357,
   "metadata": {},
   "outputs": [],
   "source": [
    "df1 = pd.read_csv('echonest.csv')\n",
    "df2 = pd.read_csv('features.csv')\n",
    "df3 = pd.read_csv('tracks.csv')"
   ]
  },
  {
   "cell_type": "markdown",
   "metadata": {},
   "source": [
    "The primary key used for merging is the set of column in common in all three datasets."
   ]
  },
  {
   "cell_type": "code",
   "execution_count": 358,
   "metadata": {},
   "outputs": [
    {
     "data": {
      "text/plain": [
       "['track_id']"
      ]
     },
     "execution_count": 358,
     "metadata": {},
     "output_type": "execute_result"
    }
   ],
   "source": [
    "[x for x in df1.columns if x in df2.columns] #common columns between first and second datasets"
   ]
  },
  {
   "cell_type": "markdown",
   "metadata": {},
   "source": [
    "Just by looking at the first two datasets we find out that this key is 'track_id'."
   ]
  },
  {
   "cell_type": "code",
   "execution_count": 359,
   "metadata": {},
   "outputs": [
    {
     "data": {
      "text/plain": [
       "820"
      ]
     },
     "execution_count": 359,
     "metadata": {},
     "output_type": "execute_result"
    }
   ],
   "source": [
    "len(list(df1.columns)+list(df2.columns)+list(df3.columns))-2\n",
    "#in this way we count \"track_id\" one time, hence we remove 2"
   ]
  },
  {
   "cell_type": "code",
   "execution_count": 360,
   "metadata": {},
   "outputs": [
    {
     "data": {
      "text/plain": [
       "820"
      ]
     },
     "execution_count": 360,
     "metadata": {},
     "output_type": "execute_result"
    }
   ],
   "source": [
    "#Merge DataFrames\n",
    "df=df1.merge(df2.merge(df3))\n",
    "len(df.columns)"
   ]
  },
  {
   "cell_type": "code",
   "execution_count": 361,
   "metadata": {},
   "outputs": [
    {
     "data": {
      "text/plain": [
       "(13129, 820)"
      ]
     },
     "execution_count": 361,
     "metadata": {},
     "output_type": "execute_result"
    }
   ],
   "source": [
    "df.shape"
   ]
  },
  {
   "cell_type": "markdown",
   "metadata": {},
   "source": [
    "### 2.1 Preprocessing"
   ]
  },
  {
   "cell_type": "code",
   "execution_count": 7,
   "metadata": {},
   "outputs": [
    {
     "data": {
      "text/plain": [
       "track_id                               0\n",
       "audio_features_acousticness            0\n",
       "audio_features_danceability            0\n",
       "audio_features_energy                  0\n",
       "audio_features_instrumentalness        0\n",
       "                                   ...  \n",
       "track_lyricist                     13055\n",
       "track_number                           0\n",
       "track_publisher                    12977\n",
       "track_tags                             0\n",
       "track_title                            1\n",
       "Length: 820, dtype: int64"
      ]
     },
     "execution_count": 7,
     "metadata": {},
     "output_type": "execute_result"
    }
   ],
   "source": [
    "df.isnull().sum()"
   ]
  },
  {
   "cell_type": "code",
   "execution_count": 362,
   "metadata": {},
   "outputs": [
    {
     "name": "stdout",
     "output_type": "stream",
     "text": [
      "30 columns have been dropped\n"
     ]
    }
   ],
   "source": [
    "threshold=0.25 #amount of NaNs that makes us drop that specific column\n",
    "df.drop(columns=[x for x in df.columns if df[x].isnull().sum()/len(df.track_id) >=threshold], inplace=True)\n",
    "print(\"{} columns have been dropped\".format(820-len(list(df.columns))))"
   ]
  },
  {
   "cell_type": "markdown",
   "metadata": {},
   "source": [
    "Some categorical column have NaN correspondences, e.g. an empty list for \"track_tags\"."
   ]
  },
  {
   "cell_type": "code",
   "execution_count": 9,
   "metadata": {},
   "outputs": [
    {
     "data": {
      "text/plain": [
       "2062"
      ]
     },
     "execution_count": 9,
     "metadata": {},
     "output_type": "execute_result"
    }
   ],
   "source": [
    "len(list(df.track_tags[df.track_tags!=\"[]\"])) #below the 0.25 threshold"
   ]
  },
  {
   "cell_type": "markdown",
   "metadata": {},
   "source": [
    "After dropping the columns with way to many missing values let's deal with the missing values of the remaining columns. For numerical variables we may decide to substitute the mean or the median, instead of dropping the row as a whole, while for categorical variables we will just drop it. "
   ]
  },
  {
   "cell_type": "code",
   "execution_count": 363,
   "metadata": {},
   "outputs": [
    {
     "name": "stdout",
     "output_type": "stream",
     "text": [
      "(13129, 771)\n"
     ]
    }
   ],
   "source": [
    "#Numerical Variables Handling\n",
    "print(df.select_dtypes(include=\"number\").shape)\n",
    "for col in df.select_dtypes(include=\"number\").columns:\n",
    "    if  df[col].isnull().sum()!=0:\n",
    "        df[col].fillna(df[col].describe()[\"50%\"]) #substitute the median"
   ]
  },
  {
   "cell_type": "markdown",
   "metadata": {},
   "source": [
    "Now that we have dealt with numerical, we can just drop all remaining NaN using pd.dropna():"
   ]
  },
  {
   "cell_type": "code",
   "execution_count": 364,
   "metadata": {},
   "outputs": [
    {
     "name": "stdout",
     "output_type": "stream",
     "text": [
      "(13129, 19)\n",
      "metadata_artist_name    0\n",
      "metadata_release        0\n",
      "album_date_created      0\n",
      "album_information       0\n",
      "album_tags              0\n",
      "album_title             0\n",
      "album_type              0\n",
      "artist_date_created     0\n",
      "artist_name             0\n",
      "artist_tags             0\n",
      "artist_website          0\n",
      "set_split               0\n",
      "set_subset              0\n",
      "track_date_created      0\n",
      "track_genres            0\n",
      "track_genres_all        0\n",
      "track_license           0\n",
      "track_tags              0\n",
      "track_title             0\n",
      "dtype: int64\n"
     ]
    }
   ],
   "source": [
    "#Categorical Variables Handling\n",
    "print(df.select_dtypes(include=\"object\").shape)\n",
    "df.dropna(inplace=True)\n",
    "print(df.select_dtypes(include=\"object\").isnull().sum())"
   ]
  },
  {
   "cell_type": "code",
   "execution_count": 365,
   "metadata": {},
   "outputs": [],
   "source": [
    "df.reset_index(inplace=True)\n",
    "df.drop(columns=[\"index\"], inplace=True)"
   ]
  },
  {
   "cell_type": "markdown",
   "metadata": {},
   "source": [
    "### Features Scaling"
   ]
  },
  {
   "cell_type": "markdown",
   "metadata": {},
   "source": [
    "To apply Principal Component Analysis (and later for KMeans too), we need to scale our numerical features first. We chose to use MinMax Scaling"
   ]
  },
  {
   "cell_type": "code",
   "execution_count": 366,
   "metadata": {},
   "outputs": [
    {
     "data": {
      "text/html": [
       "<div>\n",
       "<style scoped>\n",
       "    .dataframe tbody tr th:only-of-type {\n",
       "        vertical-align: middle;\n",
       "    }\n",
       "\n",
       "    .dataframe tbody tr th {\n",
       "        vertical-align: top;\n",
       "    }\n",
       "\n",
       "    .dataframe thead th {\n",
       "        text-align: right;\n",
       "    }\n",
       "</style>\n",
       "<table border=\"1\" class=\"dataframe\">\n",
       "  <thead>\n",
       "    <tr style=\"text-align: right;\">\n",
       "      <th></th>\n",
       "      <th>track_id</th>\n",
       "      <th>audio_features_acousticness</th>\n",
       "      <th>audio_features_danceability</th>\n",
       "      <th>audio_features_energy</th>\n",
       "      <th>audio_features_instrumentalness</th>\n",
       "      <th>audio_features_liveness</th>\n",
       "      <th>audio_features_speechiness</th>\n",
       "      <th>audio_features_tempo</th>\n",
       "      <th>audio_features_valence</th>\n",
       "      <th>social_features_artist_discovery</th>\n",
       "      <th>...</th>\n",
       "      <th>artist_comments</th>\n",
       "      <th>artist_favorites</th>\n",
       "      <th>artist_id</th>\n",
       "      <th>track_bit_rate</th>\n",
       "      <th>track_comments</th>\n",
       "      <th>track_duration</th>\n",
       "      <th>track_favorites</th>\n",
       "      <th>track_interest</th>\n",
       "      <th>track_listens</th>\n",
       "      <th>track_number</th>\n",
       "    </tr>\n",
       "  </thead>\n",
       "  <tbody>\n",
       "    <tr>\n",
       "      <th>0</th>\n",
       "      <td>0.000000</td>\n",
       "      <td>0.418434</td>\n",
       "      <td>0.680869</td>\n",
       "      <td>0.634544</td>\n",
       "      <td>0.010649</td>\n",
       "      <td>0.162347</td>\n",
       "      <td>0.145459</td>\n",
       "      <td>0.642706</td>\n",
       "      <td>0.576663</td>\n",
       "      <td>0.582495</td>\n",
       "      <td>...</td>\n",
       "      <td>0.0</td>\n",
       "      <td>0.009346</td>\n",
       "      <td>0.000000</td>\n",
       "      <td>0.794728</td>\n",
       "      <td>0.0</td>\n",
       "      <td>0.048489</td>\n",
       "      <td>0.001350</td>\n",
       "      <td>0.001395</td>\n",
       "      <td>0.002334</td>\n",
       "      <td>0.014085</td>\n",
       "    </tr>\n",
       "    <tr>\n",
       "      <th>1</th>\n",
       "      <td>0.000008</td>\n",
       "      <td>0.375988</td>\n",
       "      <td>0.520349</td>\n",
       "      <td>0.817554</td>\n",
       "      <td>0.001855</td>\n",
       "      <td>0.085559</td>\n",
       "      <td>0.466679</td>\n",
       "      <td>0.479206</td>\n",
       "      <td>0.269236</td>\n",
       "      <td>0.582495</td>\n",
       "      <td>...</td>\n",
       "      <td>0.0</td>\n",
       "      <td>0.009346</td>\n",
       "      <td>0.000000</td>\n",
       "      <td>0.794728</td>\n",
       "      <td>0.0</td>\n",
       "      <td>0.071405</td>\n",
       "      <td>0.000675</td>\n",
       "      <td>0.000427</td>\n",
       "      <td>0.000900</td>\n",
       "      <td>0.018779</td>\n",
       "    </tr>\n",
       "    <tr>\n",
       "      <th>2</th>\n",
       "      <td>0.000024</td>\n",
       "      <td>0.043750</td>\n",
       "      <td>0.756819</td>\n",
       "      <td>0.701547</td>\n",
       "      <td>0.000698</td>\n",
       "      <td>0.371523</td>\n",
       "      <td>0.108598</td>\n",
       "      <td>0.367184</td>\n",
       "      <td>0.621664</td>\n",
       "      <td>0.582495</td>\n",
       "      <td>...</td>\n",
       "      <td>0.0</td>\n",
       "      <td>0.009346</td>\n",
       "      <td>0.000000</td>\n",
       "      <td>0.794728</td>\n",
       "      <td>0.0</td>\n",
       "      <td>0.061109</td>\n",
       "      <td>0.004049</td>\n",
       "      <td>0.000568</td>\n",
       "      <td>0.002073</td>\n",
       "      <td>0.028169</td>\n",
       "    </tr>\n",
       "    <tr>\n",
       "      <th>3</th>\n",
       "      <td>0.001058</td>\n",
       "      <td>0.454126</td>\n",
       "      <td>0.503556</td>\n",
       "      <td>0.560467</td>\n",
       "      <td>0.019481</td>\n",
       "      <td>0.075594</td>\n",
       "      <td>0.534320</td>\n",
       "      <td>0.426055</td>\n",
       "      <td>0.894080</td>\n",
       "      <td>0.582495</td>\n",
       "      <td>...</td>\n",
       "      <td>0.0</td>\n",
       "      <td>0.009346</td>\n",
       "      <td>0.000000</td>\n",
       "      <td>0.794728</td>\n",
       "      <td>0.0</td>\n",
       "      <td>0.061441</td>\n",
       "      <td>0.002024</td>\n",
       "      <td>0.000323</td>\n",
       "      <td>0.001690</td>\n",
       "      <td>0.023474</td>\n",
       "    </tr>\n",
       "    <tr>\n",
       "      <th>4</th>\n",
       "      <td>0.001098</td>\n",
       "      <td>0.106998</td>\n",
       "      <td>0.228491</td>\n",
       "      <td>0.607130</td>\n",
       "      <td>0.836747</td>\n",
       "      <td>0.211598</td>\n",
       "      <td>0.008756</td>\n",
       "      <td>0.772947</td>\n",
       "      <td>0.160260</td>\n",
       "      <td>0.582395</td>\n",
       "      <td>...</td>\n",
       "      <td>0.0</td>\n",
       "      <td>0.011423</td>\n",
       "      <td>0.002547</td>\n",
       "      <td>0.397366</td>\n",
       "      <td>0.0</td>\n",
       "      <td>0.091000</td>\n",
       "      <td>0.002024</td>\n",
       "      <td>0.000194</td>\n",
       "      <td>0.001025</td>\n",
       "      <td>0.009390</td>\n",
       "    </tr>\n",
       "    <tr>\n",
       "      <th>...</th>\n",
       "      <td>...</td>\n",
       "      <td>...</td>\n",
       "      <td>...</td>\n",
       "      <td>...</td>\n",
       "      <td>...</td>\n",
       "      <td>...</td>\n",
       "      <td>...</td>\n",
       "      <td>...</td>\n",
       "      <td>...</td>\n",
       "      <td>...</td>\n",
       "      <td>...</td>\n",
       "      <td>...</td>\n",
       "      <td>...</td>\n",
       "      <td>...</td>\n",
       "      <td>...</td>\n",
       "      <td>...</td>\n",
       "      <td>...</td>\n",
       "      <td>...</td>\n",
       "      <td>...</td>\n",
       "      <td>...</td>\n",
       "      <td>...</td>\n",
       "    </tr>\n",
       "    <tr>\n",
       "      <th>8488</th>\n",
       "      <td>0.999912</td>\n",
       "      <td>0.027478</td>\n",
       "      <td>0.542267</td>\n",
       "      <td>0.746357</td>\n",
       "      <td>0.533692</td>\n",
       "      <td>0.253402</td>\n",
       "      <td>0.017498</td>\n",
       "      <td>0.483810</td>\n",
       "      <td>0.145135</td>\n",
       "      <td>0.614506</td>\n",
       "      <td>...</td>\n",
       "      <td>0.0</td>\n",
       "      <td>0.013499</td>\n",
       "      <td>0.299779</td>\n",
       "      <td>0.993409</td>\n",
       "      <td>0.0</td>\n",
       "      <td>0.089007</td>\n",
       "      <td>0.000000</td>\n",
       "      <td>0.000370</td>\n",
       "      <td>0.001671</td>\n",
       "      <td>0.009390</td>\n",
       "    </tr>\n",
       "    <tr>\n",
       "      <th>8489</th>\n",
       "      <td>0.999936</td>\n",
       "      <td>0.056555</td>\n",
       "      <td>0.660153</td>\n",
       "      <td>0.692825</td>\n",
       "      <td>0.253777</td>\n",
       "      <td>0.242401</td>\n",
       "      <td>0.114166</td>\n",
       "      <td>0.345134</td>\n",
       "      <td>0.446676</td>\n",
       "      <td>0.614506</td>\n",
       "      <td>...</td>\n",
       "      <td>0.0</td>\n",
       "      <td>0.013499</td>\n",
       "      <td>0.299779</td>\n",
       "      <td>0.993409</td>\n",
       "      <td>0.0</td>\n",
       "      <td>0.080704</td>\n",
       "      <td>0.000000</td>\n",
       "      <td>0.000412</td>\n",
       "      <td>0.002005</td>\n",
       "      <td>0.023474</td>\n",
       "    </tr>\n",
       "    <tr>\n",
       "      <th>8490</th>\n",
       "      <td>0.999976</td>\n",
       "      <td>0.020235</td>\n",
       "      <td>0.531878</td>\n",
       "      <td>0.861276</td>\n",
       "      <td>0.651338</td>\n",
       "      <td>0.511113</td>\n",
       "      <td>0.056382</td>\n",
       "      <td>0.647019</td>\n",
       "      <td>0.369777</td>\n",
       "      <td>0.614506</td>\n",
       "      <td>...</td>\n",
       "      <td>0.0</td>\n",
       "      <td>0.013499</td>\n",
       "      <td>0.299779</td>\n",
       "      <td>0.993409</td>\n",
       "      <td>0.0</td>\n",
       "      <td>0.110262</td>\n",
       "      <td>0.000000</td>\n",
       "      <td>0.000964</td>\n",
       "      <td>0.004495</td>\n",
       "      <td>0.046948</td>\n",
       "    </tr>\n",
       "    <tr>\n",
       "      <th>8491</th>\n",
       "      <td>0.999992</td>\n",
       "      <td>0.213091</td>\n",
       "      <td>0.698163</td>\n",
       "      <td>0.801827</td>\n",
       "      <td>0.427477</td>\n",
       "      <td>0.219866</td>\n",
       "      <td>0.038364</td>\n",
       "      <td>0.449952</td>\n",
       "      <td>0.418958</td>\n",
       "      <td>0.463349</td>\n",
       "      <td>...</td>\n",
       "      <td>0.0</td>\n",
       "      <td>0.012461</td>\n",
       "      <td>0.998895</td>\n",
       "      <td>0.993409</td>\n",
       "      <td>0.0</td>\n",
       "      <td>0.076719</td>\n",
       "      <td>0.001350</td>\n",
       "      <td>0.000823</td>\n",
       "      <td>0.004184</td>\n",
       "      <td>0.056338</td>\n",
       "    </tr>\n",
       "    <tr>\n",
       "      <th>8492</th>\n",
       "      <td>1.000000</td>\n",
       "      <td>0.059834</td>\n",
       "      <td>0.709802</td>\n",
       "      <td>0.622103</td>\n",
       "      <td>0.099706</td>\n",
       "      <td>0.225180</td>\n",
       "      <td>0.038796</td>\n",
       "      <td>0.349334</td>\n",
       "      <td>0.231790</td>\n",
       "      <td>0.463349</td>\n",
       "      <td>...</td>\n",
       "      <td>0.0</td>\n",
       "      <td>0.012461</td>\n",
       "      <td>0.998895</td>\n",
       "      <td>0.993409</td>\n",
       "      <td>0.0</td>\n",
       "      <td>0.052142</td>\n",
       "      <td>0.000675</td>\n",
       "      <td>0.003109</td>\n",
       "      <td>0.007177</td>\n",
       "      <td>0.061033</td>\n",
       "    </tr>\n",
       "  </tbody>\n",
       "</table>\n",
       "<p>8493 rows × 771 columns</p>\n",
       "</div>"
      ],
      "text/plain": [
       "      track_id  audio_features_acousticness  audio_features_danceability  \\\n",
       "0     0.000000                     0.418434                     0.680869   \n",
       "1     0.000008                     0.375988                     0.520349   \n",
       "2     0.000024                     0.043750                     0.756819   \n",
       "3     0.001058                     0.454126                     0.503556   \n",
       "4     0.001098                     0.106998                     0.228491   \n",
       "...        ...                          ...                          ...   \n",
       "8488  0.999912                     0.027478                     0.542267   \n",
       "8489  0.999936                     0.056555                     0.660153   \n",
       "8490  0.999976                     0.020235                     0.531878   \n",
       "8491  0.999992                     0.213091                     0.698163   \n",
       "8492  1.000000                     0.059834                     0.709802   \n",
       "\n",
       "      audio_features_energy  audio_features_instrumentalness  \\\n",
       "0                  0.634544                         0.010649   \n",
       "1                  0.817554                         0.001855   \n",
       "2                  0.701547                         0.000698   \n",
       "3                  0.560467                         0.019481   \n",
       "4                  0.607130                         0.836747   \n",
       "...                     ...                              ...   \n",
       "8488               0.746357                         0.533692   \n",
       "8489               0.692825                         0.253777   \n",
       "8490               0.861276                         0.651338   \n",
       "8491               0.801827                         0.427477   \n",
       "8492               0.622103                         0.099706   \n",
       "\n",
       "      audio_features_liveness  audio_features_speechiness  \\\n",
       "0                    0.162347                    0.145459   \n",
       "1                    0.085559                    0.466679   \n",
       "2                    0.371523                    0.108598   \n",
       "3                    0.075594                    0.534320   \n",
       "4                    0.211598                    0.008756   \n",
       "...                       ...                         ...   \n",
       "8488                 0.253402                    0.017498   \n",
       "8489                 0.242401                    0.114166   \n",
       "8490                 0.511113                    0.056382   \n",
       "8491                 0.219866                    0.038364   \n",
       "8492                 0.225180                    0.038796   \n",
       "\n",
       "      audio_features_tempo  audio_features_valence  \\\n",
       "0                 0.642706                0.576663   \n",
       "1                 0.479206                0.269236   \n",
       "2                 0.367184                0.621664   \n",
       "3                 0.426055                0.894080   \n",
       "4                 0.772947                0.160260   \n",
       "...                    ...                     ...   \n",
       "8488              0.483810                0.145135   \n",
       "8489              0.345134                0.446676   \n",
       "8490              0.647019                0.369777   \n",
       "8491              0.449952                0.418958   \n",
       "8492              0.349334                0.231790   \n",
       "\n",
       "      social_features_artist_discovery  ...  artist_comments  \\\n",
       "0                             0.582495  ...              0.0   \n",
       "1                             0.582495  ...              0.0   \n",
       "2                             0.582495  ...              0.0   \n",
       "3                             0.582495  ...              0.0   \n",
       "4                             0.582395  ...              0.0   \n",
       "...                                ...  ...              ...   \n",
       "8488                          0.614506  ...              0.0   \n",
       "8489                          0.614506  ...              0.0   \n",
       "8490                          0.614506  ...              0.0   \n",
       "8491                          0.463349  ...              0.0   \n",
       "8492                          0.463349  ...              0.0   \n",
       "\n",
       "      artist_favorites  artist_id  track_bit_rate  track_comments  \\\n",
       "0             0.009346   0.000000        0.794728             0.0   \n",
       "1             0.009346   0.000000        0.794728             0.0   \n",
       "2             0.009346   0.000000        0.794728             0.0   \n",
       "3             0.009346   0.000000        0.794728             0.0   \n",
       "4             0.011423   0.002547        0.397366             0.0   \n",
       "...                ...        ...             ...             ...   \n",
       "8488          0.013499   0.299779        0.993409             0.0   \n",
       "8489          0.013499   0.299779        0.993409             0.0   \n",
       "8490          0.013499   0.299779        0.993409             0.0   \n",
       "8491          0.012461   0.998895        0.993409             0.0   \n",
       "8492          0.012461   0.998895        0.993409             0.0   \n",
       "\n",
       "      track_duration  track_favorites  track_interest  track_listens  \\\n",
       "0           0.048489         0.001350        0.001395       0.002334   \n",
       "1           0.071405         0.000675        0.000427       0.000900   \n",
       "2           0.061109         0.004049        0.000568       0.002073   \n",
       "3           0.061441         0.002024        0.000323       0.001690   \n",
       "4           0.091000         0.002024        0.000194       0.001025   \n",
       "...              ...              ...             ...            ...   \n",
       "8488        0.089007         0.000000        0.000370       0.001671   \n",
       "8489        0.080704         0.000000        0.000412       0.002005   \n",
       "8490        0.110262         0.000000        0.000964       0.004495   \n",
       "8491        0.076719         0.001350        0.000823       0.004184   \n",
       "8492        0.052142         0.000675        0.003109       0.007177   \n",
       "\n",
       "      track_number  \n",
       "0         0.014085  \n",
       "1         0.018779  \n",
       "2         0.028169  \n",
       "3         0.023474  \n",
       "4         0.009390  \n",
       "...            ...  \n",
       "8488      0.009390  \n",
       "8489      0.023474  \n",
       "8490      0.046948  \n",
       "8491      0.056338  \n",
       "8492      0.061033  \n",
       "\n",
       "[8493 rows x 771 columns]"
      ]
     },
     "execution_count": 366,
     "metadata": {},
     "output_type": "execute_result"
    }
   ],
   "source": [
    "dfNum=df.select_dtypes(include=\"number\")\n",
    "dfNumStand = (dfNum - dfNum.min())/(dfNum.max()- dfNum.min())\n",
    "dfNumStand"
   ]
  },
  {
   "cell_type": "markdown",
   "metadata": {},
   "source": [
    "Before applying PCA, we want to take out features that are important to us, since the result of such procedure would be a composition of variables, and no original variable would be preserved. \n",
    "\n",
    "Hence we have decided to remove all the variables that we could more easily understand: 'track_id', 'album_comments', 'album_favorites', 'album_id', 'album_listens', 'album_tracks', 'artist_comments', 'artist_favorites', 'artist_id', 'track_comments', 'track_duration', 'track_favorites', 'track_interest', 'track_listens', 'track_number'."
   ]
  },
  {
   "cell_type": "code",
   "execution_count": 367,
   "metadata": {},
   "outputs": [
    {
     "data": {
      "text/html": [
       "<div>\n",
       "<style scoped>\n",
       "    .dataframe tbody tr th:only-of-type {\n",
       "        vertical-align: middle;\n",
       "    }\n",
       "\n",
       "    .dataframe tbody tr th {\n",
       "        vertical-align: top;\n",
       "    }\n",
       "\n",
       "    .dataframe thead th {\n",
       "        text-align: right;\n",
       "    }\n",
       "</style>\n",
       "<table border=\"1\" class=\"dataframe\">\n",
       "  <thead>\n",
       "    <tr style=\"text-align: right;\">\n",
       "      <th></th>\n",
       "      <th>audio_features_acousticness</th>\n",
       "      <th>audio_features_danceability</th>\n",
       "      <th>audio_features_energy</th>\n",
       "      <th>audio_features_instrumentalness</th>\n",
       "      <th>audio_features_liveness</th>\n",
       "      <th>audio_features_speechiness</th>\n",
       "      <th>audio_features_tempo</th>\n",
       "      <th>audio_features_valence</th>\n",
       "      <th>social_features_artist_discovery</th>\n",
       "      <th>social_features_artist_familiarity</th>\n",
       "      <th>...</th>\n",
       "      <th>tonnetz_std_05</th>\n",
       "      <th>tonnetz_std_06</th>\n",
       "      <th>zcr_kurtosis_01</th>\n",
       "      <th>zcr_max_01</th>\n",
       "      <th>zcr_mean_01</th>\n",
       "      <th>zcr_median_01</th>\n",
       "      <th>zcr_min_01</th>\n",
       "      <th>zcr_skew_01</th>\n",
       "      <th>zcr_std_01</th>\n",
       "      <th>track_bit_rate</th>\n",
       "    </tr>\n",
       "  </thead>\n",
       "  <tbody>\n",
       "    <tr>\n",
       "      <th>0</th>\n",
       "      <td>0.418434</td>\n",
       "      <td>0.680869</td>\n",
       "      <td>0.634544</td>\n",
       "      <td>0.010649</td>\n",
       "      <td>0.162347</td>\n",
       "      <td>0.145459</td>\n",
       "      <td>0.642706</td>\n",
       "      <td>0.576663</td>\n",
       "      <td>0.582495</td>\n",
       "      <td>0.471984</td>\n",
       "      <td>...</td>\n",
       "      <td>0.073597</td>\n",
       "      <td>0.066612</td>\n",
       "      <td>0.006101</td>\n",
       "      <td>0.430484</td>\n",
       "      <td>0.168916</td>\n",
       "      <td>0.144985</td>\n",
       "      <td>0.000000</td>\n",
       "      <td>0.126931</td>\n",
       "      <td>0.262313</td>\n",
       "      <td>0.794728</td>\n",
       "    </tr>\n",
       "    <tr>\n",
       "      <th>1</th>\n",
       "      <td>0.375988</td>\n",
       "      <td>0.520349</td>\n",
       "      <td>0.817554</td>\n",
       "      <td>0.001855</td>\n",
       "      <td>0.085559</td>\n",
       "      <td>0.466679</td>\n",
       "      <td>0.479206</td>\n",
       "      <td>0.269236</td>\n",
       "      <td>0.582495</td>\n",
       "      <td>0.471984</td>\n",
       "      <td>...</td>\n",
       "      <td>0.102226</td>\n",
       "      <td>0.141205</td>\n",
       "      <td>0.003634</td>\n",
       "      <td>0.437693</td>\n",
       "      <td>0.166745</td>\n",
       "      <td>0.130089</td>\n",
       "      <td>0.000000</td>\n",
       "      <td>0.114975</td>\n",
       "      <td>0.297536</td>\n",
       "      <td>0.794728</td>\n",
       "    </tr>\n",
       "    <tr>\n",
       "      <th>2</th>\n",
       "      <td>0.043750</td>\n",
       "      <td>0.756819</td>\n",
       "      <td>0.701547</td>\n",
       "      <td>0.000698</td>\n",
       "      <td>0.371523</td>\n",
       "      <td>0.108598</td>\n",
       "      <td>0.367184</td>\n",
       "      <td>0.621664</td>\n",
       "      <td>0.582495</td>\n",
       "      <td>0.471984</td>\n",
       "      <td>...</td>\n",
       "      <td>0.080300</td>\n",
       "      <td>0.101706</td>\n",
       "      <td>0.006983</td>\n",
       "      <td>0.341401</td>\n",
       "      <td>0.101759</td>\n",
       "      <td>0.084409</td>\n",
       "      <td>0.000000</td>\n",
       "      <td>0.130245</td>\n",
       "      <td>0.188188</td>\n",
       "      <td>0.794728</td>\n",
       "    </tr>\n",
       "    <tr>\n",
       "      <th>3</th>\n",
       "      <td>0.454126</td>\n",
       "      <td>0.503556</td>\n",
       "      <td>0.560467</td>\n",
       "      <td>0.019481</td>\n",
       "      <td>0.075594</td>\n",
       "      <td>0.534320</td>\n",
       "      <td>0.426055</td>\n",
       "      <td>0.894080</td>\n",
       "      <td>0.582495</td>\n",
       "      <td>0.471984</td>\n",
       "      <td>...</td>\n",
       "      <td>0.132650</td>\n",
       "      <td>0.115757</td>\n",
       "      <td>0.005237</td>\n",
       "      <td>0.388260</td>\n",
       "      <td>0.125006</td>\n",
       "      <td>0.103277</td>\n",
       "      <td>0.000000</td>\n",
       "      <td>0.117839</td>\n",
       "      <td>0.231813</td>\n",
       "      <td>0.794728</td>\n",
       "    </tr>\n",
       "    <tr>\n",
       "      <th>4</th>\n",
       "      <td>0.106998</td>\n",
       "      <td>0.228491</td>\n",
       "      <td>0.607130</td>\n",
       "      <td>0.836747</td>\n",
       "      <td>0.211598</td>\n",
       "      <td>0.008756</td>\n",
       "      <td>0.772947</td>\n",
       "      <td>0.160260</td>\n",
       "      <td>0.582395</td>\n",
       "      <td>0.403694</td>\n",
       "      <td>...</td>\n",
       "      <td>0.148590</td>\n",
       "      <td>0.190896</td>\n",
       "      <td>0.002232</td>\n",
       "      <td>0.221421</td>\n",
       "      <td>0.138205</td>\n",
       "      <td>0.136048</td>\n",
       "      <td>0.013072</td>\n",
       "      <td>0.084614</td>\n",
       "      <td>0.121854</td>\n",
       "      <td>0.397366</td>\n",
       "    </tr>\n",
       "    <tr>\n",
       "      <th>...</th>\n",
       "      <td>...</td>\n",
       "      <td>...</td>\n",
       "      <td>...</td>\n",
       "      <td>...</td>\n",
       "      <td>...</td>\n",
       "      <td>...</td>\n",
       "      <td>...</td>\n",
       "      <td>...</td>\n",
       "      <td>...</td>\n",
       "      <td>...</td>\n",
       "      <td>...</td>\n",
       "      <td>...</td>\n",
       "      <td>...</td>\n",
       "      <td>...</td>\n",
       "      <td>...</td>\n",
       "      <td>...</td>\n",
       "      <td>...</td>\n",
       "      <td>...</td>\n",
       "      <td>...</td>\n",
       "      <td>...</td>\n",
       "      <td>...</td>\n",
       "    </tr>\n",
       "    <tr>\n",
       "      <th>8488</th>\n",
       "      <td>0.027478</td>\n",
       "      <td>0.542267</td>\n",
       "      <td>0.746357</td>\n",
       "      <td>0.533692</td>\n",
       "      <td>0.253402</td>\n",
       "      <td>0.017498</td>\n",
       "      <td>0.483810</td>\n",
       "      <td>0.145135</td>\n",
       "      <td>0.614506</td>\n",
       "      <td>0.445045</td>\n",
       "      <td>...</td>\n",
       "      <td>0.247851</td>\n",
       "      <td>0.246797</td>\n",
       "      <td>0.007183</td>\n",
       "      <td>0.453141</td>\n",
       "      <td>0.126728</td>\n",
       "      <td>0.114201</td>\n",
       "      <td>0.013072</td>\n",
       "      <td>0.121905</td>\n",
       "      <td>0.192623</td>\n",
       "      <td>0.993409</td>\n",
       "    </tr>\n",
       "    <tr>\n",
       "      <th>8489</th>\n",
       "      <td>0.056555</td>\n",
       "      <td>0.660153</td>\n",
       "      <td>0.692825</td>\n",
       "      <td>0.253777</td>\n",
       "      <td>0.242401</td>\n",
       "      <td>0.114166</td>\n",
       "      <td>0.345134</td>\n",
       "      <td>0.446676</td>\n",
       "      <td>0.614506</td>\n",
       "      <td>0.445045</td>\n",
       "      <td>...</td>\n",
       "      <td>0.238918</td>\n",
       "      <td>0.171137</td>\n",
       "      <td>0.007574</td>\n",
       "      <td>0.395984</td>\n",
       "      <td>0.102452</td>\n",
       "      <td>0.077458</td>\n",
       "      <td>0.000000</td>\n",
       "      <td>0.132877</td>\n",
       "      <td>0.209874</td>\n",
       "      <td>0.993409</td>\n",
       "    </tr>\n",
       "    <tr>\n",
       "      <th>8490</th>\n",
       "      <td>0.020235</td>\n",
       "      <td>0.531878</td>\n",
       "      <td>0.861276</td>\n",
       "      <td>0.651338</td>\n",
       "      <td>0.511113</td>\n",
       "      <td>0.056382</td>\n",
       "      <td>0.647019</td>\n",
       "      <td>0.369777</td>\n",
       "      <td>0.614506</td>\n",
       "      <td>0.445045</td>\n",
       "      <td>...</td>\n",
       "      <td>0.174013</td>\n",
       "      <td>0.185153</td>\n",
       "      <td>0.003623</td>\n",
       "      <td>0.277034</td>\n",
       "      <td>0.102040</td>\n",
       "      <td>0.093347</td>\n",
       "      <td>0.019608</td>\n",
       "      <td>0.102359</td>\n",
       "      <td>0.139745</td>\n",
       "      <td>0.993409</td>\n",
       "    </tr>\n",
       "    <tr>\n",
       "      <th>8491</th>\n",
       "      <td>0.213091</td>\n",
       "      <td>0.698163</td>\n",
       "      <td>0.801827</td>\n",
       "      <td>0.427477</td>\n",
       "      <td>0.219866</td>\n",
       "      <td>0.038364</td>\n",
       "      <td>0.449952</td>\n",
       "      <td>0.418958</td>\n",
       "      <td>0.463349</td>\n",
       "      <td>0.254264</td>\n",
       "      <td>...</td>\n",
       "      <td>0.280309</td>\n",
       "      <td>0.235738</td>\n",
       "      <td>0.005231</td>\n",
       "      <td>0.278064</td>\n",
       "      <td>0.101800</td>\n",
       "      <td>0.092354</td>\n",
       "      <td>0.026144</td>\n",
       "      <td>0.114045</td>\n",
       "      <td>0.152425</td>\n",
       "      <td>0.993409</td>\n",
       "    </tr>\n",
       "    <tr>\n",
       "      <th>8492</th>\n",
       "      <td>0.059834</td>\n",
       "      <td>0.709802</td>\n",
       "      <td>0.622103</td>\n",
       "      <td>0.099706</td>\n",
       "      <td>0.225180</td>\n",
       "      <td>0.038796</td>\n",
       "      <td>0.349334</td>\n",
       "      <td>0.231790</td>\n",
       "      <td>0.463349</td>\n",
       "      <td>0.254264</td>\n",
       "      <td>...</td>\n",
       "      <td>0.255365</td>\n",
       "      <td>0.207822</td>\n",
       "      <td>0.005607</td>\n",
       "      <td>0.301751</td>\n",
       "      <td>0.094555</td>\n",
       "      <td>0.076465</td>\n",
       "      <td>0.006536</td>\n",
       "      <td>0.123208</td>\n",
       "      <td>0.181251</td>\n",
       "      <td>0.993409</td>\n",
       "    </tr>\n",
       "  </tbody>\n",
       "</table>\n",
       "<p>8493 rows × 756 columns</p>\n",
       "</div>"
      ],
      "text/plain": [
       "      audio_features_acousticness  audio_features_danceability  \\\n",
       "0                        0.418434                     0.680869   \n",
       "1                        0.375988                     0.520349   \n",
       "2                        0.043750                     0.756819   \n",
       "3                        0.454126                     0.503556   \n",
       "4                        0.106998                     0.228491   \n",
       "...                           ...                          ...   \n",
       "8488                     0.027478                     0.542267   \n",
       "8489                     0.056555                     0.660153   \n",
       "8490                     0.020235                     0.531878   \n",
       "8491                     0.213091                     0.698163   \n",
       "8492                     0.059834                     0.709802   \n",
       "\n",
       "      audio_features_energy  audio_features_instrumentalness  \\\n",
       "0                  0.634544                         0.010649   \n",
       "1                  0.817554                         0.001855   \n",
       "2                  0.701547                         0.000698   \n",
       "3                  0.560467                         0.019481   \n",
       "4                  0.607130                         0.836747   \n",
       "...                     ...                              ...   \n",
       "8488               0.746357                         0.533692   \n",
       "8489               0.692825                         0.253777   \n",
       "8490               0.861276                         0.651338   \n",
       "8491               0.801827                         0.427477   \n",
       "8492               0.622103                         0.099706   \n",
       "\n",
       "      audio_features_liveness  audio_features_speechiness  \\\n",
       "0                    0.162347                    0.145459   \n",
       "1                    0.085559                    0.466679   \n",
       "2                    0.371523                    0.108598   \n",
       "3                    0.075594                    0.534320   \n",
       "4                    0.211598                    0.008756   \n",
       "...                       ...                         ...   \n",
       "8488                 0.253402                    0.017498   \n",
       "8489                 0.242401                    0.114166   \n",
       "8490                 0.511113                    0.056382   \n",
       "8491                 0.219866                    0.038364   \n",
       "8492                 0.225180                    0.038796   \n",
       "\n",
       "      audio_features_tempo  audio_features_valence  \\\n",
       "0                 0.642706                0.576663   \n",
       "1                 0.479206                0.269236   \n",
       "2                 0.367184                0.621664   \n",
       "3                 0.426055                0.894080   \n",
       "4                 0.772947                0.160260   \n",
       "...                    ...                     ...   \n",
       "8488              0.483810                0.145135   \n",
       "8489              0.345134                0.446676   \n",
       "8490              0.647019                0.369777   \n",
       "8491              0.449952                0.418958   \n",
       "8492              0.349334                0.231790   \n",
       "\n",
       "      social_features_artist_discovery  social_features_artist_familiarity  \\\n",
       "0                             0.582495                            0.471984   \n",
       "1                             0.582495                            0.471984   \n",
       "2                             0.582495                            0.471984   \n",
       "3                             0.582495                            0.471984   \n",
       "4                             0.582395                            0.403694   \n",
       "...                                ...                                 ...   \n",
       "8488                          0.614506                            0.445045   \n",
       "8489                          0.614506                            0.445045   \n",
       "8490                          0.614506                            0.445045   \n",
       "8491                          0.463349                            0.254264   \n",
       "8492                          0.463349                            0.254264   \n",
       "\n",
       "      ...  tonnetz_std_05  tonnetz_std_06  zcr_kurtosis_01  zcr_max_01  \\\n",
       "0     ...        0.073597        0.066612         0.006101    0.430484   \n",
       "1     ...        0.102226        0.141205         0.003634    0.437693   \n",
       "2     ...        0.080300        0.101706         0.006983    0.341401   \n",
       "3     ...        0.132650        0.115757         0.005237    0.388260   \n",
       "4     ...        0.148590        0.190896         0.002232    0.221421   \n",
       "...   ...             ...             ...              ...         ...   \n",
       "8488  ...        0.247851        0.246797         0.007183    0.453141   \n",
       "8489  ...        0.238918        0.171137         0.007574    0.395984   \n",
       "8490  ...        0.174013        0.185153         0.003623    0.277034   \n",
       "8491  ...        0.280309        0.235738         0.005231    0.278064   \n",
       "8492  ...        0.255365        0.207822         0.005607    0.301751   \n",
       "\n",
       "      zcr_mean_01  zcr_median_01  zcr_min_01  zcr_skew_01  zcr_std_01  \\\n",
       "0        0.168916       0.144985    0.000000     0.126931    0.262313   \n",
       "1        0.166745       0.130089    0.000000     0.114975    0.297536   \n",
       "2        0.101759       0.084409    0.000000     0.130245    0.188188   \n",
       "3        0.125006       0.103277    0.000000     0.117839    0.231813   \n",
       "4        0.138205       0.136048    0.013072     0.084614    0.121854   \n",
       "...           ...            ...         ...          ...         ...   \n",
       "8488     0.126728       0.114201    0.013072     0.121905    0.192623   \n",
       "8489     0.102452       0.077458    0.000000     0.132877    0.209874   \n",
       "8490     0.102040       0.093347    0.019608     0.102359    0.139745   \n",
       "8491     0.101800       0.092354    0.026144     0.114045    0.152425   \n",
       "8492     0.094555       0.076465    0.006536     0.123208    0.181251   \n",
       "\n",
       "      track_bit_rate  \n",
       "0           0.794728  \n",
       "1           0.794728  \n",
       "2           0.794728  \n",
       "3           0.794728  \n",
       "4           0.397366  \n",
       "...              ...  \n",
       "8488        0.993409  \n",
       "8489        0.993409  \n",
       "8490        0.993409  \n",
       "8491        0.993409  \n",
       "8492        0.993409  \n",
       "\n",
       "[8493 rows x 756 columns]"
      ]
     },
     "execution_count": 367,
     "metadata": {},
     "output_type": "execute_result"
    }
   ],
   "source": [
    "dfPca = dfNumStand.drop(columns=['track_id', 'album_comments', 'album_favorites', 'album_id', 'album_listens', 'album_tracks', 'artist_comments', 'artist_favorites', 'artist_id', 'track_comments', 'track_duration', 'track_favorites', 'track_interest', 'track_listens', 'track_number'])\n",
    "dfPca"
   ]
  },
  {
   "cell_type": "code",
   "execution_count": 368,
   "metadata": {
    "scrolled": true
   },
   "outputs": [
    {
     "data": {
      "text/html": [
       "<div>\n",
       "<style scoped>\n",
       "    .dataframe tbody tr th:only-of-type {\n",
       "        vertical-align: middle;\n",
       "    }\n",
       "\n",
       "    .dataframe tbody tr th {\n",
       "        vertical-align: top;\n",
       "    }\n",
       "\n",
       "    .dataframe thead th {\n",
       "        text-align: right;\n",
       "    }\n",
       "</style>\n",
       "<table border=\"1\" class=\"dataframe\">\n",
       "  <thead>\n",
       "    <tr style=\"text-align: right;\">\n",
       "      <th></th>\n",
       "      <th>track_id</th>\n",
       "      <th>audio_features_acousticness</th>\n",
       "      <th>audio_features_danceability</th>\n",
       "      <th>audio_features_energy</th>\n",
       "      <th>audio_features_instrumentalness</th>\n",
       "      <th>audio_features_liveness</th>\n",
       "      <th>audio_features_speechiness</th>\n",
       "      <th>audio_features_tempo</th>\n",
       "      <th>audio_features_valence</th>\n",
       "      <th>metadata_artist_name</th>\n",
       "      <th>...</th>\n",
       "      <th>track_duration</th>\n",
       "      <th>track_favorites</th>\n",
       "      <th>track_genres</th>\n",
       "      <th>track_genres_all</th>\n",
       "      <th>track_interest</th>\n",
       "      <th>track_license</th>\n",
       "      <th>track_listens</th>\n",
       "      <th>track_number</th>\n",
       "      <th>track_tags</th>\n",
       "      <th>track_title</th>\n",
       "    </tr>\n",
       "  </thead>\n",
       "  <tbody>\n",
       "    <tr>\n",
       "      <th>0</th>\n",
       "      <td>2</td>\n",
       "      <td>0.416675</td>\n",
       "      <td>0.675894</td>\n",
       "      <td>0.634476</td>\n",
       "      <td>0.010628</td>\n",
       "      <td>0.177647</td>\n",
       "      <td>0.159310</td>\n",
       "      <td>165.922</td>\n",
       "      <td>0.576661</td>\n",
       "      <td>AWOL</td>\n",
       "      <td>...</td>\n",
       "      <td>168</td>\n",
       "      <td>2</td>\n",
       "      <td>[21]</td>\n",
       "      <td>[21]</td>\n",
       "      <td>4656</td>\n",
       "      <td>Attribution-NonCommercial-ShareAlike 3.0 Inter...</td>\n",
       "      <td>1293</td>\n",
       "      <td>3</td>\n",
       "      <td>[]</td>\n",
       "      <td>Food</td>\n",
       "    </tr>\n",
       "    <tr>\n",
       "      <th>1</th>\n",
       "      <td>3</td>\n",
       "      <td>0.374408</td>\n",
       "      <td>0.528643</td>\n",
       "      <td>0.817461</td>\n",
       "      <td>0.001851</td>\n",
       "      <td>0.105880</td>\n",
       "      <td>0.461818</td>\n",
       "      <td>126.957</td>\n",
       "      <td>0.269240</td>\n",
       "      <td>AWOL</td>\n",
       "      <td>...</td>\n",
       "      <td>237</td>\n",
       "      <td>1</td>\n",
       "      <td>[21]</td>\n",
       "      <td>[21]</td>\n",
       "      <td>1470</td>\n",
       "      <td>Attribution-NonCommercial-ShareAlike 3.0 Inter...</td>\n",
       "      <td>514</td>\n",
       "      <td>4</td>\n",
       "      <td>[]</td>\n",
       "      <td>Electric Ave</td>\n",
       "    </tr>\n",
       "    <tr>\n",
       "      <th>2</th>\n",
       "      <td>5</td>\n",
       "      <td>0.043567</td>\n",
       "      <td>0.745566</td>\n",
       "      <td>0.701470</td>\n",
       "      <td>0.000697</td>\n",
       "      <td>0.373143</td>\n",
       "      <td>0.124595</td>\n",
       "      <td>100.260</td>\n",
       "      <td>0.621661</td>\n",
       "      <td>AWOL</td>\n",
       "      <td>...</td>\n",
       "      <td>206</td>\n",
       "      <td>6</td>\n",
       "      <td>[21]</td>\n",
       "      <td>[21]</td>\n",
       "      <td>1933</td>\n",
       "      <td>Attribution-NonCommercial-ShareAlike 3.0 Inter...</td>\n",
       "      <td>1151</td>\n",
       "      <td>6</td>\n",
       "      <td>[]</td>\n",
       "      <td>This World</td>\n",
       "    </tr>\n",
       "    <tr>\n",
       "      <th>3</th>\n",
       "      <td>134</td>\n",
       "      <td>0.452217</td>\n",
       "      <td>0.513238</td>\n",
       "      <td>0.560410</td>\n",
       "      <td>0.019443</td>\n",
       "      <td>0.096567</td>\n",
       "      <td>0.525519</td>\n",
       "      <td>114.290</td>\n",
       "      <td>0.894072</td>\n",
       "      <td>AWOL</td>\n",
       "      <td>...</td>\n",
       "      <td>207</td>\n",
       "      <td>3</td>\n",
       "      <td>[21]</td>\n",
       "      <td>[21]</td>\n",
       "      <td>1126</td>\n",
       "      <td>Attribution-NonCommercial-ShareAlike 3.0 Inter...</td>\n",
       "      <td>943</td>\n",
       "      <td>5</td>\n",
       "      <td>[]</td>\n",
       "      <td>Street Music</td>\n",
       "    </tr>\n",
       "    <tr>\n",
       "      <th>4</th>\n",
       "      <td>139</td>\n",
       "      <td>0.106550</td>\n",
       "      <td>0.260911</td>\n",
       "      <td>0.607067</td>\n",
       "      <td>0.835087</td>\n",
       "      <td>0.223676</td>\n",
       "      <td>0.030569</td>\n",
       "      <td>196.961</td>\n",
       "      <td>0.160267</td>\n",
       "      <td>Alec K. Redfearn and the Eyesores</td>\n",
       "      <td>...</td>\n",
       "      <td>296</td>\n",
       "      <td>3</td>\n",
       "      <td>[17]</td>\n",
       "      <td>[17]</td>\n",
       "      <td>702</td>\n",
       "      <td>Attribution-Noncommercial-No Derivative Works ...</td>\n",
       "      <td>582</td>\n",
       "      <td>2</td>\n",
       "      <td>[]</td>\n",
       "      <td>CandyAss</td>\n",
       "    </tr>\n",
       "    <tr>\n",
       "      <th>...</th>\n",
       "      <td>...</td>\n",
       "      <td>...</td>\n",
       "      <td>...</td>\n",
       "      <td>...</td>\n",
       "      <td>...</td>\n",
       "      <td>...</td>\n",
       "      <td>...</td>\n",
       "      <td>...</td>\n",
       "      <td>...</td>\n",
       "      <td>...</td>\n",
       "      <td>...</td>\n",
       "      <td>...</td>\n",
       "      <td>...</td>\n",
       "      <td>...</td>\n",
       "      <td>...</td>\n",
       "      <td>...</td>\n",
       "      <td>...</td>\n",
       "      <td>...</td>\n",
       "      <td>...</td>\n",
       "      <td>...</td>\n",
       "      <td>...</td>\n",
       "    </tr>\n",
       "    <tr>\n",
       "      <th>8488</th>\n",
       "      <td>124809</td>\n",
       "      <td>0.027364</td>\n",
       "      <td>0.548749</td>\n",
       "      <td>0.746274</td>\n",
       "      <td>0.532633</td>\n",
       "      <td>0.262746</td>\n",
       "      <td>0.038803</td>\n",
       "      <td>128.054</td>\n",
       "      <td>0.145142</td>\n",
       "      <td>Remus</td>\n",
       "      <td>...</td>\n",
       "      <td>290</td>\n",
       "      <td>0</td>\n",
       "      <td>[286, 542]</td>\n",
       "      <td>[542, 21, 286, 15]</td>\n",
       "      <td>1280</td>\n",
       "      <td>Attribution-Noncommercial-Share Alike 3.0 Unit...</td>\n",
       "      <td>933</td>\n",
       "      <td>2</td>\n",
       "      <td>[]</td>\n",
       "      <td>Taxidermy Made Simple</td>\n",
       "    </tr>\n",
       "    <tr>\n",
       "      <th>8489</th>\n",
       "      <td>124812</td>\n",
       "      <td>0.056318</td>\n",
       "      <td>0.656891</td>\n",
       "      <td>0.692750</td>\n",
       "      <td>0.253274</td>\n",
       "      <td>0.252465</td>\n",
       "      <td>0.129840</td>\n",
       "      <td>95.005</td>\n",
       "      <td>0.446677</td>\n",
       "      <td>Remus</td>\n",
       "      <td>...</td>\n",
       "      <td>265</td>\n",
       "      <td>0</td>\n",
       "      <td>[286, 542]</td>\n",
       "      <td>[542, 21, 286, 15]</td>\n",
       "      <td>1420</td>\n",
       "      <td>Attribution-Noncommercial-Share Alike 3.0 Unit...</td>\n",
       "      <td>1114</td>\n",
       "      <td>5</td>\n",
       "      <td>[]</td>\n",
       "      <td>Seperated Junkfood</td>\n",
       "    </tr>\n",
       "    <tr>\n",
       "      <th>8490</th>\n",
       "      <td>124817</td>\n",
       "      <td>0.020151</td>\n",
       "      <td>0.539219</td>\n",
       "      <td>0.861178</td>\n",
       "      <td>0.650046</td>\n",
       "      <td>0.503604</td>\n",
       "      <td>0.075422</td>\n",
       "      <td>166.950</td>\n",
       "      <td>0.369779</td>\n",
       "      <td>Remus</td>\n",
       "      <td>...</td>\n",
       "      <td>354</td>\n",
       "      <td>0</td>\n",
       "      <td>[286, 542]</td>\n",
       "      <td>[542, 21, 286, 15]</td>\n",
       "      <td>3237</td>\n",
       "      <td>Attribution-Noncommercial-Share Alike 3.0 Unit...</td>\n",
       "      <td>2467</td>\n",
       "      <td>10</td>\n",
       "      <td>[]</td>\n",
       "      <td>Her Bowed Sawtooth</td>\n",
       "    </tr>\n",
       "    <tr>\n",
       "      <th>8491</th>\n",
       "      <td>124819</td>\n",
       "      <td>0.212196</td>\n",
       "      <td>0.691758</td>\n",
       "      <td>0.801736</td>\n",
       "      <td>0.426629</td>\n",
       "      <td>0.231404</td>\n",
       "      <td>0.058453</td>\n",
       "      <td>119.985</td>\n",
       "      <td>0.418960</td>\n",
       "      <td>Leisure-B</td>\n",
       "      <td>...</td>\n",
       "      <td>253</td>\n",
       "      <td>2</td>\n",
       "      <td>[286, 542]</td>\n",
       "      <td>[542, 21, 286, 15]</td>\n",
       "      <td>2774</td>\n",
       "      <td>Attribution-Noncommercial-Share Alike 3.0 Unit...</td>\n",
       "      <td>2298</td>\n",
       "      <td>12</td>\n",
       "      <td>[]</td>\n",
       "      <td>Post Meccanism</td>\n",
       "    </tr>\n",
       "    <tr>\n",
       "      <th>8492</th>\n",
       "      <td>124820</td>\n",
       "      <td>0.059584</td>\n",
       "      <td>0.702435</td>\n",
       "      <td>0.622037</td>\n",
       "      <td>0.099508</td>\n",
       "      <td>0.236370</td>\n",
       "      <td>0.058860</td>\n",
       "      <td>96.006</td>\n",
       "      <td>0.231796</td>\n",
       "      <td>Leisure-B</td>\n",
       "      <td>...</td>\n",
       "      <td>179</td>\n",
       "      <td>1</td>\n",
       "      <td>[286, 542]</td>\n",
       "      <td>[542, 21, 286, 15]</td>\n",
       "      <td>10301</td>\n",
       "      <td>Attribution-Noncommercial-Share Alike 3.0 Unit...</td>\n",
       "      <td>3924</td>\n",
       "      <td>13</td>\n",
       "      <td>[]</td>\n",
       "      <td>Front Contation</td>\n",
       "    </tr>\n",
       "  </tbody>\n",
       "</table>\n",
       "<p>8492 rows × 790 columns</p>\n",
       "</div>"
      ],
      "text/plain": [
       "      track_id  audio_features_acousticness  audio_features_danceability  \\\n",
       "0            2                     0.416675                     0.675894   \n",
       "1            3                     0.374408                     0.528643   \n",
       "2            5                     0.043567                     0.745566   \n",
       "3          134                     0.452217                     0.513238   \n",
       "4          139                     0.106550                     0.260911   \n",
       "...        ...                          ...                          ...   \n",
       "8488    124809                     0.027364                     0.548749   \n",
       "8489    124812                     0.056318                     0.656891   \n",
       "8490    124817                     0.020151                     0.539219   \n",
       "8491    124819                     0.212196                     0.691758   \n",
       "8492    124820                     0.059584                     0.702435   \n",
       "\n",
       "      audio_features_energy  audio_features_instrumentalness  \\\n",
       "0                  0.634476                         0.010628   \n",
       "1                  0.817461                         0.001851   \n",
       "2                  0.701470                         0.000697   \n",
       "3                  0.560410                         0.019443   \n",
       "4                  0.607067                         0.835087   \n",
       "...                     ...                              ...   \n",
       "8488               0.746274                         0.532633   \n",
       "8489               0.692750                         0.253274   \n",
       "8490               0.861178                         0.650046   \n",
       "8491               0.801736                         0.426629   \n",
       "8492               0.622037                         0.099508   \n",
       "\n",
       "      audio_features_liveness  audio_features_speechiness  \\\n",
       "0                    0.177647                    0.159310   \n",
       "1                    0.105880                    0.461818   \n",
       "2                    0.373143                    0.124595   \n",
       "3                    0.096567                    0.525519   \n",
       "4                    0.223676                    0.030569   \n",
       "...                       ...                         ...   \n",
       "8488                 0.262746                    0.038803   \n",
       "8489                 0.252465                    0.129840   \n",
       "8490                 0.503604                    0.075422   \n",
       "8491                 0.231404                    0.058453   \n",
       "8492                 0.236370                    0.058860   \n",
       "\n",
       "      audio_features_tempo  audio_features_valence  \\\n",
       "0                  165.922                0.576661   \n",
       "1                  126.957                0.269240   \n",
       "2                  100.260                0.621661   \n",
       "3                  114.290                0.894072   \n",
       "4                  196.961                0.160267   \n",
       "...                    ...                     ...   \n",
       "8488               128.054                0.145142   \n",
       "8489                95.005                0.446677   \n",
       "8490               166.950                0.369779   \n",
       "8491               119.985                0.418960   \n",
       "8492                96.006                0.231796   \n",
       "\n",
       "                   metadata_artist_name  ... track_duration  track_favorites  \\\n",
       "0                                  AWOL  ...            168                2   \n",
       "1                                  AWOL  ...            237                1   \n",
       "2                                  AWOL  ...            206                6   \n",
       "3                                  AWOL  ...            207                3   \n",
       "4     Alec K. Redfearn and the Eyesores  ...            296                3   \n",
       "...                                 ...  ...            ...              ...   \n",
       "8488                              Remus  ...            290                0   \n",
       "8489                              Remus  ...            265                0   \n",
       "8490                              Remus  ...            354                0   \n",
       "8491                          Leisure-B  ...            253                2   \n",
       "8492                          Leisure-B  ...            179                1   \n",
       "\n",
       "      track_genres    track_genres_all  track_interest  \\\n",
       "0             [21]                [21]            4656   \n",
       "1             [21]                [21]            1470   \n",
       "2             [21]                [21]            1933   \n",
       "3             [21]                [21]            1126   \n",
       "4             [17]                [17]             702   \n",
       "...            ...                 ...             ...   \n",
       "8488    [286, 542]  [542, 21, 286, 15]            1280   \n",
       "8489    [286, 542]  [542, 21, 286, 15]            1420   \n",
       "8490    [286, 542]  [542, 21, 286, 15]            3237   \n",
       "8491    [286, 542]  [542, 21, 286, 15]            2774   \n",
       "8492    [286, 542]  [542, 21, 286, 15]           10301   \n",
       "\n",
       "                                          track_license  track_listens  \\\n",
       "0     Attribution-NonCommercial-ShareAlike 3.0 Inter...           1293   \n",
       "1     Attribution-NonCommercial-ShareAlike 3.0 Inter...            514   \n",
       "2     Attribution-NonCommercial-ShareAlike 3.0 Inter...           1151   \n",
       "3     Attribution-NonCommercial-ShareAlike 3.0 Inter...            943   \n",
       "4     Attribution-Noncommercial-No Derivative Works ...            582   \n",
       "...                                                 ...            ...   \n",
       "8488  Attribution-Noncommercial-Share Alike 3.0 Unit...            933   \n",
       "8489  Attribution-Noncommercial-Share Alike 3.0 Unit...           1114   \n",
       "8490  Attribution-Noncommercial-Share Alike 3.0 Unit...           2467   \n",
       "8491  Attribution-Noncommercial-Share Alike 3.0 Unit...           2298   \n",
       "8492  Attribution-Noncommercial-Share Alike 3.0 Unit...           3924   \n",
       "\n",
       "      track_number  track_tags            track_title  \n",
       "0                3          []                   Food  \n",
       "1                4          []           Electric Ave  \n",
       "2                6          []             This World  \n",
       "3                5          []           Street Music  \n",
       "4                2          []               CandyAss  \n",
       "...            ...         ...                    ...  \n",
       "8488             2          []  Taxidermy Made Simple  \n",
       "8489             5          []     Seperated Junkfood  \n",
       "8490            10          []     Her Bowed Sawtooth  \n",
       "8491            12          []         Post Meccanism  \n",
       "8492            13          []        Front Contation  \n",
       "\n",
       "[8492 rows x 790 columns]"
      ]
     },
     "execution_count": 368,
     "metadata": {},
     "output_type": "execute_result"
    }
   ],
   "source": [
    "#there is a column with all NaN, probably a result of MinMax, maybe it had all equal values, let's drop it\n",
    "df.drop([x for x in range(len(list(dfPca.isnull().sum()))) if list(dfPca.isnull().sum())[x]==8493])"
   ]
  },
  {
   "cell_type": "code",
   "execution_count": 16,
   "metadata": {},
   "outputs": [
    {
     "data": {
      "text/plain": [
       "0       1.0\n",
       "1       1.0\n",
       "2       1.0\n",
       "3       1.0\n",
       "4       1.0\n",
       "       ... \n",
       "8488    1.0\n",
       "8489    1.0\n",
       "8490    1.0\n",
       "8491    1.0\n",
       "8492    1.0\n",
       "Name: chroma_stft_max_10, Length: 8493, dtype: float64"
      ]
     },
     "execution_count": 16,
     "metadata": {},
     "output_type": "execute_result"
    }
   ],
   "source": [
    "df['chroma_stft_max_10'] #all 1.0 as values"
   ]
  },
  {
   "cell_type": "code",
   "execution_count": 369,
   "metadata": {},
   "outputs": [],
   "source": [
    "dfPca.drop(columns=[list(dfPca.columns)[426]], inplace=True)"
   ]
  },
  {
   "cell_type": "markdown",
   "metadata": {},
   "source": [
    "## 2.2 Principal Component Analysis"
   ]
  },
  {
   "cell_type": "markdown",
   "metadata": {},
   "source": [
    "We have chosen PCA for its easiness of implementation, its versatility and overall the time of execution. Regarding limitations: Low interpretability of principal components. "
   ]
  },
  {
   "cell_type": "code",
   "execution_count": 370,
   "metadata": {},
   "outputs": [],
   "source": [
    "from sklearn.decomposition import PCA\n",
    "import random\n",
    "random.seed(42)\n",
    "pca = PCA(n_components=0.71) # to retains at least 70% of the total variance\n",
    "pca_fit = pca.fit_transform(dfPca)\n",
    "pca_reduced=pca.transform(dfPca)"
   ]
  },
  {
   "cell_type": "code",
   "execution_count": 371,
   "metadata": {},
   "outputs": [
    {
     "data": {
      "text/plain": [
       "(8493, 35)"
      ]
     },
     "execution_count": 371,
     "metadata": {},
     "output_type": "execute_result"
    }
   ],
   "source": [
    "pca_reduced.shape "
   ]
  },
  {
   "cell_type": "code",
   "execution_count": 20,
   "metadata": {},
   "outputs": [
    {
     "data": {
      "text/plain": [
       "array([0.1370102 , 0.08755838, 0.04363401, 0.03921968, 0.03315106,\n",
       "       0.03133557, 0.03104796, 0.02802065, 0.0213715 , 0.01982581,\n",
       "       0.01833994, 0.01711226, 0.01632494, 0.0156063 , 0.01483559,\n",
       "       0.01428021, 0.01330621, 0.01233811, 0.01136715, 0.01049545,\n",
       "       0.00974143, 0.00940258, 0.0081055 , 0.00761559, 0.00716273,\n",
       "       0.00661239, 0.006399  , 0.00597862, 0.00584436, 0.00572291,\n",
       "       0.00530604, 0.00497449, 0.00480114, 0.00474425, 0.00463297])"
      ]
     },
     "execution_count": 20,
     "metadata": {},
     "output_type": "execute_result"
    }
   ],
   "source": [
    "pca.explained_variance_ratio_ #As a result we have 35 principal components"
   ]
  },
  {
   "cell_type": "markdown",
   "metadata": {},
   "source": [
    "Let's add the other columns that we have previously removed, merging onto \"track_id\":"
   ]
  },
  {
   "cell_type": "code",
   "execution_count": 375,
   "metadata": {},
   "outputs": [],
   "source": [
    "pca_reduced=pd.DataFrame(pca_reduced)"
   ]
  },
  {
   "cell_type": "code",
   "execution_count": 376,
   "metadata": {},
   "outputs": [
    {
     "data": {
      "text/html": [
       "<div>\n",
       "<style scoped>\n",
       "    .dataframe tbody tr th:only-of-type {\n",
       "        vertical-align: middle;\n",
       "    }\n",
       "\n",
       "    .dataframe tbody tr th {\n",
       "        vertical-align: top;\n",
       "    }\n",
       "\n",
       "    .dataframe thead th {\n",
       "        text-align: right;\n",
       "    }\n",
       "</style>\n",
       "<table border=\"1\" class=\"dataframe\">\n",
       "  <thead>\n",
       "    <tr style=\"text-align: right;\">\n",
       "      <th></th>\n",
       "      <th>0</th>\n",
       "      <th>1</th>\n",
       "      <th>2</th>\n",
       "      <th>3</th>\n",
       "      <th>4</th>\n",
       "      <th>5</th>\n",
       "      <th>6</th>\n",
       "      <th>7</th>\n",
       "      <th>8</th>\n",
       "      <th>9</th>\n",
       "      <th>...</th>\n",
       "      <th>26</th>\n",
       "      <th>27</th>\n",
       "      <th>28</th>\n",
       "      <th>29</th>\n",
       "      <th>30</th>\n",
       "      <th>31</th>\n",
       "      <th>32</th>\n",
       "      <th>33</th>\n",
       "      <th>34</th>\n",
       "      <th>track_id</th>\n",
       "    </tr>\n",
       "  </thead>\n",
       "  <tbody>\n",
       "    <tr>\n",
       "      <th>0</th>\n",
       "      <td>0.574512</td>\n",
       "      <td>0.412518</td>\n",
       "      <td>-0.752260</td>\n",
       "      <td>0.119014</td>\n",
       "      <td>0.609211</td>\n",
       "      <td>0.911671</td>\n",
       "      <td>0.694262</td>\n",
       "      <td>-0.429090</td>\n",
       "      <td>0.102674</td>\n",
       "      <td>0.052256</td>\n",
       "      <td>...</td>\n",
       "      <td>-0.185490</td>\n",
       "      <td>0.056242</td>\n",
       "      <td>0.066211</td>\n",
       "      <td>0.265932</td>\n",
       "      <td>-0.134327</td>\n",
       "      <td>-0.148900</td>\n",
       "      <td>0.005070</td>\n",
       "      <td>-0.150528</td>\n",
       "      <td>-0.106088</td>\n",
       "      <td>0.000000</td>\n",
       "    </tr>\n",
       "    <tr>\n",
       "      <th>1</th>\n",
       "      <td>0.806113</td>\n",
       "      <td>0.741005</td>\n",
       "      <td>-0.662414</td>\n",
       "      <td>-0.462373</td>\n",
       "      <td>-0.168258</td>\n",
       "      <td>0.503082</td>\n",
       "      <td>-0.274546</td>\n",
       "      <td>0.676594</td>\n",
       "      <td>-0.008562</td>\n",
       "      <td>-0.145974</td>\n",
       "      <td>...</td>\n",
       "      <td>-0.093978</td>\n",
       "      <td>-0.262150</td>\n",
       "      <td>0.149251</td>\n",
       "      <td>0.202804</td>\n",
       "      <td>-0.035049</td>\n",
       "      <td>0.109258</td>\n",
       "      <td>-0.258268</td>\n",
       "      <td>0.154936</td>\n",
       "      <td>0.029889</td>\n",
       "      <td>0.000008</td>\n",
       "    </tr>\n",
       "    <tr>\n",
       "      <th>2</th>\n",
       "      <td>0.570496</td>\n",
       "      <td>0.653828</td>\n",
       "      <td>-0.546383</td>\n",
       "      <td>-0.342871</td>\n",
       "      <td>-0.003876</td>\n",
       "      <td>0.336673</td>\n",
       "      <td>-0.299531</td>\n",
       "      <td>-0.056866</td>\n",
       "      <td>0.418585</td>\n",
       "      <td>-0.135989</td>\n",
       "      <td>...</td>\n",
       "      <td>0.147281</td>\n",
       "      <td>-0.245400</td>\n",
       "      <td>-0.318698</td>\n",
       "      <td>0.304263</td>\n",
       "      <td>-0.325662</td>\n",
       "      <td>0.024884</td>\n",
       "      <td>-0.240131</td>\n",
       "      <td>-0.135379</td>\n",
       "      <td>-0.235221</td>\n",
       "      <td>0.000024</td>\n",
       "    </tr>\n",
       "    <tr>\n",
       "      <th>3</th>\n",
       "      <td>0.281499</td>\n",
       "      <td>1.013618</td>\n",
       "      <td>-0.641773</td>\n",
       "      <td>-0.169121</td>\n",
       "      <td>-0.225673</td>\n",
       "      <td>-0.136233</td>\n",
       "      <td>-0.219700</td>\n",
       "      <td>-0.059351</td>\n",
       "      <td>0.294884</td>\n",
       "      <td>-0.282480</td>\n",
       "      <td>...</td>\n",
       "      <td>-0.277554</td>\n",
       "      <td>-0.173289</td>\n",
       "      <td>-0.121375</td>\n",
       "      <td>0.161226</td>\n",
       "      <td>-0.082208</td>\n",
       "      <td>0.166038</td>\n",
       "      <td>-0.015867</td>\n",
       "      <td>0.066289</td>\n",
       "      <td>-0.186388</td>\n",
       "      <td>0.001058</td>\n",
       "    </tr>\n",
       "    <tr>\n",
       "      <th>4</th>\n",
       "      <td>0.516364</td>\n",
       "      <td>-0.257454</td>\n",
       "      <td>0.083712</td>\n",
       "      <td>0.231449</td>\n",
       "      <td>0.542488</td>\n",
       "      <td>0.697186</td>\n",
       "      <td>0.254848</td>\n",
       "      <td>0.029077</td>\n",
       "      <td>-0.465874</td>\n",
       "      <td>-0.021251</td>\n",
       "      <td>...</td>\n",
       "      <td>-0.075893</td>\n",
       "      <td>0.280437</td>\n",
       "      <td>0.463297</td>\n",
       "      <td>-0.201455</td>\n",
       "      <td>-0.064399</td>\n",
       "      <td>-0.389744</td>\n",
       "      <td>-0.177422</td>\n",
       "      <td>0.096383</td>\n",
       "      <td>0.309748</td>\n",
       "      <td>0.001098</td>\n",
       "    </tr>\n",
       "    <tr>\n",
       "      <th>...</th>\n",
       "      <td>...</td>\n",
       "      <td>...</td>\n",
       "      <td>...</td>\n",
       "      <td>...</td>\n",
       "      <td>...</td>\n",
       "      <td>...</td>\n",
       "      <td>...</td>\n",
       "      <td>...</td>\n",
       "      <td>...</td>\n",
       "      <td>...</td>\n",
       "      <td>...</td>\n",
       "      <td>...</td>\n",
       "      <td>...</td>\n",
       "      <td>...</td>\n",
       "      <td>...</td>\n",
       "      <td>...</td>\n",
       "      <td>...</td>\n",
       "      <td>...</td>\n",
       "      <td>...</td>\n",
       "      <td>...</td>\n",
       "      <td>...</td>\n",
       "    </tr>\n",
       "    <tr>\n",
       "      <th>8488</th>\n",
       "      <td>0.296245</td>\n",
       "      <td>0.287492</td>\n",
       "      <td>0.983900</td>\n",
       "      <td>-0.431472</td>\n",
       "      <td>0.069326</td>\n",
       "      <td>-0.007621</td>\n",
       "      <td>-0.119426</td>\n",
       "      <td>-0.255114</td>\n",
       "      <td>0.547673</td>\n",
       "      <td>0.614964</td>\n",
       "      <td>...</td>\n",
       "      <td>0.010355</td>\n",
       "      <td>-0.022859</td>\n",
       "      <td>0.233801</td>\n",
       "      <td>0.090448</td>\n",
       "      <td>-0.111227</td>\n",
       "      <td>-0.025853</td>\n",
       "      <td>-0.000098</td>\n",
       "      <td>-0.285336</td>\n",
       "      <td>0.296240</td>\n",
       "      <td>0.999912</td>\n",
       "    </tr>\n",
       "    <tr>\n",
       "      <th>8489</th>\n",
       "      <td>0.715639</td>\n",
       "      <td>0.841636</td>\n",
       "      <td>0.354534</td>\n",
       "      <td>0.051659</td>\n",
       "      <td>0.225403</td>\n",
       "      <td>-0.806085</td>\n",
       "      <td>0.889020</td>\n",
       "      <td>0.166473</td>\n",
       "      <td>0.232314</td>\n",
       "      <td>-0.034399</td>\n",
       "      <td>...</td>\n",
       "      <td>0.170004</td>\n",
       "      <td>0.109480</td>\n",
       "      <td>-0.076656</td>\n",
       "      <td>0.015073</td>\n",
       "      <td>-0.057319</td>\n",
       "      <td>-0.051786</td>\n",
       "      <td>-0.130430</td>\n",
       "      <td>-0.047987</td>\n",
       "      <td>0.218032</td>\n",
       "      <td>0.999936</td>\n",
       "    </tr>\n",
       "    <tr>\n",
       "      <th>8490</th>\n",
       "      <td>0.785248</td>\n",
       "      <td>0.478321</td>\n",
       "      <td>0.309706</td>\n",
       "      <td>-0.171193</td>\n",
       "      <td>0.036610</td>\n",
       "      <td>0.054421</td>\n",
       "      <td>0.245014</td>\n",
       "      <td>0.483063</td>\n",
       "      <td>0.125294</td>\n",
       "      <td>0.321316</td>\n",
       "      <td>...</td>\n",
       "      <td>0.300343</td>\n",
       "      <td>-0.005468</td>\n",
       "      <td>0.107107</td>\n",
       "      <td>0.116453</td>\n",
       "      <td>-0.203971</td>\n",
       "      <td>0.041424</td>\n",
       "      <td>-0.027420</td>\n",
       "      <td>-0.144063</td>\n",
       "      <td>0.181550</td>\n",
       "      <td>0.999976</td>\n",
       "    </tr>\n",
       "    <tr>\n",
       "      <th>8491</th>\n",
       "      <td>-0.073870</td>\n",
       "      <td>0.089795</td>\n",
       "      <td>0.277986</td>\n",
       "      <td>-0.643401</td>\n",
       "      <td>-0.206809</td>\n",
       "      <td>0.520845</td>\n",
       "      <td>-0.156307</td>\n",
       "      <td>0.091146</td>\n",
       "      <td>0.471462</td>\n",
       "      <td>-0.217037</td>\n",
       "      <td>...</td>\n",
       "      <td>0.001382</td>\n",
       "      <td>-0.034532</td>\n",
       "      <td>-0.073249</td>\n",
       "      <td>0.174020</td>\n",
       "      <td>-0.291736</td>\n",
       "      <td>-0.044090</td>\n",
       "      <td>0.192112</td>\n",
       "      <td>-0.249622</td>\n",
       "      <td>-0.015960</td>\n",
       "      <td>0.999992</td>\n",
       "    </tr>\n",
       "    <tr>\n",
       "      <th>8492</th>\n",
       "      <td>0.253179</td>\n",
       "      <td>0.492671</td>\n",
       "      <td>0.617765</td>\n",
       "      <td>0.095583</td>\n",
       "      <td>0.139022</td>\n",
       "      <td>-0.262621</td>\n",
       "      <td>0.718457</td>\n",
       "      <td>-0.007130</td>\n",
       "      <td>0.480283</td>\n",
       "      <td>-0.192000</td>\n",
       "      <td>...</td>\n",
       "      <td>-0.057754</td>\n",
       "      <td>-0.155014</td>\n",
       "      <td>0.205134</td>\n",
       "      <td>0.122250</td>\n",
       "      <td>-0.083144</td>\n",
       "      <td>-0.019672</td>\n",
       "      <td>0.111751</td>\n",
       "      <td>-0.187292</td>\n",
       "      <td>0.224246</td>\n",
       "      <td>1.000000</td>\n",
       "    </tr>\n",
       "  </tbody>\n",
       "</table>\n",
       "<p>8493 rows × 36 columns</p>\n",
       "</div>"
      ],
      "text/plain": [
       "             0         1         2         3         4         5         6  \\\n",
       "0     0.574512  0.412518 -0.752260  0.119014  0.609211  0.911671  0.694262   \n",
       "1     0.806113  0.741005 -0.662414 -0.462373 -0.168258  0.503082 -0.274546   \n",
       "2     0.570496  0.653828 -0.546383 -0.342871 -0.003876  0.336673 -0.299531   \n",
       "3     0.281499  1.013618 -0.641773 -0.169121 -0.225673 -0.136233 -0.219700   \n",
       "4     0.516364 -0.257454  0.083712  0.231449  0.542488  0.697186  0.254848   \n",
       "...        ...       ...       ...       ...       ...       ...       ...   \n",
       "8488  0.296245  0.287492  0.983900 -0.431472  0.069326 -0.007621 -0.119426   \n",
       "8489  0.715639  0.841636  0.354534  0.051659  0.225403 -0.806085  0.889020   \n",
       "8490  0.785248  0.478321  0.309706 -0.171193  0.036610  0.054421  0.245014   \n",
       "8491 -0.073870  0.089795  0.277986 -0.643401 -0.206809  0.520845 -0.156307   \n",
       "8492  0.253179  0.492671  0.617765  0.095583  0.139022 -0.262621  0.718457   \n",
       "\n",
       "             7         8         9  ...        26        27        28  \\\n",
       "0    -0.429090  0.102674  0.052256  ... -0.185490  0.056242  0.066211   \n",
       "1     0.676594 -0.008562 -0.145974  ... -0.093978 -0.262150  0.149251   \n",
       "2    -0.056866  0.418585 -0.135989  ...  0.147281 -0.245400 -0.318698   \n",
       "3    -0.059351  0.294884 -0.282480  ... -0.277554 -0.173289 -0.121375   \n",
       "4     0.029077 -0.465874 -0.021251  ... -0.075893  0.280437  0.463297   \n",
       "...        ...       ...       ...  ...       ...       ...       ...   \n",
       "8488 -0.255114  0.547673  0.614964  ...  0.010355 -0.022859  0.233801   \n",
       "8489  0.166473  0.232314 -0.034399  ...  0.170004  0.109480 -0.076656   \n",
       "8490  0.483063  0.125294  0.321316  ...  0.300343 -0.005468  0.107107   \n",
       "8491  0.091146  0.471462 -0.217037  ...  0.001382 -0.034532 -0.073249   \n",
       "8492 -0.007130  0.480283 -0.192000  ... -0.057754 -0.155014  0.205134   \n",
       "\n",
       "            29        30        31        32        33        34  track_id  \n",
       "0     0.265932 -0.134327 -0.148900  0.005070 -0.150528 -0.106088  0.000000  \n",
       "1     0.202804 -0.035049  0.109258 -0.258268  0.154936  0.029889  0.000008  \n",
       "2     0.304263 -0.325662  0.024884 -0.240131 -0.135379 -0.235221  0.000024  \n",
       "3     0.161226 -0.082208  0.166038 -0.015867  0.066289 -0.186388  0.001058  \n",
       "4    -0.201455 -0.064399 -0.389744 -0.177422  0.096383  0.309748  0.001098  \n",
       "...        ...       ...       ...       ...       ...       ...       ...  \n",
       "8488  0.090448 -0.111227 -0.025853 -0.000098 -0.285336  0.296240  0.999912  \n",
       "8489  0.015073 -0.057319 -0.051786 -0.130430 -0.047987  0.218032  0.999936  \n",
       "8490  0.116453 -0.203971  0.041424 -0.027420 -0.144063  0.181550  0.999976  \n",
       "8491  0.174020 -0.291736 -0.044090  0.192112 -0.249622 -0.015960  0.999992  \n",
       "8492  0.122250 -0.083144 -0.019672  0.111751 -0.187292  0.224246  1.000000  \n",
       "\n",
       "[8493 rows x 36 columns]"
      ]
     },
     "execution_count": 376,
     "metadata": {},
     "output_type": "execute_result"
    }
   ],
   "source": [
    "pca_reduced[\"track_id\"] = dfNumStand[\"track_id\"]\n",
    "pca_reduced"
   ]
  },
  {
   "cell_type": "code",
   "execution_count": 377,
   "metadata": {},
   "outputs": [],
   "source": [
    "dfFinal = pca_reduced.merge(dfNumStand[['track_id', 'album_comments', 'album_favorites', 'album_id', 'album_listens', 'album_tracks', 'artist_comments', 'artist_favorites', 'artist_id', 'track_comments', 'track_duration', 'track_favorites', 'track_interest', 'track_listens', 'track_number']])"
   ]
  },
  {
   "cell_type": "code",
   "execution_count": 378,
   "metadata": {},
   "outputs": [
    {
     "data": {
      "text/html": [
       "<div>\n",
       "<style scoped>\n",
       "    .dataframe tbody tr th:only-of-type {\n",
       "        vertical-align: middle;\n",
       "    }\n",
       "\n",
       "    .dataframe tbody tr th {\n",
       "        vertical-align: top;\n",
       "    }\n",
       "\n",
       "    .dataframe thead th {\n",
       "        text-align: right;\n",
       "    }\n",
       "</style>\n",
       "<table border=\"1\" class=\"dataframe\">\n",
       "  <thead>\n",
       "    <tr style=\"text-align: right;\">\n",
       "      <th></th>\n",
       "      <th>0</th>\n",
       "      <th>1</th>\n",
       "      <th>2</th>\n",
       "      <th>3</th>\n",
       "      <th>4</th>\n",
       "      <th>5</th>\n",
       "      <th>6</th>\n",
       "      <th>7</th>\n",
       "      <th>8</th>\n",
       "      <th>9</th>\n",
       "      <th>...</th>\n",
       "      <th>album_tracks</th>\n",
       "      <th>artist_comments</th>\n",
       "      <th>artist_favorites</th>\n",
       "      <th>artist_id</th>\n",
       "      <th>track_comments</th>\n",
       "      <th>track_duration</th>\n",
       "      <th>track_favorites</th>\n",
       "      <th>track_interest</th>\n",
       "      <th>track_listens</th>\n",
       "      <th>track_number</th>\n",
       "    </tr>\n",
       "  </thead>\n",
       "  <tbody>\n",
       "    <tr>\n",
       "      <th>0</th>\n",
       "      <td>0.574512</td>\n",
       "      <td>0.412518</td>\n",
       "      <td>-0.752260</td>\n",
       "      <td>0.119014</td>\n",
       "      <td>0.609211</td>\n",
       "      <td>0.911671</td>\n",
       "      <td>0.694262</td>\n",
       "      <td>-0.429090</td>\n",
       "      <td>0.102674</td>\n",
       "      <td>0.052256</td>\n",
       "      <td>...</td>\n",
       "      <td>0.042683</td>\n",
       "      <td>0.0</td>\n",
       "      <td>0.009346</td>\n",
       "      <td>0.000000</td>\n",
       "      <td>0.0</td>\n",
       "      <td>0.048489</td>\n",
       "      <td>0.001350</td>\n",
       "      <td>0.001395</td>\n",
       "      <td>0.002334</td>\n",
       "      <td>0.014085</td>\n",
       "    </tr>\n",
       "    <tr>\n",
       "      <th>1</th>\n",
       "      <td>0.806113</td>\n",
       "      <td>0.741005</td>\n",
       "      <td>-0.662414</td>\n",
       "      <td>-0.462373</td>\n",
       "      <td>-0.168258</td>\n",
       "      <td>0.503082</td>\n",
       "      <td>-0.274546</td>\n",
       "      <td>0.676594</td>\n",
       "      <td>-0.008562</td>\n",
       "      <td>-0.145974</td>\n",
       "      <td>...</td>\n",
       "      <td>0.042683</td>\n",
       "      <td>0.0</td>\n",
       "      <td>0.009346</td>\n",
       "      <td>0.000000</td>\n",
       "      <td>0.0</td>\n",
       "      <td>0.071405</td>\n",
       "      <td>0.000675</td>\n",
       "      <td>0.000427</td>\n",
       "      <td>0.000900</td>\n",
       "      <td>0.018779</td>\n",
       "    </tr>\n",
       "    <tr>\n",
       "      <th>2</th>\n",
       "      <td>0.570496</td>\n",
       "      <td>0.653828</td>\n",
       "      <td>-0.546383</td>\n",
       "      <td>-0.342871</td>\n",
       "      <td>-0.003876</td>\n",
       "      <td>0.336673</td>\n",
       "      <td>-0.299531</td>\n",
       "      <td>-0.056866</td>\n",
       "      <td>0.418585</td>\n",
       "      <td>-0.135989</td>\n",
       "      <td>...</td>\n",
       "      <td>0.042683</td>\n",
       "      <td>0.0</td>\n",
       "      <td>0.009346</td>\n",
       "      <td>0.000000</td>\n",
       "      <td>0.0</td>\n",
       "      <td>0.061109</td>\n",
       "      <td>0.004049</td>\n",
       "      <td>0.000568</td>\n",
       "      <td>0.002073</td>\n",
       "      <td>0.028169</td>\n",
       "    </tr>\n",
       "    <tr>\n",
       "      <th>3</th>\n",
       "      <td>0.281499</td>\n",
       "      <td>1.013618</td>\n",
       "      <td>-0.641773</td>\n",
       "      <td>-0.169121</td>\n",
       "      <td>-0.225673</td>\n",
       "      <td>-0.136233</td>\n",
       "      <td>-0.219700</td>\n",
       "      <td>-0.059351</td>\n",
       "      <td>0.294884</td>\n",
       "      <td>-0.282480</td>\n",
       "      <td>...</td>\n",
       "      <td>0.042683</td>\n",
       "      <td>0.0</td>\n",
       "      <td>0.009346</td>\n",
       "      <td>0.000000</td>\n",
       "      <td>0.0</td>\n",
       "      <td>0.061441</td>\n",
       "      <td>0.002024</td>\n",
       "      <td>0.000323</td>\n",
       "      <td>0.001690</td>\n",
       "      <td>0.023474</td>\n",
       "    </tr>\n",
       "    <tr>\n",
       "      <th>4</th>\n",
       "      <td>0.516364</td>\n",
       "      <td>-0.257454</td>\n",
       "      <td>0.083712</td>\n",
       "      <td>0.231449</td>\n",
       "      <td>0.542488</td>\n",
       "      <td>0.697186</td>\n",
       "      <td>0.254848</td>\n",
       "      <td>0.029077</td>\n",
       "      <td>-0.465874</td>\n",
       "      <td>-0.021251</td>\n",
       "      <td>...</td>\n",
       "      <td>0.012195</td>\n",
       "      <td>0.0</td>\n",
       "      <td>0.011423</td>\n",
       "      <td>0.002547</td>\n",
       "      <td>0.0</td>\n",
       "      <td>0.091000</td>\n",
       "      <td>0.002024</td>\n",
       "      <td>0.000194</td>\n",
       "      <td>0.001025</td>\n",
       "      <td>0.009390</td>\n",
       "    </tr>\n",
       "    <tr>\n",
       "      <th>...</th>\n",
       "      <td>...</td>\n",
       "      <td>...</td>\n",
       "      <td>...</td>\n",
       "      <td>...</td>\n",
       "      <td>...</td>\n",
       "      <td>...</td>\n",
       "      <td>...</td>\n",
       "      <td>...</td>\n",
       "      <td>...</td>\n",
       "      <td>...</td>\n",
       "      <td>...</td>\n",
       "      <td>...</td>\n",
       "      <td>...</td>\n",
       "      <td>...</td>\n",
       "      <td>...</td>\n",
       "      <td>...</td>\n",
       "      <td>...</td>\n",
       "      <td>...</td>\n",
       "      <td>...</td>\n",
       "      <td>...</td>\n",
       "      <td>...</td>\n",
       "    </tr>\n",
       "    <tr>\n",
       "      <th>8488</th>\n",
       "      <td>0.296245</td>\n",
       "      <td>0.287492</td>\n",
       "      <td>0.983900</td>\n",
       "      <td>-0.431472</td>\n",
       "      <td>0.069326</td>\n",
       "      <td>-0.007621</td>\n",
       "      <td>-0.119426</td>\n",
       "      <td>-0.255114</td>\n",
       "      <td>0.547673</td>\n",
       "      <td>0.614964</td>\n",
       "      <td>...</td>\n",
       "      <td>0.085366</td>\n",
       "      <td>0.0</td>\n",
       "      <td>0.013499</td>\n",
       "      <td>0.299779</td>\n",
       "      <td>0.0</td>\n",
       "      <td>0.089007</td>\n",
       "      <td>0.000000</td>\n",
       "      <td>0.000370</td>\n",
       "      <td>0.001671</td>\n",
       "      <td>0.009390</td>\n",
       "    </tr>\n",
       "    <tr>\n",
       "      <th>8489</th>\n",
       "      <td>0.715639</td>\n",
       "      <td>0.841636</td>\n",
       "      <td>0.354534</td>\n",
       "      <td>0.051659</td>\n",
       "      <td>0.225403</td>\n",
       "      <td>-0.806085</td>\n",
       "      <td>0.889020</td>\n",
       "      <td>0.166473</td>\n",
       "      <td>0.232314</td>\n",
       "      <td>-0.034399</td>\n",
       "      <td>...</td>\n",
       "      <td>0.085366</td>\n",
       "      <td>0.0</td>\n",
       "      <td>0.013499</td>\n",
       "      <td>0.299779</td>\n",
       "      <td>0.0</td>\n",
       "      <td>0.080704</td>\n",
       "      <td>0.000000</td>\n",
       "      <td>0.000412</td>\n",
       "      <td>0.002005</td>\n",
       "      <td>0.023474</td>\n",
       "    </tr>\n",
       "    <tr>\n",
       "      <th>8490</th>\n",
       "      <td>0.785248</td>\n",
       "      <td>0.478321</td>\n",
       "      <td>0.309706</td>\n",
       "      <td>-0.171193</td>\n",
       "      <td>0.036610</td>\n",
       "      <td>0.054421</td>\n",
       "      <td>0.245014</td>\n",
       "      <td>0.483063</td>\n",
       "      <td>0.125294</td>\n",
       "      <td>0.321316</td>\n",
       "      <td>...</td>\n",
       "      <td>0.085366</td>\n",
       "      <td>0.0</td>\n",
       "      <td>0.013499</td>\n",
       "      <td>0.299779</td>\n",
       "      <td>0.0</td>\n",
       "      <td>0.110262</td>\n",
       "      <td>0.000000</td>\n",
       "      <td>0.000964</td>\n",
       "      <td>0.004495</td>\n",
       "      <td>0.046948</td>\n",
       "    </tr>\n",
       "    <tr>\n",
       "      <th>8491</th>\n",
       "      <td>-0.073870</td>\n",
       "      <td>0.089795</td>\n",
       "      <td>0.277986</td>\n",
       "      <td>-0.643401</td>\n",
       "      <td>-0.206809</td>\n",
       "      <td>0.520845</td>\n",
       "      <td>-0.156307</td>\n",
       "      <td>0.091146</td>\n",
       "      <td>0.471462</td>\n",
       "      <td>-0.217037</td>\n",
       "      <td>...</td>\n",
       "      <td>0.085366</td>\n",
       "      <td>0.0</td>\n",
       "      <td>0.012461</td>\n",
       "      <td>0.998895</td>\n",
       "      <td>0.0</td>\n",
       "      <td>0.076719</td>\n",
       "      <td>0.001350</td>\n",
       "      <td>0.000823</td>\n",
       "      <td>0.004184</td>\n",
       "      <td>0.056338</td>\n",
       "    </tr>\n",
       "    <tr>\n",
       "      <th>8492</th>\n",
       "      <td>0.253179</td>\n",
       "      <td>0.492671</td>\n",
       "      <td>0.617765</td>\n",
       "      <td>0.095583</td>\n",
       "      <td>0.139022</td>\n",
       "      <td>-0.262621</td>\n",
       "      <td>0.718457</td>\n",
       "      <td>-0.007130</td>\n",
       "      <td>0.480283</td>\n",
       "      <td>-0.192000</td>\n",
       "      <td>...</td>\n",
       "      <td>0.085366</td>\n",
       "      <td>0.0</td>\n",
       "      <td>0.012461</td>\n",
       "      <td>0.998895</td>\n",
       "      <td>0.0</td>\n",
       "      <td>0.052142</td>\n",
       "      <td>0.000675</td>\n",
       "      <td>0.003109</td>\n",
       "      <td>0.007177</td>\n",
       "      <td>0.061033</td>\n",
       "    </tr>\n",
       "  </tbody>\n",
       "</table>\n",
       "<p>8493 rows × 50 columns</p>\n",
       "</div>"
      ],
      "text/plain": [
       "             0         1         2         3         4         5         6  \\\n",
       "0     0.574512  0.412518 -0.752260  0.119014  0.609211  0.911671  0.694262   \n",
       "1     0.806113  0.741005 -0.662414 -0.462373 -0.168258  0.503082 -0.274546   \n",
       "2     0.570496  0.653828 -0.546383 -0.342871 -0.003876  0.336673 -0.299531   \n",
       "3     0.281499  1.013618 -0.641773 -0.169121 -0.225673 -0.136233 -0.219700   \n",
       "4     0.516364 -0.257454  0.083712  0.231449  0.542488  0.697186  0.254848   \n",
       "...        ...       ...       ...       ...       ...       ...       ...   \n",
       "8488  0.296245  0.287492  0.983900 -0.431472  0.069326 -0.007621 -0.119426   \n",
       "8489  0.715639  0.841636  0.354534  0.051659  0.225403 -0.806085  0.889020   \n",
       "8490  0.785248  0.478321  0.309706 -0.171193  0.036610  0.054421  0.245014   \n",
       "8491 -0.073870  0.089795  0.277986 -0.643401 -0.206809  0.520845 -0.156307   \n",
       "8492  0.253179  0.492671  0.617765  0.095583  0.139022 -0.262621  0.718457   \n",
       "\n",
       "             7         8         9  ...  album_tracks  artist_comments  \\\n",
       "0    -0.429090  0.102674  0.052256  ...      0.042683              0.0   \n",
       "1     0.676594 -0.008562 -0.145974  ...      0.042683              0.0   \n",
       "2    -0.056866  0.418585 -0.135989  ...      0.042683              0.0   \n",
       "3    -0.059351  0.294884 -0.282480  ...      0.042683              0.0   \n",
       "4     0.029077 -0.465874 -0.021251  ...      0.012195              0.0   \n",
       "...        ...       ...       ...  ...           ...              ...   \n",
       "8488 -0.255114  0.547673  0.614964  ...      0.085366              0.0   \n",
       "8489  0.166473  0.232314 -0.034399  ...      0.085366              0.0   \n",
       "8490  0.483063  0.125294  0.321316  ...      0.085366              0.0   \n",
       "8491  0.091146  0.471462 -0.217037  ...      0.085366              0.0   \n",
       "8492 -0.007130  0.480283 -0.192000  ...      0.085366              0.0   \n",
       "\n",
       "      artist_favorites  artist_id  track_comments  track_duration  \\\n",
       "0             0.009346   0.000000             0.0        0.048489   \n",
       "1             0.009346   0.000000             0.0        0.071405   \n",
       "2             0.009346   0.000000             0.0        0.061109   \n",
       "3             0.009346   0.000000             0.0        0.061441   \n",
       "4             0.011423   0.002547             0.0        0.091000   \n",
       "...                ...        ...             ...             ...   \n",
       "8488          0.013499   0.299779             0.0        0.089007   \n",
       "8489          0.013499   0.299779             0.0        0.080704   \n",
       "8490          0.013499   0.299779             0.0        0.110262   \n",
       "8491          0.012461   0.998895             0.0        0.076719   \n",
       "8492          0.012461   0.998895             0.0        0.052142   \n",
       "\n",
       "      track_favorites  track_interest  track_listens  track_number  \n",
       "0            0.001350        0.001395       0.002334      0.014085  \n",
       "1            0.000675        0.000427       0.000900      0.018779  \n",
       "2            0.004049        0.000568       0.002073      0.028169  \n",
       "3            0.002024        0.000323       0.001690      0.023474  \n",
       "4            0.002024        0.000194       0.001025      0.009390  \n",
       "...               ...             ...            ...           ...  \n",
       "8488         0.000000        0.000370       0.001671      0.009390  \n",
       "8489         0.000000        0.000412       0.002005      0.023474  \n",
       "8490         0.000000        0.000964       0.004495      0.046948  \n",
       "8491         0.001350        0.000823       0.004184      0.056338  \n",
       "8492         0.000675        0.003109       0.007177      0.061033  \n",
       "\n",
       "[8493 rows x 50 columns]"
      ]
     },
     "execution_count": 378,
     "metadata": {},
     "output_type": "execute_result"
    }
   ],
   "source": [
    "dfFinal"
   ]
  },
  {
   "cell_type": "markdown",
   "metadata": {},
   "source": [
    "# 2.3 KMeans Clustering"
   ]
  },
  {
   "cell_type": "code",
   "execution_count": 379,
   "metadata": {},
   "outputs": [],
   "source": [
    "import numpy as np\n",
    "from collections import defaultdict"
   ]
  },
  {
   "cell_type": "code",
   "execution_count": 382,
   "metadata": {},
   "outputs": [],
   "source": [
    "def OurKMeans(df, k, epsilon):\n",
    "    max_iter=300\n",
    "    n_init=10\n",
    "    output=[]\n",
    "    random.seed(42)\n",
    "    for it in range(n_init):\n",
    "        print(it)\n",
    "        lowB=[int(min(df[col])) for col in df.columns]\n",
    "        uppB=[int(max(df[col])) for col in df.columns]\n",
    "        centroids_T = [[random.randint(lowB[ii], uppB[ii]) for ii in range(len(df.columns))] for _ in range(k)]\n",
    "        t=0\n",
    "        while True:\n",
    "            if t==max_iter: #closure condition 1\n",
    "                print(\"Max iteration exceeded!1\")\n",
    "                break\n",
    "            centroids_Tminus1 = centroids_T.copy()\n",
    "            t+=1\n",
    "            c=[[] for x in range(k)] \n",
    "            for x in range(len(df[0])):\n",
    "                j_star = np.argmin(np.array([np.linalg.norm(np.array(df.iloc[x]) - centroids_T[i]) for i in range(k)]))\n",
    "                c[j_star].append(np.array(df.iloc[x]))\n",
    "            for i in range(k):\n",
    "                if len(c[i])>0:\n",
    "                    centroids_T[i] = 1/len(c[i]) * sum(c[i])\n",
    "                else:\n",
    "                    centroids_T[i] = centroids_Tminus1[i]\n",
    "            if sum([np.linalg.norm(np.array(centroids_T[i]) - np.array(centroids_Tminus1[i])) for i in range(k)]) < epsilon: #closure condition #2\n",
    "                break\n",
    "\n",
    "        #calculate the within class variation\n",
    "        withinCVar = 0\n",
    "        for y in range(len(c)):\n",
    "            for xx in range(len(c[y])):\n",
    "                withinCVar += np.linalg.norm(np.array(c[y][xx] - centroids_T[y]))\n",
    "        output.append((centroids_T,withinCVar))\n",
    "    return [y for y in output if y[1]==min([x[1] for x in output])]"
   ]
  },
  {
   "cell_type": "code",
   "execution_count": 383,
   "metadata": {
    "scrolled": true
   },
   "outputs": [
    {
     "name": "stdout",
     "output_type": "stream",
     "text": [
      "0\n",
      "1\n",
      "2\n",
      "3\n",
      "4\n",
      "5\n",
      "6\n",
      "7\n",
      "8\n",
      "9\n"
     ]
    },
    {
     "data": {
      "text/plain": [
       "[([array([ 9.23287641e-02,  9.87793770e-01, -2.07641681e-02,  3.18477124e-02,\n",
       "          -2.02787531e-02,  2.78172400e-02, -1.45309993e-02, -2.69596975e-03,\n",
       "           2.07695832e-02,  1.18285608e-02,  2.86147590e-03,  1.34421724e-02,\n",
       "          -3.21971626e-02,  3.13975858e-02,  7.31947071e-03, -1.49351115e-03,\n",
       "           1.14154254e-02,  4.67472599e-03, -5.12340785e-03, -3.08039080e-02,\n",
       "          -5.02922601e-03,  1.51513415e-02,  7.57190046e-03,  1.19843005e-03,\n",
       "          -7.43384605e-04, -7.11186159e-03,  7.37447857e-03,  1.18146116e-02,\n",
       "          -6.73589452e-03,  1.85384871e-02, -8.00008706e-03, -3.38507881e-03,\n",
       "          -4.77727917e-03,  2.60077513e-03, -1.35694485e-02,  2.77678747e-01,\n",
       "           2.80873607e-02,  4.61873407e-02,  3.52277447e-01,  3.41843442e-02,\n",
       "           8.64900429e-02,  2.98615623e-02,  2.77766750e-02,  3.10514664e-01,\n",
       "           1.81404854e-03,  8.24799299e-02,  3.79633483e-03,  1.60578149e-03,\n",
       "           4.77036221e-03,  3.00178300e-02]),\n",
       "   array([ 1.18690604e+00, -4.02195435e-01, -7.51579980e-02, -2.21564478e-03,\n",
       "           2.82131207e-02,  4.36290297e-03,  3.00980972e-02,  1.53169640e-02,\n",
       "           1.82186013e-02,  3.07502013e-02,  4.00964435e-02, -3.08493391e-04,\n",
       "           3.00918382e-02, -2.02821584e-02, -8.67804055e-03,  1.41613524e-02,\n",
       "          -3.10773780e-03,  1.03798688e-02, -1.82596210e-02,  2.87824559e-02,\n",
       "           4.34747325e-04, -2.01937645e-02,  1.78601168e-02, -2.15301560e-03,\n",
       "          -1.69990128e-02, -4.38692585e-03,  1.96697562e-02, -1.38439312e-02,\n",
       "           8.31522350e-03, -1.43387675e-02,  2.22110233e-02,  2.73505767e-02,\n",
       "           2.57581212e-03, -3.47817826e-03,  7.28964911e-03,  2.68664652e-01,\n",
       "           1.56957698e-02,  3.29782082e-02,  3.30850960e-01,  1.65460564e-02,\n",
       "           6.72651036e-02,  1.62512463e-02,  1.53937830e-02,  2.85620188e-01,\n",
       "           7.19848177e-04,  6.02735893e-02,  2.06481000e-03,  7.21125430e-04,\n",
       "           2.46556103e-03,  2.55408155e-02]),\n",
       "   array([-1.52228039e+00, -2.90814745e-01, -6.15263889e-02,  7.45223758e-02,\n",
       "           3.80036354e-02,  4.78782526e-02,  1.65903758e-02,  2.10576688e-02,\n",
       "           5.49051833e-02,  4.71910145e-02,  2.65947736e-02,  8.57766997e-03,\n",
       "           3.32813924e-02, -9.22985668e-03, -1.21346688e-02, -1.81102658e-02,\n",
       "          -1.60627689e-02,  4.78380296e-02, -1.56404206e-02,  4.71286582e-02,\n",
       "           3.53662216e-03, -2.18066943e-02,  1.00288293e-02, -8.89459270e-03,\n",
       "          -3.17660710e-02, -8.07490099e-03,  3.13943143e-02, -5.26104948e-03,\n",
       "          -5.24843135e-03, -3.50659442e-03,  1.83097347e-02,  1.25629244e-02,\n",
       "          -1.76669733e-03, -8.59616152e-03, -1.67958498e-04,  2.58027643e-01,\n",
       "           2.92637810e-02,  6.49685535e-02,  3.24786338e-01,  4.61908288e-02,\n",
       "           7.78071790e-02,  4.17961524e-02,  3.88800721e-02,  2.74330001e-01,\n",
       "           9.51895292e-04,  9.25840054e-02,  3.90047446e-03,  1.63284487e-03,\n",
       "           5.59160363e-03,  2.57448253e-02]),\n",
       "   array([-0.09978948, -0.41559481,  0.12154069, -0.07604057, -0.02856268,\n",
       "          -0.0606351 , -0.02187009, -0.02365737, -0.06997273, -0.06697959,\n",
       "          -0.05306794, -0.01797276, -0.01580714, -0.00698542,  0.00804519,\n",
       "           0.00123505,  0.00204725, -0.04368003,  0.03004625, -0.02490255,\n",
       "           0.00214083,  0.01638748, -0.02844253,  0.00634753,  0.03516946,\n",
       "           0.01555532, -0.0434358 ,  0.00368003,  0.00283026, -0.00340361,\n",
       "          -0.02260307, -0.02757066,  0.00351679,  0.00592919,  0.00690677,\n",
       "           0.27220899,  0.02079189,  0.04595411,  0.33760078,  0.02746182,\n",
       "           0.07801883,  0.03009259,  0.02386405,  0.29111385,  0.00096836,\n",
       "           0.07505411,  0.0023106 ,  0.00080248,  0.00301064,  0.02481799])],\n",
       "  17496.00396102968)]"
      ]
     },
     "execution_count": 383,
     "metadata": {},
     "output_type": "execute_result"
    }
   ],
   "source": [
    "kmeans = OurKMeans(dfFinal, k=4, epsilon=0.1)\n",
    "kmeans"
   ]
  },
  {
   "cell_type": "markdown",
   "metadata": {},
   "source": [
    "### Tune Parameter K"
   ]
  },
  {
   "cell_type": "markdown",
   "metadata": {},
   "source": [
    "There exist various methods for finding the best value of k, e.g., the Elbow method and Silhouette."
   ]
  },
  {
   "cell_type": "code",
   "execution_count": null,
   "metadata": {},
   "outputs": [
    {
     "name": "stdout",
     "output_type": "stream",
     "text": [
      "0\n",
      "1\n",
      "2\n",
      "3\n",
      "4\n",
      "5\n"
     ]
    }
   ],
   "source": [
    "#Elbow method\n",
    "elbow=[]\n",
    "for k in range(2,10):\n",
    "    kmeansK = OurKMeans(dfFinal, k=k, epsilon=0.1)\n",
    "    elbow.append(kmeansK[0][1]) #sum of squared distances of each point to the cluster center"
   ]
  },
  {
   "cell_type": "code",
   "execution_count": null,
   "metadata": {},
   "outputs": [],
   "source": [
    "#Elbow method\n",
    "elbow=[]\n",
    "for k in range(2,10):\n",
    "    kmeansK = OurKMeans(dfFinal, k=k, epsilon=0.1)\n",
    "    elbow.append(kmeansK[0][1]) #sum of squared distances of each point to the cluster center"
   ]
  },
  {
   "cell_type": "code",
   "execution_count": 84,
   "metadata": {},
   "outputs": [
    {
     "data": {
      "image/png": "[encoded data removed]",
      "text/plain": [
       "<Figure size 576x396 with 1 Axes>"
      ]
     },
     "metadata": {},
     "output_type": "display_data"
    }
   ],
   "source": [
    "import matplotlib.pyplot as plt\n",
    "_ = plt.plot(range(2,10), elbow)"
   ]
  },
  {
   "cell_type": "markdown",
   "metadata": {},
   "source": [
    "The Elbow here can be found at at K=3."
   ]
  },
  {
   "cell_type": "markdown",
   "metadata": {},
   "source": [
    "### KMeans++"
   ]
  },
  {
   "cell_type": "markdown",
   "metadata": {},
   "source": [
    "Let's compare the results obtained with an already implemented version from the scikit-learn library:"
   ]
  },
  {
   "cell_type": "code",
   "execution_count": 384,
   "metadata": {},
   "outputs": [
    {
     "data": {
      "text/plain": [
       "37767.36161953524"
      ]
     },
     "execution_count": 384,
     "metadata": {},
     "output_type": "execute_result"
    }
   ],
   "source": [
    "from sklearn.cluster import KMeans\n",
    "kmeansSciKit = KMeans(n_clusters=4, random_state=42, init='k-means++', n_init=10, max_iter=300).fit(dfFinal) #subsetta le colonne boi\n",
    "kmeansSciKit.inertia_"
   ]
  },
  {
   "cell_type": "code",
   "execution_count": 386,
   "metadata": {},
   "outputs": [
    {
     "data": {
      "text/plain": [
       "17496.00396102968"
      ]
     },
     "execution_count": 386,
     "metadata": {},
     "output_type": "execute_result"
    }
   ],
   "source": [
    "kmeans[0][1] #the .inertia_ of our model build from scratch"
   ]
  },
  {
   "cell_type": "markdown",
   "metadata": {},
   "source": [
    "For sure it is faster on our machine, as %timeit would show. The sum of squared distances of samples to their closest cluster center is oddly higher, since with KMeans++ is 37767.36, while with our implementation is 17496.00. Maybe fine-tuning k the result would differ."
   ]
  },
  {
   "cell_type": "code",
   "execution_count": 391,
   "metadata": {},
   "outputs": [
    {
     "data": {
      "image/png": "[encoded data removed]",
      "text/plain": [
       "<Figure size 576x396 with 1 Axes>"
      ]
     },
     "metadata": {},
     "output_type": "display_data"
    },
    {
     "data": {
      "text/plain": [
       "<AxesSubplot:title={'center':'Silhouette Score Elbow for KMeans Clustering'}, xlabel='k', ylabel='silhouette score'>"
      ]
     },
     "execution_count": 391,
     "metadata": {},
     "output_type": "execute_result"
    }
   ],
   "source": [
    "from yellowbrick.cluster import KElbowVisualizer\n",
    "model = KMeans()\n",
    "visualizer = KElbowVisualizer(model, k=(2,20), metric='silhouette', timings=False)\n",
    "visualizer.fit(dfFinal)\n",
    "visualizer.show()"
   ]
  },
  {
   "cell_type": "markdown",
   "metadata": {},
   "source": [
    "## 2.4.1 Characterizing Clusters"
   ]
  },
  {
   "cell_type": "markdown",
   "metadata": {},
   "source": [
    "We have chosen a bunch of variables that we think are relevant for identifying the genre of a song: 'track_duration', 'audio_features_acousticness', 'audio_features_danceability', 'audio_features_energy', 'audio_features_instrumentalness', 'audio_features_liveness', 'audio_features_speechiness', 'audio_features_tempo', 'audio_features_valence'. \n",
    "\n",
    "Some other variables, as 'metadata_artist_location', had far too many outliers and were dropped in the previous steps."
   ]
  },
  {
   "cell_type": "code",
   "execution_count": 68,
   "metadata": {},
   "outputs": [
    {
     "data": {
      "text/html": [
       "<div>\n",
       "<style scoped>\n",
       "    .dataframe tbody tr th:only-of-type {\n",
       "        vertical-align: middle;\n",
       "    }\n",
       "\n",
       "    .dataframe tbody tr th {\n",
       "        vertical-align: top;\n",
       "    }\n",
       "\n",
       "    .dataframe thead th {\n",
       "        text-align: right;\n",
       "    }\n",
       "</style>\n",
       "<table border=\"1\" class=\"dataframe\">\n",
       "  <thead>\n",
       "    <tr style=\"text-align: right;\">\n",
       "      <th></th>\n",
       "      <th>track_duration</th>\n",
       "      <th>audio_features_acousticness</th>\n",
       "      <th>audio_features_danceability</th>\n",
       "      <th>audio_features_energy</th>\n",
       "      <th>audio_features_instrumentalness</th>\n",
       "      <th>audio_features_liveness</th>\n",
       "      <th>audio_features_speechiness</th>\n",
       "      <th>audio_features_tempo</th>\n",
       "      <th>audio_features_valence</th>\n",
       "    </tr>\n",
       "  </thead>\n",
       "  <tbody>\n",
       "    <tr>\n",
       "      <th>count</th>\n",
       "      <td>8493.000000</td>\n",
       "      <td>8493.000000</td>\n",
       "      <td>8493.000000</td>\n",
       "      <td>8493.000000</td>\n",
       "      <td>8493.000000</td>\n",
       "      <td>8493.000000</td>\n",
       "      <td>8493.000000</td>\n",
       "      <td>8493.000000</td>\n",
       "      <td>8493.000000</td>\n",
       "    </tr>\n",
       "    <tr>\n",
       "      <th>mean</th>\n",
       "      <td>0.076800</td>\n",
       "      <td>0.520256</td>\n",
       "      <td>0.470224</td>\n",
       "      <td>0.549522</td>\n",
       "      <td>0.637500</td>\n",
       "      <td>0.168547</td>\n",
       "      <td>0.079751</td>\n",
       "      <td>0.466035</td>\n",
       "      <td>0.438651</td>\n",
       "    </tr>\n",
       "    <tr>\n",
       "      <th>std</th>\n",
       "      <td>0.070566</td>\n",
       "      <td>0.382819</td>\n",
       "      <td>0.206633</td>\n",
       "      <td>0.274050</td>\n",
       "      <td>0.360360</td>\n",
       "      <td>0.163428</td>\n",
       "      <td>0.144258</td>\n",
       "      <td>0.146081</td>\n",
       "      <td>0.275370</td>\n",
       "    </tr>\n",
       "    <tr>\n",
       "      <th>min</th>\n",
       "      <td>0.000000</td>\n",
       "      <td>0.000000</td>\n",
       "      <td>0.000000</td>\n",
       "      <td>0.000000</td>\n",
       "      <td>0.000000</td>\n",
       "      <td>0.000000</td>\n",
       "      <td>0.000000</td>\n",
       "      <td>0.000000</td>\n",
       "      <td>0.000000</td>\n",
       "    </tr>\n",
       "    <tr>\n",
       "      <th>25%</th>\n",
       "      <td>0.045500</td>\n",
       "      <td>0.100586</td>\n",
       "      <td>0.316177</td>\n",
       "      <td>0.342588</td>\n",
       "      <td>0.321944</td>\n",
       "      <td>0.080907</td>\n",
       "      <td>0.015004</td>\n",
       "      <td>0.351407</td>\n",
       "      <td>0.196726</td>\n",
       "    </tr>\n",
       "    <tr>\n",
       "      <th>50%</th>\n",
       "      <td>0.064763</td>\n",
       "      <td>0.566678</td>\n",
       "      <td>0.465492</td>\n",
       "      <td>0.561924</td>\n",
       "      <td>0.833212</td>\n",
       "      <td>0.098446</td>\n",
       "      <td>0.027179</td>\n",
       "      <td>0.452549</td>\n",
       "      <td>0.416870</td>\n",
       "    </tr>\n",
       "    <tr>\n",
       "      <th>75%</th>\n",
       "      <td>0.087679</td>\n",
       "      <td>0.914901</td>\n",
       "      <td>0.622741</td>\n",
       "      <td>0.784331</td>\n",
       "      <td>0.916147</td>\n",
       "      <td>0.189480</td>\n",
       "      <td>0.065313</td>\n",
       "      <td>0.560916</td>\n",
       "      <td>0.660689</td>\n",
       "    </tr>\n",
       "    <tr>\n",
       "      <th>max</th>\n",
       "      <td>1.000000</td>\n",
       "      <td>1.000000</td>\n",
       "      <td>1.000000</td>\n",
       "      <td>1.000000</td>\n",
       "      <td>1.000000</td>\n",
       "      <td>1.000000</td>\n",
       "      <td>1.000000</td>\n",
       "      <td>1.000000</td>\n",
       "      <td>1.000000</td>\n",
       "    </tr>\n",
       "  </tbody>\n",
       "</table>\n",
       "</div>"
      ],
      "text/plain": [
       "       track_duration  audio_features_acousticness  \\\n",
       "count     8493.000000                  8493.000000   \n",
       "mean         0.076800                     0.520256   \n",
       "std          0.070566                     0.382819   \n",
       "min          0.000000                     0.000000   \n",
       "25%          0.045500                     0.100586   \n",
       "50%          0.064763                     0.566678   \n",
       "75%          0.087679                     0.914901   \n",
       "max          1.000000                     1.000000   \n",
       "\n",
       "       audio_features_danceability  audio_features_energy  \\\n",
       "count                  8493.000000            8493.000000   \n",
       "mean                      0.470224               0.549522   \n",
       "std                       0.206633               0.274050   \n",
       "min                       0.000000               0.000000   \n",
       "25%                       0.316177               0.342588   \n",
       "50%                       0.465492               0.561924   \n",
       "75%                       0.622741               0.784331   \n",
       "max                       1.000000               1.000000   \n",
       "\n",
       "       audio_features_instrumentalness  audio_features_liveness  \\\n",
       "count                      8493.000000              8493.000000   \n",
       "mean                          0.637500                 0.168547   \n",
       "std                           0.360360                 0.163428   \n",
       "min                           0.000000                 0.000000   \n",
       "25%                           0.321944                 0.080907   \n",
       "50%                           0.833212                 0.098446   \n",
       "75%                           0.916147                 0.189480   \n",
       "max                           1.000000                 1.000000   \n",
       "\n",
       "       audio_features_speechiness  audio_features_tempo  \\\n",
       "count                 8493.000000           8493.000000   \n",
       "mean                     0.079751              0.466035   \n",
       "std                      0.144258              0.146081   \n",
       "min                      0.000000              0.000000   \n",
       "25%                      0.015004              0.351407   \n",
       "50%                      0.027179              0.452549   \n",
       "75%                      0.065313              0.560916   \n",
       "max                      1.000000              1.000000   \n",
       "\n",
       "       audio_features_valence  \n",
       "count             8493.000000  \n",
       "mean                 0.438651  \n",
       "std                  0.275370  \n",
       "min                  0.000000  \n",
       "25%                  0.196726  \n",
       "50%                  0.416870  \n",
       "75%                  0.660689  \n",
       "max                  1.000000  "
      ]
     },
     "execution_count": 68,
     "metadata": {},
     "output_type": "execute_result"
    }
   ],
   "source": [
    "my_cols=['track_duration','audio_features_acousticness', 'audio_features_danceability', 'audio_features_energy', 'audio_features_instrumentalness', 'audio_features_liveness', 'audio_features_speechiness', 'audio_features_tempo', 'audio_features_valence']\n",
    "dfNumStand[my_cols].describe()"
   ]
  },
  {
   "cell_type": "markdown",
   "metadata": {},
   "source": [
    "### 2.4.2 Categorize Numerical Variables"
   ]
  },
  {
   "cell_type": "markdown",
   "metadata": {},
   "source": [
    "Let's categorize the variables, since they are all numerical:"
   ]
  },
  {
   "cell_type": "code",
   "execution_count": 69,
   "metadata": {},
   "outputs": [],
   "source": [
    "dfCat = dfNumStand[my_cols].copy()"
   ]
  },
  {
   "cell_type": "code",
   "execution_count": 70,
   "metadata": {},
   "outputs": [],
   "source": [
    "for col in list(dfCat.columns):\n",
    "    dfCat[col] = pd.cut(df[col], 4, labels=[0,1,2,3])"
   ]
  },
  {
   "cell_type": "code",
   "execution_count": 71,
   "metadata": {},
   "outputs": [
    {
     "data": {
      "text/html": [
       "<div>\n",
       "<style scoped>\n",
       "    .dataframe tbody tr th:only-of-type {\n",
       "        vertical-align: middle;\n",
       "    }\n",
       "\n",
       "    .dataframe tbody tr th {\n",
       "        vertical-align: top;\n",
       "    }\n",
       "\n",
       "    .dataframe thead th {\n",
       "        text-align: right;\n",
       "    }\n",
       "</style>\n",
       "<table border=\"1\" class=\"dataframe\">\n",
       "  <thead>\n",
       "    <tr style=\"text-align: right;\">\n",
       "      <th></th>\n",
       "      <th>track_duration</th>\n",
       "      <th>audio_features_acousticness</th>\n",
       "      <th>audio_features_danceability</th>\n",
       "      <th>audio_features_energy</th>\n",
       "      <th>audio_features_instrumentalness</th>\n",
       "      <th>audio_features_liveness</th>\n",
       "      <th>audio_features_speechiness</th>\n",
       "      <th>audio_features_tempo</th>\n",
       "      <th>audio_features_valence</th>\n",
       "    </tr>\n",
       "  </thead>\n",
       "  <tbody>\n",
       "    <tr>\n",
       "      <th>0</th>\n",
       "      <td>0</td>\n",
       "      <td>1</td>\n",
       "      <td>2</td>\n",
       "      <td>2</td>\n",
       "      <td>0</td>\n",
       "      <td>0</td>\n",
       "      <td>0</td>\n",
       "      <td>2</td>\n",
       "      <td>2</td>\n",
       "    </tr>\n",
       "    <tr>\n",
       "      <th>1</th>\n",
       "      <td>0</td>\n",
       "      <td>1</td>\n",
       "      <td>2</td>\n",
       "      <td>3</td>\n",
       "      <td>0</td>\n",
       "      <td>0</td>\n",
       "      <td>1</td>\n",
       "      <td>1</td>\n",
       "      <td>1</td>\n",
       "    </tr>\n",
       "    <tr>\n",
       "      <th>2</th>\n",
       "      <td>0</td>\n",
       "      <td>0</td>\n",
       "      <td>3</td>\n",
       "      <td>2</td>\n",
       "      <td>0</td>\n",
       "      <td>1</td>\n",
       "      <td>0</td>\n",
       "      <td>1</td>\n",
       "      <td>2</td>\n",
       "    </tr>\n",
       "    <tr>\n",
       "      <th>3</th>\n",
       "      <td>0</td>\n",
       "      <td>1</td>\n",
       "      <td>2</td>\n",
       "      <td>2</td>\n",
       "      <td>0</td>\n",
       "      <td>0</td>\n",
       "      <td>2</td>\n",
       "      <td>1</td>\n",
       "      <td>3</td>\n",
       "    </tr>\n",
       "    <tr>\n",
       "      <th>4</th>\n",
       "      <td>0</td>\n",
       "      <td>0</td>\n",
       "      <td>0</td>\n",
       "      <td>2</td>\n",
       "      <td>3</td>\n",
       "      <td>0</td>\n",
       "      <td>0</td>\n",
       "      <td>3</td>\n",
       "      <td>0</td>\n",
       "    </tr>\n",
       "    <tr>\n",
       "      <th>...</th>\n",
       "      <td>...</td>\n",
       "      <td>...</td>\n",
       "      <td>...</td>\n",
       "      <td>...</td>\n",
       "      <td>...</td>\n",
       "      <td>...</td>\n",
       "      <td>...</td>\n",
       "      <td>...</td>\n",
       "      <td>...</td>\n",
       "    </tr>\n",
       "    <tr>\n",
       "      <th>8488</th>\n",
       "      <td>0</td>\n",
       "      <td>0</td>\n",
       "      <td>2</td>\n",
       "      <td>2</td>\n",
       "      <td>2</td>\n",
       "      <td>1</td>\n",
       "      <td>0</td>\n",
       "      <td>1</td>\n",
       "      <td>0</td>\n",
       "    </tr>\n",
       "    <tr>\n",
       "      <th>8489</th>\n",
       "      <td>0</td>\n",
       "      <td>0</td>\n",
       "      <td>2</td>\n",
       "      <td>2</td>\n",
       "      <td>1</td>\n",
       "      <td>0</td>\n",
       "      <td>0</td>\n",
       "      <td>1</td>\n",
       "      <td>1</td>\n",
       "    </tr>\n",
       "    <tr>\n",
       "      <th>8490</th>\n",
       "      <td>0</td>\n",
       "      <td>0</td>\n",
       "      <td>2</td>\n",
       "      <td>3</td>\n",
       "      <td>2</td>\n",
       "      <td>2</td>\n",
       "      <td>0</td>\n",
       "      <td>2</td>\n",
       "      <td>1</td>\n",
       "    </tr>\n",
       "    <tr>\n",
       "      <th>8491</th>\n",
       "      <td>0</td>\n",
       "      <td>0</td>\n",
       "      <td>2</td>\n",
       "      <td>3</td>\n",
       "      <td>1</td>\n",
       "      <td>0</td>\n",
       "      <td>0</td>\n",
       "      <td>1</td>\n",
       "      <td>1</td>\n",
       "    </tr>\n",
       "    <tr>\n",
       "      <th>8492</th>\n",
       "      <td>0</td>\n",
       "      <td>0</td>\n",
       "      <td>2</td>\n",
       "      <td>2</td>\n",
       "      <td>0</td>\n",
       "      <td>0</td>\n",
       "      <td>0</td>\n",
       "      <td>1</td>\n",
       "      <td>0</td>\n",
       "    </tr>\n",
       "  </tbody>\n",
       "</table>\n",
       "<p>8493 rows × 9 columns</p>\n",
       "</div>"
      ],
      "text/plain": [
       "     track_duration audio_features_acousticness audio_features_danceability  \\\n",
       "0                 0                           1                           2   \n",
       "1                 0                           1                           2   \n",
       "2                 0                           0                           3   \n",
       "3                 0                           1                           2   \n",
       "4                 0                           0                           0   \n",
       "...             ...                         ...                         ...   \n",
       "8488              0                           0                           2   \n",
       "8489              0                           0                           2   \n",
       "8490              0                           0                           2   \n",
       "8491              0                           0                           2   \n",
       "8492              0                           0                           2   \n",
       "\n",
       "     audio_features_energy audio_features_instrumentalness  \\\n",
       "0                        2                               0   \n",
       "1                        3                               0   \n",
       "2                        2                               0   \n",
       "3                        2                               0   \n",
       "4                        2                               3   \n",
       "...                    ...                             ...   \n",
       "8488                     2                               2   \n",
       "8489                     2                               1   \n",
       "8490                     3                               2   \n",
       "8491                     3                               1   \n",
       "8492                     2                               0   \n",
       "\n",
       "     audio_features_liveness audio_features_speechiness audio_features_tempo  \\\n",
       "0                          0                          0                    2   \n",
       "1                          0                          1                    1   \n",
       "2                          1                          0                    1   \n",
       "3                          0                          2                    1   \n",
       "4                          0                          0                    3   \n",
       "...                      ...                        ...                  ...   \n",
       "8488                       1                          0                    1   \n",
       "8489                       0                          0                    1   \n",
       "8490                       2                          0                    2   \n",
       "8491                       0                          0                    1   \n",
       "8492                       0                          0                    1   \n",
       "\n",
       "     audio_features_valence  \n",
       "0                         2  \n",
       "1                         1  \n",
       "2                         2  \n",
       "3                         3  \n",
       "4                         0  \n",
       "...                     ...  \n",
       "8488                      0  \n",
       "8489                      1  \n",
       "8490                      1  \n",
       "8491                      1  \n",
       "8492                      0  \n",
       "\n",
       "[8493 rows x 9 columns]"
      ]
     },
     "execution_count": 71,
     "metadata": {},
     "output_type": "execute_result"
    }
   ],
   "source": [
    "dfCat"
   ]
  },
  {
   "cell_type": "markdown",
   "metadata": {},
   "source": [
    "### 2.4.3 - 2.4.4 Pivot tables"
   ]
  },
  {
   "cell_type": "code",
   "execution_count": 104,
   "metadata": {},
   "outputs": [],
   "source": [
    "from sklearn.cluster import KMeans\n",
    "kmeansSciKit = KMeans(n_clusters=4, random_state=42, init='k-means++', n_init=10, max_iter=300).fit(np.array(dfCat))"
   ]
  },
  {
   "cell_type": "code",
   "execution_count": 105,
   "metadata": {},
   "outputs": [
    {
     "data": {
      "text/plain": [
       "array([0, 0, 0, ..., 1, 0, 0])"
      ]
     },
     "execution_count": 105,
     "metadata": {},
     "output_type": "execute_result"
    }
   ],
   "source": [
    "kmeansSciKit.labels_"
   ]
  },
  {
   "cell_type": "code",
   "execution_count": 106,
   "metadata": {},
   "outputs": [],
   "source": [
    "dfCat[\"clust\"] = kmeansSciKit.labels_"
   ]
  },
  {
   "cell_type": "code",
   "execution_count": 112,
   "metadata": {},
   "outputs": [],
   "source": [
    "from tabulate import tabulate"
   ]
  },
  {
   "cell_type": "code",
   "execution_count": 177,
   "metadata": {
    "scrolled": false
   },
   "outputs": [
    {
     "name": "stdout",
     "output_type": "stream",
     "text": [
      "track_duration\n",
      "---------  ---------  ---------  ---------\n",
      "Cluster 1  Cluster 2  Cluster 3  Cluster 4\n",
      "0.16       0.02       0.0        0.0\n",
      "0.34       0.22       0.17       0.17\n",
      "0.37       0.64       0.6        0.48\n",
      "0.14       0.11       0.23       0.35\n",
      "---------  ---------  ---------  ---------\n",
      "audio_features_acousticness\n",
      "---------  ---------  ---------  ---------\n",
      "Cluster 1  Cluster 2  Cluster 3  Cluster 4\n",
      "0.32       0.29       0.06       0.0\n",
      "0.68       0.64       0.16       0.0\n",
      "0.0        0.05       0.54       0.74\n",
      "0.0        0.01       0.23       0.26\n",
      "---------  ---------  ---------  ---------\n",
      "audio_features_danceability\n",
      "---------  ---------  ---------  ---------\n",
      "Cluster 1  Cluster 2  Cluster 3  Cluster 4\n",
      "0.11       0.15       0.17       0.19\n",
      "0.28       0.26       0.37       0.56\n",
      "0.53       0.44       0.29       0.15\n",
      "0.08       0.15       0.17       0.1\n",
      "---------  ---------  ---------  ---------\n",
      "audio_features_energy\n",
      "---------  ---------  ---------  ---------\n",
      "Cluster 1  Cluster 2  Cluster 3  Cluster 4\n",
      "0.01       0.12       0.17       0.26\n",
      "0.07       0.25       0.4        0.5\n",
      "0.61       0.44       0.33       0.21\n",
      "0.31       0.19       0.09       0.03\n",
      "---------  ---------  ---------  ---------\n",
      "audio_features_instrumentalness\n",
      "---------  ---------  ---------  ---------\n",
      "Cluster 1  Cluster 2  Cluster 3  Cluster 4\n",
      "0.53       0.52       0.0        0.0\n",
      "0.0        0.0        0.54       0.46\n",
      "0.0        0.0        0.46       0.54\n",
      "0.47       0.48       0.0        0.0\n",
      "---------  ---------  ---------  ---------\n",
      "audio_features_liveness\n",
      "---------  ---------  ---------  ---------\n",
      "Cluster 1  Cluster 2  Cluster 3  Cluster 4\n",
      "0.14       0.22       0.19       0.16\n",
      "0.33       0.34       0.31       0.3\n",
      "0.38       0.3        0.37       0.36\n",
      "0.14       0.13       0.13       0.18\n",
      "---------  ---------  ---------  ---------\n",
      "audio_features_speechiness\n",
      "---------  ---------  ---------  ---------\n",
      "Cluster 1  Cluster 2  Cluster 3  Cluster 4\n",
      "0.15       0.26       0.17       0.07\n",
      "0.34       0.3        0.16       0.07\n",
      "0.39       0.21       0.22       0.15\n",
      "0.12       0.23       0.45       0.71\n",
      "---------  ---------  ---------  ---------\n",
      "audio_features_tempo\n",
      "---------  ---------  ---------  ---------\n",
      "Cluster 1  Cluster 2  Cluster 3  Cluster 4\n",
      "0.07       0.15       0.18       0.11\n",
      "0.15       0.33       0.37       0.35\n",
      "0.51       0.38       0.34       0.37\n",
      "0.26       0.14       0.11       0.17\n",
      "---------  ---------  ---------  ---------\n",
      "audio_features_valence\n",
      "---------  ---------  ---------  ---------\n",
      "Cluster 1  Cluster 2  Cluster 3  Cluster 4\n",
      "0.09       0.16       0.21       0.2\n",
      "0.29       0.34       0.34       0.39\n",
      "0.51       0.35       0.3        0.26\n",
      "0.12       0.15       0.16       0.14\n",
      "---------  ---------  ---------  ---------\n"
     ]
    }
   ],
   "source": [
    "for ww in list(dfCat.columns)[:-1]:\n",
    "    table=[]\n",
    "    for x in range(4): #the number of levels of each category\n",
    "        dfView = dfCat[[ww, \"clust\"]][dfCat[ww]==x]\n",
    "        l=dfView.groupby(\"clust\").agg('count')[ww]\n",
    "        indx =list(dfView.groupby(\"clust\").agg('count')[ww].index)\n",
    "        ll=[0,0,0,0]\n",
    "        for y in indx:\n",
    "            ll[y]=l[y]\n",
    "        table.append([round(j,2) for j in list(np.array(ll)/sum(list(ll)))])   \n",
    "    aa = np.transpose(np.array(table)).tolist()\n",
    "    aa.insert(0, [\"Cluster 1\",\"Cluster 2\",\"Cluster 3\",\"Cluster 4\"])\n",
    "    print(ww)\n",
    "    print(tabulate(aa))"
   ]
  },
  {
   "cell_type": "markdown",
   "metadata": {},
   "source": [
    "### 2.4.5 Interpret Results"
   ]
  },
  {
   "cell_type": "markdown",
   "metadata": {},
   "source": [
    "The indexes of each of the table above represents each one of the four category levels of the numberical variables.\n",
    "\n",
    "'track_duration': poorly balanced, some cluster (3, 4) do not contain the first bin of the variable containing the smaller values, whereas other end up containing more than 60%\n",
    "\n",
    "'audio_features_acousticness': poorly balanced, 3 clusters out of 4 do not contain some levels of the categorical variable, e.g. the fourth and first cluster contains 2 bins out of 4.\n",
    "\n",
    "'audio_features_danceability': more balanced than the previous ones, still there are some cluster containing 8% of on level and more than 50% of another like the first one.\n",
    "\n",
    "'audio_features_energy': more balanced again because all the cluster contain some portions of each variable, still in very different proportions (cluster 1 has 1% of a level and 62% of another one).\n",
    "\n",
    "'audio_features_instrumentalness': poorly balanced, each cluster contains just two levels out of four.\n",
    "\n",
    "'audio_features_liveness': Very balanced, the best one so far probably, since each cluster contains at least 10% of each level.\n",
    "\n",
    "\n",
    "\n",
    "'audio_features_speechiness': Unbalanced, e.g., the 4th cluster contain 70% of one level of each level, and less than 10% for two others.\n",
    "\n",
    "'audio_features_tempo': Slightly unbalanced, at least cluster 1 that contains more than 50% for the third level and less than 10% for the first.\n",
    "\n",
    "'audio_features_valence': Slightly unbalanced, at least cluster 1 that contains more than 50% for the third level and less than 10% for the first.\n",
    "\n"
   ]
  },
  {
   "cell_type": "markdown",
   "metadata": {},
   "source": [
    "### 2.4.6 Genre Comparison"
   ]
  },
  {
   "cell_type": "markdown",
   "metadata": {},
   "source": [
    "To understand which is the most representative genre for each clusters we are going to repeat the previous step using teh genre variable. Looking back at the three initial datasets we can see that df3 has the following columns:"
   ]
  },
  {
   "cell_type": "code",
   "execution_count": 186,
   "metadata": {},
   "outputs": [
    {
     "data": {
      "text/html": [
       "<div>\n",
       "<style scoped>\n",
       "    .dataframe tbody tr th:only-of-type {\n",
       "        vertical-align: middle;\n",
       "    }\n",
       "\n",
       "    .dataframe tbody tr th {\n",
       "        vertical-align: top;\n",
       "    }\n",
       "\n",
       "    .dataframe thead th {\n",
       "        text-align: right;\n",
       "    }\n",
       "</style>\n",
       "<table border=\"1\" class=\"dataframe\">\n",
       "  <thead>\n",
       "    <tr style=\"text-align: right;\">\n",
       "      <th></th>\n",
       "      <th>track_genre_top</th>\n",
       "      <th>track_genres</th>\n",
       "      <th>track_genres_all</th>\n",
       "    </tr>\n",
       "  </thead>\n",
       "  <tbody>\n",
       "    <tr>\n",
       "      <th>0</th>\n",
       "      <td>Hip-Hop</td>\n",
       "      <td>[21]</td>\n",
       "      <td>[21]</td>\n",
       "    </tr>\n",
       "    <tr>\n",
       "      <th>1</th>\n",
       "      <td>Hip-Hop</td>\n",
       "      <td>[21]</td>\n",
       "      <td>[21]</td>\n",
       "    </tr>\n",
       "    <tr>\n",
       "      <th>2</th>\n",
       "      <td>Hip-Hop</td>\n",
       "      <td>[21]</td>\n",
       "      <td>[21]</td>\n",
       "    </tr>\n",
       "    <tr>\n",
       "      <th>3</th>\n",
       "      <td>Pop</td>\n",
       "      <td>[10]</td>\n",
       "      <td>[10]</td>\n",
       "    </tr>\n",
       "    <tr>\n",
       "      <th>4</th>\n",
       "      <td>NaN</td>\n",
       "      <td>[76, 103]</td>\n",
       "      <td>[17, 10, 76, 103]</td>\n",
       "    </tr>\n",
       "    <tr>\n",
       "      <th>...</th>\n",
       "      <td>...</td>\n",
       "      <td>...</td>\n",
       "      <td>...</td>\n",
       "    </tr>\n",
       "    <tr>\n",
       "      <th>106569</th>\n",
       "      <td>Rock</td>\n",
       "      <td>[25]</td>\n",
       "      <td>[25, 12]</td>\n",
       "    </tr>\n",
       "    <tr>\n",
       "      <th>106570</th>\n",
       "      <td>Rock</td>\n",
       "      <td>[25]</td>\n",
       "      <td>[25, 12]</td>\n",
       "    </tr>\n",
       "    <tr>\n",
       "      <th>106571</th>\n",
       "      <td>Rock</td>\n",
       "      <td>[25]</td>\n",
       "      <td>[25, 12]</td>\n",
       "    </tr>\n",
       "    <tr>\n",
       "      <th>106572</th>\n",
       "      <td>Rock</td>\n",
       "      <td>[25]</td>\n",
       "      <td>[25, 12]</td>\n",
       "    </tr>\n",
       "    <tr>\n",
       "      <th>106573</th>\n",
       "      <td>NaN</td>\n",
       "      <td>[10, 12, 169]</td>\n",
       "      <td>[169, 10, 12, 9]</td>\n",
       "    </tr>\n",
       "  </tbody>\n",
       "</table>\n",
       "<p>106574 rows × 3 columns</p>\n",
       "</div>"
      ],
      "text/plain": [
       "       track_genre_top   track_genres   track_genres_all\n",
       "0              Hip-Hop           [21]               [21]\n",
       "1              Hip-Hop           [21]               [21]\n",
       "2              Hip-Hop           [21]               [21]\n",
       "3                  Pop           [10]               [10]\n",
       "4                  NaN      [76, 103]  [17, 10, 76, 103]\n",
       "...                ...            ...                ...\n",
       "106569            Rock           [25]           [25, 12]\n",
       "106570            Rock           [25]           [25, 12]\n",
       "106571            Rock           [25]           [25, 12]\n",
       "106572            Rock           [25]           [25, 12]\n",
       "106573             NaN  [10, 12, 169]   [169, 10, 12, 9]\n",
       "\n",
       "[106574 rows x 3 columns]"
      ]
     },
     "execution_count": 186,
     "metadata": {},
     "output_type": "execute_result"
    }
   ],
   "source": [
    "df3[[x for x in list(df3.columns) if \"genre\" in x]]"
   ]
  },
  {
   "cell_type": "markdown",
   "metadata": {},
   "source": [
    "We are going to select column 'track_genre_top', that must be reinserted in the 'df' since it was dropped due to having too many NaN values. "
   ]
  },
  {
   "cell_type": "code",
   "execution_count": 203,
   "metadata": {},
   "outputs": [],
   "source": [
    "df=df1.merge(df2.merge(df3))[\"track_genre_top\"]"
   ]
  },
  {
   "cell_type": "code",
   "execution_count": 202,
   "metadata": {},
   "outputs": [
    {
     "data": {
      "text/plain": [
       "0        Hip-Hop\n",
       "1        Hip-Hop\n",
       "2        Hip-Hop\n",
       "3            Pop\n",
       "4        Hip-Hop\n",
       "          ...   \n",
       "13097    Hip-Hop\n",
       "13098    Hip-Hop\n",
       "13099    Hip-Hop\n",
       "13100    Hip-Hop\n",
       "13101    Hip-Hop\n",
       "Name: track_genre_top, Length: 9355, dtype: object"
      ]
     },
     "execution_count": 202,
     "metadata": {},
     "output_type": "execute_result"
    }
   ],
   "source": [
    "df"
   ]
  },
  {
   "cell_type": "markdown",
   "metadata": {},
   "source": [
    "Since we have dropped 'track_genre_top' before we have to rebuild our dataset:"
   ]
  },
  {
   "cell_type": "code",
   "execution_count": 246,
   "metadata": {},
   "outputs": [
    {
     "data": {
      "text/plain": [
       "820"
      ]
     },
     "execution_count": 246,
     "metadata": {},
     "output_type": "execute_result"
    }
   ],
   "source": [
    "#Merge DataFrames\n",
    "df=df1.merge(df2.merge(df3))\n",
    "len(df.columns)"
   ]
  },
  {
   "cell_type": "code",
   "execution_count": 247,
   "metadata": {},
   "outputs": [
    {
     "data": {
      "text/html": [
       "<div>\n",
       "<style scoped>\n",
       "    .dataframe tbody tr th:only-of-type {\n",
       "        vertical-align: middle;\n",
       "    }\n",
       "\n",
       "    .dataframe tbody tr th {\n",
       "        vertical-align: top;\n",
       "    }\n",
       "\n",
       "    .dataframe thead th {\n",
       "        text-align: right;\n",
       "    }\n",
       "</style>\n",
       "<table border=\"1\" class=\"dataframe\">\n",
       "  <thead>\n",
       "    <tr style=\"text-align: right;\">\n",
       "      <th></th>\n",
       "      <th>index</th>\n",
       "      <th>track_genre_top</th>\n",
       "    </tr>\n",
       "  </thead>\n",
       "  <tbody>\n",
       "    <tr>\n",
       "      <th>0</th>\n",
       "      <td>Rock</td>\n",
       "      <td>3892</td>\n",
       "    </tr>\n",
       "    <tr>\n",
       "      <th>1</th>\n",
       "      <td>Electronic</td>\n",
       "      <td>2170</td>\n",
       "    </tr>\n",
       "    <tr>\n",
       "      <th>2</th>\n",
       "      <td>Hip-Hop</td>\n",
       "      <td>910</td>\n",
       "    </tr>\n",
       "    <tr>\n",
       "      <th>3</th>\n",
       "      <td>Folk</td>\n",
       "      <td>874</td>\n",
       "    </tr>\n",
       "    <tr>\n",
       "      <th>4</th>\n",
       "      <td>Old-Time / Historic</td>\n",
       "      <td>357</td>\n",
       "    </tr>\n",
       "    <tr>\n",
       "      <th>5</th>\n",
       "      <td>Pop</td>\n",
       "      <td>346</td>\n",
       "    </tr>\n",
       "    <tr>\n",
       "      <th>6</th>\n",
       "      <td>Classical</td>\n",
       "      <td>265</td>\n",
       "    </tr>\n",
       "    <tr>\n",
       "      <th>7</th>\n",
       "      <td>Jazz</td>\n",
       "      <td>241</td>\n",
       "    </tr>\n",
       "    <tr>\n",
       "      <th>8</th>\n",
       "      <td>International</td>\n",
       "      <td>133</td>\n",
       "    </tr>\n",
       "    <tr>\n",
       "      <th>9</th>\n",
       "      <td>Instrumental</td>\n",
       "      <td>84</td>\n",
       "    </tr>\n",
       "    <tr>\n",
       "      <th>10</th>\n",
       "      <td>Blues</td>\n",
       "      <td>66</td>\n",
       "    </tr>\n",
       "    <tr>\n",
       "      <th>11</th>\n",
       "      <td>Experimental</td>\n",
       "      <td>17</td>\n",
       "    </tr>\n",
       "  </tbody>\n",
       "</table>\n",
       "</div>"
      ],
      "text/plain": [
       "                  index  track_genre_top\n",
       "0                  Rock             3892\n",
       "1            Electronic             2170\n",
       "2               Hip-Hop              910\n",
       "3                  Folk              874\n",
       "4   Old-Time / Historic              357\n",
       "5                   Pop              346\n",
       "6             Classical              265\n",
       "7                  Jazz              241\n",
       "8         International              133\n",
       "9          Instrumental               84\n",
       "10                Blues               66\n",
       "11         Experimental               17"
      ]
     },
     "execution_count": 247,
     "metadata": {},
     "output_type": "execute_result"
    }
   ],
   "source": [
    "#Let's fill NAs with the value with the highest frequency, that is the first of this column:\n",
    "temp=df['track_genre_top'].value_counts().reset_index()\n",
    "temp"
   ]
  },
  {
   "cell_type": "code",
   "execution_count": 248,
   "metadata": {},
   "outputs": [
    {
     "data": {
      "text/plain": [
       "0        Hip-Hop\n",
       "1        Hip-Hop\n",
       "2        Hip-Hop\n",
       "3            Pop\n",
       "4        Hip-Hop\n",
       "          ...   \n",
       "13124       Rock\n",
       "13125       Rock\n",
       "13126       Rock\n",
       "13127       Rock\n",
       "13128       Rock\n",
       "Name: track_genre_top, Length: 13129, dtype: object"
      ]
     },
     "execution_count": 248,
     "metadata": {},
     "output_type": "execute_result"
    }
   ],
   "source": [
    "highestVal = temp[\"index\"][0]\n",
    "df['track_genre_top'].fillna(highestVal, inplace=True)\n",
    "df['track_genre_top']"
   ]
  },
  {
   "cell_type": "code",
   "execution_count": 249,
   "metadata": {},
   "outputs": [
    {
     "name": "stdout",
     "output_type": "stream",
     "text": [
      "29 columns have been dropped\n",
      "(13129, 771)\n"
     ]
    }
   ],
   "source": [
    "threshold=0.25 #amount of NaNs that makes us drop that specific column\n",
    "df.drop(columns=[x for x in df.columns if df[x].isnull().sum()/len(df.track_id) >=threshold], inplace=True)\n",
    "print(\"{} columns have been dropped\".format(820-len(list(df.columns))))\n",
    "\n",
    "#Numerical Variables Handling\n",
    "print(df.select_dtypes(include=\"number\").shape)\n",
    "for col in df.select_dtypes(include=\"number\").columns:\n",
    "    if  df[col].isnull().sum()!=0:\n",
    "        df[col].fillna(df[col].describe()[\"50%\"]) #substitute the median\n",
    "\n",
    "#Categorical Variables Handling\n",
    "df.dropna(inplace=True)\n",
    "df.reset_index(inplace=True)\n",
    "df.drop(columns=[\"index\"], inplace=True)"
   ]
  },
  {
   "cell_type": "code",
   "execution_count": 250,
   "metadata": {},
   "outputs": [],
   "source": [
    "dfNum=df.select_dtypes(include=\"number\")\n",
    "dfNumStand = (dfNum - dfNum.min())/(dfNum.max()- dfNum.min())\n",
    "dfNumStand\n",
    "\n",
    "dfPca = dfNumStand.drop(columns=['track_id', 'album_comments', 'album_favorites', 'album_id', 'album_listens', 'album_tracks', 'artist_comments', 'artist_favorites', 'artist_id', 'track_comments', 'track_duration', 'track_favorites', 'track_interest', 'track_listens', 'track_number'])\n",
    "dfPca\n",
    "\n",
    "#there is a column with all NaN, probably a result of MinMax, maybe it had all equal values, let's drop it\n",
    "df.drop([x for x in range(len(list(dfPca.isnull().sum()))) if list(dfPca.isnull().sum())[x]==8493])\n",
    "\n",
    "\n",
    "df['chroma_stft_max_10'] #all 1.0 as values\n",
    "\n",
    "dfPca.drop(columns=[list(dfPca.columns)[426]], inplace=True)"
   ]
  },
  {
   "cell_type": "code",
   "execution_count": 257,
   "metadata": {},
   "outputs": [],
   "source": [
    "dfCat[\"genre\"] = df['track_genre_top']"
   ]
  },
  {
   "cell_type": "code",
   "execution_count": 262,
   "metadata": {},
   "outputs": [
    {
     "data": {
      "text/html": [
       "<div>\n",
       "<style scoped>\n",
       "    .dataframe tbody tr th:only-of-type {\n",
       "        vertical-align: middle;\n",
       "    }\n",
       "\n",
       "    .dataframe tbody tr th {\n",
       "        vertical-align: top;\n",
       "    }\n",
       "\n",
       "    .dataframe thead th {\n",
       "        text-align: right;\n",
       "    }\n",
       "</style>\n",
       "<table border=\"1\" class=\"dataframe\">\n",
       "  <thead>\n",
       "    <tr style=\"text-align: right;\">\n",
       "      <th></th>\n",
       "      <th>genre</th>\n",
       "      <th>clust</th>\n",
       "    </tr>\n",
       "  </thead>\n",
       "  <tbody>\n",
       "    <tr>\n",
       "      <th>0</th>\n",
       "      <td>Hip-Hop</td>\n",
       "      <td>0</td>\n",
       "    </tr>\n",
       "    <tr>\n",
       "      <th>1</th>\n",
       "      <td>Hip-Hop</td>\n",
       "      <td>0</td>\n",
       "    </tr>\n",
       "    <tr>\n",
       "      <th>2</th>\n",
       "      <td>Hip-Hop</td>\n",
       "      <td>0</td>\n",
       "    </tr>\n",
       "    <tr>\n",
       "      <th>3</th>\n",
       "      <td>Hip-Hop</td>\n",
       "      <td>0</td>\n",
       "    </tr>\n",
       "    <tr>\n",
       "      <th>4</th>\n",
       "      <td>Folk</td>\n",
       "      <td>1</td>\n",
       "    </tr>\n",
       "    <tr>\n",
       "      <th>...</th>\n",
       "      <td>...</td>\n",
       "      <td>...</td>\n",
       "    </tr>\n",
       "    <tr>\n",
       "      <th>8488</th>\n",
       "      <td>Rock</td>\n",
       "      <td>1</td>\n",
       "    </tr>\n",
       "    <tr>\n",
       "      <th>8489</th>\n",
       "      <td>Rock</td>\n",
       "      <td>0</td>\n",
       "    </tr>\n",
       "    <tr>\n",
       "      <th>8490</th>\n",
       "      <td>Rock</td>\n",
       "      <td>1</td>\n",
       "    </tr>\n",
       "    <tr>\n",
       "      <th>8491</th>\n",
       "      <td>Rock</td>\n",
       "      <td>0</td>\n",
       "    </tr>\n",
       "    <tr>\n",
       "      <th>8492</th>\n",
       "      <td>Rock</td>\n",
       "      <td>0</td>\n",
       "    </tr>\n",
       "  </tbody>\n",
       "</table>\n",
       "<p>8493 rows × 2 columns</p>\n",
       "</div>"
      ],
      "text/plain": [
       "        genre  clust\n",
       "0     Hip-Hop      0\n",
       "1     Hip-Hop      0\n",
       "2     Hip-Hop      0\n",
       "3     Hip-Hop      0\n",
       "4        Folk      1\n",
       "...       ...    ...\n",
       "8488     Rock      1\n",
       "8489     Rock      0\n",
       "8490     Rock      1\n",
       "8491     Rock      0\n",
       "8492     Rock      0\n",
       "\n",
       "[8493 rows x 2 columns]"
      ]
     },
     "execution_count": 262,
     "metadata": {},
     "output_type": "execute_result"
    }
   ],
   "source": [
    "dfGenre = dfCat[[\"genre\",\"clust\"]].copy()\n",
    "dfGenre"
   ]
  },
  {
   "cell_type": "code",
   "execution_count": 343,
   "metadata": {},
   "outputs": [
    {
     "name": "stdout",
     "output_type": "stream",
     "text": [
      "clust\n",
      "0    1322\n",
      "1    2836\n",
      "2    3162\n",
      "3    1173\n",
      "Name: genre, dtype: int64\n"
     ]
    },
    {
     "data": {
      "text/plain": [
       "[1322, 2836, 3162, 1173]"
      ]
     },
     "execution_count": 343,
     "metadata": {},
     "output_type": "execute_result"
    }
   ],
   "source": [
    "#Number of components per cluster\n",
    "print(dfGenre.groupby(\"clust\").agg(\"count\")[\"genre\"])\n",
    "freqClusters = list(dfGenre.groupby(\"clust\").agg(\"count\")[\"genre\"])\n",
    "freqClusters"
   ]
  },
  {
   "cell_type": "code",
   "execution_count": 278,
   "metadata": {},
   "outputs": [
    {
     "data": {
      "text/plain": [
       "{'Blues',\n",
       " 'Classical',\n",
       " 'Electronic',\n",
       " 'Folk',\n",
       " 'Hip-Hop',\n",
       " 'Instrumental',\n",
       " 'International',\n",
       " 'Jazz',\n",
       " 'Old-Time / Historic',\n",
       " 'Pop',\n",
       " 'Rock'}"
      ]
     },
     "execution_count": 278,
     "metadata": {},
     "output_type": "execute_result"
    }
   ],
   "source": [
    "set(list(dfGenre.genre))"
   ]
  },
  {
   "cell_type": "code",
   "execution_count": 353,
   "metadata": {},
   "outputs": [
    {
     "name": "stdout",
     "output_type": "stream",
     "text": [
      "---------  ---------  ---------  ---------\n",
      "Cluster 1  Cluster 2  Cluster 3  Cluster 4\n",
      "0.38       0.53       4.08       1.28\n",
      "15.73      5.08       1.93       13.04\n",
      "0          0.21       1.68       2.81\n",
      "5.07       1.87       1.49       3.67\n",
      "0          0          0.22       0.26\n",
      "9.68       27.33      9.61       5.03\n",
      "66.41      63.47      63.09      55.24\n",
      "0          0          3.42       3.24\n",
      "1.82       1.02       12.43      12.62\n",
      "0.08       0.07       0.89       2.05\n",
      "0.83       0.42       1.17       0.77\n",
      "---------  ---------  ---------  ---------\n"
     ]
    }
   ],
   "source": [
    "table=[]\n",
    "for x in set(list(dfGenre.genre)): #the number of levels of each category\n",
    "    dfView = dfGenre[dfGenre[\"genre\"]==x]\n",
    "    l=dfView.groupby(\"clust\").agg('count')[\"genre\"]\n",
    "    indx =list(dfView.groupby(\"clust\").agg('count')[\"genre\"].index)\n",
    "    ll=list(np.repeat(0,4))\n",
    "    for y in indx:\n",
    "        ll[y]=round(l[y]/freqClusters[y]*100,2)\n",
    "    table.append(ll)\n",
    "\n",
    "table.insert(0, [\"Cluster 1\",\"Cluster 2\",\"Cluster 3\",\"Cluster 4\"])\n",
    "print(tabulate(table))"
   ]
  },
  {
   "cell_type": "markdown",
   "metadata": {},
   "source": [
    "### 2.4.7 Analyze first two datasets"
   ]
  },
  {
   "cell_type": "code",
   "execution_count": 392,
   "metadata": {},
   "outputs": [],
   "source": [
    "df = df2.merge(df3)"
   ]
  },
  {
   "cell_type": "code",
   "execution_count": 493,
   "metadata": {},
   "outputs": [
    {
     "data": {
      "text/html": [
       "<div>\n",
       "<style scoped>\n",
       "    .dataframe tbody tr th:only-of-type {\n",
       "        vertical-align: middle;\n",
       "    }\n",
       "\n",
       "    .dataframe tbody tr th {\n",
       "        vertical-align: top;\n",
       "    }\n",
       "\n",
       "    .dataframe thead th {\n",
       "        text-align: right;\n",
       "    }\n",
       "</style>\n",
       "<table border=\"1\" class=\"dataframe\">\n",
       "  <thead>\n",
       "    <tr style=\"text-align: right;\">\n",
       "      <th></th>\n",
       "      <th>chroma_cens_kurtosis_01</th>\n",
       "      <th>chroma_cens_kurtosis_02</th>\n",
       "      <th>chroma_cens_kurtosis_03</th>\n",
       "      <th>chroma_cens_kurtosis_04</th>\n",
       "      <th>chroma_cens_kurtosis_05</th>\n",
       "      <th>chroma_cens_kurtosis_06</th>\n",
       "      <th>chroma_cens_kurtosis_07</th>\n",
       "      <th>chroma_cens_kurtosis_08</th>\n",
       "      <th>chroma_cens_kurtosis_09</th>\n",
       "      <th>chroma_cens_kurtosis_10</th>\n",
       "      <th>...</th>\n",
       "      <th>tonnetz_std_05</th>\n",
       "      <th>tonnetz_std_06</th>\n",
       "      <th>zcr_kurtosis_01</th>\n",
       "      <th>zcr_max_01</th>\n",
       "      <th>zcr_mean_01</th>\n",
       "      <th>zcr_median_01</th>\n",
       "      <th>zcr_min_01</th>\n",
       "      <th>zcr_skew_01</th>\n",
       "      <th>zcr_std_01</th>\n",
       "      <th>track_bit_rate</th>\n",
       "    </tr>\n",
       "  </thead>\n",
       "  <tbody>\n",
       "    <tr>\n",
       "      <th>0</th>\n",
       "      <td>0.001033</td>\n",
       "      <td>0.002501</td>\n",
       "      <td>0.001246</td>\n",
       "      <td>0.001021</td>\n",
       "      <td>0.001067</td>\n",
       "      <td>0.001518</td>\n",
       "      <td>0.000798</td>\n",
       "      <td>0.001470</td>\n",
       "      <td>0.003169</td>\n",
       "      <td>0.002444</td>\n",
       "      <td>...</td>\n",
       "      <td>0.130829</td>\n",
       "      <td>0.101443</td>\n",
       "      <td>0.000915</td>\n",
       "      <td>0.454097</td>\n",
       "      <td>0.097468</td>\n",
       "      <td>0.079564</td>\n",
       "      <td>0.000000</td>\n",
       "      <td>0.194863</td>\n",
       "      <td>0.142931</td>\n",
       "      <td>0.571430</td>\n",
       "    </tr>\n",
       "    <tr>\n",
       "      <th>1</th>\n",
       "      <td>0.000435</td>\n",
       "      <td>0.000941</td>\n",
       "      <td>0.001300</td>\n",
       "      <td>0.001243</td>\n",
       "      <td>0.001121</td>\n",
       "      <td>0.001231</td>\n",
       "      <td>0.000771</td>\n",
       "      <td>0.001047</td>\n",
       "      <td>0.002547</td>\n",
       "      <td>0.002038</td>\n",
       "      <td>...</td>\n",
       "      <td>0.152235</td>\n",
       "      <td>0.150073</td>\n",
       "      <td>0.000568</td>\n",
       "      <td>0.461007</td>\n",
       "      <td>0.096271</td>\n",
       "      <td>0.071390</td>\n",
       "      <td>0.000000</td>\n",
       "      <td>0.190782</td>\n",
       "      <td>0.161548</td>\n",
       "      <td>0.571430</td>\n",
       "    </tr>\n",
       "    <tr>\n",
       "      <th>2</th>\n",
       "      <td>0.000281</td>\n",
       "      <td>0.000649</td>\n",
       "      <td>0.000948</td>\n",
       "      <td>0.000865</td>\n",
       "      <td>0.001210</td>\n",
       "      <td>0.001734</td>\n",
       "      <td>0.000236</td>\n",
       "      <td>0.000535</td>\n",
       "      <td>0.003005</td>\n",
       "      <td>0.002274</td>\n",
       "      <td>...</td>\n",
       "      <td>0.135841</td>\n",
       "      <td>0.124322</td>\n",
       "      <td>0.001040</td>\n",
       "      <td>0.368707</td>\n",
       "      <td>0.060433</td>\n",
       "      <td>0.046322</td>\n",
       "      <td>0.000000</td>\n",
       "      <td>0.195994</td>\n",
       "      <td>0.103753</td>\n",
       "      <td>0.571430</td>\n",
       "    </tr>\n",
       "    <tr>\n",
       "      <th>3</th>\n",
       "      <td>0.000199</td>\n",
       "      <td>0.000606</td>\n",
       "      <td>0.001219</td>\n",
       "      <td>0.000765</td>\n",
       "      <td>0.000845</td>\n",
       "      <td>0.001242</td>\n",
       "      <td>0.000384</td>\n",
       "      <td>0.000564</td>\n",
       "      <td>0.002495</td>\n",
       "      <td>0.001236</td>\n",
       "      <td>...</td>\n",
       "      <td>0.241482</td>\n",
       "      <td>0.181304</td>\n",
       "      <td>0.002208</td>\n",
       "      <td>0.464462</td>\n",
       "      <td>0.053726</td>\n",
       "      <td>0.044687</td>\n",
       "      <td>0.004175</td>\n",
       "      <td>0.206892</td>\n",
       "      <td>0.070999</td>\n",
       "      <td>0.571430</td>\n",
       "    </tr>\n",
       "    <tr>\n",
       "      <th>4</th>\n",
       "      <td>0.000142</td>\n",
       "      <td>0.000437</td>\n",
       "      <td>0.001133</td>\n",
       "      <td>0.000714</td>\n",
       "      <td>0.000346</td>\n",
       "      <td>0.000622</td>\n",
       "      <td>0.000241</td>\n",
       "      <td>0.000757</td>\n",
       "      <td>0.002220</td>\n",
       "      <td>0.001204</td>\n",
       "      <td>...</td>\n",
       "      <td>0.274343</td>\n",
       "      <td>0.202822</td>\n",
       "      <td>0.005167</td>\n",
       "      <td>0.242843</td>\n",
       "      <td>0.020880</td>\n",
       "      <td>0.017439</td>\n",
       "      <td>0.000000</td>\n",
       "      <td>0.223305</td>\n",
       "      <td>0.032276</td>\n",
       "      <td>0.571430</td>\n",
       "    </tr>\n",
       "    <tr>\n",
       "      <th>...</th>\n",
       "      <td>...</td>\n",
       "      <td>...</td>\n",
       "      <td>...</td>\n",
       "      <td>...</td>\n",
       "      <td>...</td>\n",
       "      <td>...</td>\n",
       "      <td>...</td>\n",
       "      <td>...</td>\n",
       "      <td>...</td>\n",
       "      <td>...</td>\n",
       "      <td>...</td>\n",
       "      <td>...</td>\n",
       "      <td>...</td>\n",
       "      <td>...</td>\n",
       "      <td>...</td>\n",
       "      <td>...</td>\n",
       "      <td>...</td>\n",
       "      <td>...</td>\n",
       "      <td>...</td>\n",
       "      <td>...</td>\n",
       "      <td>...</td>\n",
       "    </tr>\n",
       "    <tr>\n",
       "      <th>81255</th>\n",
       "      <td>0.000185</td>\n",
       "      <td>0.000904</td>\n",
       "      <td>0.001836</td>\n",
       "      <td>0.000562</td>\n",
       "      <td>0.000255</td>\n",
       "      <td>0.000567</td>\n",
       "      <td>0.000466</td>\n",
       "      <td>0.000897</td>\n",
       "      <td>0.001757</td>\n",
       "      <td>0.001394</td>\n",
       "      <td>...</td>\n",
       "      <td>0.178303</td>\n",
       "      <td>0.123851</td>\n",
       "      <td>0.001056</td>\n",
       "      <td>0.180158</td>\n",
       "      <td>0.042886</td>\n",
       "      <td>0.039237</td>\n",
       "      <td>0.012526</td>\n",
       "      <td>0.191301</td>\n",
       "      <td>0.041914</td>\n",
       "      <td>0.714286</td>\n",
       "    </tr>\n",
       "    <tr>\n",
       "      <th>81256</th>\n",
       "      <td>0.000166</td>\n",
       "      <td>0.000838</td>\n",
       "      <td>0.002410</td>\n",
       "      <td>0.000684</td>\n",
       "      <td>0.001124</td>\n",
       "      <td>0.002498</td>\n",
       "      <td>0.000396</td>\n",
       "      <td>0.002245</td>\n",
       "      <td>0.003139</td>\n",
       "      <td>0.002788</td>\n",
       "      <td>...</td>\n",
       "      <td>0.242072</td>\n",
       "      <td>0.168007</td>\n",
       "      <td>0.000760</td>\n",
       "      <td>0.164363</td>\n",
       "      <td>0.032709</td>\n",
       "      <td>0.031608</td>\n",
       "      <td>0.016701</td>\n",
       "      <td>0.182455</td>\n",
       "      <td>0.027047</td>\n",
       "      <td>0.714286</td>\n",
       "    </tr>\n",
       "    <tr>\n",
       "      <th>81257</th>\n",
       "      <td>0.000169</td>\n",
       "      <td>0.000596</td>\n",
       "      <td>0.000826</td>\n",
       "      <td>0.000605</td>\n",
       "      <td>0.000643</td>\n",
       "      <td>0.001026</td>\n",
       "      <td>0.000305</td>\n",
       "      <td>0.000753</td>\n",
       "      <td>0.002271</td>\n",
       "      <td>0.001412</td>\n",
       "      <td>...</td>\n",
       "      <td>0.252855</td>\n",
       "      <td>0.225978</td>\n",
       "      <td>0.000621</td>\n",
       "      <td>0.188055</td>\n",
       "      <td>0.035378</td>\n",
       "      <td>0.031063</td>\n",
       "      <td>0.010438</td>\n",
       "      <td>0.186039</td>\n",
       "      <td>0.042812</td>\n",
       "      <td>0.714286</td>\n",
       "    </tr>\n",
       "    <tr>\n",
       "      <th>81258</th>\n",
       "      <td>0.000284</td>\n",
       "      <td>0.000637</td>\n",
       "      <td>0.000807</td>\n",
       "      <td>0.000766</td>\n",
       "      <td>0.000532</td>\n",
       "      <td>0.000861</td>\n",
       "      <td>0.000852</td>\n",
       "      <td>0.001141</td>\n",
       "      <td>0.003545</td>\n",
       "      <td>0.001757</td>\n",
       "      <td>...</td>\n",
       "      <td>0.188107</td>\n",
       "      <td>0.173668</td>\n",
       "      <td>0.000512</td>\n",
       "      <td>0.204837</td>\n",
       "      <td>0.043731</td>\n",
       "      <td>0.041417</td>\n",
       "      <td>0.014614</td>\n",
       "      <td>0.181069</td>\n",
       "      <td>0.040084</td>\n",
       "      <td>0.714286</td>\n",
       "    </tr>\n",
       "    <tr>\n",
       "      <th>81259</th>\n",
       "      <td>0.000201</td>\n",
       "      <td>0.000741</td>\n",
       "      <td>0.001077</td>\n",
       "      <td>0.000791</td>\n",
       "      <td>0.000623</td>\n",
       "      <td>0.000659</td>\n",
       "      <td>0.000270</td>\n",
       "      <td>0.000936</td>\n",
       "      <td>0.001942</td>\n",
       "      <td>0.001246</td>\n",
       "      <td>...</td>\n",
       "      <td>0.196603</td>\n",
       "      <td>0.151766</td>\n",
       "      <td>0.000966</td>\n",
       "      <td>0.158934</td>\n",
       "      <td>0.047182</td>\n",
       "      <td>0.042507</td>\n",
       "      <td>0.020877</td>\n",
       "      <td>0.191897</td>\n",
       "      <td>0.045349</td>\n",
       "      <td>0.714286</td>\n",
       "    </tr>\n",
       "  </tbody>\n",
       "</table>\n",
       "<p>81260 rows × 519 columns</p>\n",
       "</div>"
      ],
      "text/plain": [
       "       chroma_cens_kurtosis_01  chroma_cens_kurtosis_02  \\\n",
       "0                     0.001033                 0.002501   \n",
       "1                     0.000435                 0.000941   \n",
       "2                     0.000281                 0.000649   \n",
       "3                     0.000199                 0.000606   \n",
       "4                     0.000142                 0.000437   \n",
       "...                        ...                      ...   \n",
       "81255                 0.000185                 0.000904   \n",
       "81256                 0.000166                 0.000838   \n",
       "81257                 0.000169                 0.000596   \n",
       "81258                 0.000284                 0.000637   \n",
       "81259                 0.000201                 0.000741   \n",
       "\n",
       "       chroma_cens_kurtosis_03  chroma_cens_kurtosis_04  \\\n",
       "0                     0.001246                 0.001021   \n",
       "1                     0.001300                 0.001243   \n",
       "2                     0.000948                 0.000865   \n",
       "3                     0.001219                 0.000765   \n",
       "4                     0.001133                 0.000714   \n",
       "...                        ...                      ...   \n",
       "81255                 0.001836                 0.000562   \n",
       "81256                 0.002410                 0.000684   \n",
       "81257                 0.000826                 0.000605   \n",
       "81258                 0.000807                 0.000766   \n",
       "81259                 0.001077                 0.000791   \n",
       "\n",
       "       chroma_cens_kurtosis_05  chroma_cens_kurtosis_06  \\\n",
       "0                     0.001067                 0.001518   \n",
       "1                     0.001121                 0.001231   \n",
       "2                     0.001210                 0.001734   \n",
       "3                     0.000845                 0.001242   \n",
       "4                     0.000346                 0.000622   \n",
       "...                        ...                      ...   \n",
       "81255                 0.000255                 0.000567   \n",
       "81256                 0.001124                 0.002498   \n",
       "81257                 0.000643                 0.001026   \n",
       "81258                 0.000532                 0.000861   \n",
       "81259                 0.000623                 0.000659   \n",
       "\n",
       "       chroma_cens_kurtosis_07  chroma_cens_kurtosis_08  \\\n",
       "0                     0.000798                 0.001470   \n",
       "1                     0.000771                 0.001047   \n",
       "2                     0.000236                 0.000535   \n",
       "3                     0.000384                 0.000564   \n",
       "4                     0.000241                 0.000757   \n",
       "...                        ...                      ...   \n",
       "81255                 0.000466                 0.000897   \n",
       "81256                 0.000396                 0.002245   \n",
       "81257                 0.000305                 0.000753   \n",
       "81258                 0.000852                 0.001141   \n",
       "81259                 0.000270                 0.000936   \n",
       "\n",
       "       chroma_cens_kurtosis_09  chroma_cens_kurtosis_10  ...  tonnetz_std_05  \\\n",
       "0                     0.003169                 0.002444  ...        0.130829   \n",
       "1                     0.002547                 0.002038  ...        0.152235   \n",
       "2                     0.003005                 0.002274  ...        0.135841   \n",
       "3                     0.002495                 0.001236  ...        0.241482   \n",
       "4                     0.002220                 0.001204  ...        0.274343   \n",
       "...                        ...                      ...  ...             ...   \n",
       "81255                 0.001757                 0.001394  ...        0.178303   \n",
       "81256                 0.003139                 0.002788  ...        0.242072   \n",
       "81257                 0.002271                 0.001412  ...        0.252855   \n",
       "81258                 0.003545                 0.001757  ...        0.188107   \n",
       "81259                 0.001942                 0.001246  ...        0.196603   \n",
       "\n",
       "       tonnetz_std_06  zcr_kurtosis_01  zcr_max_01  zcr_mean_01  \\\n",
       "0            0.101443         0.000915    0.454097     0.097468   \n",
       "1            0.150073         0.000568    0.461007     0.096271   \n",
       "2            0.124322         0.001040    0.368707     0.060433   \n",
       "3            0.181304         0.002208    0.464462     0.053726   \n",
       "4            0.202822         0.005167    0.242843     0.020880   \n",
       "...               ...              ...         ...          ...   \n",
       "81255        0.123851         0.001056    0.180158     0.042886   \n",
       "81256        0.168007         0.000760    0.164363     0.032709   \n",
       "81257        0.225978         0.000621    0.188055     0.035378   \n",
       "81258        0.173668         0.000512    0.204837     0.043731   \n",
       "81259        0.151766         0.000966    0.158934     0.047182   \n",
       "\n",
       "       zcr_median_01  zcr_min_01  zcr_skew_01  zcr_std_01  track_bit_rate  \n",
       "0           0.079564    0.000000     0.194863    0.142931        0.571430  \n",
       "1           0.071390    0.000000     0.190782    0.161548        0.571430  \n",
       "2           0.046322    0.000000     0.195994    0.103753        0.571430  \n",
       "3           0.044687    0.004175     0.206892    0.070999        0.571430  \n",
       "4           0.017439    0.000000     0.223305    0.032276        0.571430  \n",
       "...              ...         ...          ...         ...             ...  \n",
       "81255       0.039237    0.012526     0.191301    0.041914        0.714286  \n",
       "81256       0.031608    0.016701     0.182455    0.027047        0.714286  \n",
       "81257       0.031063    0.010438     0.186039    0.042812        0.714286  \n",
       "81258       0.041417    0.014614     0.181069    0.040084        0.714286  \n",
       "81259       0.042507    0.020877     0.191897    0.045349        0.714286  \n",
       "\n",
       "[81260 rows x 519 columns]"
      ]
     },
     "execution_count": 493,
     "metadata": {},
     "output_type": "execute_result"
    }
   ],
   "source": [
    "threshold=0.25 #amount of NaNs that makes us drop that specific column\n",
    "df.drop(columns=[x for x in df.columns if df[x].isnull().sum()/len(df.track_id) >=threshold], inplace=True)\n",
    "#Numerical Variables Handling\n",
    "for col in df.select_dtypes(include=\"number\").columns:\n",
    "    if  df[col].isnull().sum()!=0:\n",
    "        df[col].fillna(df[col].describe()[\"50%\"]) #substitute the median\n",
    "#Categorical Variables Handling\n",
    "df.dropna(inplace=True)\n",
    "df.reset_index(inplace=True)\n",
    "df.drop(columns=[\"index\"], inplace=True)\n",
    "dfNum=df.select_dtypes(include=\"number\")\n",
    "dfNumStand = (dfNum - dfNum.min())/(dfNum.max()- dfNum.min())\n",
    "dfNumStand\n",
    "dfPca = dfNumStand.drop(columns=['track_id', 'album_comments', 'album_favorites', 'album_id', 'album_listens', 'album_tracks', 'artist_comments', 'artist_favorites', 'artist_id', 'track_comments', 'track_duration', 'track_favorites', 'track_interest', 'track_listens', 'track_number'])\n",
    "dfPca"
   ]
  },
  {
   "cell_type": "code",
   "execution_count": 394,
   "metadata": {},
   "outputs": [],
   "source": [
    "threshold=0.25 #amount of NaNs that makes us drop that specific column\n",
    "df.drop(columns=[x for x in df.columns if df[x].isnull().sum()/len(df.track_id) >=threshold], inplace=True)\n",
    "#Numerical Variables Handling\n",
    "for col in df.select_dtypes(include=\"number\").columns:\n",
    "    if  df[col].isnull().sum()!=0:\n",
    "        df[col].fillna(df[col].describe()[\"50%\"]) #substitute the median\n",
    "#Categorical Variables Handling\n",
    "df.dropna(inplace=True)\n",
    "df.reset_index(inplace=True)\n",
    "df.drop(columns=[\"index\"], inplace=True)\n",
    "dfNum=df.select_dtypes(include=\"number\")\n",
    "dfNumStand = (dfNum - dfNum.min())/(dfNum.max()- dfNum.min())\n",
    "dfNumStand\n",
    "dfPca = dfNumStand.drop(columns=['track_id', 'album_comments', 'album_favorites', 'album_id', 'album_listens', 'album_tracks', 'artist_comments', 'artist_favorites', 'artist_id', 'track_comments', 'track_duration', 'track_favorites', 'track_interest', 'track_listens', 'track_number'])\n",
    "dfPca\n",
    "#there is a column with all NaN, probably a result of MinMax, maybe it had all equal values, let's drop it\n",
    "df.drop([x for x in range(len(list(dfPca.isnull().sum()))) if list(dfPca.isnull().sum())[x]==8493])\n",
    "dfPca.drop(columns=[list(dfPca.columns)[426]], inplace=True)\n",
    "from sklearn.decomposition import PCA\n",
    "import random\n",
    "random.seed(42)\n",
    "pca = PCA(n_components=0.71) \n",
    "pca_fit = pca.fit_transform(dfPca)\n",
    "pca_reduced=pca.transform(dfPca)\n",
    "pca_reduced=pd.DataFrame(pca_reduced)\n",
    "pca_reduced[\"track_id\"] = dfNumStand[\"track_id\"]\n",
    "pca_reduced\n",
    "dfFinal = pca_reduced.merge(dfNumStand[['track_id', 'album_comments', 'album_favorites', 'album_id', 'album_listens', 'album_tracks', 'artist_comments', 'artist_favorites', 'artist_id', 'track_comments', 'track_duration', 'track_favorites', 'track_interest', 'track_listens', 'track_number']])"
   ]
  },
  {
   "cell_type": "code",
   "execution_count": 395,
   "metadata": {},
   "outputs": [
    {
     "data": {
      "text/html": [
       "<div>\n",
       "<style scoped>\n",
       "    .dataframe tbody tr th:only-of-type {\n",
       "        vertical-align: middle;\n",
       "    }\n",
       "\n",
       "    .dataframe tbody tr th {\n",
       "        vertical-align: top;\n",
       "    }\n",
       "\n",
       "    .dataframe thead th {\n",
       "        text-align: right;\n",
       "    }\n",
       "</style>\n",
       "<table border=\"1\" class=\"dataframe\">\n",
       "  <thead>\n",
       "    <tr style=\"text-align: right;\">\n",
       "      <th></th>\n",
       "      <th>0</th>\n",
       "      <th>1</th>\n",
       "      <th>2</th>\n",
       "      <th>3</th>\n",
       "      <th>4</th>\n",
       "      <th>5</th>\n",
       "      <th>6</th>\n",
       "      <th>7</th>\n",
       "      <th>8</th>\n",
       "      <th>9</th>\n",
       "      <th>...</th>\n",
       "      <th>album_tracks</th>\n",
       "      <th>artist_comments</th>\n",
       "      <th>artist_favorites</th>\n",
       "      <th>artist_id</th>\n",
       "      <th>track_comments</th>\n",
       "      <th>track_duration</th>\n",
       "      <th>track_favorites</th>\n",
       "      <th>track_interest</th>\n",
       "      <th>track_listens</th>\n",
       "      <th>track_number</th>\n",
       "    </tr>\n",
       "  </thead>\n",
       "  <tbody>\n",
       "    <tr>\n",
       "      <th>0</th>\n",
       "      <td>0.375040</td>\n",
       "      <td>0.206308</td>\n",
       "      <td>-0.523815</td>\n",
       "      <td>-0.560306</td>\n",
       "      <td>0.681392</td>\n",
       "      <td>-0.542461</td>\n",
       "      <td>0.139373</td>\n",
       "      <td>-0.228029</td>\n",
       "      <td>0.216941</td>\n",
       "      <td>-0.038427</td>\n",
       "      <td>...</td>\n",
       "      <td>0.017995</td>\n",
       "      <td>0.000000</td>\n",
       "      <td>0.009346</td>\n",
       "      <td>0.000000</td>\n",
       "      <td>0.0</td>\n",
       "      <td>0.015251</td>\n",
       "      <td>0.001350</td>\n",
       "      <td>0.001413</td>\n",
       "      <td>0.002378</td>\n",
       "      <td>0.011765</td>\n",
       "    </tr>\n",
       "    <tr>\n",
       "      <th>1</th>\n",
       "      <td>0.625144</td>\n",
       "      <td>-0.114948</td>\n",
       "      <td>-0.706591</td>\n",
       "      <td>0.402851</td>\n",
       "      <td>-0.022939</td>\n",
       "      <td>-0.082945</td>\n",
       "      <td>0.514290</td>\n",
       "      <td>-0.004243</td>\n",
       "      <td>-0.092047</td>\n",
       "      <td>0.175757</td>\n",
       "      <td>...</td>\n",
       "      <td>0.017995</td>\n",
       "      <td>0.000000</td>\n",
       "      <td>0.009346</td>\n",
       "      <td>0.000000</td>\n",
       "      <td>0.0</td>\n",
       "      <td>0.021514</td>\n",
       "      <td>0.000675</td>\n",
       "      <td>0.000445</td>\n",
       "      <td>0.000944</td>\n",
       "      <td>0.015686</td>\n",
       "    </tr>\n",
       "    <tr>\n",
       "      <th>2</th>\n",
       "      <td>0.272829</td>\n",
       "      <td>0.145597</td>\n",
       "      <td>-0.503473</td>\n",
       "      <td>0.092829</td>\n",
       "      <td>0.241075</td>\n",
       "      <td>0.111437</td>\n",
       "      <td>0.150853</td>\n",
       "      <td>-0.069710</td>\n",
       "      <td>0.187075</td>\n",
       "      <td>-0.150470</td>\n",
       "      <td>...</td>\n",
       "      <td>0.017995</td>\n",
       "      <td>0.000000</td>\n",
       "      <td>0.009346</td>\n",
       "      <td>0.000000</td>\n",
       "      <td>0.0</td>\n",
       "      <td>0.018700</td>\n",
       "      <td>0.004049</td>\n",
       "      <td>0.000586</td>\n",
       "      <td>0.002117</td>\n",
       "      <td>0.023529</td>\n",
       "    </tr>\n",
       "    <tr>\n",
       "      <th>3</th>\n",
       "      <td>-0.051040</td>\n",
       "      <td>-0.224888</td>\n",
       "      <td>0.064600</td>\n",
       "      <td>0.506474</td>\n",
       "      <td>0.096886</td>\n",
       "      <td>0.184337</td>\n",
       "      <td>0.006268</td>\n",
       "      <td>-0.243067</td>\n",
       "      <td>-0.357787</td>\n",
       "      <td>-0.270660</td>\n",
       "      <td>...</td>\n",
       "      <td>0.033419</td>\n",
       "      <td>0.025316</td>\n",
       "      <td>0.010384</td>\n",
       "      <td>0.000123</td>\n",
       "      <td>0.0</td>\n",
       "      <td>0.028232</td>\n",
       "      <td>0.000000</td>\n",
       "      <td>0.000296</td>\n",
       "      <td>0.000663</td>\n",
       "      <td>0.011765</td>\n",
       "    </tr>\n",
       "    <tr>\n",
       "      <th>4</th>\n",
       "      <td>-0.279286</td>\n",
       "      <td>-0.297648</td>\n",
       "      <td>0.157508</td>\n",
       "      <td>0.210684</td>\n",
       "      <td>-0.160547</td>\n",
       "      <td>-0.075879</td>\n",
       "      <td>-0.272167</td>\n",
       "      <td>0.312805</td>\n",
       "      <td>-0.001237</td>\n",
       "      <td>-0.150691</td>\n",
       "      <td>...</td>\n",
       "      <td>0.033419</td>\n",
       "      <td>0.025316</td>\n",
       "      <td>0.010384</td>\n",
       "      <td>0.000123</td>\n",
       "      <td>0.0</td>\n",
       "      <td>0.016431</td>\n",
       "      <td>0.000000</td>\n",
       "      <td>0.000321</td>\n",
       "      <td>0.000353</td>\n",
       "      <td>0.015686</td>\n",
       "    </tr>\n",
       "    <tr>\n",
       "      <th>...</th>\n",
       "      <td>...</td>\n",
       "      <td>...</td>\n",
       "      <td>...</td>\n",
       "      <td>...</td>\n",
       "      <td>...</td>\n",
       "      <td>...</td>\n",
       "      <td>...</td>\n",
       "      <td>...</td>\n",
       "      <td>...</td>\n",
       "      <td>...</td>\n",
       "      <td>...</td>\n",
       "      <td>...</td>\n",
       "      <td>...</td>\n",
       "      <td>...</td>\n",
       "      <td>...</td>\n",
       "      <td>...</td>\n",
       "      <td>...</td>\n",
       "      <td>...</td>\n",
       "      <td>...</td>\n",
       "      <td>...</td>\n",
       "      <td>...</td>\n",
       "    </tr>\n",
       "    <tr>\n",
       "      <th>81255</th>\n",
       "      <td>0.042104</td>\n",
       "      <td>-0.118114</td>\n",
       "      <td>0.327994</td>\n",
       "      <td>0.089566</td>\n",
       "      <td>-0.431162</td>\n",
       "      <td>0.064917</td>\n",
       "      <td>-0.367345</td>\n",
       "      <td>-0.157894</td>\n",
       "      <td>-0.068857</td>\n",
       "      <td>0.048965</td>\n",
       "      <td>...</td>\n",
       "      <td>0.015424</td>\n",
       "      <td>0.000000</td>\n",
       "      <td>0.000000</td>\n",
       "      <td>1.000000</td>\n",
       "      <td>0.0</td>\n",
       "      <td>0.003450</td>\n",
       "      <td>0.000675</td>\n",
       "      <td>0.000046</td>\n",
       "      <td>0.000234</td>\n",
       "      <td>0.003922</td>\n",
       "    </tr>\n",
       "    <tr>\n",
       "      <th>81256</th>\n",
       "      <td>0.211228</td>\n",
       "      <td>-0.006202</td>\n",
       "      <td>0.899888</td>\n",
       "      <td>-0.385313</td>\n",
       "      <td>-0.723334</td>\n",
       "      <td>-0.089472</td>\n",
       "      <td>-0.610256</td>\n",
       "      <td>-0.172774</td>\n",
       "      <td>0.004979</td>\n",
       "      <td>0.215597</td>\n",
       "      <td>...</td>\n",
       "      <td>0.015424</td>\n",
       "      <td>0.000000</td>\n",
       "      <td>0.000000</td>\n",
       "      <td>1.000000</td>\n",
       "      <td>0.0</td>\n",
       "      <td>0.014706</td>\n",
       "      <td>0.000675</td>\n",
       "      <td>0.000036</td>\n",
       "      <td>0.000186</td>\n",
       "      <td>0.011765</td>\n",
       "    </tr>\n",
       "    <tr>\n",
       "      <th>81257</th>\n",
       "      <td>0.270704</td>\n",
       "      <td>-0.509796</td>\n",
       "      <td>0.693941</td>\n",
       "      <td>0.036166</td>\n",
       "      <td>0.193103</td>\n",
       "      <td>0.762566</td>\n",
       "      <td>-0.396723</td>\n",
       "      <td>0.076368</td>\n",
       "      <td>-0.391246</td>\n",
       "      <td>-0.044614</td>\n",
       "      <td>...</td>\n",
       "      <td>0.015424</td>\n",
       "      <td>0.000000</td>\n",
       "      <td>0.000000</td>\n",
       "      <td>1.000000</td>\n",
       "      <td>0.0</td>\n",
       "      <td>0.019699</td>\n",
       "      <td>0.000675</td>\n",
       "      <td>0.000058</td>\n",
       "      <td>0.000302</td>\n",
       "      <td>0.015686</td>\n",
       "    </tr>\n",
       "    <tr>\n",
       "      <th>81258</th>\n",
       "      <td>0.575773</td>\n",
       "      <td>-0.220710</td>\n",
       "      <td>0.335056</td>\n",
       "      <td>-0.194526</td>\n",
       "      <td>-0.430708</td>\n",
       "      <td>0.025460</td>\n",
       "      <td>-0.416892</td>\n",
       "      <td>0.035725</td>\n",
       "      <td>-0.286470</td>\n",
       "      <td>0.138642</td>\n",
       "      <td>...</td>\n",
       "      <td>0.015424</td>\n",
       "      <td>0.000000</td>\n",
       "      <td>0.000000</td>\n",
       "      <td>1.000000</td>\n",
       "      <td>0.0</td>\n",
       "      <td>0.036674</td>\n",
       "      <td>0.001350</td>\n",
       "      <td>0.000064</td>\n",
       "      <td>0.000307</td>\n",
       "      <td>0.023529</td>\n",
       "    </tr>\n",
       "    <tr>\n",
       "      <th>81259</th>\n",
       "      <td>0.774296</td>\n",
       "      <td>-0.116079</td>\n",
       "      <td>0.358565</td>\n",
       "      <td>0.049413</td>\n",
       "      <td>-0.236955</td>\n",
       "      <td>-0.107368</td>\n",
       "      <td>-0.002555</td>\n",
       "      <td>-0.045864</td>\n",
       "      <td>-0.288112</td>\n",
       "      <td>-0.232385</td>\n",
       "      <td>...</td>\n",
       "      <td>0.015424</td>\n",
       "      <td>0.000000</td>\n",
       "      <td>0.000000</td>\n",
       "      <td>1.000000</td>\n",
       "      <td>0.0</td>\n",
       "      <td>0.013253</td>\n",
       "      <td>0.000000</td>\n",
       "      <td>0.000101</td>\n",
       "      <td>0.000539</td>\n",
       "      <td>0.019608</td>\n",
       "    </tr>\n",
       "  </tbody>\n",
       "</table>\n",
       "<p>81260 rows × 34 columns</p>\n",
       "</div>"
      ],
      "text/plain": [
       "              0         1         2         3         4         5         6  \\\n",
       "0      0.375040  0.206308 -0.523815 -0.560306  0.681392 -0.542461  0.139373   \n",
       "1      0.625144 -0.114948 -0.706591  0.402851 -0.022939 -0.082945  0.514290   \n",
       "2      0.272829  0.145597 -0.503473  0.092829  0.241075  0.111437  0.150853   \n",
       "3     -0.051040 -0.224888  0.064600  0.506474  0.096886  0.184337  0.006268   \n",
       "4     -0.279286 -0.297648  0.157508  0.210684 -0.160547 -0.075879 -0.272167   \n",
       "...         ...       ...       ...       ...       ...       ...       ...   \n",
       "81255  0.042104 -0.118114  0.327994  0.089566 -0.431162  0.064917 -0.367345   \n",
       "81256  0.211228 -0.006202  0.899888 -0.385313 -0.723334 -0.089472 -0.610256   \n",
       "81257  0.270704 -0.509796  0.693941  0.036166  0.193103  0.762566 -0.396723   \n",
       "81258  0.575773 -0.220710  0.335056 -0.194526 -0.430708  0.025460 -0.416892   \n",
       "81259  0.774296 -0.116079  0.358565  0.049413 -0.236955 -0.107368 -0.002555   \n",
       "\n",
       "              7         8         9  ...  album_tracks  artist_comments  \\\n",
       "0     -0.228029  0.216941 -0.038427  ...      0.017995         0.000000   \n",
       "1     -0.004243 -0.092047  0.175757  ...      0.017995         0.000000   \n",
       "2     -0.069710  0.187075 -0.150470  ...      0.017995         0.000000   \n",
       "3     -0.243067 -0.357787 -0.270660  ...      0.033419         0.025316   \n",
       "4      0.312805 -0.001237 -0.150691  ...      0.033419         0.025316   \n",
       "...         ...       ...       ...  ...           ...              ...   \n",
       "81255 -0.157894 -0.068857  0.048965  ...      0.015424         0.000000   \n",
       "81256 -0.172774  0.004979  0.215597  ...      0.015424         0.000000   \n",
       "81257  0.076368 -0.391246 -0.044614  ...      0.015424         0.000000   \n",
       "81258  0.035725 -0.286470  0.138642  ...      0.015424         0.000000   \n",
       "81259 -0.045864 -0.288112 -0.232385  ...      0.015424         0.000000   \n",
       "\n",
       "       artist_favorites  artist_id  track_comments  track_duration  \\\n",
       "0              0.009346   0.000000             0.0        0.015251   \n",
       "1              0.009346   0.000000             0.0        0.021514   \n",
       "2              0.009346   0.000000             0.0        0.018700   \n",
       "3              0.010384   0.000123             0.0        0.028232   \n",
       "4              0.010384   0.000123             0.0        0.016431   \n",
       "...                 ...        ...             ...             ...   \n",
       "81255          0.000000   1.000000             0.0        0.003450   \n",
       "81256          0.000000   1.000000             0.0        0.014706   \n",
       "81257          0.000000   1.000000             0.0        0.019699   \n",
       "81258          0.000000   1.000000             0.0        0.036674   \n",
       "81259          0.000000   1.000000             0.0        0.013253   \n",
       "\n",
       "       track_favorites  track_interest  track_listens  track_number  \n",
       "0             0.001350        0.001413       0.002378      0.011765  \n",
       "1             0.000675        0.000445       0.000944      0.015686  \n",
       "2             0.004049        0.000586       0.002117      0.023529  \n",
       "3             0.000000        0.000296       0.000663      0.011765  \n",
       "4             0.000000        0.000321       0.000353      0.015686  \n",
       "...                ...             ...            ...           ...  \n",
       "81255         0.000675        0.000046       0.000234      0.003922  \n",
       "81256         0.000675        0.000036       0.000186      0.011765  \n",
       "81257         0.000675        0.000058       0.000302      0.015686  \n",
       "81258         0.001350        0.000064       0.000307      0.023529  \n",
       "81259         0.000000        0.000101       0.000539      0.019608  \n",
       "\n",
       "[81260 rows x 34 columns]"
      ]
     },
     "execution_count": 395,
     "metadata": {},
     "output_type": "execute_result"
    }
   ],
   "source": [
    "dfFinal"
   ]
  },
  {
   "cell_type": "code",
   "execution_count": 396,
   "metadata": {},
   "outputs": [],
   "source": [
    "from sklearn.cluster import KMeans\n",
    "kmeansSciKit = KMeans(n_clusters=4, random_state=42, init='k-means++', n_init=10, max_iter=300).fit(dfFinal)"
   ]
  },
  {
   "cell_type": "code",
   "execution_count": 462,
   "metadata": {
    "scrolled": false
   },
   "outputs": [
    {
     "data": {
      "image/png": "[encoded data removed]",
      "text/plain": [
       "<Figure size 576x396 with 1 Axes>"
      ]
     },
     "metadata": {},
     "output_type": "display_data"
    },
    {
     "data": {
      "text/plain": [
       "<AxesSubplot:title={'center':'Distortion Score Elbow for KMeans Clustering'}, xlabel='k', ylabel='distortion score'>"
      ]
     },
     "execution_count": 462,
     "metadata": {},
     "output_type": "execute_result"
    }
   ],
   "source": [
    "from yellowbrick.cluster import KElbowVisualizer\n",
    "model = KMeans()\n",
    "visualizer = KElbowVisualizer(model, k=(2,10), metric='distortion', timings=False)\n",
    "visualizer.fit(dfFinal)\n",
    "visualizer.show()"
   ]
  },
  {
   "cell_type": "code",
   "execution_count": 418,
   "metadata": {},
   "outputs": [
    {
     "data": {
      "text/html": [
       "<div>\n",
       "<style scoped>\n",
       "    .dataframe tbody tr th:only-of-type {\n",
       "        vertical-align: middle;\n",
       "    }\n",
       "\n",
       "    .dataframe tbody tr th {\n",
       "        vertical-align: top;\n",
       "    }\n",
       "\n",
       "    .dataframe thead th {\n",
       "        text-align: right;\n",
       "    }\n",
       "</style>\n",
       "<table border=\"1\" class=\"dataframe\">\n",
       "  <thead>\n",
       "    <tr style=\"text-align: right;\">\n",
       "      <th></th>\n",
       "      <th>track_id</th>\n",
       "      <th>album_comments</th>\n",
       "      <th>album_favorites</th>\n",
       "      <th>album_id</th>\n",
       "      <th>album_listens</th>\n",
       "      <th>album_tracks</th>\n",
       "      <th>artist_comments</th>\n",
       "      <th>artist_favorites</th>\n",
       "      <th>artist_id</th>\n",
       "      <th>track_comments</th>\n",
       "      <th>track_duration</th>\n",
       "      <th>track_favorites</th>\n",
       "      <th>track_interest</th>\n",
       "      <th>track_listens</th>\n",
       "      <th>track_number</th>\n",
       "      <th>clust</th>\n",
       "    </tr>\n",
       "  </thead>\n",
       "  <tbody>\n",
       "    <tr>\n",
       "      <th>0</th>\n",
       "      <td>0.000000</td>\n",
       "      <td>0.0</td>\n",
       "      <td>0.065574</td>\n",
       "      <td>0.000000</td>\n",
       "      <td>0.001699</td>\n",
       "      <td>0.017995</td>\n",
       "      <td>0.000000</td>\n",
       "      <td>0.009346</td>\n",
       "      <td>0.000000</td>\n",
       "      <td>0.0</td>\n",
       "      <td>0.015251</td>\n",
       "      <td>0.001350</td>\n",
       "      <td>0.001413</td>\n",
       "      <td>0.002378</td>\n",
       "      <td>0.011765</td>\n",
       "      <td>0</td>\n",
       "    </tr>\n",
       "    <tr>\n",
       "      <th>1</th>\n",
       "      <td>0.000006</td>\n",
       "      <td>0.0</td>\n",
       "      <td>0.065574</td>\n",
       "      <td>0.000000</td>\n",
       "      <td>0.001699</td>\n",
       "      <td>0.017995</td>\n",
       "      <td>0.000000</td>\n",
       "      <td>0.009346</td>\n",
       "      <td>0.000000</td>\n",
       "      <td>0.0</td>\n",
       "      <td>0.021514</td>\n",
       "      <td>0.000675</td>\n",
       "      <td>0.000445</td>\n",
       "      <td>0.000944</td>\n",
       "      <td>0.015686</td>\n",
       "      <td>0</td>\n",
       "    </tr>\n",
       "    <tr>\n",
       "      <th>2</th>\n",
       "      <td>0.000019</td>\n",
       "      <td>0.0</td>\n",
       "      <td>0.065574</td>\n",
       "      <td>0.000000</td>\n",
       "      <td>0.001699</td>\n",
       "      <td>0.017995</td>\n",
       "      <td>0.000000</td>\n",
       "      <td>0.009346</td>\n",
       "      <td>0.000000</td>\n",
       "      <td>0.0</td>\n",
       "      <td>0.018700</td>\n",
       "      <td>0.004049</td>\n",
       "      <td>0.000586</td>\n",
       "      <td>0.002117</td>\n",
       "      <td>0.023529</td>\n",
       "      <td>0</td>\n",
       "    </tr>\n",
       "    <tr>\n",
       "      <th>3</th>\n",
       "      <td>0.000116</td>\n",
       "      <td>0.0</td>\n",
       "      <td>0.032787</td>\n",
       "      <td>0.000131</td>\n",
       "      <td>0.000756</td>\n",
       "      <td>0.033419</td>\n",
       "      <td>0.025316</td>\n",
       "      <td>0.010384</td>\n",
       "      <td>0.000123</td>\n",
       "      <td>0.0</td>\n",
       "      <td>0.028232</td>\n",
       "      <td>0.000000</td>\n",
       "      <td>0.000296</td>\n",
       "      <td>0.000663</td>\n",
       "      <td>0.011765</td>\n",
       "      <td>0</td>\n",
       "    </tr>\n",
       "    <tr>\n",
       "      <th>4</th>\n",
       "      <td>0.000155</td>\n",
       "      <td>0.0</td>\n",
       "      <td>0.032787</td>\n",
       "      <td>0.000131</td>\n",
       "      <td>0.000756</td>\n",
       "      <td>0.033419</td>\n",
       "      <td>0.025316</td>\n",
       "      <td>0.010384</td>\n",
       "      <td>0.000123</td>\n",
       "      <td>0.0</td>\n",
       "      <td>0.016431</td>\n",
       "      <td>0.000000</td>\n",
       "      <td>0.000321</td>\n",
       "      <td>0.000353</td>\n",
       "      <td>0.015686</td>\n",
       "      <td>0</td>\n",
       "    </tr>\n",
       "    <tr>\n",
       "      <th>...</th>\n",
       "      <td>...</td>\n",
       "      <td>...</td>\n",
       "      <td>...</td>\n",
       "      <td>...</td>\n",
       "      <td>...</td>\n",
       "      <td>...</td>\n",
       "      <td>...</td>\n",
       "      <td>...</td>\n",
       "      <td>...</td>\n",
       "      <td>...</td>\n",
       "      <td>...</td>\n",
       "      <td>...</td>\n",
       "      <td>...</td>\n",
       "      <td>...</td>\n",
       "      <td>...</td>\n",
       "      <td>...</td>\n",
       "    </tr>\n",
       "    <tr>\n",
       "      <th>81255</th>\n",
       "      <td>0.999974</td>\n",
       "      <td>0.0</td>\n",
       "      <td>0.000000</td>\n",
       "      <td>1.000000</td>\n",
       "      <td>0.000418</td>\n",
       "      <td>0.015424</td>\n",
       "      <td>0.000000</td>\n",
       "      <td>0.000000</td>\n",
       "      <td>1.000000</td>\n",
       "      <td>0.0</td>\n",
       "      <td>0.003450</td>\n",
       "      <td>0.000675</td>\n",
       "      <td>0.000046</td>\n",
       "      <td>0.000234</td>\n",
       "      <td>0.003922</td>\n",
       "      <td>1</td>\n",
       "    </tr>\n",
       "    <tr>\n",
       "      <th>81256</th>\n",
       "      <td>0.999981</td>\n",
       "      <td>0.0</td>\n",
       "      <td>0.000000</td>\n",
       "      <td>1.000000</td>\n",
       "      <td>0.000418</td>\n",
       "      <td>0.015424</td>\n",
       "      <td>0.000000</td>\n",
       "      <td>0.000000</td>\n",
       "      <td>1.000000</td>\n",
       "      <td>0.0</td>\n",
       "      <td>0.014706</td>\n",
       "      <td>0.000675</td>\n",
       "      <td>0.000036</td>\n",
       "      <td>0.000186</td>\n",
       "      <td>0.011765</td>\n",
       "      <td>1</td>\n",
       "    </tr>\n",
       "    <tr>\n",
       "      <th>81257</th>\n",
       "      <td>0.999987</td>\n",
       "      <td>0.0</td>\n",
       "      <td>0.000000</td>\n",
       "      <td>1.000000</td>\n",
       "      <td>0.000418</td>\n",
       "      <td>0.015424</td>\n",
       "      <td>0.000000</td>\n",
       "      <td>0.000000</td>\n",
       "      <td>1.000000</td>\n",
       "      <td>0.0</td>\n",
       "      <td>0.019699</td>\n",
       "      <td>0.000675</td>\n",
       "      <td>0.000058</td>\n",
       "      <td>0.000302</td>\n",
       "      <td>0.015686</td>\n",
       "      <td>1</td>\n",
       "    </tr>\n",
       "    <tr>\n",
       "      <th>81258</th>\n",
       "      <td>0.999994</td>\n",
       "      <td>0.0</td>\n",
       "      <td>0.000000</td>\n",
       "      <td>1.000000</td>\n",
       "      <td>0.000418</td>\n",
       "      <td>0.015424</td>\n",
       "      <td>0.000000</td>\n",
       "      <td>0.000000</td>\n",
       "      <td>1.000000</td>\n",
       "      <td>0.0</td>\n",
       "      <td>0.036674</td>\n",
       "      <td>0.001350</td>\n",
       "      <td>0.000064</td>\n",
       "      <td>0.000307</td>\n",
       "      <td>0.023529</td>\n",
       "      <td>1</td>\n",
       "    </tr>\n",
       "    <tr>\n",
       "      <th>81259</th>\n",
       "      <td>1.000000</td>\n",
       "      <td>0.0</td>\n",
       "      <td>0.000000</td>\n",
       "      <td>1.000000</td>\n",
       "      <td>0.000418</td>\n",
       "      <td>0.015424</td>\n",
       "      <td>0.000000</td>\n",
       "      <td>0.000000</td>\n",
       "      <td>1.000000</td>\n",
       "      <td>0.0</td>\n",
       "      <td>0.013253</td>\n",
       "      <td>0.000000</td>\n",
       "      <td>0.000101</td>\n",
       "      <td>0.000539</td>\n",
       "      <td>0.019608</td>\n",
       "      <td>3</td>\n",
       "    </tr>\n",
       "  </tbody>\n",
       "</table>\n",
       "<p>81260 rows × 16 columns</p>\n",
       "</div>"
      ],
      "text/plain": [
       "       track_id  album_comments  album_favorites  album_id  album_listens  \\\n",
       "0      0.000000             0.0         0.065574  0.000000       0.001699   \n",
       "1      0.000006             0.0         0.065574  0.000000       0.001699   \n",
       "2      0.000019             0.0         0.065574  0.000000       0.001699   \n",
       "3      0.000116             0.0         0.032787  0.000131       0.000756   \n",
       "4      0.000155             0.0         0.032787  0.000131       0.000756   \n",
       "...         ...             ...              ...       ...            ...   \n",
       "81255  0.999974             0.0         0.000000  1.000000       0.000418   \n",
       "81256  0.999981             0.0         0.000000  1.000000       0.000418   \n",
       "81257  0.999987             0.0         0.000000  1.000000       0.000418   \n",
       "81258  0.999994             0.0         0.000000  1.000000       0.000418   \n",
       "81259  1.000000             0.0         0.000000  1.000000       0.000418   \n",
       "\n",
       "       album_tracks  artist_comments  artist_favorites  artist_id  \\\n",
       "0          0.017995         0.000000          0.009346   0.000000   \n",
       "1          0.017995         0.000000          0.009346   0.000000   \n",
       "2          0.017995         0.000000          0.009346   0.000000   \n",
       "3          0.033419         0.025316          0.010384   0.000123   \n",
       "4          0.033419         0.025316          0.010384   0.000123   \n",
       "...             ...              ...               ...        ...   \n",
       "81255      0.015424         0.000000          0.000000   1.000000   \n",
       "81256      0.015424         0.000000          0.000000   1.000000   \n",
       "81257      0.015424         0.000000          0.000000   1.000000   \n",
       "81258      0.015424         0.000000          0.000000   1.000000   \n",
       "81259      0.015424         0.000000          0.000000   1.000000   \n",
       "\n",
       "       track_comments  track_duration  track_favorites  track_interest  \\\n",
       "0                 0.0        0.015251         0.001350        0.001413   \n",
       "1                 0.0        0.021514         0.000675        0.000445   \n",
       "2                 0.0        0.018700         0.004049        0.000586   \n",
       "3                 0.0        0.028232         0.000000        0.000296   \n",
       "4                 0.0        0.016431         0.000000        0.000321   \n",
       "...               ...             ...              ...             ...   \n",
       "81255             0.0        0.003450         0.000675        0.000046   \n",
       "81256             0.0        0.014706         0.000675        0.000036   \n",
       "81257             0.0        0.019699         0.000675        0.000058   \n",
       "81258             0.0        0.036674         0.001350        0.000064   \n",
       "81259             0.0        0.013253         0.000000        0.000101   \n",
       "\n",
       "       track_listens  track_number  clust  \n",
       "0           0.002378      0.011765      0  \n",
       "1           0.000944      0.015686      0  \n",
       "2           0.002117      0.023529      0  \n",
       "3           0.000663      0.011765      0  \n",
       "4           0.000353      0.015686      0  \n",
       "...              ...           ...    ...  \n",
       "81255       0.000234      0.003922      1  \n",
       "81256       0.000186      0.011765      1  \n",
       "81257       0.000302      0.015686      1  \n",
       "81258       0.000307      0.023529      1  \n",
       "81259       0.000539      0.019608      3  \n",
       "\n",
       "[81260 rows x 16 columns]"
      ]
     },
     "execution_count": 418,
     "metadata": {},
     "output_type": "execute_result"
    }
   ],
   "source": [
    "dfAdilet = dfFinal.drop(columns=[x for x in list(dfFinal.columns) if isinstance(x, int)]).copy()\n",
    "dfAdilet"
   ]
  },
  {
   "cell_type": "code",
   "execution_count": 425,
   "metadata": {},
   "outputs": [],
   "source": [
    "for col in list(dfAdilet.columns):\n",
    "    dfAdilet[col] = pd.cut(dfAdilet[col], 4, labels=[0,1,2,3])"
   ]
  },
  {
   "cell_type": "code",
   "execution_count": 426,
   "metadata": {},
   "outputs": [
    {
     "data": {
      "text/html": [
       "<div>\n",
       "<style scoped>\n",
       "    .dataframe tbody tr th:only-of-type {\n",
       "        vertical-align: middle;\n",
       "    }\n",
       "\n",
       "    .dataframe tbody tr th {\n",
       "        vertical-align: top;\n",
       "    }\n",
       "\n",
       "    .dataframe thead th {\n",
       "        text-align: right;\n",
       "    }\n",
       "</style>\n",
       "<table border=\"1\" class=\"dataframe\">\n",
       "  <thead>\n",
       "    <tr style=\"text-align: right;\">\n",
       "      <th></th>\n",
       "      <th>track_id</th>\n",
       "      <th>album_comments</th>\n",
       "      <th>album_favorites</th>\n",
       "      <th>album_id</th>\n",
       "      <th>album_listens</th>\n",
       "      <th>album_tracks</th>\n",
       "      <th>artist_comments</th>\n",
       "      <th>artist_favorites</th>\n",
       "      <th>artist_id</th>\n",
       "      <th>track_comments</th>\n",
       "      <th>track_duration</th>\n",
       "      <th>track_favorites</th>\n",
       "      <th>track_interest</th>\n",
       "      <th>track_listens</th>\n",
       "      <th>track_number</th>\n",
       "      <th>clust</th>\n",
       "    </tr>\n",
       "  </thead>\n",
       "  <tbody>\n",
       "    <tr>\n",
       "      <th>0</th>\n",
       "      <td>0</td>\n",
       "      <td>0</td>\n",
       "      <td>0</td>\n",
       "      <td>0</td>\n",
       "      <td>0</td>\n",
       "      <td>0</td>\n",
       "      <td>0</td>\n",
       "      <td>0</td>\n",
       "      <td>0</td>\n",
       "      <td>0</td>\n",
       "      <td>0</td>\n",
       "      <td>0</td>\n",
       "      <td>0</td>\n",
       "      <td>0</td>\n",
       "      <td>0</td>\n",
       "      <td>0</td>\n",
       "    </tr>\n",
       "    <tr>\n",
       "      <th>1</th>\n",
       "      <td>0</td>\n",
       "      <td>0</td>\n",
       "      <td>0</td>\n",
       "      <td>0</td>\n",
       "      <td>0</td>\n",
       "      <td>0</td>\n",
       "      <td>0</td>\n",
       "      <td>0</td>\n",
       "      <td>0</td>\n",
       "      <td>0</td>\n",
       "      <td>0</td>\n",
       "      <td>0</td>\n",
       "      <td>0</td>\n",
       "      <td>0</td>\n",
       "      <td>0</td>\n",
       "      <td>0</td>\n",
       "    </tr>\n",
       "    <tr>\n",
       "      <th>2</th>\n",
       "      <td>0</td>\n",
       "      <td>0</td>\n",
       "      <td>0</td>\n",
       "      <td>0</td>\n",
       "      <td>0</td>\n",
       "      <td>0</td>\n",
       "      <td>0</td>\n",
       "      <td>0</td>\n",
       "      <td>0</td>\n",
       "      <td>0</td>\n",
       "      <td>0</td>\n",
       "      <td>0</td>\n",
       "      <td>0</td>\n",
       "      <td>0</td>\n",
       "      <td>0</td>\n",
       "      <td>0</td>\n",
       "    </tr>\n",
       "    <tr>\n",
       "      <th>3</th>\n",
       "      <td>0</td>\n",
       "      <td>0</td>\n",
       "      <td>0</td>\n",
       "      <td>0</td>\n",
       "      <td>0</td>\n",
       "      <td>0</td>\n",
       "      <td>0</td>\n",
       "      <td>0</td>\n",
       "      <td>0</td>\n",
       "      <td>0</td>\n",
       "      <td>0</td>\n",
       "      <td>0</td>\n",
       "      <td>0</td>\n",
       "      <td>0</td>\n",
       "      <td>0</td>\n",
       "      <td>0</td>\n",
       "    </tr>\n",
       "    <tr>\n",
       "      <th>4</th>\n",
       "      <td>0</td>\n",
       "      <td>0</td>\n",
       "      <td>0</td>\n",
       "      <td>0</td>\n",
       "      <td>0</td>\n",
       "      <td>0</td>\n",
       "      <td>0</td>\n",
       "      <td>0</td>\n",
       "      <td>0</td>\n",
       "      <td>0</td>\n",
       "      <td>0</td>\n",
       "      <td>0</td>\n",
       "      <td>0</td>\n",
       "      <td>0</td>\n",
       "      <td>0</td>\n",
       "      <td>0</td>\n",
       "    </tr>\n",
       "    <tr>\n",
       "      <th>...</th>\n",
       "      <td>...</td>\n",
       "      <td>...</td>\n",
       "      <td>...</td>\n",
       "      <td>...</td>\n",
       "      <td>...</td>\n",
       "      <td>...</td>\n",
       "      <td>...</td>\n",
       "      <td>...</td>\n",
       "      <td>...</td>\n",
       "      <td>...</td>\n",
       "      <td>...</td>\n",
       "      <td>...</td>\n",
       "      <td>...</td>\n",
       "      <td>...</td>\n",
       "      <td>...</td>\n",
       "      <td>...</td>\n",
       "    </tr>\n",
       "    <tr>\n",
       "      <th>81255</th>\n",
       "      <td>3</td>\n",
       "      <td>0</td>\n",
       "      <td>0</td>\n",
       "      <td>3</td>\n",
       "      <td>0</td>\n",
       "      <td>0</td>\n",
       "      <td>0</td>\n",
       "      <td>0</td>\n",
       "      <td>3</td>\n",
       "      <td>0</td>\n",
       "      <td>0</td>\n",
       "      <td>0</td>\n",
       "      <td>0</td>\n",
       "      <td>0</td>\n",
       "      <td>0</td>\n",
       "      <td>1</td>\n",
       "    </tr>\n",
       "    <tr>\n",
       "      <th>81256</th>\n",
       "      <td>3</td>\n",
       "      <td>0</td>\n",
       "      <td>0</td>\n",
       "      <td>3</td>\n",
       "      <td>0</td>\n",
       "      <td>0</td>\n",
       "      <td>0</td>\n",
       "      <td>0</td>\n",
       "      <td>3</td>\n",
       "      <td>0</td>\n",
       "      <td>0</td>\n",
       "      <td>0</td>\n",
       "      <td>0</td>\n",
       "      <td>0</td>\n",
       "      <td>0</td>\n",
       "      <td>1</td>\n",
       "    </tr>\n",
       "    <tr>\n",
       "      <th>81257</th>\n",
       "      <td>3</td>\n",
       "      <td>0</td>\n",
       "      <td>0</td>\n",
       "      <td>3</td>\n",
       "      <td>0</td>\n",
       "      <td>0</td>\n",
       "      <td>0</td>\n",
       "      <td>0</td>\n",
       "      <td>3</td>\n",
       "      <td>0</td>\n",
       "      <td>0</td>\n",
       "      <td>0</td>\n",
       "      <td>0</td>\n",
       "      <td>0</td>\n",
       "      <td>0</td>\n",
       "      <td>1</td>\n",
       "    </tr>\n",
       "    <tr>\n",
       "      <th>81258</th>\n",
       "      <td>3</td>\n",
       "      <td>0</td>\n",
       "      <td>0</td>\n",
       "      <td>3</td>\n",
       "      <td>0</td>\n",
       "      <td>0</td>\n",
       "      <td>0</td>\n",
       "      <td>0</td>\n",
       "      <td>3</td>\n",
       "      <td>0</td>\n",
       "      <td>0</td>\n",
       "      <td>0</td>\n",
       "      <td>0</td>\n",
       "      <td>0</td>\n",
       "      <td>0</td>\n",
       "      <td>1</td>\n",
       "    </tr>\n",
       "    <tr>\n",
       "      <th>81259</th>\n",
       "      <td>3</td>\n",
       "      <td>0</td>\n",
       "      <td>0</td>\n",
       "      <td>3</td>\n",
       "      <td>0</td>\n",
       "      <td>0</td>\n",
       "      <td>0</td>\n",
       "      <td>0</td>\n",
       "      <td>3</td>\n",
       "      <td>0</td>\n",
       "      <td>0</td>\n",
       "      <td>0</td>\n",
       "      <td>0</td>\n",
       "      <td>0</td>\n",
       "      <td>0</td>\n",
       "      <td>3</td>\n",
       "    </tr>\n",
       "  </tbody>\n",
       "</table>\n",
       "<p>81260 rows × 16 columns</p>\n",
       "</div>"
      ],
      "text/plain": [
       "      track_id album_comments album_favorites album_id album_listens  \\\n",
       "0            0              0               0        0             0   \n",
       "1            0              0               0        0             0   \n",
       "2            0              0               0        0             0   \n",
       "3            0              0               0        0             0   \n",
       "4            0              0               0        0             0   \n",
       "...        ...            ...             ...      ...           ...   \n",
       "81255        3              0               0        3             0   \n",
       "81256        3              0               0        3             0   \n",
       "81257        3              0               0        3             0   \n",
       "81258        3              0               0        3             0   \n",
       "81259        3              0               0        3             0   \n",
       "\n",
       "      album_tracks artist_comments artist_favorites artist_id track_comments  \\\n",
       "0                0               0                0         0              0   \n",
       "1                0               0                0         0              0   \n",
       "2                0               0                0         0              0   \n",
       "3                0               0                0         0              0   \n",
       "4                0               0                0         0              0   \n",
       "...            ...             ...              ...       ...            ...   \n",
       "81255            0               0                0         3              0   \n",
       "81256            0               0                0         3              0   \n",
       "81257            0               0                0         3              0   \n",
       "81258            0               0                0         3              0   \n",
       "81259            0               0                0         3              0   \n",
       "\n",
       "      track_duration track_favorites track_interest track_listens  \\\n",
       "0                  0               0              0             0   \n",
       "1                  0               0              0             0   \n",
       "2                  0               0              0             0   \n",
       "3                  0               0              0             0   \n",
       "4                  0               0              0             0   \n",
       "...              ...             ...            ...           ...   \n",
       "81255              0               0              0             0   \n",
       "81256              0               0              0             0   \n",
       "81257              0               0              0             0   \n",
       "81258              0               0              0             0   \n",
       "81259              0               0              0             0   \n",
       "\n",
       "      track_number clust  \n",
       "0                0     0  \n",
       "1                0     0  \n",
       "2                0     0  \n",
       "3                0     0  \n",
       "4                0     0  \n",
       "...            ...   ...  \n",
       "81255            0     1  \n",
       "81256            0     1  \n",
       "81257            0     1  \n",
       "81258            0     1  \n",
       "81259            0     3  \n",
       "\n",
       "[81260 rows x 16 columns]"
      ]
     },
     "execution_count": 426,
     "metadata": {},
     "output_type": "execute_result"
    }
   ],
   "source": [
    "dfAdilet"
   ]
  },
  {
   "cell_type": "code",
   "execution_count": 436,
   "metadata": {},
   "outputs": [
    {
     "name": "stdout",
     "output_type": "stream",
     "text": [
      "clust\n",
      "0    21708\n",
      "1    21779\n",
      "2    19342\n",
      "3    18431\n",
      "Name: track_id, dtype: int64\n"
     ]
    },
    {
     "data": {
      "text/plain": [
       "[21708, 21779, 19342, 18431]"
      ]
     },
     "execution_count": 436,
     "metadata": {},
     "output_type": "execute_result"
    }
   ],
   "source": [
    "print(dfAdilet.groupby(\"clust\").agg(\"count\")[\"track_id\"])\n",
    "freqClusters = list(dfAdilet.groupby(\"clust\").agg(\"count\")[\"track_id\"])\n",
    "freqClusters"
   ]
  },
  {
   "cell_type": "code",
   "execution_count": 502,
   "metadata": {
    "scrolled": false
   },
   "outputs": [
    {
     "name": "stdout",
     "output_type": "stream",
     "text": [
      "album_comments\n",
      "---------  ---------  ---------  ---------\n",
      "Cluster 1  Cluster 2  Cluster 3  Cluster 4\n",
      "99.74      99.89      99.44      99.88\n",
      "0.18       0.06       0.05       0.05\n",
      "0.0        0.0        0.0        0.0\n",
      "0.08       0.05       0.51       0.07\n",
      "---------  ---------  ---------  ---------\n",
      "album_favorites\n",
      "---------  ---------  ---------  ---------\n",
      "Cluster 1  Cluster 2  Cluster 3  Cluster 4\n",
      "99.49      99.38      98.3       99.7\n",
      "0.45       0.45       1.29       0.16\n",
      "0.05       0.11       0.25       0.05\n",
      "0.0        0.06       0.15       0.08\n",
      "---------  ---------  ---------  ---------\n",
      "album_listens\n",
      "---------  ---------  ---------  ---------\n",
      "Cluster 1  Cluster 2  Cluster 3  Cluster 4\n",
      "99.87      99.82      99.03      99.84\n",
      "0.05       0.13       0.47       0.1\n",
      "0.0        0.0        0.0        0.0\n",
      "0.08       0.05       0.51       0.07\n",
      "---------  ---------  ---------  ---------\n",
      "album_tracks\n",
      "---------  ---------  ---------  ---------\n",
      "Cluster 1  Cluster 2  Cluster 3  Cluster 4\n",
      "97.88      95.95      96.8       94.34\n",
      "1.77       3.63       2.08       4.37\n",
      "0.27       0.21       0.74       0.35\n",
      "0.08       0.21       0.38       0.94\n",
      "---------  ---------  ---------  ---------\n",
      "artist_comments\n",
      "---------  ---------  ---------  ---------\n",
      "Cluster 1  Cluster 2  Cluster 3  Cluster 4\n",
      "98.42      98.14      94.0       99.35\n",
      "1.47       1.11       4.96       0.48\n",
      "0.06       0.63       0.75       0.1\n",
      "0.04       0.12       0.28       0.07\n",
      "---------  ---------  ---------  ---------\n"
     ]
    }
   ],
   "source": [
    "from tabulate import tabulate\n",
    "my_cols=[]\n",
    "for ww in list(dfAdilet.drop(columns=[\"track_id\",\"album_id\",\"artist_id\",]).columns)[:5]:\n",
    "    freqClusters = list(dfAdilet.groupby(\"clust\").agg(\"count\")[ww])\n",
    "    #print(freqClusters)\n",
    "    table=[]\n",
    "    for x in range(4): #the number of levels of each category\n",
    "        dfView = dfAdilet[[ww, \"clust\"]][dfAdilet[ww]==x]  \n",
    "        l=dfView.groupby(\"clust\").agg('count')[ww]\n",
    "        #print(list(l))\n",
    "        indx =list(dfView.groupby(\"clust\").agg('count')[ww].index)\n",
    "        ll=[0,0,0,0]\n",
    "        for y in indx:\n",
    "            ll[y]=round(l[y]/freqClusters[y]*100,2)\n",
    "        table.append(ll)\n",
    "    aa = np.array(table).tolist()\n",
    "    aa.insert(0, [\"Cluster 1\",\"Cluster 2\",\"Cluster 3\",\"Cluster 4\"])\n",
    "    print(ww)\n",
    "    print(tabulate(aa))"
   ]
  },
  {
   "cell_type": "markdown",
   "metadata": {},
   "source": [
    "We have totally different variables, since the one picked before were in the echonest dataframe, thus we can't really make a comparison."
   ]
  },
  {
   "cell_type": "markdown",
   "metadata": {},
   "source": [
    "# 3 Algorithmic Question"
   ]
  },
  {
   "cell_type": "markdown",
   "metadata": {},
   "source": [
    "You are given a list of integers, A, and another integer s. Write an algorithm that outputs all the pairs in A that equal x.\n",
    "\n",
    "E.g., A = [7, -2, 8, 2, 6, 4, -7, 2, 1, 3, -3] and s = 4\n",
    "\n",
    "The algorithm should output: (7, -3), (-2, 6), (2, 2), (3, 1)."
   ]
  },
  {
   "cell_type": "markdown",
   "metadata": {},
   "source": [
    "Since there is no strict requirement on the running time, an $O(n^2)$ solution would be the easiest to code. Here it follows:"
   ]
  },
  {
   "cell_type": "code",
   "execution_count": 24,
   "metadata": {},
   "outputs": [],
   "source": [
    "A, s = [7, -2,  8, 2, 6, 4, -7, 2, 1, 3, -3], 4 \n",
    "out=[]\n",
    "for i in range(len(A)):\n",
    "    for j in range(len(A)):\n",
    "        if i!=j and A[i]+A[j]==s and sorted((A[i],A[j])) not in out:\n",
    "            out.append(sorted((A[i],A[j])))"
   ]
  },
  {
   "cell_type": "code",
   "execution_count": 25,
   "metadata": {},
   "outputs": [
    {
     "data": {
      "text/plain": [
       "[[-3, 7], [-2, 6], [2, 2], [1, 3]]"
      ]
     },
     "execution_count": 25,
     "metadata": {},
     "output_type": "execute_result"
    }
   ],
   "source": [
    "out"
   ]
  },
  {
   "cell_type": "code",
   "execution_count": null,
   "metadata": {},
   "outputs": [],
   "source": [
    "#Why would you need more than 1 line?\n",
    "[list(x) if len(list(x))==2 else list(x)+list(x) for x in list(set([frozenset([A[x],A[y]]) for y in range(len(A)) for x in range(len(A)) if (A[x]+A[y] ==s and x!=y)]))]"
   ]
  },
  {
   "cell_type": "markdown",
   "metadata": {},
   "source": [
    "However, in this way do not take all the pairs into account, namely elements that appear multiple times in A and belong to a pair in \"out\" would appear just once in \"out\".\n",
    "\n",
    "E.g., A=[1,1,2], s=3 --> out=[(1,2)], even if we could consider 1 and 1 as different elements.\n",
    "\n",
    "To overcome this, if we feel the need to, we can keep track of indexes in the following way:"
   ]
  },
  {
   "cell_type": "code",
   "execution_count": 27,
   "metadata": {},
   "outputs": [],
   "source": [
    "A, s = [1, 1, 2], 3 \n",
    "out=[]\n",
    "out_idx=[]\n",
    "for i in range(len(A)):\n",
    "    for j in range(len(A)):\n",
    "        if i!=j and A[i]+A[j]==s:\n",
    "            if sorted((A[i],A[j])) not in out:\n",
    "                out.append(sorted((A[i],A[j])))\n",
    "                out_idx.append(sorted((i,j)))\n",
    "            elif sorted((i,j)) not in out_idx:\n",
    "                out.append(sorted((A[i],A[j])))\n",
    "                out_idx.append(sorted((i,j)))"
   ]
  },
  {
   "cell_type": "code",
   "execution_count": 28,
   "metadata": {},
   "outputs": [
    {
     "name": "stdout",
     "output_type": "stream",
     "text": [
      "[[1, 2], [1, 2]] [[0, 2], [1, 2]]\n"
     ]
    }
   ],
   "source": [
    "print(out, out_idx)"
   ]
  },
  {
   "cell_type": "markdown",
   "metadata": {},
   "source": [
    "### Other possible implementations"
   ]
  },
  {
   "cell_type": "markdown",
   "metadata": {},
   "source": [
    "Sorting the array, $O(nlogn$) using e.g. Mergesort, iterating over it, $O(n)$, and applying Binary Search, $O(logn)$, to check if (s - i-th element) is in the array is another possibility. Overall, it would cost $O(nlogn) + O(n)*O(logn) = O(nlogn + n*logn) =O(nlogn)$"
   ]
  }
 ],
 "metadata": {
  "interpreter": {
   "hash": "1cab321cb1acdda0c363d7de36f5defdacb4b1bdc03056ebbf5164ad5dbb0ce6"
  },
  "kernelspec": {
   "display_name": "Python 3",
   "language": "python",
   "name": "python3"
  },
  "language_info": {
   "codemirror_mode": {
    "name": "ipython",
    "version": 3
   },
   "file_extension": ".py",
   "mimetype": "text/x-python",
   "name": "python",
   "nbconvert_exporter": "python",
   "pygments_lexer": "ipython3",
   "version": "3.8.3"
  }
 },
 "nbformat": 4,
 "nbformat_minor": 2
}
